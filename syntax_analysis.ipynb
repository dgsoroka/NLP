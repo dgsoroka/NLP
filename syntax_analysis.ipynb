{
 "cells": [
  {
   "cell_type": "code",
   "execution_count": 3,
   "metadata": {},
   "outputs": [],
   "source": [
    "import spacy\n",
    "from spacy.lang.ru.examples import sentences\n",
    "from spacy import displacy\n",
    "from pprint import pprint\n",
    "from collections import defaultdict\n",
    "from tqdm import tqdm\n",
    "import pandas as pd\n",
    "import numpy as np"
   ]
  },
  {
   "cell_type": "code",
   "execution_count": 4,
   "metadata": {},
   "outputs": [],
   "source": [
    "nlp = spacy.load(\"ru_core_news_sm\")"
   ]
  },
  {
   "cell_type": "code",
   "execution_count": 8,
   "metadata": {},
   "outputs": [],
   "source": []
  },
  {
   "cell_type": "code",
   "execution_count": 5,
   "metadata": {},
   "outputs": [
    {
     "data": {
      "text/plain": [
       "'\\nВ столичном регионе в конце мая – начале июня чаще всего фиксируются шквалистые ветры и ураганы, однако на данный момент погода спокойная. Об этом в среду, 24 мая, рассказал замдиректора Института физики атмосферы имени Обухова Российской академии наук Владимир Семенов.\\n\"Вторая половина мая и первая половина июня – это время, когда наиболее сильный температурный контраст между северными морями и европейской частью России. Поэтому если случаются холодные вторжения, то именно в это время чаще всего бывают шквалы, сильный порывистый ветер, как в 2017 году было в Москве\", – пояснил специалист в беседе с агентством городских новостей \"Москва\".\\nПри этом пока что погода в столице дождливая, а сильной жары не было. В связи с этим в ближайшие несколько дней ураганов не будет. Обычно их следует ждать после периода жаркой погоды, когда воздух наполняется влагой, заключил Семенов.\\nСогласно прогнозам метеорологов, в ближайшие выходные в Москву придет похолодание. А метеорологическое лето в столице стартует с опозданием. '"
      ]
     },
     "execution_count": 5,
     "metadata": {},
     "output_type": "execute_result"
    }
   ],
   "source": [
    "newsDF = pd.read_csv('hrefs.CSV')\n",
    "text_news = newsDF['text']\n",
    "text_news = np.array(text_news)\n",
    "text_news[2]"
   ]
  },
  {
   "cell_type": "code",
   "execution_count": 6,
   "metadata": {},
   "outputs": [
    {
     "name": "stdout",
     "output_type": "stream",
     "text": [
      "['\\n (\\n)',\n",
      " 'в (В)',\n",
      " 'столичный (столичном)',\n",
      " 'регион (регионе)',\n",
      " 'в (в)',\n",
      " 'конец (конце)',\n",
      " 'май (мая)',\n",
      " '– (–)',\n",
      " 'начало (начале)',\n",
      " 'июнь (июня)',\n",
      " 'чаще (чаще)',\n",
      " 'всего (всего)',\n",
      " 'фиксироваться (фиксируются)',\n",
      " 'шквалистый (шквалистые)',\n",
      " 'ветер (ветры)',\n",
      " 'и (и)',\n",
      " 'ураган (ураганы)',\n",
      " ', (,)',\n",
      " 'однако (однако)',\n",
      " 'на (на)',\n",
      " 'данный (данный)',\n",
      " 'момент (момент)',\n",
      " 'погода (погода)',\n",
      " 'спокойный (спокойная)',\n",
      " '. (.)']\n",
      "['Об (Об)',\n",
      " 'это (этом)',\n",
      " 'в (в)',\n",
      " 'среда (среду)',\n",
      " ', (,)',\n",
      " '24 (24)',\n",
      " 'май (мая)',\n",
      " ', (,)',\n",
      " 'рассказать (рассказал)',\n",
      " 'замдиректора (замдиректора)',\n",
      " 'институт (Института)',\n",
      " 'физика (физики)',\n",
      " 'атмосфера (атмосферы)',\n",
      " 'имя (имени)',\n",
      " 'обухов (Обухова)',\n",
      " 'российский (Российской)',\n",
      " 'академия (академии)',\n",
      " 'наука (наук)',\n",
      " 'владимир (Владимир)',\n",
      " 'семёнов (Семенов)',\n",
      " '. (.)',\n",
      " '\\n (\\n)']\n"
     ]
    }
   ],
   "source": [
    "doc = nlp(text_news[11])\n",
    "for s in list(doc.sents)[:2]:\n",
    "  pprint(list([f'{t.lemma_} ({t.text})' for t in s]))"
   ]
  },
  {
   "cell_type": "code",
   "execution_count": 7,
   "metadata": {},
   "outputs": [
    {
     "data": {
      "text/html": [
       "<span class=\"tex2jax_ignore\"><svg xmlns=\"http://www.w3.org/2000/svg\" xmlns:xlink=\"http://www.w3.org/1999/xlink\" xml:lang=\"ru\" id=\"2a03dc55d0f9430b893fb54065586077-0\" class=\"displacy\" width=\"2030\" height=\"317.0\" direction=\"ltr\" style=\"max-width: none; height: 317.0px; color: #000000; background: #ffffff; font-family: Arial; direction: ltr\"><text class=\"displacy-token\" fill=\"currentColor\" text-anchor=\"middle\" y=\"227.0\"><tspan class=\"displacy-word\" fill=\"currentColor\" x=\"50\"></tspan><tspan class=\"displacy-tag\" dy=\"2em\" fill=\"currentColor\" x=\"50\">SPACE</tspan></text><text class=\"displacy-token\" fill=\"currentColor\" text-anchor=\"middle\" y=\"227.0\"><tspan class=\"displacy-word\" fill=\"currentColor\" x=\"140\">В</tspan><tspan class=\"displacy-tag\" dy=\"2em\" fill=\"currentColor\" x=\"140\">ADP</tspan></text><text class=\"displacy-token\" fill=\"currentColor\" text-anchor=\"middle\" y=\"227.0\"><tspan class=\"displacy-word\" fill=\"currentColor\" x=\"230\">столичном</tspan><tspan class=\"displacy-tag\" dy=\"2em\" fill=\"currentColor\" x=\"230\">ADJ</tspan></text><text class=\"displacy-token\" fill=\"currentColor\" text-anchor=\"middle\" y=\"227.0\"><tspan class=\"displacy-word\" fill=\"currentColor\" x=\"320\">регионе</tspan><tspan class=\"displacy-tag\" dy=\"2em\" fill=\"currentColor\" x=\"320\">NOUN</tspan></text><text class=\"displacy-token\" fill=\"currentColor\" text-anchor=\"middle\" y=\"227.0\"><tspan class=\"displacy-word\" fill=\"currentColor\" x=\"410\">в</tspan><tspan class=\"displacy-tag\" dy=\"2em\" fill=\"currentColor\" x=\"410\">ADP</tspan></text><text class=\"displacy-token\" fill=\"currentColor\" text-anchor=\"middle\" y=\"227.0\"><tspan class=\"displacy-word\" fill=\"currentColor\" x=\"500\">конце</tspan><tspan class=\"displacy-tag\" dy=\"2em\" fill=\"currentColor\" x=\"500\">NOUN</tspan></text><text class=\"displacy-token\" fill=\"currentColor\" text-anchor=\"middle\" y=\"227.0\"><tspan class=\"displacy-word\" fill=\"currentColor\" x=\"590\">мая –</tspan><tspan class=\"displacy-tag\" dy=\"2em\" fill=\"currentColor\" x=\"590\">NOUN</tspan></text><text class=\"displacy-token\" fill=\"currentColor\" text-anchor=\"middle\" y=\"227.0\"><tspan class=\"displacy-word\" fill=\"currentColor\" x=\"680\">начале</tspan><tspan class=\"displacy-tag\" dy=\"2em\" fill=\"currentColor\" x=\"680\">NOUN</tspan></text><text class=\"displacy-token\" fill=\"currentColor\" text-anchor=\"middle\" y=\"227.0\"><tspan class=\"displacy-word\" fill=\"currentColor\" x=\"770\">июня</tspan><tspan class=\"displacy-tag\" dy=\"2em\" fill=\"currentColor\" x=\"770\">NOUN</tspan></text><text class=\"displacy-token\" fill=\"currentColor\" text-anchor=\"middle\" y=\"227.0\"><tspan class=\"displacy-word\" fill=\"currentColor\" x=\"860\">чаще</tspan><tspan class=\"displacy-tag\" dy=\"2em\" fill=\"currentColor\" x=\"860\">ADV</tspan></text><text class=\"displacy-token\" fill=\"currentColor\" text-anchor=\"middle\" y=\"227.0\"><tspan class=\"displacy-word\" fill=\"currentColor\" x=\"950\">всего</tspan><tspan class=\"displacy-tag\" dy=\"2em\" fill=\"currentColor\" x=\"950\">PRON</tspan></text><text class=\"displacy-token\" fill=\"currentColor\" text-anchor=\"middle\" y=\"227.0\"><tspan class=\"displacy-word\" fill=\"currentColor\" x=\"1040\">фиксируются</tspan><tspan class=\"displacy-tag\" dy=\"2em\" fill=\"currentColor\" x=\"1040\">VERB</tspan></text><text class=\"displacy-token\" fill=\"currentColor\" text-anchor=\"middle\" y=\"227.0\"><tspan class=\"displacy-word\" fill=\"currentColor\" x=\"1130\">шквалистые</tspan><tspan class=\"displacy-tag\" dy=\"2em\" fill=\"currentColor\" x=\"1130\">ADJ</tspan></text><text class=\"displacy-token\" fill=\"currentColor\" text-anchor=\"middle\" y=\"227.0\"><tspan class=\"displacy-word\" fill=\"currentColor\" x=\"1220\">ветры</tspan><tspan class=\"displacy-tag\" dy=\"2em\" fill=\"currentColor\" x=\"1220\">NOUN</tspan></text><text class=\"displacy-token\" fill=\"currentColor\" text-anchor=\"middle\" y=\"227.0\"><tspan class=\"displacy-word\" fill=\"currentColor\" x=\"1310\">и</tspan><tspan class=\"displacy-tag\" dy=\"2em\" fill=\"currentColor\" x=\"1310\">CCONJ</tspan></text><text class=\"displacy-token\" fill=\"currentColor\" text-anchor=\"middle\" y=\"227.0\"><tspan class=\"displacy-word\" fill=\"currentColor\" x=\"1400\">ураганы,</tspan><tspan class=\"displacy-tag\" dy=\"2em\" fill=\"currentColor\" x=\"1400\">NOUN</tspan></text><text class=\"displacy-token\" fill=\"currentColor\" text-anchor=\"middle\" y=\"227.0\"><tspan class=\"displacy-word\" fill=\"currentColor\" x=\"1490\">однако</tspan><tspan class=\"displacy-tag\" dy=\"2em\" fill=\"currentColor\" x=\"1490\">ADV</tspan></text><text class=\"displacy-token\" fill=\"currentColor\" text-anchor=\"middle\" y=\"227.0\"><tspan class=\"displacy-word\" fill=\"currentColor\" x=\"1580\">на</tspan><tspan class=\"displacy-tag\" dy=\"2em\" fill=\"currentColor\" x=\"1580\">ADP</tspan></text><text class=\"displacy-token\" fill=\"currentColor\" text-anchor=\"middle\" y=\"227.0\"><tspan class=\"displacy-word\" fill=\"currentColor\" x=\"1670\">данный</tspan><tspan class=\"displacy-tag\" dy=\"2em\" fill=\"currentColor\" x=\"1670\">ADJ</tspan></text><text class=\"displacy-token\" fill=\"currentColor\" text-anchor=\"middle\" y=\"227.0\"><tspan class=\"displacy-word\" fill=\"currentColor\" x=\"1760\">момент</tspan><tspan class=\"displacy-tag\" dy=\"2em\" fill=\"currentColor\" x=\"1760\">NOUN</tspan></text><text class=\"displacy-token\" fill=\"currentColor\" text-anchor=\"middle\" y=\"227.0\"><tspan class=\"displacy-word\" fill=\"currentColor\" x=\"1850\">погода</tspan><tspan class=\"displacy-tag\" dy=\"2em\" fill=\"currentColor\" x=\"1850\">NOUN</tspan></text><text class=\"displacy-token\" fill=\"currentColor\" text-anchor=\"middle\" y=\"227.0\"><tspan class=\"displacy-word\" fill=\"currentColor\" x=\"1940\">спокойная.</tspan><tspan class=\"displacy-tag\" dy=\"2em\" fill=\"currentColor\" x=\"1940\">ADJ</tspan></text><g class=\"displacy-arrow\"><path class=\"displacy-arc\" id=\"arrow-2a03dc55d0f9430b893fb54065586077-0-0\" stroke-width=\"2px\" d=\"M70,182.0 C70,137.0 125.0,137.0 125.0,182.0\" fill=\"none\" stroke=\"currentColor\"/><text dy=\"1.25em\" style=\"font-size: 0.8em; letter-spacing: 1px\"><textPath xlink:href=\"#arrow-2a03dc55d0f9430b893fb54065586077-0-0\" class=\"displacy-label\" startOffset=\"50%\" side=\"left\" fill=\"currentColor\" text-anchor=\"middle\">dep</textPath></text><path class=\"displacy-arrowhead\" d=\"M70,184.0 L62,172.0 78,172.0\" fill=\"currentColor\"/></g><g class=\"displacy-arrow\"><path class=\"displacy-arc\" id=\"arrow-2a03dc55d0f9430b893fb54065586077-0-1\" stroke-width=\"2px\" d=\"M160,182.0 C160,92.0 310.0,92.0 310.0,182.0\" fill=\"none\" stroke=\"currentColor\"/><text dy=\"1.25em\" style=\"font-size: 0.8em; letter-spacing: 1px\"><textPath xlink:href=\"#arrow-2a03dc55d0f9430b893fb54065586077-0-1\" class=\"displacy-label\" startOffset=\"50%\" side=\"left\" fill=\"currentColor\" text-anchor=\"middle\">case</textPath></text><path class=\"displacy-arrowhead\" d=\"M160,184.0 L152,172.0 168,172.0\" fill=\"currentColor\"/></g><g class=\"displacy-arrow\"><path class=\"displacy-arc\" id=\"arrow-2a03dc55d0f9430b893fb54065586077-0-2\" stroke-width=\"2px\" d=\"M250,182.0 C250,137.0 305.0,137.0 305.0,182.0\" fill=\"none\" stroke=\"currentColor\"/><text dy=\"1.25em\" style=\"font-size: 0.8em; letter-spacing: 1px\"><textPath xlink:href=\"#arrow-2a03dc55d0f9430b893fb54065586077-0-2\" class=\"displacy-label\" startOffset=\"50%\" side=\"left\" fill=\"currentColor\" text-anchor=\"middle\">amod</textPath></text><path class=\"displacy-arrowhead\" d=\"M250,184.0 L242,172.0 258,172.0\" fill=\"currentColor\"/></g><g class=\"displacy-arrow\"><path class=\"displacy-arc\" id=\"arrow-2a03dc55d0f9430b893fb54065586077-0-3\" stroke-width=\"2px\" d=\"M340,182.0 C340,2.0 1040.0,2.0 1040.0,182.0\" fill=\"none\" stroke=\"currentColor\"/><text dy=\"1.25em\" style=\"font-size: 0.8em; letter-spacing: 1px\"><textPath xlink:href=\"#arrow-2a03dc55d0f9430b893fb54065586077-0-3\" class=\"displacy-label\" startOffset=\"50%\" side=\"left\" fill=\"currentColor\" text-anchor=\"middle\">obl</textPath></text><path class=\"displacy-arrowhead\" d=\"M340,184.0 L332,172.0 348,172.0\" fill=\"currentColor\"/></g><g class=\"displacy-arrow\"><path class=\"displacy-arc\" id=\"arrow-2a03dc55d0f9430b893fb54065586077-0-4\" stroke-width=\"2px\" d=\"M430,182.0 C430,137.0 485.0,137.0 485.0,182.0\" fill=\"none\" stroke=\"currentColor\"/><text dy=\"1.25em\" style=\"font-size: 0.8em; letter-spacing: 1px\"><textPath xlink:href=\"#arrow-2a03dc55d0f9430b893fb54065586077-0-4\" class=\"displacy-label\" startOffset=\"50%\" side=\"left\" fill=\"currentColor\" text-anchor=\"middle\">case</textPath></text><path class=\"displacy-arrowhead\" d=\"M430,184.0 L422,172.0 438,172.0\" fill=\"currentColor\"/></g><g class=\"displacy-arrow\"><path class=\"displacy-arc\" id=\"arrow-2a03dc55d0f9430b893fb54065586077-0-5\" stroke-width=\"2px\" d=\"M520,182.0 C520,47.0 1035.0,47.0 1035.0,182.0\" fill=\"none\" stroke=\"currentColor\"/><text dy=\"1.25em\" style=\"font-size: 0.8em; letter-spacing: 1px\"><textPath xlink:href=\"#arrow-2a03dc55d0f9430b893fb54065586077-0-5\" class=\"displacy-label\" startOffset=\"50%\" side=\"left\" fill=\"currentColor\" text-anchor=\"middle\">obl</textPath></text><path class=\"displacy-arrowhead\" d=\"M520,184.0 L512,172.0 528,172.0\" fill=\"currentColor\"/></g><g class=\"displacy-arrow\"><path class=\"displacy-arc\" id=\"arrow-2a03dc55d0f9430b893fb54065586077-0-6\" stroke-width=\"2px\" d=\"M520,182.0 C520,137.0 575.0,137.0 575.0,182.0\" fill=\"none\" stroke=\"currentColor\"/><text dy=\"1.25em\" style=\"font-size: 0.8em; letter-spacing: 1px\"><textPath xlink:href=\"#arrow-2a03dc55d0f9430b893fb54065586077-0-6\" class=\"displacy-label\" startOffset=\"50%\" side=\"left\" fill=\"currentColor\" text-anchor=\"middle\">nmod</textPath></text><path class=\"displacy-arrowhead\" d=\"M575.0,184.0 L583.0,172.0 567.0,172.0\" fill=\"currentColor\"/></g><g class=\"displacy-arrow\"><path class=\"displacy-arc\" id=\"arrow-2a03dc55d0f9430b893fb54065586077-0-7\" stroke-width=\"2px\" d=\"M610,182.0 C610,137.0 665.0,137.0 665.0,182.0\" fill=\"none\" stroke=\"currentColor\"/><text dy=\"1.25em\" style=\"font-size: 0.8em; letter-spacing: 1px\"><textPath xlink:href=\"#arrow-2a03dc55d0f9430b893fb54065586077-0-7\" class=\"displacy-label\" startOffset=\"50%\" side=\"left\" fill=\"currentColor\" text-anchor=\"middle\">nmod</textPath></text><path class=\"displacy-arrowhead\" d=\"M665.0,184.0 L673.0,172.0 657.0,172.0\" fill=\"currentColor\"/></g><g class=\"displacy-arrow\"><path class=\"displacy-arc\" id=\"arrow-2a03dc55d0f9430b893fb54065586077-0-8\" stroke-width=\"2px\" d=\"M700,182.0 C700,137.0 755.0,137.0 755.0,182.0\" fill=\"none\" stroke=\"currentColor\"/><text dy=\"1.25em\" style=\"font-size: 0.8em; letter-spacing: 1px\"><textPath xlink:href=\"#arrow-2a03dc55d0f9430b893fb54065586077-0-8\" class=\"displacy-label\" startOffset=\"50%\" side=\"left\" fill=\"currentColor\" text-anchor=\"middle\">nmod</textPath></text><path class=\"displacy-arrowhead\" d=\"M755.0,184.0 L763.0,172.0 747.0,172.0\" fill=\"currentColor\"/></g><g class=\"displacy-arrow\"><path class=\"displacy-arc\" id=\"arrow-2a03dc55d0f9430b893fb54065586077-0-9\" stroke-width=\"2px\" d=\"M880,182.0 C880,92.0 1030.0,92.0 1030.0,182.0\" fill=\"none\" stroke=\"currentColor\"/><text dy=\"1.25em\" style=\"font-size: 0.8em; letter-spacing: 1px\"><textPath xlink:href=\"#arrow-2a03dc55d0f9430b893fb54065586077-0-9\" class=\"displacy-label\" startOffset=\"50%\" side=\"left\" fill=\"currentColor\" text-anchor=\"middle\">advmod</textPath></text><path class=\"displacy-arrowhead\" d=\"M880,184.0 L872,172.0 888,172.0\" fill=\"currentColor\"/></g><g class=\"displacy-arrow\"><path class=\"displacy-arc\" id=\"arrow-2a03dc55d0f9430b893fb54065586077-0-10\" stroke-width=\"2px\" d=\"M880,182.0 C880,137.0 935.0,137.0 935.0,182.0\" fill=\"none\" stroke=\"currentColor\"/><text dy=\"1.25em\" style=\"font-size: 0.8em; letter-spacing: 1px\"><textPath xlink:href=\"#arrow-2a03dc55d0f9430b893fb54065586077-0-10\" class=\"displacy-label\" startOffset=\"50%\" side=\"left\" fill=\"currentColor\" text-anchor=\"middle\">obl</textPath></text><path class=\"displacy-arrowhead\" d=\"M935.0,184.0 L943.0,172.0 927.0,172.0\" fill=\"currentColor\"/></g><g class=\"displacy-arrow\"><path class=\"displacy-arc\" id=\"arrow-2a03dc55d0f9430b893fb54065586077-0-11\" stroke-width=\"2px\" d=\"M1150,182.0 C1150,137.0 1205.0,137.0 1205.0,182.0\" fill=\"none\" stroke=\"currentColor\"/><text dy=\"1.25em\" style=\"font-size: 0.8em; letter-spacing: 1px\"><textPath xlink:href=\"#arrow-2a03dc55d0f9430b893fb54065586077-0-11\" class=\"displacy-label\" startOffset=\"50%\" side=\"left\" fill=\"currentColor\" text-anchor=\"middle\">amod</textPath></text><path class=\"displacy-arrowhead\" d=\"M1150,184.0 L1142,172.0 1158,172.0\" fill=\"currentColor\"/></g><g class=\"displacy-arrow\"><path class=\"displacy-arc\" id=\"arrow-2a03dc55d0f9430b893fb54065586077-0-12\" stroke-width=\"2px\" d=\"M1060,182.0 C1060,92.0 1210.0,92.0 1210.0,182.0\" fill=\"none\" stroke=\"currentColor\"/><text dy=\"1.25em\" style=\"font-size: 0.8em; letter-spacing: 1px\"><textPath xlink:href=\"#arrow-2a03dc55d0f9430b893fb54065586077-0-12\" class=\"displacy-label\" startOffset=\"50%\" side=\"left\" fill=\"currentColor\" text-anchor=\"middle\">nsubj:pass</textPath></text><path class=\"displacy-arrowhead\" d=\"M1210.0,184.0 L1218.0,172.0 1202.0,172.0\" fill=\"currentColor\"/></g><g class=\"displacy-arrow\"><path class=\"displacy-arc\" id=\"arrow-2a03dc55d0f9430b893fb54065586077-0-13\" stroke-width=\"2px\" d=\"M1330,182.0 C1330,137.0 1385.0,137.0 1385.0,182.0\" fill=\"none\" stroke=\"currentColor\"/><text dy=\"1.25em\" style=\"font-size: 0.8em; letter-spacing: 1px\"><textPath xlink:href=\"#arrow-2a03dc55d0f9430b893fb54065586077-0-13\" class=\"displacy-label\" startOffset=\"50%\" side=\"left\" fill=\"currentColor\" text-anchor=\"middle\">cc</textPath></text><path class=\"displacy-arrowhead\" d=\"M1330,184.0 L1322,172.0 1338,172.0\" fill=\"currentColor\"/></g><g class=\"displacy-arrow\"><path class=\"displacy-arc\" id=\"arrow-2a03dc55d0f9430b893fb54065586077-0-14\" stroke-width=\"2px\" d=\"M1240,182.0 C1240,92.0 1390.0,92.0 1390.0,182.0\" fill=\"none\" stroke=\"currentColor\"/><text dy=\"1.25em\" style=\"font-size: 0.8em; letter-spacing: 1px\"><textPath xlink:href=\"#arrow-2a03dc55d0f9430b893fb54065586077-0-14\" class=\"displacy-label\" startOffset=\"50%\" side=\"left\" fill=\"currentColor\" text-anchor=\"middle\">conj</textPath></text><path class=\"displacy-arrowhead\" d=\"M1390.0,184.0 L1398.0,172.0 1382.0,172.0\" fill=\"currentColor\"/></g><g class=\"displacy-arrow\"><path class=\"displacy-arc\" id=\"arrow-2a03dc55d0f9430b893fb54065586077-0-15\" stroke-width=\"2px\" d=\"M1510,182.0 C1510,47.0 1935.0,47.0 1935.0,182.0\" fill=\"none\" stroke=\"currentColor\"/><text dy=\"1.25em\" style=\"font-size: 0.8em; letter-spacing: 1px\"><textPath xlink:href=\"#arrow-2a03dc55d0f9430b893fb54065586077-0-15\" class=\"displacy-label\" startOffset=\"50%\" side=\"left\" fill=\"currentColor\" text-anchor=\"middle\">advmod</textPath></text><path class=\"displacy-arrowhead\" d=\"M1510,184.0 L1502,172.0 1518,172.0\" fill=\"currentColor\"/></g><g class=\"displacy-arrow\"><path class=\"displacy-arc\" id=\"arrow-2a03dc55d0f9430b893fb54065586077-0-16\" stroke-width=\"2px\" d=\"M1600,182.0 C1600,92.0 1750.0,92.0 1750.0,182.0\" fill=\"none\" stroke=\"currentColor\"/><text dy=\"1.25em\" style=\"font-size: 0.8em; letter-spacing: 1px\"><textPath xlink:href=\"#arrow-2a03dc55d0f9430b893fb54065586077-0-16\" class=\"displacy-label\" startOffset=\"50%\" side=\"left\" fill=\"currentColor\" text-anchor=\"middle\">case</textPath></text><path class=\"displacy-arrowhead\" d=\"M1600,184.0 L1592,172.0 1608,172.0\" fill=\"currentColor\"/></g><g class=\"displacy-arrow\"><path class=\"displacy-arc\" id=\"arrow-2a03dc55d0f9430b893fb54065586077-0-17\" stroke-width=\"2px\" d=\"M1690,182.0 C1690,137.0 1745.0,137.0 1745.0,182.0\" fill=\"none\" stroke=\"currentColor\"/><text dy=\"1.25em\" style=\"font-size: 0.8em; letter-spacing: 1px\"><textPath xlink:href=\"#arrow-2a03dc55d0f9430b893fb54065586077-0-17\" class=\"displacy-label\" startOffset=\"50%\" side=\"left\" fill=\"currentColor\" text-anchor=\"middle\">amod</textPath></text><path class=\"displacy-arrowhead\" d=\"M1690,184.0 L1682,172.0 1698,172.0\" fill=\"currentColor\"/></g><g class=\"displacy-arrow\"><path class=\"displacy-arc\" id=\"arrow-2a03dc55d0f9430b893fb54065586077-0-18\" stroke-width=\"2px\" d=\"M1780,182.0 C1780,92.0 1930.0,92.0 1930.0,182.0\" fill=\"none\" stroke=\"currentColor\"/><text dy=\"1.25em\" style=\"font-size: 0.8em; letter-spacing: 1px\"><textPath xlink:href=\"#arrow-2a03dc55d0f9430b893fb54065586077-0-18\" class=\"displacy-label\" startOffset=\"50%\" side=\"left\" fill=\"currentColor\" text-anchor=\"middle\">obl</textPath></text><path class=\"displacy-arrowhead\" d=\"M1780,184.0 L1772,172.0 1788,172.0\" fill=\"currentColor\"/></g><g class=\"displacy-arrow\"><path class=\"displacy-arc\" id=\"arrow-2a03dc55d0f9430b893fb54065586077-0-19\" stroke-width=\"2px\" d=\"M1870,182.0 C1870,137.0 1925.0,137.0 1925.0,182.0\" fill=\"none\" stroke=\"currentColor\"/><text dy=\"1.25em\" style=\"font-size: 0.8em; letter-spacing: 1px\"><textPath xlink:href=\"#arrow-2a03dc55d0f9430b893fb54065586077-0-19\" class=\"displacy-label\" startOffset=\"50%\" side=\"left\" fill=\"currentColor\" text-anchor=\"middle\">nsubj</textPath></text><path class=\"displacy-arrowhead\" d=\"M1870,184.0 L1862,172.0 1878,172.0\" fill=\"currentColor\"/></g><g class=\"displacy-arrow\"><path class=\"displacy-arc\" id=\"arrow-2a03dc55d0f9430b893fb54065586077-0-20\" stroke-width=\"2px\" d=\"M1060,182.0 C1060,2.0 1940.0,2.0 1940.0,182.0\" fill=\"none\" stroke=\"currentColor\"/><text dy=\"1.25em\" style=\"font-size: 0.8em; letter-spacing: 1px\"><textPath xlink:href=\"#arrow-2a03dc55d0f9430b893fb54065586077-0-20\" class=\"displacy-label\" startOffset=\"50%\" side=\"left\" fill=\"currentColor\" text-anchor=\"middle\">conj</textPath></text><path class=\"displacy-arrowhead\" d=\"M1940.0,184.0 L1948.0,172.0 1932.0,172.0\" fill=\"currentColor\"/></g></svg></span>"
      ],
      "text/plain": [
       "<IPython.core.display.HTML object>"
      ]
     },
     "metadata": {},
     "output_type": "display_data"
    },
    {
     "data": {
      "text/html": [
       "<span class=\"tex2jax_ignore\"><svg xmlns=\"http://www.w3.org/2000/svg\" xmlns:xlink=\"http://www.w3.org/1999/xlink\" xml:lang=\"ru\" id=\"a93e59f7c5684b24a094b415cd087027-0\" class=\"displacy\" width=\"1760\" height=\"317.0\" direction=\"ltr\" style=\"max-width: none; height: 317.0px; color: #000000; background: #ffffff; font-family: Arial; direction: ltr\"><text class=\"displacy-token\" fill=\"currentColor\" text-anchor=\"middle\" y=\"227.0\"><tspan class=\"displacy-word\" fill=\"currentColor\" x=\"50\">Об</tspan><tspan class=\"displacy-tag\" dy=\"2em\" fill=\"currentColor\" x=\"50\">ADP</tspan></text><text class=\"displacy-token\" fill=\"currentColor\" text-anchor=\"middle\" y=\"227.0\"><tspan class=\"displacy-word\" fill=\"currentColor\" x=\"140\">этом</tspan><tspan class=\"displacy-tag\" dy=\"2em\" fill=\"currentColor\" x=\"140\">PRON</tspan></text><text class=\"displacy-token\" fill=\"currentColor\" text-anchor=\"middle\" y=\"227.0\"><tspan class=\"displacy-word\" fill=\"currentColor\" x=\"230\">в</tspan><tspan class=\"displacy-tag\" dy=\"2em\" fill=\"currentColor\" x=\"230\">ADP</tspan></text><text class=\"displacy-token\" fill=\"currentColor\" text-anchor=\"middle\" y=\"227.0\"><tspan class=\"displacy-word\" fill=\"currentColor\" x=\"320\">среду,</tspan><tspan class=\"displacy-tag\" dy=\"2em\" fill=\"currentColor\" x=\"320\">NOUN</tspan></text><text class=\"displacy-token\" fill=\"currentColor\" text-anchor=\"middle\" y=\"227.0\"><tspan class=\"displacy-word\" fill=\"currentColor\" x=\"410\">24</tspan><tspan class=\"displacy-tag\" dy=\"2em\" fill=\"currentColor\" x=\"410\">ADJ</tspan></text><text class=\"displacy-token\" fill=\"currentColor\" text-anchor=\"middle\" y=\"227.0\"><tspan class=\"displacy-word\" fill=\"currentColor\" x=\"500\">мая,</tspan><tspan class=\"displacy-tag\" dy=\"2em\" fill=\"currentColor\" x=\"500\">NOUN</tspan></text><text class=\"displacy-token\" fill=\"currentColor\" text-anchor=\"middle\" y=\"227.0\"><tspan class=\"displacy-word\" fill=\"currentColor\" x=\"590\">рассказал</tspan><tspan class=\"displacy-tag\" dy=\"2em\" fill=\"currentColor\" x=\"590\">VERB</tspan></text><text class=\"displacy-token\" fill=\"currentColor\" text-anchor=\"middle\" y=\"227.0\"><tspan class=\"displacy-word\" fill=\"currentColor\" x=\"680\">замдиректора</tspan><tspan class=\"displacy-tag\" dy=\"2em\" fill=\"currentColor\" x=\"680\">NOUN</tspan></text><text class=\"displacy-token\" fill=\"currentColor\" text-anchor=\"middle\" y=\"227.0\"><tspan class=\"displacy-word\" fill=\"currentColor\" x=\"770\">Института</tspan><tspan class=\"displacy-tag\" dy=\"2em\" fill=\"currentColor\" x=\"770\">PROPN</tspan></text><text class=\"displacy-token\" fill=\"currentColor\" text-anchor=\"middle\" y=\"227.0\"><tspan class=\"displacy-word\" fill=\"currentColor\" x=\"860\">физики</tspan><tspan class=\"displacy-tag\" dy=\"2em\" fill=\"currentColor\" x=\"860\">NOUN</tspan></text><text class=\"displacy-token\" fill=\"currentColor\" text-anchor=\"middle\" y=\"227.0\"><tspan class=\"displacy-word\" fill=\"currentColor\" x=\"950\">атмосферы</tspan><tspan class=\"displacy-tag\" dy=\"2em\" fill=\"currentColor\" x=\"950\">NOUN</tspan></text><text class=\"displacy-token\" fill=\"currentColor\" text-anchor=\"middle\" y=\"227.0\"><tspan class=\"displacy-word\" fill=\"currentColor\" x=\"1040\">имени</tspan><tspan class=\"displacy-tag\" dy=\"2em\" fill=\"currentColor\" x=\"1040\">NOUN</tspan></text><text class=\"displacy-token\" fill=\"currentColor\" text-anchor=\"middle\" y=\"227.0\"><tspan class=\"displacy-word\" fill=\"currentColor\" x=\"1130\">Обухова</tspan><tspan class=\"displacy-tag\" dy=\"2em\" fill=\"currentColor\" x=\"1130\">PROPN</tspan></text><text class=\"displacy-token\" fill=\"currentColor\" text-anchor=\"middle\" y=\"227.0\"><tspan class=\"displacy-word\" fill=\"currentColor\" x=\"1220\">Российской</tspan><tspan class=\"displacy-tag\" dy=\"2em\" fill=\"currentColor\" x=\"1220\">ADJ</tspan></text><text class=\"displacy-token\" fill=\"currentColor\" text-anchor=\"middle\" y=\"227.0\"><tspan class=\"displacy-word\" fill=\"currentColor\" x=\"1310\">академии</tspan><tspan class=\"displacy-tag\" dy=\"2em\" fill=\"currentColor\" x=\"1310\">NOUN</tspan></text><text class=\"displacy-token\" fill=\"currentColor\" text-anchor=\"middle\" y=\"227.0\"><tspan class=\"displacy-word\" fill=\"currentColor\" x=\"1400\">наук</tspan><tspan class=\"displacy-tag\" dy=\"2em\" fill=\"currentColor\" x=\"1400\">NOUN</tspan></text><text class=\"displacy-token\" fill=\"currentColor\" text-anchor=\"middle\" y=\"227.0\"><tspan class=\"displacy-word\" fill=\"currentColor\" x=\"1490\">Владимир</tspan><tspan class=\"displacy-tag\" dy=\"2em\" fill=\"currentColor\" x=\"1490\">PROPN</tspan></text><text class=\"displacy-token\" fill=\"currentColor\" text-anchor=\"middle\" y=\"227.0\"><tspan class=\"displacy-word\" fill=\"currentColor\" x=\"1580\">Семенов.</tspan><tspan class=\"displacy-tag\" dy=\"2em\" fill=\"currentColor\" x=\"1580\">PUNCT</tspan></text><text class=\"displacy-token\" fill=\"currentColor\" text-anchor=\"middle\" y=\"227.0\"><tspan class=\"displacy-word\" fill=\"currentColor\" x=\"1670\"></tspan><tspan class=\"displacy-tag\" dy=\"2em\" fill=\"currentColor\" x=\"1670\">SPACE</tspan></text><g class=\"displacy-arrow\"><path class=\"displacy-arc\" id=\"arrow-a93e59f7c5684b24a094b415cd087027-0-0\" stroke-width=\"2px\" d=\"M70,182.0 C70,137.0 125.0,137.0 125.0,182.0\" fill=\"none\" stroke=\"currentColor\"/><text dy=\"1.25em\" style=\"font-size: 0.8em; letter-spacing: 1px\"><textPath xlink:href=\"#arrow-a93e59f7c5684b24a094b415cd087027-0-0\" class=\"displacy-label\" startOffset=\"50%\" side=\"left\" fill=\"currentColor\" text-anchor=\"middle\">case</textPath></text><path class=\"displacy-arrowhead\" d=\"M70,184.0 L62,172.0 78,172.0\" fill=\"currentColor\"/></g><g class=\"displacy-arrow\"><path class=\"displacy-arc\" id=\"arrow-a93e59f7c5684b24a094b415cd087027-0-1\" stroke-width=\"2px\" d=\"M160,182.0 C160,47.0 585.0,47.0 585.0,182.0\" fill=\"none\" stroke=\"currentColor\"/><text dy=\"1.25em\" style=\"font-size: 0.8em; letter-spacing: 1px\"><textPath xlink:href=\"#arrow-a93e59f7c5684b24a094b415cd087027-0-1\" class=\"displacy-label\" startOffset=\"50%\" side=\"left\" fill=\"currentColor\" text-anchor=\"middle\">obl</textPath></text><path class=\"displacy-arrowhead\" d=\"M160,184.0 L152,172.0 168,172.0\" fill=\"currentColor\"/></g><g class=\"displacy-arrow\"><path class=\"displacy-arc\" id=\"arrow-a93e59f7c5684b24a094b415cd087027-0-2\" stroke-width=\"2px\" d=\"M250,182.0 C250,137.0 305.0,137.0 305.0,182.0\" fill=\"none\" stroke=\"currentColor\"/><text dy=\"1.25em\" style=\"font-size: 0.8em; letter-spacing: 1px\"><textPath xlink:href=\"#arrow-a93e59f7c5684b24a094b415cd087027-0-2\" class=\"displacy-label\" startOffset=\"50%\" side=\"left\" fill=\"currentColor\" text-anchor=\"middle\">case</textPath></text><path class=\"displacy-arrowhead\" d=\"M250,184.0 L242,172.0 258,172.0\" fill=\"currentColor\"/></g><g class=\"displacy-arrow\"><path class=\"displacy-arc\" id=\"arrow-a93e59f7c5684b24a094b415cd087027-0-3\" stroke-width=\"2px\" d=\"M340,182.0 C340,92.0 580.0,92.0 580.0,182.0\" fill=\"none\" stroke=\"currentColor\"/><text dy=\"1.25em\" style=\"font-size: 0.8em; letter-spacing: 1px\"><textPath xlink:href=\"#arrow-a93e59f7c5684b24a094b415cd087027-0-3\" class=\"displacy-label\" startOffset=\"50%\" side=\"left\" fill=\"currentColor\" text-anchor=\"middle\">obl</textPath></text><path class=\"displacy-arrowhead\" d=\"M340,184.0 L332,172.0 348,172.0\" fill=\"currentColor\"/></g><g class=\"displacy-arrow\"><path class=\"displacy-arc\" id=\"arrow-a93e59f7c5684b24a094b415cd087027-0-4\" stroke-width=\"2px\" d=\"M340,182.0 C340,137.0 395.0,137.0 395.0,182.0\" fill=\"none\" stroke=\"currentColor\"/><text dy=\"1.25em\" style=\"font-size: 0.8em; letter-spacing: 1px\"><textPath xlink:href=\"#arrow-a93e59f7c5684b24a094b415cd087027-0-4\" class=\"displacy-label\" startOffset=\"50%\" side=\"left\" fill=\"currentColor\" text-anchor=\"middle\">nmod</textPath></text><path class=\"displacy-arrowhead\" d=\"M395.0,184.0 L403.0,172.0 387.0,172.0\" fill=\"currentColor\"/></g><g class=\"displacy-arrow\"><path class=\"displacy-arc\" id=\"arrow-a93e59f7c5684b24a094b415cd087027-0-5\" stroke-width=\"2px\" d=\"M430,182.0 C430,137.0 485.0,137.0 485.0,182.0\" fill=\"none\" stroke=\"currentColor\"/><text dy=\"1.25em\" style=\"font-size: 0.8em; letter-spacing: 1px\"><textPath xlink:href=\"#arrow-a93e59f7c5684b24a094b415cd087027-0-5\" class=\"displacy-label\" startOffset=\"50%\" side=\"left\" fill=\"currentColor\" text-anchor=\"middle\">flat</textPath></text><path class=\"displacy-arrowhead\" d=\"M485.0,184.0 L493.0,172.0 477.0,172.0\" fill=\"currentColor\"/></g><g class=\"displacy-arrow\"><path class=\"displacy-arc\" id=\"arrow-a93e59f7c5684b24a094b415cd087027-0-6\" stroke-width=\"2px\" d=\"M610,182.0 C610,137.0 665.0,137.0 665.0,182.0\" fill=\"none\" stroke=\"currentColor\"/><text dy=\"1.25em\" style=\"font-size: 0.8em; letter-spacing: 1px\"><textPath xlink:href=\"#arrow-a93e59f7c5684b24a094b415cd087027-0-6\" class=\"displacy-label\" startOffset=\"50%\" side=\"left\" fill=\"currentColor\" text-anchor=\"middle\">nsubj</textPath></text><path class=\"displacy-arrowhead\" d=\"M665.0,184.0 L673.0,172.0 657.0,172.0\" fill=\"currentColor\"/></g><g class=\"displacy-arrow\"><path class=\"displacy-arc\" id=\"arrow-a93e59f7c5684b24a094b415cd087027-0-7\" stroke-width=\"2px\" d=\"M700,182.0 C700,137.0 755.0,137.0 755.0,182.0\" fill=\"none\" stroke=\"currentColor\"/><text dy=\"1.25em\" style=\"font-size: 0.8em; letter-spacing: 1px\"><textPath xlink:href=\"#arrow-a93e59f7c5684b24a094b415cd087027-0-7\" class=\"displacy-label\" startOffset=\"50%\" side=\"left\" fill=\"currentColor\" text-anchor=\"middle\">nmod</textPath></text><path class=\"displacy-arrowhead\" d=\"M755.0,184.0 L763.0,172.0 747.0,172.0\" fill=\"currentColor\"/></g><g class=\"displacy-arrow\"><path class=\"displacy-arc\" id=\"arrow-a93e59f7c5684b24a094b415cd087027-0-8\" stroke-width=\"2px\" d=\"M790,182.0 C790,137.0 845.0,137.0 845.0,182.0\" fill=\"none\" stroke=\"currentColor\"/><text dy=\"1.25em\" style=\"font-size: 0.8em; letter-spacing: 1px\"><textPath xlink:href=\"#arrow-a93e59f7c5684b24a094b415cd087027-0-8\" class=\"displacy-label\" startOffset=\"50%\" side=\"left\" fill=\"currentColor\" text-anchor=\"middle\">nmod</textPath></text><path class=\"displacy-arrowhead\" d=\"M845.0,184.0 L853.0,172.0 837.0,172.0\" fill=\"currentColor\"/></g><g class=\"displacy-arrow\"><path class=\"displacy-arc\" id=\"arrow-a93e59f7c5684b24a094b415cd087027-0-9\" stroke-width=\"2px\" d=\"M880,182.0 C880,137.0 935.0,137.0 935.0,182.0\" fill=\"none\" stroke=\"currentColor\"/><text dy=\"1.25em\" style=\"font-size: 0.8em; letter-spacing: 1px\"><textPath xlink:href=\"#arrow-a93e59f7c5684b24a094b415cd087027-0-9\" class=\"displacy-label\" startOffset=\"50%\" side=\"left\" fill=\"currentColor\" text-anchor=\"middle\">nmod</textPath></text><path class=\"displacy-arrowhead\" d=\"M935.0,184.0 L943.0,172.0 927.0,172.0\" fill=\"currentColor\"/></g><g class=\"displacy-arrow\"><path class=\"displacy-arc\" id=\"arrow-a93e59f7c5684b24a094b415cd087027-0-10\" stroke-width=\"2px\" d=\"M970,182.0 C970,137.0 1025.0,137.0 1025.0,182.0\" fill=\"none\" stroke=\"currentColor\"/><text dy=\"1.25em\" style=\"font-size: 0.8em; letter-spacing: 1px\"><textPath xlink:href=\"#arrow-a93e59f7c5684b24a094b415cd087027-0-10\" class=\"displacy-label\" startOffset=\"50%\" side=\"left\" fill=\"currentColor\" text-anchor=\"middle\">nmod</textPath></text><path class=\"displacy-arrowhead\" d=\"M1025.0,184.0 L1033.0,172.0 1017.0,172.0\" fill=\"currentColor\"/></g><g class=\"displacy-arrow\"><path class=\"displacy-arc\" id=\"arrow-a93e59f7c5684b24a094b415cd087027-0-11\" stroke-width=\"2px\" d=\"M1060,182.0 C1060,137.0 1115.0,137.0 1115.0,182.0\" fill=\"none\" stroke=\"currentColor\"/><text dy=\"1.25em\" style=\"font-size: 0.8em; letter-spacing: 1px\"><textPath xlink:href=\"#arrow-a93e59f7c5684b24a094b415cd087027-0-11\" class=\"displacy-label\" startOffset=\"50%\" side=\"left\" fill=\"currentColor\" text-anchor=\"middle\">nmod</textPath></text><path class=\"displacy-arrowhead\" d=\"M1115.0,184.0 L1123.0,172.0 1107.0,172.0\" fill=\"currentColor\"/></g><g class=\"displacy-arrow\"><path class=\"displacy-arc\" id=\"arrow-a93e59f7c5684b24a094b415cd087027-0-12\" stroke-width=\"2px\" d=\"M1240,182.0 C1240,137.0 1295.0,137.0 1295.0,182.0\" fill=\"none\" stroke=\"currentColor\"/><text dy=\"1.25em\" style=\"font-size: 0.8em; letter-spacing: 1px\"><textPath xlink:href=\"#arrow-a93e59f7c5684b24a094b415cd087027-0-12\" class=\"displacy-label\" startOffset=\"50%\" side=\"left\" fill=\"currentColor\" text-anchor=\"middle\">amod</textPath></text><path class=\"displacy-arrowhead\" d=\"M1240,184.0 L1232,172.0 1248,172.0\" fill=\"currentColor\"/></g><g class=\"displacy-arrow\"><path class=\"displacy-arc\" id=\"arrow-a93e59f7c5684b24a094b415cd087027-0-13\" stroke-width=\"2px\" d=\"M1060,182.0 C1060,92.0 1300.0,92.0 1300.0,182.0\" fill=\"none\" stroke=\"currentColor\"/><text dy=\"1.25em\" style=\"font-size: 0.8em; letter-spacing: 1px\"><textPath xlink:href=\"#arrow-a93e59f7c5684b24a094b415cd087027-0-13\" class=\"displacy-label\" startOffset=\"50%\" side=\"left\" fill=\"currentColor\" text-anchor=\"middle\">nmod</textPath></text><path class=\"displacy-arrowhead\" d=\"M1300.0,184.0 L1308.0,172.0 1292.0,172.0\" fill=\"currentColor\"/></g><g class=\"displacy-arrow\"><path class=\"displacy-arc\" id=\"arrow-a93e59f7c5684b24a094b415cd087027-0-14\" stroke-width=\"2px\" d=\"M1330,182.0 C1330,137.0 1385.0,137.0 1385.0,182.0\" fill=\"none\" stroke=\"currentColor\"/><text dy=\"1.25em\" style=\"font-size: 0.8em; letter-spacing: 1px\"><textPath xlink:href=\"#arrow-a93e59f7c5684b24a094b415cd087027-0-14\" class=\"displacy-label\" startOffset=\"50%\" side=\"left\" fill=\"currentColor\" text-anchor=\"middle\">nmod</textPath></text><path class=\"displacy-arrowhead\" d=\"M1385.0,184.0 L1393.0,172.0 1377.0,172.0\" fill=\"currentColor\"/></g><g class=\"displacy-arrow\"><path class=\"displacy-arc\" id=\"arrow-a93e59f7c5684b24a094b415cd087027-0-15\" stroke-width=\"2px\" d=\"M700,182.0 C700,47.0 1485.0,47.0 1485.0,182.0\" fill=\"none\" stroke=\"currentColor\"/><text dy=\"1.25em\" style=\"font-size: 0.8em; letter-spacing: 1px\"><textPath xlink:href=\"#arrow-a93e59f7c5684b24a094b415cd087027-0-15\" class=\"displacy-label\" startOffset=\"50%\" side=\"left\" fill=\"currentColor\" text-anchor=\"middle\">appos</textPath></text><path class=\"displacy-arrowhead\" d=\"M1485.0,184.0 L1493.0,172.0 1477.0,172.0\" fill=\"currentColor\"/></g><g class=\"displacy-arrow\"><path class=\"displacy-arc\" id=\"arrow-a93e59f7c5684b24a094b415cd087027-0-16\" stroke-width=\"2px\" d=\"M610,182.0 C610,2.0 1580.0,2.0 1580.0,182.0\" fill=\"none\" stroke=\"currentColor\"/><text dy=\"1.25em\" style=\"font-size: 0.8em; letter-spacing: 1px\"><textPath xlink:href=\"#arrow-a93e59f7c5684b24a094b415cd087027-0-16\" class=\"displacy-label\" startOffset=\"50%\" side=\"left\" fill=\"currentColor\" text-anchor=\"middle\">punct</textPath></text><path class=\"displacy-arrowhead\" d=\"M1580.0,184.0 L1588.0,172.0 1572.0,172.0\" fill=\"currentColor\"/></g><g class=\"displacy-arrow\"><path class=\"displacy-arc\" id=\"arrow-a93e59f7c5684b24a094b415cd087027-0-17\" stroke-width=\"2px\" d=\"M1600,182.0 C1600,137.0 1655.0,137.0 1655.0,182.0\" fill=\"none\" stroke=\"currentColor\"/><text dy=\"1.25em\" style=\"font-size: 0.8em; letter-spacing: 1px\"><textPath xlink:href=\"#arrow-a93e59f7c5684b24a094b415cd087027-0-17\" class=\"displacy-label\" startOffset=\"50%\" side=\"left\" fill=\"currentColor\" text-anchor=\"middle\">dep</textPath></text><path class=\"displacy-arrowhead\" d=\"M1655.0,184.0 L1663.0,172.0 1647.0,172.0\" fill=\"currentColor\"/></g></svg></span>"
      ],
      "text/plain": [
       "<IPython.core.display.HTML object>"
      ]
     },
     "metadata": {},
     "output_type": "display_data"
    }
   ],
   "source": [
    "for s in list(doc.sents)[:2]:\n",
    "  displacy.render(s, style=\"dep\", minify=True, jupyter=True, options={\"distance\":90})"
   ]
  },
  {
   "cell_type": "code",
   "execution_count": 18,
   "metadata": {},
   "outputs": [
    {
     "name": "stdout",
     "output_type": "stream",
     "text": [
      "фиксируются [регионе, конце, чаще, ветры, спокойная, .]\n",
      "регион регионе obl NOUN -> фиксируются\n"
     ]
    }
   ],
   "source": [
    "sent0 = list(doc.sents)[0]\n",
    "childs0 = list(sent0.root.children)\n",
    "print(sent0.root, childs0)\n",
    "# Загнать этот вывод в цикл и проанализировать все текста?\n",
    "print(childs0[0].lemma_, childs0[0].text, childs0[0].dep_, childs0[0].tag_, '->', list(childs0[0].ancestors)[0])"
   ]
  },
  {
   "cell_type": "code",
   "execution_count": 22,
   "metadata": {},
   "outputs": [],
   "source": [
    "with open(\"rusentilex_2017.txt\", encoding=\"utf-8\") as senti_file: \n",
    "    for i in range(18): # Пропускаем заголовок файла.\n",
    "        _ = senti_file.readline()\n",
    "        \n",
    "    senti_words = {line.split(\", \")[0]: line.split(\", \")[3] for line in senti_file.readlines()}"
   ]
  },
  {
   "cell_type": "code",
   "execution_count": 23,
   "metadata": {},
   "outputs": [],
   "source": [
    "def find_sentiments_spacy(node, senti_words, sentiments):\n",
    "    for child in node.children:\n",
    "        if child.lemma_ in senti_words.keys():\n",
    "            if node.lemma_ not in sentiments.keys():\n",
    "                sentiments[node.lemma_] = defaultdict(int)\n",
    "            sentiments[node.lemma_][senti_words[child.lemma_]] += 1"
   ]
  },
  {
   "cell_type": "code",
   "execution_count": 24,
   "metadata": {},
   "outputs": [
    {
     "data": {
      "text/plain": [
       "{'фиксироваться': defaultdict(int, {'positive': 1}),\n",
       " 'бывать': defaultdict(int, {'neutral': 1}),\n",
       " 'быть': defaultdict(int, {'negative': 1}),\n",
       " 'будет': defaultdict(int, {'neutral': 1}),\n",
       " 'прийти': defaultdict(int, {'positive/negative': 1}),\n",
       " 'стартовать': defaultdict(int, {'negative': 1})}"
      ]
     },
     "execution_count": 24,
     "metadata": {},
     "output_type": "execute_result"
    }
   ],
   "source": [
    "sentiments = {}\n",
    "for sent in doc.sents:\n",
    "    find_sentiments_spacy(sent.root, senti_words, sentiments)\n",
    "sentiments"
   ]
  },
  {
   "cell_type": "code",
   "execution_count": 25,
   "metadata": {},
   "outputs": [
    {
     "name": "stderr",
     "output_type": "stream",
     "text": [
      "100%|██████████| 408/408 [00:21<00:00, 18.94it/s]\n"
     ]
    }
   ],
   "source": [
    "sentiments = {}\n",
    "for sent_text in tqdm(text_news):\n",
    "    doc = nlp(sent_text)\n",
    "    for sentence in doc.sents:\n",
    "        find_sentiments_spacy(sentence.root, senti_words, sentiments)"
   ]
  },
  {
   "cell_type": "code",
   "execution_count": 30,
   "metadata": {},
   "outputs": [
    {
     "data": {
      "text/plain": [
       "([('получить', defaultdict(int, {'negative': 19, 'positive': 4})),\n",
       "  ('быть', defaultdict(int, {'negative': 14, 'positive': 4, 'neutral': 3})),\n",
       "  ('заявить',\n",
       "   defaultdict(int,\n",
       "               {'negative': 12,\n",
       "                'positive': 29,\n",
       "                'neutral': 5,\n",
       "                'positive/negative': 1})),\n",
       "  ('мочь',\n",
       "   defaultdict(int,\n",
       "               {'negative': 14,\n",
       "                'positive': 11,\n",
       "                'positive/negative': 5,\n",
       "                'neutral': 1,\n",
       "                'пострадать': 1})),\n",
       "  ('действовать',\n",
       "   defaultdict(int, {'negative': 12, 'neutral': 1, 'positive': 0}))],\n",
       " '\\n----\\n',\n",
       " [('выразить', defaultdict(int, {'positive': 12, 'negative': 5})),\n",
       "  ('заявить',\n",
       "   defaultdict(int,\n",
       "               {'negative': 12,\n",
       "                'positive': 29,\n",
       "                'neutral': 5,\n",
       "                'positive/negative': 1})),\n",
       "  ('отметить', defaultdict(int, {'negative': 1, 'positive': 11})),\n",
       "  ('сообщить',\n",
       "   defaultdict(int,\n",
       "               {'negative': 7,\n",
       "                'neutral': 3,\n",
       "                'positive/negative': 2,\n",
       "                'positive': 18})),\n",
       "  ('мочь',\n",
       "   defaultdict(int,\n",
       "               {'negative': 14,\n",
       "                'positive': 11,\n",
       "                'positive/negative': 5,\n",
       "                'neutral': 1,\n",
       "                'пострадать': 1})),\n",
       "  ('принять', defaultdict(int, {'positive': 11, 'negative': 1}))])"
      ]
     },
     "execution_count": 30,
     "metadata": {},
     "output_type": "execute_result"
    }
   ],
   "source": [
    "[(senti, vals) for senti,vals in sentiments.items() if vals['negative']>10], '\\n----\\n',\\\n",
    "[(senti, vals) for senti,vals in sentiments.items() if vals['positive']>10]"
   ]
  }
 ],
 "metadata": {
  "kernelspec": {
   "display_name": "Python 3",
   "language": "python",
   "name": "python3"
  },
  "language_info": {
   "codemirror_mode": {
    "name": "ipython",
    "version": 3
   },
   "file_extension": ".py",
   "mimetype": "text/x-python",
   "name": "python",
   "nbconvert_exporter": "python",
   "pygments_lexer": "ipython3",
   "version": "3.11.1"
  },
  "orig_nbformat": 4
 },
 "nbformat": 4,
 "nbformat_minor": 2
}
