{
 "cells": [
  {
   "cell_type": "code",
   "execution_count": 1,
   "metadata": {},
   "outputs": [],
   "source": [
    "import spacy\n",
    "from spacy.lang.ru.examples import sentences\n",
    "from spacy import displacy\n",
    "from pprint import pprint\n",
    "from collections import defaultdict\n",
    "from tqdm import tqdm\n",
    "import pandas as pd\n",
    "import numpy as np"
   ]
  },
  {
   "cell_type": "code",
   "execution_count": 2,
   "metadata": {},
   "outputs": [],
   "source": [
    "nlp = spacy.load(\"ru_core_news_sm\")"
   ]
  },
  {
   "cell_type": "code",
   "execution_count": 8,
   "metadata": {},
   "outputs": [],
   "source": []
  },
  {
   "cell_type": "code",
   "execution_count": 3,
   "metadata": {},
   "outputs": [
    {
     "data": {
      "text/plain": [
       "'\\n                            24 мая исполняется 80 лет поражению Германии в Битве за Атлантику. В этот день гросс-адмирал Дениц прекратил борьбу с конвоями, приказав своим подводникам уйти из Северной Атлантики. Произошло это из-за того, что немецкие «волчьи стаи» несли слишком большие потери. Это стало переломом в подводной войне, шедшей с переменным успехом с 1939 года.\\nПоражение неминуемо\\nС самого начала Второй мировой войны Германия вела боевые действия против судоходства союзников в Атлантике. Командующий немецким подплавом Карл Дениц в этой битве делал ставку на тактику «волчьей стаи» – атаку конвоя группой лодок. Успехи этот метод стал приносить лишь через год, поскольку поначалу кригсмарине просто не хватало субмарин, чтобы как следует реализовывать эту тактику. Ситуация изменилась осенью 1942-го, когда численность немецких подводных сил в Атлантике выросла до 150 единиц. Тогда-то и началась масштабная охота на конвои.\\n\"Волчья стая\" против конвоя: первый успех \"серых волков\" в Атлантике\\n\\nОсенью 1942-го – весной 1943-го «волчьи стаи» неоднократно добивались успеха, топя от трех до 15 судов из состава конвоев. Самыми результативными периодами стали октябрь 1942-го и март 1943-го, когда от действий немецких подводников серьезно пострадали восемь конвоев союзников. А пока Битва за Атлантику шла полным ходом, Дениц, ставший в 1943-м главкомом кригсмарине, продолжал наращивать немецкие подводные силы. К 1 мая 1943-го они насчитывали в себе уже более 400 единиц, из которых половина воевала в Атлантике.\\nСоюзники, осознававшие опасность роста «волчьих стай», делали все возможное, чтобы нейтрализовать их активность. Они усилили эскорт конвоев, старались прокладывать их маршруты в обход завес немецких субмарин и использовали бомбардировщики дальнего действия для патрулирования районов концентрации «волчьих стай», ранее недоступных авиации. Кроме того, были созданы группы поддержки из кораблей ПЛО и авианосные группы, имевшие задачу искать и уничтожать подлодки.\\nЭти меры дали следующий результат. В апреле через Северную Атлантику прошли 18 конвоев, большинство из которых немцы перехватили. Но защита конвоев стала настолько мощной, что «волчьи стаи» смогли потопить из их состава менее 30 судов. Всего же в апреле немецкие подлодки отправили на дно 47 торговых судов. Такой результат составлял лишь около половины от мартовских успехов «серых волков». Кроме того, в марте на каждую потерянную подлодку приходилось семь уничтоженных судов, а в апреле – только три. Это стало тревожным звонком для Деница. Однако в полной мере серьезность ситуации он не осознавал, поскольку немецкие подводники в докладах завышали свои результаты.\\nПоследний успех «волчьих стай»\\nПосле успешных мартовских сражений с конвоями большинство субмарин были на исходе своей автономности и должны были вернуться на базу. В конце апреля большинство лодок снова вышло в море, и вместе с новыми субмаринами, прибывающими непосредственно из Германии, сила «волчьих стай» в Северной Атлантике достигла пика: между Ньюфаундлендом и Гренландией было сосредоточено до полусотни подлодок.\\nОперация \"Паукеншлаг\": как \"литавры\" Деница разбудили Америку\\n\\nПараллельно войне на море шла война радиоразведок. Каждая из сторон взламывала коды противника, однако союзники делали это быстрее, что позволяло их конвоям обходить завесы подлодок. Но 25 апреля, когда немцы неожиданно сменили свои коды, союзники «ослепли». Не зная обстановки, они отправили конвой ONS-5 по маршруту, считавшемуся безопасным. Это стало ошибкой, поскольку этот маршрут вел прямо к «волчьей стае», развернутой во время смены кодов.\\n28 апреля подлодка U-650 заметила ONS-5 и начала наводить на него другие немецкие субмарины. Интенсивный радиообмен между ними предупредил эскорт конвоя об угрозе нападения. Сопровождавшие ONS-5 корабли с помощью радиопеленгаторов определили места нахождения лодок и сорвали их ночную атаку. Но немцы продолжали преследовать конвой. Им удалось открыть счет победам, потопив 29 апреля одно судно. После этого непогода прервала сражение на несколько дней. Воспользовавшись паузой, противники стягивали к конвою подкрепления.\\n4 мая шторм пошел на убыль. Немецкие атаки начались еще до наступления ночи, когда U-125 подводного аса Ульриха Фолькерса потопила отставшее судно. В течение следующих двух суток среди айсбергов и тумана разгорелась настоящая битва. Конвой атаковали около 40 подлодок. Им противостояли девять кораблей ПЛО. В конце концов оборона ONS-5 рухнула, и лодки прорвались к его ордеру. В ночном бою им удалось потопить шесть судов.\\nКомандующий немецким подплавом Карл Дениц, начало 1940-х UBL/Vostock PhotoВ штабе подводных сил Дениц лично руководил сражением. Предвкушая большую победу после шести недель разочаровывающих результатов, он настаивал на том, чтобы подводники атаковали всякий раз, когда случается такая возможность. Таким образом, бой продолжался в течение светового дня, и к вечеру 5 мая подлодки уничтожили еще пять транспортов.\\nЭскорт ONS-5 работал на пределе возможностей – его кораблям уже не хватало глубинных бомб и топлива. Ближе к вечеру появился первый бомбардировщик «Либерейтор», но этого было мало. Ситуация изменилась, лишь когда конвой достиг зоны густого тумана, давшего преимущество его эскорту. У кораблей ПЛО, в отличие от подлодок, были радары, позволявшие легко и вовремя обнаруживать противника в условиях плохой видимости.\\nВ ночь с 5 на 6 мая «волчья стая» совершила около 25 атак на ONS-5, но все они были отбиты эскортом. Теперь настало время расплаты. Пользуясь своим преимуществом в тумане, корабли ПЛО глубинными бомбами, артиллерией и таранами уничтожили в ту ночь пять подлодок. Утром 6 мая на помощь конвою подошли эсминцы из 1-й группы поддержки, которые немедленно вступили в схватку, уничтожив еще одну лодку.\\nПочему гросс-адмирал Дениц стал преемником Гитлера\\n\\nКогда Деницу стал ясен масштаб катастрофы, он свернул операцию. Гросс-адмирал решил, что виной всему туман и то, что, поскольку битва шла несколько дней, атаки подлодок уже не были неожиданными для конвоя. Однако по-настоящему волноваться немцам надо было из-за того, что очень большая «волчья стая» была побеждена только надводным эскортом, практически без помощи авиации.\\nONS-5 потерял 13 судов. В Битве за Атлантику этот случай стал последним, когда конвой понес такие потери. С немецкой стороны в бою погибли шесть подлодок, включая U-125 опытнейшего Фолькерса. Кроме того, были уничтожены две лодки, не принимавшие участия в сражении, и еще семь лодок сильно повреждены.\\nБегство «волчьих стай»\\nСражение с ONS-5 стало поворотным моментом в Битве за Атлантику. В течение трех недель после него немцы не смогли причинить серьезный урон ни одному конвою, но зато сами продолжали нести потери. В период с 9 по 25 мая немецкая радиоразведка предоставила точные данные о конвоях, находящихся в Северной Атлантике. Шесть из семи были обнаружены «волчьими стаями», но из 277 судов, входивших в их состав, было потоплено лишь шесть.\\nК 23 мая немцы потеряли уже 34 субмарины, около 1600 подводников погибли (включая сына Деница) или попали в плен. К концу месяца потери лодок выросли до 40 единиц. Этому очень поспособствовала авиация ПЛО. Так, в апреле и мае союзники провели операцию «Деранж», в рамках которой атаковали подлодки в Бискайском заливе при их выходе в море и при возвращении во Францию. Итогом операции стало 11 потопленных и поврежденных субмарин.\\nКонвой союзников пересекает Атлантику, 1942 U.S. Navy/Wikimedia CommonsОценивая масштабы майской катастрофы, Дениц писал, что потери лодок, даже тяжелые, можно счесть приемлемой ценой, если противнику нанесен большой урон. Но в мае в Атлантике за потопление около 10 тыс. брт торгового тоннажа «серым волкам» приходилось расплачиваться гибелью одной лодки, хотя прежде «разменный курс» составлял около 100 тыс. брт на потопленную субмарину. Май стал самым черным месяцем для «серых волков».\\nПроведя анализ потерь, гросс-адмирал пришел к выводу, что из 31 лодки, потерянной до 22 мая в Атлантике, 19 (60%) погибли при следовании и на позициях в оперативном районе и только 12 лодок (около 40%), вероятно, были уничтожены во время атаки конвоев в условиях благоприятной видимости. Эти расчеты навели Деница на мысль, что большинство погибших субмарин стали жертвами самолетов ПЛО, широко используемых противником в сочетании с возможностью внезапного обнаружения подлодок в любое время суток с помощью бортовых радаров.\\nЗа что Карл Дениц отдавал командиров субмарин под суд\\n\\nПрав ли был Дениц? К указанной дате и авиация, и корабли ПЛО одержали по 12 чистых побед над немецкими подлодками, и еще пять субмарин были уничтожены их совместными усилиями. Впрочем, к концу месяца летчики вырвались вперед, одержав еще восемь побед. Таким образом, слова Деница о том, что военно-воздушные силы союзников сыграли важную роль в причинении таких высоких потерь, справедливы.\\nКак бы то ни было, но все это означало лишь одно: Германия проиграла Битву за Атлантику. 24 мая 1943-го гросс-адмирал Дениц был вынужден прекратить операции против конвоев и отозвать «волчьи стаи» с их маршрутов в Северной Атлантике. В переданном на все лодки приказе он указал, что «ситуация <…> в настоящее время вынуждает временно перенести операции в районы, менее подверженные опасности со стороны авиации», – Карибское море, район у берегов Тринидада, район у побережья Бразилии и Западной Африки.\\nВ докладе Гитлеру Дениц заявил, что подводная война проиграна из-за возросшей мощи вражеских ВВС, имевших средства для обнаружения подлодок. По сути это означало, что Германия недостаточно научно и промышленно развита, поскольку неспособна обеспечить свой флот техническими новинками. Ее субмарины уже устарели, и для дальнейшего ведения войны в Атлантике требовались новые подводные корабли, способные наносить удары без оглядки на угрозу с воздуха.\\nОднако несмотря на описанные выше неудачи, и Гитлер, и Дениц считали, что подводная война должна продолжаться. Фюрер объявил Атлантику «первой линией обороны на Западе», считая, что подлодки связывают в океане большие силы союзников и лучше продолжать сражаться там, чем ждать, пока они высадятся в Европе. Таким образом, он обрек немецких подводников на продолжение безнадежной борьбы и большие потери.                        '"
      ]
     },
     "execution_count": 3,
     "metadata": {},
     "output_type": "execute_result"
    }
   ],
   "source": [
    "newsDF = pd.read_csv('news.CSV')\n",
    "text_news = newsDF['text']\n",
    "text_news = np.array(text_news)\n",
    "text_news[2]"
   ]
  },
  {
   "cell_type": "code",
   "execution_count": 4,
   "metadata": {},
   "outputs": [
    {
     "name": "stdout",
     "output_type": "stream",
     "text": [
      "['\\n                             (\\n                            )',\n",
      " 'госдепартамент (Госдепартамент)',\n",
      " 'сша (США)',\n",
      " 'одобрить (одобрил)',\n",
      " 'потенциальный (потенциальную)',\n",
      " 'продажа (продажу)',\n",
      " 'норвегия (Норвегии)',\n",
      " 'шесть (шести)',\n",
      " 'многоцелевой (многоцелевых)',\n",
      " 'вертолёт (вертолетов)',\n",
      " 'mh-60r (MH-60R)',\n",
      " ', (,)',\n",
      " 'об (об)',\n",
      " 'это (этом)',\n",
      " '26 (26)',\n",
      " 'апрель (апреля)',\n",
      " 'сообщить (сообщило)',\n",
      " 'агентство (Агентство)',\n",
      " 'по (по)',\n",
      " 'оборонный (оборонному)',\n",
      " 'сотрудничество (сотрудничеству)',\n",
      " 'сша (США)',\n",
      " '. (.)']\n",
      "['стоимость (Стоимость)',\n",
      " 'сделка (сделки)',\n",
      " 'вместе (вместе)',\n",
      " 'с (с)',\n",
      " 'сопутствующий (сопутствующим)',\n",
      " 'вооружение (вооружением)',\n",
      " 'оцениваться (оценивается)',\n",
      " 'в (в)',\n",
      " '$ ($)',\n",
      " '1 (1)',\n",
      " 'млрд (млрд)',\n",
      " '. (.)',\n",
      " '\\n (\\n)']\n"
     ]
    }
   ],
   "source": [
    "doc = nlp(text_news[11])\n",
    "for s in list(doc.sents)[:2]:\n",
    "  pprint(list([f'{t.lemma_} ({t.text})' for t in s]))"
   ]
  },
  {
   "cell_type": "code",
   "execution_count": 5,
   "metadata": {},
   "outputs": [
    {
     "data": {
      "text/html": [
       "<span class=\"tex2jax_ignore\"><svg xmlns=\"http://www.w3.org/2000/svg\" xmlns:xlink=\"http://www.w3.org/1999/xlink\" xml:lang=\"ru\" id=\"37972af853f64059914994e276172629-0\" class=\"displacy\" width=\"1940\" height=\"317.0\" direction=\"ltr\" style=\"max-width: none; height: 317.0px; color: #000000; background: #ffffff; font-family: Arial; direction: ltr\"><text class=\"displacy-token\" fill=\"currentColor\" text-anchor=\"middle\" y=\"227.0\"><tspan class=\"displacy-word\" fill=\"currentColor\" x=\"50\"></tspan><tspan class=\"displacy-tag\" dy=\"2em\" fill=\"currentColor\" x=\"50\">SPACE</tspan></text><text class=\"displacy-token\" fill=\"currentColor\" text-anchor=\"middle\" y=\"227.0\"><tspan class=\"displacy-word\" fill=\"currentColor\" x=\"140\">Госдепартамент</tspan><tspan class=\"displacy-tag\" dy=\"2em\" fill=\"currentColor\" x=\"140\">PROPN</tspan></text><text class=\"displacy-token\" fill=\"currentColor\" text-anchor=\"middle\" y=\"227.0\"><tspan class=\"displacy-word\" fill=\"currentColor\" x=\"230\">США</tspan><tspan class=\"displacy-tag\" dy=\"2em\" fill=\"currentColor\" x=\"230\">PROPN</tspan></text><text class=\"displacy-token\" fill=\"currentColor\" text-anchor=\"middle\" y=\"227.0\"><tspan class=\"displacy-word\" fill=\"currentColor\" x=\"320\">одобрил</tspan><tspan class=\"displacy-tag\" dy=\"2em\" fill=\"currentColor\" x=\"320\">VERB</tspan></text><text class=\"displacy-token\" fill=\"currentColor\" text-anchor=\"middle\" y=\"227.0\"><tspan class=\"displacy-word\" fill=\"currentColor\" x=\"410\">потенциальную</tspan><tspan class=\"displacy-tag\" dy=\"2em\" fill=\"currentColor\" x=\"410\">ADJ</tspan></text><text class=\"displacy-token\" fill=\"currentColor\" text-anchor=\"middle\" y=\"227.0\"><tspan class=\"displacy-word\" fill=\"currentColor\" x=\"500\">продажу</tspan><tspan class=\"displacy-tag\" dy=\"2em\" fill=\"currentColor\" x=\"500\">NOUN</tspan></text><text class=\"displacy-token\" fill=\"currentColor\" text-anchor=\"middle\" y=\"227.0\"><tspan class=\"displacy-word\" fill=\"currentColor\" x=\"590\">Норвегии</tspan><tspan class=\"displacy-tag\" dy=\"2em\" fill=\"currentColor\" x=\"590\">PROPN</tspan></text><text class=\"displacy-token\" fill=\"currentColor\" text-anchor=\"middle\" y=\"227.0\"><tspan class=\"displacy-word\" fill=\"currentColor\" x=\"680\">шести</tspan><tspan class=\"displacy-tag\" dy=\"2em\" fill=\"currentColor\" x=\"680\">NUM</tspan></text><text class=\"displacy-token\" fill=\"currentColor\" text-anchor=\"middle\" y=\"227.0\"><tspan class=\"displacy-word\" fill=\"currentColor\" x=\"770\">многоцелевых</tspan><tspan class=\"displacy-tag\" dy=\"2em\" fill=\"currentColor\" x=\"770\">ADJ</tspan></text><text class=\"displacy-token\" fill=\"currentColor\" text-anchor=\"middle\" y=\"227.0\"><tspan class=\"displacy-word\" fill=\"currentColor\" x=\"860\">вертолетов</tspan><tspan class=\"displacy-tag\" dy=\"2em\" fill=\"currentColor\" x=\"860\">NOUN</tspan></text><text class=\"displacy-token\" fill=\"currentColor\" text-anchor=\"middle\" y=\"227.0\"><tspan class=\"displacy-word\" fill=\"currentColor\" x=\"950\">MH-60R,</tspan><tspan class=\"displacy-tag\" dy=\"2em\" fill=\"currentColor\" x=\"950\">PROPN</tspan></text><text class=\"displacy-token\" fill=\"currentColor\" text-anchor=\"middle\" y=\"227.0\"><tspan class=\"displacy-word\" fill=\"currentColor\" x=\"1040\">об</tspan><tspan class=\"displacy-tag\" dy=\"2em\" fill=\"currentColor\" x=\"1040\">ADP</tspan></text><text class=\"displacy-token\" fill=\"currentColor\" text-anchor=\"middle\" y=\"227.0\"><tspan class=\"displacy-word\" fill=\"currentColor\" x=\"1130\">этом</tspan><tspan class=\"displacy-tag\" dy=\"2em\" fill=\"currentColor\" x=\"1130\">PRON</tspan></text><text class=\"displacy-token\" fill=\"currentColor\" text-anchor=\"middle\" y=\"227.0\"><tspan class=\"displacy-word\" fill=\"currentColor\" x=\"1220\">26</tspan><tspan class=\"displacy-tag\" dy=\"2em\" fill=\"currentColor\" x=\"1220\">ADJ</tspan></text><text class=\"displacy-token\" fill=\"currentColor\" text-anchor=\"middle\" y=\"227.0\"><tspan class=\"displacy-word\" fill=\"currentColor\" x=\"1310\">апреля</tspan><tspan class=\"displacy-tag\" dy=\"2em\" fill=\"currentColor\" x=\"1310\">NOUN</tspan></text><text class=\"displacy-token\" fill=\"currentColor\" text-anchor=\"middle\" y=\"227.0\"><tspan class=\"displacy-word\" fill=\"currentColor\" x=\"1400\">сообщило</tspan><tspan class=\"displacy-tag\" dy=\"2em\" fill=\"currentColor\" x=\"1400\">VERB</tspan></text><text class=\"displacy-token\" fill=\"currentColor\" text-anchor=\"middle\" y=\"227.0\"><tspan class=\"displacy-word\" fill=\"currentColor\" x=\"1490\">Агентство</tspan><tspan class=\"displacy-tag\" dy=\"2em\" fill=\"currentColor\" x=\"1490\">PROPN</tspan></text><text class=\"displacy-token\" fill=\"currentColor\" text-anchor=\"middle\" y=\"227.0\"><tspan class=\"displacy-word\" fill=\"currentColor\" x=\"1580\">по</tspan><tspan class=\"displacy-tag\" dy=\"2em\" fill=\"currentColor\" x=\"1580\">ADP</tspan></text><text class=\"displacy-token\" fill=\"currentColor\" text-anchor=\"middle\" y=\"227.0\"><tspan class=\"displacy-word\" fill=\"currentColor\" x=\"1670\">оборонному</tspan><tspan class=\"displacy-tag\" dy=\"2em\" fill=\"currentColor\" x=\"1670\">ADJ</tspan></text><text class=\"displacy-token\" fill=\"currentColor\" text-anchor=\"middle\" y=\"227.0\"><tspan class=\"displacy-word\" fill=\"currentColor\" x=\"1760\">сотрудничеству</tspan><tspan class=\"displacy-tag\" dy=\"2em\" fill=\"currentColor\" x=\"1760\">NOUN</tspan></text><text class=\"displacy-token\" fill=\"currentColor\" text-anchor=\"middle\" y=\"227.0\"><tspan class=\"displacy-word\" fill=\"currentColor\" x=\"1850\">США.</tspan><tspan class=\"displacy-tag\" dy=\"2em\" fill=\"currentColor\" x=\"1850\">PROPN</tspan></text><g class=\"displacy-arrow\"><path class=\"displacy-arc\" id=\"arrow-37972af853f64059914994e276172629-0-0\" stroke-width=\"2px\" d=\"M70,182.0 C70,137.0 125.0,137.0 125.0,182.0\" fill=\"none\" stroke=\"currentColor\"/><text dy=\"1.25em\" style=\"font-size: 0.8em; letter-spacing: 1px\"><textPath xlink:href=\"#arrow-37972af853f64059914994e276172629-0-0\" class=\"displacy-label\" startOffset=\"50%\" side=\"left\" fill=\"currentColor\" text-anchor=\"middle\">dep</textPath></text><path class=\"displacy-arrowhead\" d=\"M70,184.0 L62,172.0 78,172.0\" fill=\"currentColor\"/></g><g class=\"displacy-arrow\"><path class=\"displacy-arc\" id=\"arrow-37972af853f64059914994e276172629-0-1\" stroke-width=\"2px\" d=\"M160,182.0 C160,92.0 310.0,92.0 310.0,182.0\" fill=\"none\" stroke=\"currentColor\"/><text dy=\"1.25em\" style=\"font-size: 0.8em; letter-spacing: 1px\"><textPath xlink:href=\"#arrow-37972af853f64059914994e276172629-0-1\" class=\"displacy-label\" startOffset=\"50%\" side=\"left\" fill=\"currentColor\" text-anchor=\"middle\">nsubj</textPath></text><path class=\"displacy-arrowhead\" d=\"M160,184.0 L152,172.0 168,172.0\" fill=\"currentColor\"/></g><g class=\"displacy-arrow\"><path class=\"displacy-arc\" id=\"arrow-37972af853f64059914994e276172629-0-2\" stroke-width=\"2px\" d=\"M160,182.0 C160,137.0 215.0,137.0 215.0,182.0\" fill=\"none\" stroke=\"currentColor\"/><text dy=\"1.25em\" style=\"font-size: 0.8em; letter-spacing: 1px\"><textPath xlink:href=\"#arrow-37972af853f64059914994e276172629-0-2\" class=\"displacy-label\" startOffset=\"50%\" side=\"left\" fill=\"currentColor\" text-anchor=\"middle\">nmod</textPath></text><path class=\"displacy-arrowhead\" d=\"M215.0,184.0 L223.0,172.0 207.0,172.0\" fill=\"currentColor\"/></g><g class=\"displacy-arrow\"><path class=\"displacy-arc\" id=\"arrow-37972af853f64059914994e276172629-0-3\" stroke-width=\"2px\" d=\"M430,182.0 C430,137.0 485.0,137.0 485.0,182.0\" fill=\"none\" stroke=\"currentColor\"/><text dy=\"1.25em\" style=\"font-size: 0.8em; letter-spacing: 1px\"><textPath xlink:href=\"#arrow-37972af853f64059914994e276172629-0-3\" class=\"displacy-label\" startOffset=\"50%\" side=\"left\" fill=\"currentColor\" text-anchor=\"middle\">amod</textPath></text><path class=\"displacy-arrowhead\" d=\"M430,184.0 L422,172.0 438,172.0\" fill=\"currentColor\"/></g><g class=\"displacy-arrow\"><path class=\"displacy-arc\" id=\"arrow-37972af853f64059914994e276172629-0-4\" stroke-width=\"2px\" d=\"M340,182.0 C340,92.0 490.0,92.0 490.0,182.0\" fill=\"none\" stroke=\"currentColor\"/><text dy=\"1.25em\" style=\"font-size: 0.8em; letter-spacing: 1px\"><textPath xlink:href=\"#arrow-37972af853f64059914994e276172629-0-4\" class=\"displacy-label\" startOffset=\"50%\" side=\"left\" fill=\"currentColor\" text-anchor=\"middle\">obj</textPath></text><path class=\"displacy-arrowhead\" d=\"M490.0,184.0 L498.0,172.0 482.0,172.0\" fill=\"currentColor\"/></g><g class=\"displacy-arrow\"><path class=\"displacy-arc\" id=\"arrow-37972af853f64059914994e276172629-0-5\" stroke-width=\"2px\" d=\"M520,182.0 C520,137.0 575.0,137.0 575.0,182.0\" fill=\"none\" stroke=\"currentColor\"/><text dy=\"1.25em\" style=\"font-size: 0.8em; letter-spacing: 1px\"><textPath xlink:href=\"#arrow-37972af853f64059914994e276172629-0-5\" class=\"displacy-label\" startOffset=\"50%\" side=\"left\" fill=\"currentColor\" text-anchor=\"middle\">nmod</textPath></text><path class=\"displacy-arrowhead\" d=\"M575.0,184.0 L583.0,172.0 567.0,172.0\" fill=\"currentColor\"/></g><g class=\"displacy-arrow\"><path class=\"displacy-arc\" id=\"arrow-37972af853f64059914994e276172629-0-6\" stroke-width=\"2px\" d=\"M700,182.0 C700,92.0 850.0,92.0 850.0,182.0\" fill=\"none\" stroke=\"currentColor\"/><text dy=\"1.25em\" style=\"font-size: 0.8em; letter-spacing: 1px\"><textPath xlink:href=\"#arrow-37972af853f64059914994e276172629-0-6\" class=\"displacy-label\" startOffset=\"50%\" side=\"left\" fill=\"currentColor\" text-anchor=\"middle\">nummod</textPath></text><path class=\"displacy-arrowhead\" d=\"M700,184.0 L692,172.0 708,172.0\" fill=\"currentColor\"/></g><g class=\"displacy-arrow\"><path class=\"displacy-arc\" id=\"arrow-37972af853f64059914994e276172629-0-7\" stroke-width=\"2px\" d=\"M790,182.0 C790,137.0 845.0,137.0 845.0,182.0\" fill=\"none\" stroke=\"currentColor\"/><text dy=\"1.25em\" style=\"font-size: 0.8em; letter-spacing: 1px\"><textPath xlink:href=\"#arrow-37972af853f64059914994e276172629-0-7\" class=\"displacy-label\" startOffset=\"50%\" side=\"left\" fill=\"currentColor\" text-anchor=\"middle\">amod</textPath></text><path class=\"displacy-arrowhead\" d=\"M790,184.0 L782,172.0 798,172.0\" fill=\"currentColor\"/></g><g class=\"displacy-arrow\"><path class=\"displacy-arc\" id=\"arrow-37972af853f64059914994e276172629-0-8\" stroke-width=\"2px\" d=\"M520,182.0 C520,47.0 855.0,47.0 855.0,182.0\" fill=\"none\" stroke=\"currentColor\"/><text dy=\"1.25em\" style=\"font-size: 0.8em; letter-spacing: 1px\"><textPath xlink:href=\"#arrow-37972af853f64059914994e276172629-0-8\" class=\"displacy-label\" startOffset=\"50%\" side=\"left\" fill=\"currentColor\" text-anchor=\"middle\">nmod</textPath></text><path class=\"displacy-arrowhead\" d=\"M855.0,184.0 L863.0,172.0 847.0,172.0\" fill=\"currentColor\"/></g><g class=\"displacy-arrow\"><path class=\"displacy-arc\" id=\"arrow-37972af853f64059914994e276172629-0-9\" stroke-width=\"2px\" d=\"M880,182.0 C880,137.0 935.0,137.0 935.0,182.0\" fill=\"none\" stroke=\"currentColor\"/><text dy=\"1.25em\" style=\"font-size: 0.8em; letter-spacing: 1px\"><textPath xlink:href=\"#arrow-37972af853f64059914994e276172629-0-9\" class=\"displacy-label\" startOffset=\"50%\" side=\"left\" fill=\"currentColor\" text-anchor=\"middle\">appos</textPath></text><path class=\"displacy-arrowhead\" d=\"M935.0,184.0 L943.0,172.0 927.0,172.0\" fill=\"currentColor\"/></g><g class=\"displacy-arrow\"><path class=\"displacy-arc\" id=\"arrow-37972af853f64059914994e276172629-0-10\" stroke-width=\"2px\" d=\"M1060,182.0 C1060,137.0 1115.0,137.0 1115.0,182.0\" fill=\"none\" stroke=\"currentColor\"/><text dy=\"1.25em\" style=\"font-size: 0.8em; letter-spacing: 1px\"><textPath xlink:href=\"#arrow-37972af853f64059914994e276172629-0-10\" class=\"displacy-label\" startOffset=\"50%\" side=\"left\" fill=\"currentColor\" text-anchor=\"middle\">case</textPath></text><path class=\"displacy-arrowhead\" d=\"M1060,184.0 L1052,172.0 1068,172.0\" fill=\"currentColor\"/></g><g class=\"displacy-arrow\"><path class=\"displacy-arc\" id=\"arrow-37972af853f64059914994e276172629-0-11\" stroke-width=\"2px\" d=\"M1150,182.0 C1150,47.0 1395.0,47.0 1395.0,182.0\" fill=\"none\" stroke=\"currentColor\"/><text dy=\"1.25em\" style=\"font-size: 0.8em; letter-spacing: 1px\"><textPath xlink:href=\"#arrow-37972af853f64059914994e276172629-0-11\" class=\"displacy-label\" startOffset=\"50%\" side=\"left\" fill=\"currentColor\" text-anchor=\"middle\">obl</textPath></text><path class=\"displacy-arrowhead\" d=\"M1150,184.0 L1142,172.0 1158,172.0\" fill=\"currentColor\"/></g><g class=\"displacy-arrow\"><path class=\"displacy-arc\" id=\"arrow-37972af853f64059914994e276172629-0-12\" stroke-width=\"2px\" d=\"M1240,182.0 C1240,92.0 1390.0,92.0 1390.0,182.0\" fill=\"none\" stroke=\"currentColor\"/><text dy=\"1.25em\" style=\"font-size: 0.8em; letter-spacing: 1px\"><textPath xlink:href=\"#arrow-37972af853f64059914994e276172629-0-12\" class=\"displacy-label\" startOffset=\"50%\" side=\"left\" fill=\"currentColor\" text-anchor=\"middle\">obl</textPath></text><path class=\"displacy-arrowhead\" d=\"M1240,184.0 L1232,172.0 1248,172.0\" fill=\"currentColor\"/></g><g class=\"displacy-arrow\"><path class=\"displacy-arc\" id=\"arrow-37972af853f64059914994e276172629-0-13\" stroke-width=\"2px\" d=\"M1240,182.0 C1240,137.0 1295.0,137.0 1295.0,182.0\" fill=\"none\" stroke=\"currentColor\"/><text dy=\"1.25em\" style=\"font-size: 0.8em; letter-spacing: 1px\"><textPath xlink:href=\"#arrow-37972af853f64059914994e276172629-0-13\" class=\"displacy-label\" startOffset=\"50%\" side=\"left\" fill=\"currentColor\" text-anchor=\"middle\">flat</textPath></text><path class=\"displacy-arrowhead\" d=\"M1295.0,184.0 L1303.0,172.0 1287.0,172.0\" fill=\"currentColor\"/></g><g class=\"displacy-arrow\"><path class=\"displacy-arc\" id=\"arrow-37972af853f64059914994e276172629-0-14\" stroke-width=\"2px\" d=\"M340,182.0 C340,2.0 1400.0,2.0 1400.0,182.0\" fill=\"none\" stroke=\"currentColor\"/><text dy=\"1.25em\" style=\"font-size: 0.8em; letter-spacing: 1px\"><textPath xlink:href=\"#arrow-37972af853f64059914994e276172629-0-14\" class=\"displacy-label\" startOffset=\"50%\" side=\"left\" fill=\"currentColor\" text-anchor=\"middle\">parataxis</textPath></text><path class=\"displacy-arrowhead\" d=\"M1400.0,184.0 L1408.0,172.0 1392.0,172.0\" fill=\"currentColor\"/></g><g class=\"displacy-arrow\"><path class=\"displacy-arc\" id=\"arrow-37972af853f64059914994e276172629-0-15\" stroke-width=\"2px\" d=\"M1420,182.0 C1420,137.0 1475.0,137.0 1475.0,182.0\" fill=\"none\" stroke=\"currentColor\"/><text dy=\"1.25em\" style=\"font-size: 0.8em; letter-spacing: 1px\"><textPath xlink:href=\"#arrow-37972af853f64059914994e276172629-0-15\" class=\"displacy-label\" startOffset=\"50%\" side=\"left\" fill=\"currentColor\" text-anchor=\"middle\">nsubj</textPath></text><path class=\"displacy-arrowhead\" d=\"M1475.0,184.0 L1483.0,172.0 1467.0,172.0\" fill=\"currentColor\"/></g><g class=\"displacy-arrow\"><path class=\"displacy-arc\" id=\"arrow-37972af853f64059914994e276172629-0-16\" stroke-width=\"2px\" d=\"M1600,182.0 C1600,92.0 1750.0,92.0 1750.0,182.0\" fill=\"none\" stroke=\"currentColor\"/><text dy=\"1.25em\" style=\"font-size: 0.8em; letter-spacing: 1px\"><textPath xlink:href=\"#arrow-37972af853f64059914994e276172629-0-16\" class=\"displacy-label\" startOffset=\"50%\" side=\"left\" fill=\"currentColor\" text-anchor=\"middle\">case</textPath></text><path class=\"displacy-arrowhead\" d=\"M1600,184.0 L1592,172.0 1608,172.0\" fill=\"currentColor\"/></g><g class=\"displacy-arrow\"><path class=\"displacy-arc\" id=\"arrow-37972af853f64059914994e276172629-0-17\" stroke-width=\"2px\" d=\"M1690,182.0 C1690,137.0 1745.0,137.0 1745.0,182.0\" fill=\"none\" stroke=\"currentColor\"/><text dy=\"1.25em\" style=\"font-size: 0.8em; letter-spacing: 1px\"><textPath xlink:href=\"#arrow-37972af853f64059914994e276172629-0-17\" class=\"displacy-label\" startOffset=\"50%\" side=\"left\" fill=\"currentColor\" text-anchor=\"middle\">amod</textPath></text><path class=\"displacy-arrowhead\" d=\"M1690,184.0 L1682,172.0 1698,172.0\" fill=\"currentColor\"/></g><g class=\"displacy-arrow\"><path class=\"displacy-arc\" id=\"arrow-37972af853f64059914994e276172629-0-18\" stroke-width=\"2px\" d=\"M1510,182.0 C1510,47.0 1755.0,47.0 1755.0,182.0\" fill=\"none\" stroke=\"currentColor\"/><text dy=\"1.25em\" style=\"font-size: 0.8em; letter-spacing: 1px\"><textPath xlink:href=\"#arrow-37972af853f64059914994e276172629-0-18\" class=\"displacy-label\" startOffset=\"50%\" side=\"left\" fill=\"currentColor\" text-anchor=\"middle\">nmod</textPath></text><path class=\"displacy-arrowhead\" d=\"M1755.0,184.0 L1763.0,172.0 1747.0,172.0\" fill=\"currentColor\"/></g><g class=\"displacy-arrow\"><path class=\"displacy-arc\" id=\"arrow-37972af853f64059914994e276172629-0-19\" stroke-width=\"2px\" d=\"M1780,182.0 C1780,137.0 1835.0,137.0 1835.0,182.0\" fill=\"none\" stroke=\"currentColor\"/><text dy=\"1.25em\" style=\"font-size: 0.8em; letter-spacing: 1px\"><textPath xlink:href=\"#arrow-37972af853f64059914994e276172629-0-19\" class=\"displacy-label\" startOffset=\"50%\" side=\"left\" fill=\"currentColor\" text-anchor=\"middle\">nmod</textPath></text><path class=\"displacy-arrowhead\" d=\"M1835.0,184.0 L1843.0,172.0 1827.0,172.0\" fill=\"currentColor\"/></g></svg></span>"
      ],
      "text/plain": [
       "<IPython.core.display.HTML object>"
      ]
     },
     "metadata": {},
     "output_type": "display_data"
    },
    {
     "data": {
      "text/html": [
       "<span class=\"tex2jax_ignore\"><svg xmlns=\"http://www.w3.org/2000/svg\" xmlns:xlink=\"http://www.w3.org/1999/xlink\" xml:lang=\"ru\" id=\"990990ce682f43008eca36e736cbc3e8-0\" class=\"displacy\" width=\"1130\" height=\"362.0\" direction=\"ltr\" style=\"max-width: none; height: 362.0px; color: #000000; background: #ffffff; font-family: Arial; direction: ltr\"><text class=\"displacy-token\" fill=\"currentColor\" text-anchor=\"middle\" y=\"272.0\"><tspan class=\"displacy-word\" fill=\"currentColor\" x=\"50\">Стоимость</tspan><tspan class=\"displacy-tag\" dy=\"2em\" fill=\"currentColor\" x=\"50\">NOUN</tspan></text><text class=\"displacy-token\" fill=\"currentColor\" text-anchor=\"middle\" y=\"272.0\"><tspan class=\"displacy-word\" fill=\"currentColor\" x=\"140\">сделки</tspan><tspan class=\"displacy-tag\" dy=\"2em\" fill=\"currentColor\" x=\"140\">NOUN</tspan></text><text class=\"displacy-token\" fill=\"currentColor\" text-anchor=\"middle\" y=\"272.0\"><tspan class=\"displacy-word\" fill=\"currentColor\" x=\"230\">вместе</tspan><tspan class=\"displacy-tag\" dy=\"2em\" fill=\"currentColor\" x=\"230\">ADV</tspan></text><text class=\"displacy-token\" fill=\"currentColor\" text-anchor=\"middle\" y=\"272.0\"><tspan class=\"displacy-word\" fill=\"currentColor\" x=\"320\">с</tspan><tspan class=\"displacy-tag\" dy=\"2em\" fill=\"currentColor\" x=\"320\">ADP</tspan></text><text class=\"displacy-token\" fill=\"currentColor\" text-anchor=\"middle\" y=\"272.0\"><tspan class=\"displacy-word\" fill=\"currentColor\" x=\"410\">сопутствующим</tspan><tspan class=\"displacy-tag\" dy=\"2em\" fill=\"currentColor\" x=\"410\">ADJ</tspan></text><text class=\"displacy-token\" fill=\"currentColor\" text-anchor=\"middle\" y=\"272.0\"><tspan class=\"displacy-word\" fill=\"currentColor\" x=\"500\">вооружением</tspan><tspan class=\"displacy-tag\" dy=\"2em\" fill=\"currentColor\" x=\"500\">NOUN</tspan></text><text class=\"displacy-token\" fill=\"currentColor\" text-anchor=\"middle\" y=\"272.0\"><tspan class=\"displacy-word\" fill=\"currentColor\" x=\"590\">оценивается</tspan><tspan class=\"displacy-tag\" dy=\"2em\" fill=\"currentColor\" x=\"590\">VERB</tspan></text><text class=\"displacy-token\" fill=\"currentColor\" text-anchor=\"middle\" y=\"272.0\"><tspan class=\"displacy-word\" fill=\"currentColor\" x=\"680\">в</tspan><tspan class=\"displacy-tag\" dy=\"2em\" fill=\"currentColor\" x=\"680\">ADP</tspan></text><text class=\"displacy-token\" fill=\"currentColor\" text-anchor=\"middle\" y=\"272.0\"><tspan class=\"displacy-word\" fill=\"currentColor\" x=\"770\">$</tspan><tspan class=\"displacy-tag\" dy=\"2em\" fill=\"currentColor\" x=\"770\">NOUN</tspan></text><text class=\"displacy-token\" fill=\"currentColor\" text-anchor=\"middle\" y=\"272.0\"><tspan class=\"displacy-word\" fill=\"currentColor\" x=\"860\">1</tspan><tspan class=\"displacy-tag\" dy=\"2em\" fill=\"currentColor\" x=\"860\">NUM</tspan></text><text class=\"displacy-token\" fill=\"currentColor\" text-anchor=\"middle\" y=\"272.0\"><tspan class=\"displacy-word\" fill=\"currentColor\" x=\"950\">млрд.</tspan><tspan class=\"displacy-tag\" dy=\"2em\" fill=\"currentColor\" x=\"950\">PUNCT</tspan></text><text class=\"displacy-token\" fill=\"currentColor\" text-anchor=\"middle\" y=\"272.0\"><tspan class=\"displacy-word\" fill=\"currentColor\" x=\"1040\"></tspan><tspan class=\"displacy-tag\" dy=\"2em\" fill=\"currentColor\" x=\"1040\">SPACE</tspan></text><g class=\"displacy-arrow\"><path class=\"displacy-arc\" id=\"arrow-990990ce682f43008eca36e736cbc3e8-0-0\" stroke-width=\"2px\" d=\"M70,227.0 C70,2.0 590.0,2.0 590.0,227.0\" fill=\"none\" stroke=\"currentColor\"/><text dy=\"1.25em\" style=\"font-size: 0.8em; letter-spacing: 1px\"><textPath xlink:href=\"#arrow-990990ce682f43008eca36e736cbc3e8-0-0\" class=\"displacy-label\" startOffset=\"50%\" side=\"left\" fill=\"currentColor\" text-anchor=\"middle\">nsubj:pass</textPath></text><path class=\"displacy-arrowhead\" d=\"M70,229.0 L62,217.0 78,217.0\" fill=\"currentColor\"/></g><g class=\"displacy-arrow\"><path class=\"displacy-arc\" id=\"arrow-990990ce682f43008eca36e736cbc3e8-0-1\" stroke-width=\"2px\" d=\"M70,227.0 C70,182.0 120.0,182.0 120.0,227.0\" fill=\"none\" stroke=\"currentColor\"/><text dy=\"1.25em\" style=\"font-size: 0.8em; letter-spacing: 1px\"><textPath xlink:href=\"#arrow-990990ce682f43008eca36e736cbc3e8-0-1\" class=\"displacy-label\" startOffset=\"50%\" side=\"left\" fill=\"currentColor\" text-anchor=\"middle\">nmod</textPath></text><path class=\"displacy-arrowhead\" d=\"M120.0,229.0 L128.0,217.0 112.0,217.0\" fill=\"currentColor\"/></g><g class=\"displacy-arrow\"><path class=\"displacy-arc\" id=\"arrow-990990ce682f43008eca36e736cbc3e8-0-2\" stroke-width=\"2px\" d=\"M250,227.0 C250,47.0 585.0,47.0 585.0,227.0\" fill=\"none\" stroke=\"currentColor\"/><text dy=\"1.25em\" style=\"font-size: 0.8em; letter-spacing: 1px\"><textPath xlink:href=\"#arrow-990990ce682f43008eca36e736cbc3e8-0-2\" class=\"displacy-label\" startOffset=\"50%\" side=\"left\" fill=\"currentColor\" text-anchor=\"middle\">advmod</textPath></text><path class=\"displacy-arrowhead\" d=\"M250,229.0 L242,217.0 258,217.0\" fill=\"currentColor\"/></g><g class=\"displacy-arrow\"><path class=\"displacy-arc\" id=\"arrow-990990ce682f43008eca36e736cbc3e8-0-3\" stroke-width=\"2px\" d=\"M340,227.0 C340,137.0 485.0,137.0 485.0,227.0\" fill=\"none\" stroke=\"currentColor\"/><text dy=\"1.25em\" style=\"font-size: 0.8em; letter-spacing: 1px\"><textPath xlink:href=\"#arrow-990990ce682f43008eca36e736cbc3e8-0-3\" class=\"displacy-label\" startOffset=\"50%\" side=\"left\" fill=\"currentColor\" text-anchor=\"middle\">case</textPath></text><path class=\"displacy-arrowhead\" d=\"M340,229.0 L332,217.0 348,217.0\" fill=\"currentColor\"/></g><g class=\"displacy-arrow\"><path class=\"displacy-arc\" id=\"arrow-990990ce682f43008eca36e736cbc3e8-0-4\" stroke-width=\"2px\" d=\"M430,227.0 C430,182.0 480.0,182.0 480.0,227.0\" fill=\"none\" stroke=\"currentColor\"/><text dy=\"1.25em\" style=\"font-size: 0.8em; letter-spacing: 1px\"><textPath xlink:href=\"#arrow-990990ce682f43008eca36e736cbc3e8-0-4\" class=\"displacy-label\" startOffset=\"50%\" side=\"left\" fill=\"currentColor\" text-anchor=\"middle\">amod</textPath></text><path class=\"displacy-arrowhead\" d=\"M430,229.0 L422,217.0 438,217.0\" fill=\"currentColor\"/></g><g class=\"displacy-arrow\"><path class=\"displacy-arc\" id=\"arrow-990990ce682f43008eca36e736cbc3e8-0-5\" stroke-width=\"2px\" d=\"M250,227.0 C250,92.0 490.0,92.0 490.0,227.0\" fill=\"none\" stroke=\"currentColor\"/><text dy=\"1.25em\" style=\"font-size: 0.8em; letter-spacing: 1px\"><textPath xlink:href=\"#arrow-990990ce682f43008eca36e736cbc3e8-0-5\" class=\"displacy-label\" startOffset=\"50%\" side=\"left\" fill=\"currentColor\" text-anchor=\"middle\">obl</textPath></text><path class=\"displacy-arrowhead\" d=\"M490.0,229.0 L498.0,217.0 482.0,217.0\" fill=\"currentColor\"/></g><g class=\"displacy-arrow\"><path class=\"displacy-arc\" id=\"arrow-990990ce682f43008eca36e736cbc3e8-0-6\" stroke-width=\"2px\" d=\"M700,227.0 C700,182.0 750.0,182.0 750.0,227.0\" fill=\"none\" stroke=\"currentColor\"/><text dy=\"1.25em\" style=\"font-size: 0.8em; letter-spacing: 1px\"><textPath xlink:href=\"#arrow-990990ce682f43008eca36e736cbc3e8-0-6\" class=\"displacy-label\" startOffset=\"50%\" side=\"left\" fill=\"currentColor\" text-anchor=\"middle\">case</textPath></text><path class=\"displacy-arrowhead\" d=\"M700,229.0 L692,217.0 708,217.0\" fill=\"currentColor\"/></g><g class=\"displacy-arrow\"><path class=\"displacy-arc\" id=\"arrow-990990ce682f43008eca36e736cbc3e8-0-7\" stroke-width=\"2px\" d=\"M610,227.0 C610,137.0 755.0,137.0 755.0,227.0\" fill=\"none\" stroke=\"currentColor\"/><text dy=\"1.25em\" style=\"font-size: 0.8em; letter-spacing: 1px\"><textPath xlink:href=\"#arrow-990990ce682f43008eca36e736cbc3e8-0-7\" class=\"displacy-label\" startOffset=\"50%\" side=\"left\" fill=\"currentColor\" text-anchor=\"middle\">obl</textPath></text><path class=\"displacy-arrowhead\" d=\"M755.0,229.0 L763.0,217.0 747.0,217.0\" fill=\"currentColor\"/></g><g class=\"displacy-arrow\"><path class=\"displacy-arc\" id=\"arrow-990990ce682f43008eca36e736cbc3e8-0-8\" stroke-width=\"2px\" d=\"M880,227.0 C880,182.0 930.0,182.0 930.0,227.0\" fill=\"none\" stroke=\"currentColor\"/><text dy=\"1.25em\" style=\"font-size: 0.8em; letter-spacing: 1px\"><textPath xlink:href=\"#arrow-990990ce682f43008eca36e736cbc3e8-0-8\" class=\"displacy-label\" startOffset=\"50%\" side=\"left\" fill=\"currentColor\" text-anchor=\"middle\">nummod</textPath></text><path class=\"displacy-arrowhead\" d=\"M880,229.0 L872,217.0 888,217.0\" fill=\"currentColor\"/></g><g class=\"displacy-arrow\"><path class=\"displacy-arc\" id=\"arrow-990990ce682f43008eca36e736cbc3e8-0-9\" stroke-width=\"2px\" d=\"M610,227.0 C610,92.0 940.0,92.0 940.0,227.0\" fill=\"none\" stroke=\"currentColor\"/><text dy=\"1.25em\" style=\"font-size: 0.8em; letter-spacing: 1px\"><textPath xlink:href=\"#arrow-990990ce682f43008eca36e736cbc3e8-0-9\" class=\"displacy-label\" startOffset=\"50%\" side=\"left\" fill=\"currentColor\" text-anchor=\"middle\">punct</textPath></text><path class=\"displacy-arrowhead\" d=\"M940.0,229.0 L948.0,217.0 932.0,217.0\" fill=\"currentColor\"/></g><g class=\"displacy-arrow\"><path class=\"displacy-arc\" id=\"arrow-990990ce682f43008eca36e736cbc3e8-0-10\" stroke-width=\"2px\" d=\"M970,227.0 C970,182.0 1020.0,182.0 1020.0,227.0\" fill=\"none\" stroke=\"currentColor\"/><text dy=\"1.25em\" style=\"font-size: 0.8em; letter-spacing: 1px\"><textPath xlink:href=\"#arrow-990990ce682f43008eca36e736cbc3e8-0-10\" class=\"displacy-label\" startOffset=\"50%\" side=\"left\" fill=\"currentColor\" text-anchor=\"middle\">dep</textPath></text><path class=\"displacy-arrowhead\" d=\"M1020.0,229.0 L1028.0,217.0 1012.0,217.0\" fill=\"currentColor\"/></g></svg></span>"
      ],
      "text/plain": [
       "<IPython.core.display.HTML object>"
      ]
     },
     "metadata": {},
     "output_type": "display_data"
    }
   ],
   "source": [
    "for s in list(doc.sents)[:2]:\n",
    "  displacy.render(s, style=\"dep\", minify=True, jupyter=True, options={\"distance\":90})"
   ]
  },
  {
   "cell_type": "code",
   "execution_count": 6,
   "metadata": {},
   "outputs": [
    {
     "name": "stdout",
     "output_type": "stream",
     "text": [
      "одобрил [Госдепартамент, продажу, сообщило, .]\n",
      "госдепартамент Госдепартамент nsubj PROPN -> одобрил\n"
     ]
    }
   ],
   "source": [
    "sent0 = list(doc.sents)[0]\n",
    "childs0 = list(sent0.root.children)\n",
    "print(sent0.root, childs0)\n",
    "# Загнать этот вывод в цикл и проанализировать все текста?\n",
    "print(childs0[0].lemma_, childs0[0].text, childs0[0].dep_, childs0[0].tag_, '->', list(childs0[0].ancestors)[0])"
   ]
  },
  {
   "cell_type": "code",
   "execution_count": 7,
   "metadata": {},
   "outputs": [],
   "source": [
    "with open(\"rusentilex_2017.txt\", encoding=\"utf-8\") as senti_file: \n",
    "    for i in range(18): # Пропускаем заголовок файла.\n",
    "        _ = senti_file.readline()\n",
    "        \n",
    "    senti_words = {line.split(\", \")[0]: line.split(\", \")[3] for line in senti_file.readlines()}"
   ]
  },
  {
   "cell_type": "code",
   "execution_count": 8,
   "metadata": {},
   "outputs": [],
   "source": [
    "def find_sentiments_spacy(node, senti_words, sentiments):\n",
    "    for child in node.children:\n",
    "        if child.lemma_ in senti_words.keys():\n",
    "            if node.lemma_ not in sentiments.keys():\n",
    "                sentiments[node.lemma_] = defaultdict(int)\n",
    "            sentiments[node.lemma_][senti_words[child.lemma_]] += 1"
   ]
  },
  {
   "cell_type": "code",
   "execution_count": 9,
   "metadata": {},
   "outputs": [
    {
     "data": {
      "text/plain": [
       "{}"
      ]
     },
     "execution_count": 9,
     "metadata": {},
     "output_type": "execute_result"
    }
   ],
   "source": [
    "sentiments = {}\n",
    "for sent in doc.sents:\n",
    "    find_sentiments_spacy(sent.root, senti_words, sentiments)\n",
    "sentiments"
   ]
  },
  {
   "cell_type": "code",
   "execution_count": 10,
   "metadata": {},
   "outputs": [
    {
     "name": "stderr",
     "output_type": "stream",
     "text": [
      "100%|██████████| 1775/1775 [03:51<00:00,  7.66it/s]\n"
     ]
    }
   ],
   "source": [
    "sentiments = {}\n",
    "for sent_text in tqdm(text_news):\n",
    "    doc = nlp(sent_text)\n",
    "    for sentence in doc.sents:\n",
    "        find_sentiments_spacy(sentence.root, senti_words, sentiments)"
   ]
  },
  {
   "cell_type": "code",
   "execution_count": 12,
   "metadata": {},
   "outputs": [
    {
     "data": {
      "text/plain": [
       "([('стать',\n",
       "   defaultdict(int,\n",
       "               {'positive': 153,\n",
       "                'пострадать': 1,\n",
       "                'negative': 100,\n",
       "                'neutral': 54,\n",
       "                'positive/negative': 6})),\n",
       "  ('нанести',\n",
       "   defaultdict(int,\n",
       "               {'negative': 32,\n",
       "                'positive': 3,\n",
       "                'positive/negative': 3,\n",
       "                'neutral': 1})),\n",
       "  ('мочь',\n",
       "   defaultdict(int,\n",
       "               {'positive/negative': 17,\n",
       "                'negative': 57,\n",
       "                'neutral': 33,\n",
       "                'positive': 83,\n",
       "                'пострадать': 1})),\n",
       "  ('оказаться',\n",
       "   defaultdict(int,\n",
       "               {'negative': 54,\n",
       "                'positive': 51,\n",
       "                'neutral': 18,\n",
       "                'positive/negative': 3})),\n",
       "  ('получить',\n",
       "   defaultdict(int,\n",
       "               {'positive': 36,\n",
       "                'negative': 33,\n",
       "                'positive/negative': 1,\n",
       "                'neutral': 8}))],\n",
       " '\\n----\\n',\n",
       " [('стать',\n",
       "   defaultdict(int,\n",
       "               {'positive': 153,\n",
       "                'пострадать': 1,\n",
       "                'negative': 100,\n",
       "                'neutral': 54,\n",
       "                'positive/negative': 6})),\n",
       "  ('удаться',\n",
       "   defaultdict(int,\n",
       "               {'neutral': 3,\n",
       "                'positive': 42,\n",
       "                'positive/negative': 6,\n",
       "                'negative': 7})),\n",
       "  ('принять',\n",
       "   defaultdict(int, {'neutral': 5, 'negative': 11, 'positive': 126})),\n",
       "  ('проводить',\n",
       "   defaultdict(int, {'neutral': 9, 'positive': 42, 'negative': 0})),\n",
       "  ('мочь',\n",
       "   defaultdict(int,\n",
       "               {'positive/negative': 17,\n",
       "                'negative': 57,\n",
       "                'neutral': 33,\n",
       "                'positive': 83,\n",
       "                'пострадать': 1})),\n",
       "  ('можно',\n",
       "   defaultdict(int,\n",
       "               {'negative': 18,\n",
       "                'positive': 44,\n",
       "                'positive/negative': 5,\n",
       "                'neutral': 12})),\n",
       "  ('оказаться',\n",
       "   defaultdict(int,\n",
       "               {'negative': 54,\n",
       "                'positive': 51,\n",
       "                'neutral': 18,\n",
       "                'positive/negative': 3})),\n",
       "  ('должный',\n",
       "   defaultdict(int,\n",
       "               {'neutral': 16,\n",
       "                'positive/negative': 5,\n",
       "                'positive': 46,\n",
       "                'negative': 9})),\n",
       "  ('получить',\n",
       "   defaultdict(int,\n",
       "               {'positive': 36,\n",
       "                'negative': 33,\n",
       "                'positive/negative': 1,\n",
       "                'neutral': 8})),\n",
       "  ('являться',\n",
       "   defaultdict(int,\n",
       "               {'neutral': 31,\n",
       "                'positive': 52,\n",
       "                'negative': 22,\n",
       "                'positive/negative': 4})),\n",
       "  ('позволять',\n",
       "   defaultdict(int,\n",
       "               {'positive/negative': 4,\n",
       "                'positive': 31,\n",
       "                'neutral': 5,\n",
       "                'negative': 4})),\n",
       "  ('отметить',\n",
       "   defaultdict(int,\n",
       "               {'neutral': 9,\n",
       "                'positive': 42,\n",
       "                'positive/negative': 4,\n",
       "                'negative': 6,\n",
       "                'пострадать': 1})),\n",
       "  ('уделять', defaultdict(int, {'negative': 2, 'positive': 47})),\n",
       "  ('позволить',\n",
       "   defaultdict(int,\n",
       "               {'negative': 7,\n",
       "                'positive': 31,\n",
       "                'positive/negative': 2,\n",
       "                'neutral': 1})),\n",
       "  ('принимать',\n",
       "   defaultdict(int,\n",
       "               {'positive': 33,\n",
       "                'negative': 2,\n",
       "                'neutral': 1,\n",
       "                'positive/negative': 1}))])"
      ]
     },
     "execution_count": 12,
     "metadata": {},
     "output_type": "execute_result"
    }
   ],
   "source": [
    "[(senti, vals) for senti,vals in sentiments.items() if vals['negative']>30], '\\n----\\n',\\\n",
    "[(senti, vals) for senti,vals in sentiments.items() if vals['positive']>30]"
   ]
  }
 ],
 "metadata": {
  "kernelspec": {
   "display_name": "Python 3",
   "language": "python",
   "name": "python3"
  },
  "language_info": {
   "codemirror_mode": {
    "name": "ipython",
    "version": 3
   },
   "file_extension": ".py",
   "mimetype": "text/x-python",
   "name": "python",
   "nbconvert_exporter": "python",
   "pygments_lexer": "ipython3",
   "version": "3.11.1"
  },
  "orig_nbformat": 4
 },
 "nbformat": 4,
 "nbformat_minor": 2
}
