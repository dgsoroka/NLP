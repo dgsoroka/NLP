{
 "cells": [
  {
   "cell_type": "code",
   "execution_count": 2,
   "metadata": {},
   "outputs": [],
   "source": [
    "import spacy\n",
    "from spacy.lang.ru.examples import sentences\n",
    "from spacy import displacy\n",
    "from pprint import pprint\n",
    "from collections import defaultdict\n",
    "from tqdm import tqdm\n",
    "import pandas as pd\n",
    "import numpy as np"
   ]
  },
  {
   "cell_type": "code",
   "execution_count": 3,
   "metadata": {},
   "outputs": [],
   "source": [
    "nlp = spacy.load(\"ru_core_news_sm\")"
   ]
  },
  {
   "cell_type": "code",
   "execution_count": 4,
   "metadata": {},
   "outputs": [],
   "source": [
    "analisys = []"
   ]
  },
  {
   "cell_type": "code",
   "execution_count": 5,
   "metadata": {},
   "outputs": [
    {
     "data": {
      "text/plain": [
       "'\\n                            24 мая исполняется 80 лет поражению Германии в Битве за Атлантику. В этот день гросс-адмирал Дениц прекратил борьбу с конвоями, приказав своим подводникам уйти из Северной Атлантики. Произошло это из-за того, что немецкие «волчьи стаи» несли слишком большие потери. Это стало переломом в подводной войне, шедшей с переменным успехом с 1939 года.\\nПоражение неминуемо\\nС самого начала Второй мировой войны Германия вела боевые действия против судоходства союзников в Атлантике. Командующий немецким подплавом Карл Дениц в этой битве делал ставку на тактику «волчьей стаи» – атаку конвоя группой лодок. Успехи этот метод стал приносить лишь через год, поскольку поначалу кригсмарине просто не хватало субмарин, чтобы как следует реализовывать эту тактику. Ситуация изменилась осенью 1942-го, когда численность немецких подводных сил в Атлантике выросла до 150 единиц. Тогда-то и началась масштабная охота на конвои.\\n\"Волчья стая\" против конвоя: первый успех \"серых волков\" в Атлантике\\n\\nОсенью 1942-го – весной 1943-го «волчьи стаи» неоднократно добивались успеха, топя от трех до 15 судов из состава конвоев. Самыми результативными периодами стали октябрь 1942-го и март 1943-го, когда от действий немецких подводников серьезно пострадали восемь конвоев союзников. А пока Битва за Атлантику шла полным ходом, Дениц, ставший в 1943-м главкомом кригсмарине, продолжал наращивать немецкие подводные силы. К 1 мая 1943-го они насчитывали в себе уже более 400 единиц, из которых половина воевала в Атлантике.\\nСоюзники, осознававшие опасность роста «волчьих стай», делали все возможное, чтобы нейтрализовать их активность. Они усилили эскорт конвоев, старались прокладывать их маршруты в обход завес немецких субмарин и использовали бомбардировщики дальнего действия для патрулирования районов концентрации «волчьих стай», ранее недоступных авиации. Кроме того, были созданы группы поддержки из кораблей ПЛО и авианосные группы, имевшие задачу искать и уничтожать подлодки.\\nЭти меры дали следующий результат. В апреле через Северную Атлантику прошли 18 конвоев, большинство из которых немцы перехватили. Но защита конвоев стала настолько мощной, что «волчьи стаи» смогли потопить из их состава менее 30 судов. Всего же в апреле немецкие подлодки отправили на дно 47 торговых судов. Такой результат составлял лишь около половины от мартовских успехов «серых волков». Кроме того, в марте на каждую потерянную подлодку приходилось семь уничтоженных судов, а в апреле – только три. Это стало тревожным звонком для Деница. Однако в полной мере серьезность ситуации он не осознавал, поскольку немецкие подводники в докладах завышали свои результаты.\\nПоследний успех «волчьих стай»\\nПосле успешных мартовских сражений с конвоями большинство субмарин были на исходе своей автономности и должны были вернуться на базу. В конце апреля большинство лодок снова вышло в море, и вместе с новыми субмаринами, прибывающими непосредственно из Германии, сила «волчьих стай» в Северной Атлантике достигла пика: между Ньюфаундлендом и Гренландией было сосредоточено до полусотни подлодок.\\nОперация \"Паукеншлаг\": как \"литавры\" Деница разбудили Америку\\n\\nПараллельно войне на море шла война радиоразведок. Каждая из сторон взламывала коды противника, однако союзники делали это быстрее, что позволяло их конвоям обходить завесы подлодок. Но 25 апреля, когда немцы неожиданно сменили свои коды, союзники «ослепли». Не зная обстановки, они отправили конвой ONS-5 по маршруту, считавшемуся безопасным. Это стало ошибкой, поскольку этот маршрут вел прямо к «волчьей стае», развернутой во время смены кодов.\\n28 апреля подлодка U-650 заметила ONS-5 и начала наводить на него другие немецкие субмарины. Интенсивный радиообмен между ними предупредил эскорт конвоя об угрозе нападения. Сопровождавшие ONS-5 корабли с помощью радиопеленгаторов определили места нахождения лодок и сорвали их ночную атаку. Но немцы продолжали преследовать конвой. Им удалось открыть счет победам, потопив 29 апреля одно судно. После этого непогода прервала сражение на несколько дней. Воспользовавшись паузой, противники стягивали к конвою подкрепления.\\n4 мая шторм пошел на убыль. Немецкие атаки начались еще до наступления ночи, когда U-125 подводного аса Ульриха Фолькерса потопила отставшее судно. В течение следующих двух суток среди айсбергов и тумана разгорелась настоящая битва. Конвой атаковали около 40 подлодок. Им противостояли девять кораблей ПЛО. В конце концов оборона ONS-5 рухнула, и лодки прорвались к его ордеру. В ночном бою им удалось потопить шесть судов.\\nКомандующий немецким подплавом Карл Дениц, начало 1940-х UBL/Vostock PhotoВ штабе подводных сил Дениц лично руководил сражением. Предвкушая большую победу после шести недель разочаровывающих результатов, он настаивал на том, чтобы подводники атаковали всякий раз, когда случается такая возможность. Таким образом, бой продолжался в течение светового дня, и к вечеру 5 мая подлодки уничтожили еще пять транспортов.\\nЭскорт ONS-5 работал на пределе возможностей – его кораблям уже не хватало глубинных бомб и топлива. Ближе к вечеру появился первый бомбардировщик «Либерейтор», но этого было мало. Ситуация изменилась, лишь когда конвой достиг зоны густого тумана, давшего преимущество его эскорту. У кораблей ПЛО, в отличие от подлодок, были радары, позволявшие легко и вовремя обнаруживать противника в условиях плохой видимости.\\nВ ночь с 5 на 6 мая «волчья стая» совершила около 25 атак на ONS-5, но все они были отбиты эскортом. Теперь настало время расплаты. Пользуясь своим преимуществом в тумане, корабли ПЛО глубинными бомбами, артиллерией и таранами уничтожили в ту ночь пять подлодок. Утром 6 мая на помощь конвою подошли эсминцы из 1-й группы поддержки, которые немедленно вступили в схватку, уничтожив еще одну лодку.\\nПочему гросс-адмирал Дениц стал преемником Гитлера\\n\\nКогда Деницу стал ясен масштаб катастрофы, он свернул операцию. Гросс-адмирал решил, что виной всему туман и то, что, поскольку битва шла несколько дней, атаки подлодок уже не были неожиданными для конвоя. Однако по-настоящему волноваться немцам надо было из-за того, что очень большая «волчья стая» была побеждена только надводным эскортом, практически без помощи авиации.\\nONS-5 потерял 13 судов. В Битве за Атлантику этот случай стал последним, когда конвой понес такие потери. С немецкой стороны в бою погибли шесть подлодок, включая U-125 опытнейшего Фолькерса. Кроме того, были уничтожены две лодки, не принимавшие участия в сражении, и еще семь лодок сильно повреждены.\\nБегство «волчьих стай»\\nСражение с ONS-5 стало поворотным моментом в Битве за Атлантику. В течение трех недель после него немцы не смогли причинить серьезный урон ни одному конвою, но зато сами продолжали нести потери. В период с 9 по 25 мая немецкая радиоразведка предоставила точные данные о конвоях, находящихся в Северной Атлантике. Шесть из семи были обнаружены «волчьими стаями», но из 277 судов, входивших в их состав, было потоплено лишь шесть.\\nК 23 мая немцы потеряли уже 34 субмарины, около 1600 подводников погибли (включая сына Деница) или попали в плен. К концу месяца потери лодок выросли до 40 единиц. Этому очень поспособствовала авиация ПЛО. Так, в апреле и мае союзники провели операцию «Деранж», в рамках которой атаковали подлодки в Бискайском заливе при их выходе в море и при возвращении во Францию. Итогом операции стало 11 потопленных и поврежденных субмарин.\\nКонвой союзников пересекает Атлантику, 1942 U.S. Navy/Wikimedia CommonsОценивая масштабы майской катастрофы, Дениц писал, что потери лодок, даже тяжелые, можно счесть приемлемой ценой, если противнику нанесен большой урон. Но в мае в Атлантике за потопление около 10 тыс. брт торгового тоннажа «серым волкам» приходилось расплачиваться гибелью одной лодки, хотя прежде «разменный курс» составлял около 100 тыс. брт на потопленную субмарину. Май стал самым черным месяцем для «серых волков».\\nПроведя анализ потерь, гросс-адмирал пришел к выводу, что из 31 лодки, потерянной до 22 мая в Атлантике, 19 (60%) погибли при следовании и на позициях в оперативном районе и только 12 лодок (около 40%), вероятно, были уничтожены во время атаки конвоев в условиях благоприятной видимости. Эти расчеты навели Деница на мысль, что большинство погибших субмарин стали жертвами самолетов ПЛО, широко используемых противником в сочетании с возможностью внезапного обнаружения подлодок в любое время суток с помощью бортовых радаров.\\nЗа что Карл Дениц отдавал командиров субмарин под суд\\n\\nПрав ли был Дениц? К указанной дате и авиация, и корабли ПЛО одержали по 12 чистых побед над немецкими подлодками, и еще пять субмарин были уничтожены их совместными усилиями. Впрочем, к концу месяца летчики вырвались вперед, одержав еще восемь побед. Таким образом, слова Деница о том, что военно-воздушные силы союзников сыграли важную роль в причинении таких высоких потерь, справедливы.\\nКак бы то ни было, но все это означало лишь одно: Германия проиграла Битву за Атлантику. 24 мая 1943-го гросс-адмирал Дениц был вынужден прекратить операции против конвоев и отозвать «волчьи стаи» с их маршрутов в Северной Атлантике. В переданном на все лодки приказе он указал, что «ситуация <…> в настоящее время вынуждает временно перенести операции в районы, менее подверженные опасности со стороны авиации», – Карибское море, район у берегов Тринидада, район у побережья Бразилии и Западной Африки.\\nВ докладе Гитлеру Дениц заявил, что подводная война проиграна из-за возросшей мощи вражеских ВВС, имевших средства для обнаружения подлодок. По сути это означало, что Германия недостаточно научно и промышленно развита, поскольку неспособна обеспечить свой флот техническими новинками. Ее субмарины уже устарели, и для дальнейшего ведения войны в Атлантике требовались новые подводные корабли, способные наносить удары без оглядки на угрозу с воздуха.\\nОднако несмотря на описанные выше неудачи, и Гитлер, и Дениц считали, что подводная война должна продолжаться. Фюрер объявил Атлантику «первой линией обороны на Западе», считая, что подлодки связывают в океане большие силы союзников и лучше продолжать сражаться там, чем ждать, пока они высадятся в Европе. Таким образом, он обрек немецких подводников на продолжение безнадежной борьбы и большие потери.                        '"
      ]
     },
     "execution_count": 5,
     "metadata": {},
     "output_type": "execute_result"
    }
   ],
   "source": [
    "newsDF = pd.read_csv('news.CSV')\n",
    "text_news = newsDF['text']\n",
    "text_news = np.array(text_news)\n",
    "text_news[2]"
   ]
  },
  {
   "cell_type": "code",
   "execution_count": 19,
   "metadata": {},
   "outputs": [
    {
     "name": "stdout",
     "output_type": "stream",
     "text": [
      "['\\n                             (\\n                            )']\n",
      "['\" (\")',\n",
      " 'рособоронэкспорт (Рособоронэкспорт)',\n",
      " '\" (\")',\n",
      " 'на (на)',\n",
      " 'международный (международной)',\n",
      " 'выставка (выставке)',\n",
      " 'вооружение (вооружений)',\n",
      " 'idex (IDEX)',\n",
      " 'в (в)',\n",
      " 'оаэ (ОАЭ)',\n",
      " 'показать (покажет)',\n",
      " 'несколько (несколько)',\n",
      " 'образец (образцов)',\n",
      " 'стрелковый (стрелкового)',\n",
      " 'оружие (оружия)',\n",
      " 'концерн (концерна)',\n",
      " '\" (\")',\n",
      " 'калашников (Калашников)',\n",
      " '\" (\")',\n",
      " ', (,)',\n",
      " 'а (а)',\n",
      " 'также (также)',\n",
      " 'впервые (впервые)',\n",
      " 'за (за)',\n",
      " 'рубеж (рубежом)',\n",
      " 'представить (представит)',\n",
      " 'снайперский (снайперскую)',\n",
      " 'винтовка (винтовку)',\n",
      " 'orsis (ORSIS)',\n",
      " ', (,)',\n",
      " 'сообщить (сообщили)',\n",
      " 'в (в)',\n",
      " 'пресс (пресс)',\n",
      " '- (-)',\n",
      " 'служба (службе)',\n",
      " 'компания (компании)',\n",
      " '. (.)',\n",
      " '\\n (\\n)']\n"
     ]
    }
   ],
   "source": [
    "doc = nlp(text_news[38])\n",
    "for s in list(doc.sents)[:2]:\n",
    "  pprint(list([f'{t.lemma_} ({t.text})' for t in s]))"
   ]
  },
  {
   "cell_type": "code",
   "execution_count": 21,
   "metadata": {},
   "outputs": [
    {
     "data": {
      "text/html": [
       "<span class=\"tex2jax_ignore\"><svg xmlns=\"http://www.w3.org/2000/svg\" xmlns:xlink=\"http://www.w3.org/1999/xlink\" xml:lang=\"ru\" id=\"967fcdd2bd464d99a83e6cb546a49fdd-0\" class=\"displacy\" width=\"140\" height=\"137.0\" direction=\"ltr\" style=\"max-width: none; height: 137.0px; color: #000000; background: #ffffff; font-family: Arial; direction: ltr\"><text class=\"displacy-token\" fill=\"currentColor\" text-anchor=\"middle\" y=\"47.0\"><tspan class=\"displacy-word\" fill=\"currentColor\" x=\"50\"></tspan><tspan class=\"displacy-tag\" dy=\"2em\" fill=\"currentColor\" x=\"50\">SPACE</tspan></text></svg></span>"
      ],
      "text/plain": [
       "<IPython.core.display.HTML object>"
      ]
     },
     "metadata": {},
     "output_type": "display_data"
    },
    {
     "data": {
      "text/html": [
       "<span class=\"tex2jax_ignore\"><svg xmlns=\"http://www.w3.org/2000/svg\" xmlns:xlink=\"http://www.w3.org/1999/xlink\" xml:lang=\"ru\" id=\"fcdbc07c1c4145aeb3da7cb8d161ee91-0\" class=\"displacy\" width=\"2840\" height=\"407.0\" direction=\"ltr\" style=\"max-width: none; height: 407.0px; color: #000000; background: #ffffff; font-family: Arial; direction: ltr\"><text class=\"displacy-token\" fill=\"currentColor\" text-anchor=\"middle\" y=\"317.0\"><tspan class=\"displacy-word\" fill=\"currentColor\" x=\"50\">&quot;</tspan><tspan class=\"displacy-tag\" dy=\"2em\" fill=\"currentColor\" x=\"50\">PUNCT</tspan></text><text class=\"displacy-token\" fill=\"currentColor\" text-anchor=\"middle\" y=\"317.0\"><tspan class=\"displacy-word\" fill=\"currentColor\" x=\"140\">Рособоронэкспорт&quot;</tspan><tspan class=\"displacy-tag\" dy=\"2em\" fill=\"currentColor\" x=\"140\">NOUN</tspan></text><text class=\"displacy-token\" fill=\"currentColor\" text-anchor=\"middle\" y=\"317.0\"><tspan class=\"displacy-word\" fill=\"currentColor\" x=\"230\">на</tspan><tspan class=\"displacy-tag\" dy=\"2em\" fill=\"currentColor\" x=\"230\">ADP</tspan></text><text class=\"displacy-token\" fill=\"currentColor\" text-anchor=\"middle\" y=\"317.0\"><tspan class=\"displacy-word\" fill=\"currentColor\" x=\"320\">международной</tspan><tspan class=\"displacy-tag\" dy=\"2em\" fill=\"currentColor\" x=\"320\">ADJ</tspan></text><text class=\"displacy-token\" fill=\"currentColor\" text-anchor=\"middle\" y=\"317.0\"><tspan class=\"displacy-word\" fill=\"currentColor\" x=\"410\">выставке</tspan><tspan class=\"displacy-tag\" dy=\"2em\" fill=\"currentColor\" x=\"410\">NOUN</tspan></text><text class=\"displacy-token\" fill=\"currentColor\" text-anchor=\"middle\" y=\"317.0\"><tspan class=\"displacy-word\" fill=\"currentColor\" x=\"500\">вооружений</tspan><tspan class=\"displacy-tag\" dy=\"2em\" fill=\"currentColor\" x=\"500\">NOUN</tspan></text><text class=\"displacy-token\" fill=\"currentColor\" text-anchor=\"middle\" y=\"317.0\"><tspan class=\"displacy-word\" fill=\"currentColor\" x=\"590\">IDEX</tspan><tspan class=\"displacy-tag\" dy=\"2em\" fill=\"currentColor\" x=\"590\">PROPN</tspan></text><text class=\"displacy-token\" fill=\"currentColor\" text-anchor=\"middle\" y=\"317.0\"><tspan class=\"displacy-word\" fill=\"currentColor\" x=\"680\">в</tspan><tspan class=\"displacy-tag\" dy=\"2em\" fill=\"currentColor\" x=\"680\">ADP</tspan></text><text class=\"displacy-token\" fill=\"currentColor\" text-anchor=\"middle\" y=\"317.0\"><tspan class=\"displacy-word\" fill=\"currentColor\" x=\"770\">ОАЭ</tspan><tspan class=\"displacy-tag\" dy=\"2em\" fill=\"currentColor\" x=\"770\">PROPN</tspan></text><text class=\"displacy-token\" fill=\"currentColor\" text-anchor=\"middle\" y=\"317.0\"><tspan class=\"displacy-word\" fill=\"currentColor\" x=\"860\">покажет</tspan><tspan class=\"displacy-tag\" dy=\"2em\" fill=\"currentColor\" x=\"860\">VERB</tspan></text><text class=\"displacy-token\" fill=\"currentColor\" text-anchor=\"middle\" y=\"317.0\"><tspan class=\"displacy-word\" fill=\"currentColor\" x=\"950\">несколько</tspan><tspan class=\"displacy-tag\" dy=\"2em\" fill=\"currentColor\" x=\"950\">NUM</tspan></text><text class=\"displacy-token\" fill=\"currentColor\" text-anchor=\"middle\" y=\"317.0\"><tspan class=\"displacy-word\" fill=\"currentColor\" x=\"1040\">образцов</tspan><tspan class=\"displacy-tag\" dy=\"2em\" fill=\"currentColor\" x=\"1040\">NOUN</tspan></text><text class=\"displacy-token\" fill=\"currentColor\" text-anchor=\"middle\" y=\"317.0\"><tspan class=\"displacy-word\" fill=\"currentColor\" x=\"1130\">стрелкового</tspan><tspan class=\"displacy-tag\" dy=\"2em\" fill=\"currentColor\" x=\"1130\">ADJ</tspan></text><text class=\"displacy-token\" fill=\"currentColor\" text-anchor=\"middle\" y=\"317.0\"><tspan class=\"displacy-word\" fill=\"currentColor\" x=\"1220\">оружия</tspan><tspan class=\"displacy-tag\" dy=\"2em\" fill=\"currentColor\" x=\"1220\">NOUN</tspan></text><text class=\"displacy-token\" fill=\"currentColor\" text-anchor=\"middle\" y=\"317.0\"><tspan class=\"displacy-word\" fill=\"currentColor\" x=\"1310\">концерна &quot;</tspan><tspan class=\"displacy-tag\" dy=\"2em\" fill=\"currentColor\" x=\"1310\">NOUN</tspan></text><text class=\"displacy-token\" fill=\"currentColor\" text-anchor=\"middle\" y=\"317.0\"><tspan class=\"displacy-word\" fill=\"currentColor\" x=\"1400\">Калашников&quot;,</tspan><tspan class=\"displacy-tag\" dy=\"2em\" fill=\"currentColor\" x=\"1400\">PROPN</tspan></text><text class=\"displacy-token\" fill=\"currentColor\" text-anchor=\"middle\" y=\"317.0\"><tspan class=\"displacy-word\" fill=\"currentColor\" x=\"1490\">а</tspan><tspan class=\"displacy-tag\" dy=\"2em\" fill=\"currentColor\" x=\"1490\">CCONJ</tspan></text><text class=\"displacy-token\" fill=\"currentColor\" text-anchor=\"middle\" y=\"317.0\"><tspan class=\"displacy-word\" fill=\"currentColor\" x=\"1580\">также</tspan><tspan class=\"displacy-tag\" dy=\"2em\" fill=\"currentColor\" x=\"1580\">ADV</tspan></text><text class=\"displacy-token\" fill=\"currentColor\" text-anchor=\"middle\" y=\"317.0\"><tspan class=\"displacy-word\" fill=\"currentColor\" x=\"1670\">впервые</tspan><tspan class=\"displacy-tag\" dy=\"2em\" fill=\"currentColor\" x=\"1670\">ADV</tspan></text><text class=\"displacy-token\" fill=\"currentColor\" text-anchor=\"middle\" y=\"317.0\"><tspan class=\"displacy-word\" fill=\"currentColor\" x=\"1760\">за</tspan><tspan class=\"displacy-tag\" dy=\"2em\" fill=\"currentColor\" x=\"1760\">ADV</tspan></text><text class=\"displacy-token\" fill=\"currentColor\" text-anchor=\"middle\" y=\"317.0\"><tspan class=\"displacy-word\" fill=\"currentColor\" x=\"1850\">рубежом</tspan><tspan class=\"displacy-tag\" dy=\"2em\" fill=\"currentColor\" x=\"1850\">NOUN</tspan></text><text class=\"displacy-token\" fill=\"currentColor\" text-anchor=\"middle\" y=\"317.0\"><tspan class=\"displacy-word\" fill=\"currentColor\" x=\"1940\">представит</tspan><tspan class=\"displacy-tag\" dy=\"2em\" fill=\"currentColor\" x=\"1940\">VERB</tspan></text><text class=\"displacy-token\" fill=\"currentColor\" text-anchor=\"middle\" y=\"317.0\"><tspan class=\"displacy-word\" fill=\"currentColor\" x=\"2030\">снайперскую</tspan><tspan class=\"displacy-tag\" dy=\"2em\" fill=\"currentColor\" x=\"2030\">ADJ</tspan></text><text class=\"displacy-token\" fill=\"currentColor\" text-anchor=\"middle\" y=\"317.0\"><tspan class=\"displacy-word\" fill=\"currentColor\" x=\"2120\">винтовку</tspan><tspan class=\"displacy-tag\" dy=\"2em\" fill=\"currentColor\" x=\"2120\">NOUN</tspan></text><text class=\"displacy-token\" fill=\"currentColor\" text-anchor=\"middle\" y=\"317.0\"><tspan class=\"displacy-word\" fill=\"currentColor\" x=\"2210\">ORSIS,</tspan><tspan class=\"displacy-tag\" dy=\"2em\" fill=\"currentColor\" x=\"2210\">PROPN</tspan></text><text class=\"displacy-token\" fill=\"currentColor\" text-anchor=\"middle\" y=\"317.0\"><tspan class=\"displacy-word\" fill=\"currentColor\" x=\"2300\">сообщили</tspan><tspan class=\"displacy-tag\" dy=\"2em\" fill=\"currentColor\" x=\"2300\">VERB</tspan></text><text class=\"displacy-token\" fill=\"currentColor\" text-anchor=\"middle\" y=\"317.0\"><tspan class=\"displacy-word\" fill=\"currentColor\" x=\"2390\">в</tspan><tspan class=\"displacy-tag\" dy=\"2em\" fill=\"currentColor\" x=\"2390\">ADP</tspan></text><text class=\"displacy-token\" fill=\"currentColor\" text-anchor=\"middle\" y=\"317.0\"><tspan class=\"displacy-word\" fill=\"currentColor\" x=\"2480\">пресс-</tspan><tspan class=\"displacy-tag\" dy=\"2em\" fill=\"currentColor\" x=\"2480\">NOUN</tspan></text><text class=\"displacy-token\" fill=\"currentColor\" text-anchor=\"middle\" y=\"317.0\"><tspan class=\"displacy-word\" fill=\"currentColor\" x=\"2570\">службе</tspan><tspan class=\"displacy-tag\" dy=\"2em\" fill=\"currentColor\" x=\"2570\">NOUN</tspan></text><text class=\"displacy-token\" fill=\"currentColor\" text-anchor=\"middle\" y=\"317.0\"><tspan class=\"displacy-word\" fill=\"currentColor\" x=\"2660\">компании.</tspan><tspan class=\"displacy-tag\" dy=\"2em\" fill=\"currentColor\" x=\"2660\">PUNCT</tspan></text><text class=\"displacy-token\" fill=\"currentColor\" text-anchor=\"middle\" y=\"317.0\"><tspan class=\"displacy-word\" fill=\"currentColor\" x=\"2750\"></tspan><tspan class=\"displacy-tag\" dy=\"2em\" fill=\"currentColor\" x=\"2750\">SPACE</tspan></text><g class=\"displacy-arrow\"><path class=\"displacy-arc\" id=\"arrow-fcdbc07c1c4145aeb3da7cb8d161ee91-0-0\" stroke-width=\"2px\" d=\"M70,272.0 C70,227.0 115.0,227.0 115.0,272.0\" fill=\"none\" stroke=\"currentColor\"/><text dy=\"1.25em\" style=\"font-size: 0.8em; letter-spacing: 1px\"><textPath xlink:href=\"#arrow-fcdbc07c1c4145aeb3da7cb8d161ee91-0-0\" class=\"displacy-label\" startOffset=\"50%\" side=\"left\" fill=\"currentColor\" text-anchor=\"middle\">punct</textPath></text><path class=\"displacy-arrowhead\" d=\"M70,274.0 L62,262.0 78,262.0\" fill=\"currentColor\"/></g><g class=\"displacy-arrow\"><path class=\"displacy-arc\" id=\"arrow-fcdbc07c1c4145aeb3da7cb8d161ee91-0-1\" stroke-width=\"2px\" d=\"M160,272.0 C160,47.0 855.0,47.0 855.0,272.0\" fill=\"none\" stroke=\"currentColor\"/><text dy=\"1.25em\" style=\"font-size: 0.8em; letter-spacing: 1px\"><textPath xlink:href=\"#arrow-fcdbc07c1c4145aeb3da7cb8d161ee91-0-1\" class=\"displacy-label\" startOffset=\"50%\" side=\"left\" fill=\"currentColor\" text-anchor=\"middle\">nsubj</textPath></text><path class=\"displacy-arrowhead\" d=\"M160,274.0 L152,262.0 168,262.0\" fill=\"currentColor\"/></g><g class=\"displacy-arrow\"><path class=\"displacy-arc\" id=\"arrow-fcdbc07c1c4145aeb3da7cb8d161ee91-0-2\" stroke-width=\"2px\" d=\"M250,272.0 C250,182.0 390.0,182.0 390.0,272.0\" fill=\"none\" stroke=\"currentColor\"/><text dy=\"1.25em\" style=\"font-size: 0.8em; letter-spacing: 1px\"><textPath xlink:href=\"#arrow-fcdbc07c1c4145aeb3da7cb8d161ee91-0-2\" class=\"displacy-label\" startOffset=\"50%\" side=\"left\" fill=\"currentColor\" text-anchor=\"middle\">case</textPath></text><path class=\"displacy-arrowhead\" d=\"M250,274.0 L242,262.0 258,262.0\" fill=\"currentColor\"/></g><g class=\"displacy-arrow\"><path class=\"displacy-arc\" id=\"arrow-fcdbc07c1c4145aeb3da7cb8d161ee91-0-3\" stroke-width=\"2px\" d=\"M340,272.0 C340,227.0 385.0,227.0 385.0,272.0\" fill=\"none\" stroke=\"currentColor\"/><text dy=\"1.25em\" style=\"font-size: 0.8em; letter-spacing: 1px\"><textPath xlink:href=\"#arrow-fcdbc07c1c4145aeb3da7cb8d161ee91-0-3\" class=\"displacy-label\" startOffset=\"50%\" side=\"left\" fill=\"currentColor\" text-anchor=\"middle\">amod</textPath></text><path class=\"displacy-arrowhead\" d=\"M340,274.0 L332,262.0 348,262.0\" fill=\"currentColor\"/></g><g class=\"displacy-arrow\"><path class=\"displacy-arc\" id=\"arrow-fcdbc07c1c4145aeb3da7cb8d161ee91-0-4\" stroke-width=\"2px\" d=\"M430,272.0 C430,92.0 850.0,92.0 850.0,272.0\" fill=\"none\" stroke=\"currentColor\"/><text dy=\"1.25em\" style=\"font-size: 0.8em; letter-spacing: 1px\"><textPath xlink:href=\"#arrow-fcdbc07c1c4145aeb3da7cb8d161ee91-0-4\" class=\"displacy-label\" startOffset=\"50%\" side=\"left\" fill=\"currentColor\" text-anchor=\"middle\">obl</textPath></text><path class=\"displacy-arrowhead\" d=\"M430,274.0 L422,262.0 438,262.0\" fill=\"currentColor\"/></g><g class=\"displacy-arrow\"><path class=\"displacy-arc\" id=\"arrow-fcdbc07c1c4145aeb3da7cb8d161ee91-0-5\" stroke-width=\"2px\" d=\"M430,272.0 C430,227.0 475.0,227.0 475.0,272.0\" fill=\"none\" stroke=\"currentColor\"/><text dy=\"1.25em\" style=\"font-size: 0.8em; letter-spacing: 1px\"><textPath xlink:href=\"#arrow-fcdbc07c1c4145aeb3da7cb8d161ee91-0-5\" class=\"displacy-label\" startOffset=\"50%\" side=\"left\" fill=\"currentColor\" text-anchor=\"middle\">nmod</textPath></text><path class=\"displacy-arrowhead\" d=\"M475.0,274.0 L483.0,262.0 467.0,262.0\" fill=\"currentColor\"/></g><g class=\"displacy-arrow\"><path class=\"displacy-arc\" id=\"arrow-fcdbc07c1c4145aeb3da7cb8d161ee91-0-6\" stroke-width=\"2px\" d=\"M430,272.0 C430,182.0 570.0,182.0 570.0,272.0\" fill=\"none\" stroke=\"currentColor\"/><text dy=\"1.25em\" style=\"font-size: 0.8em; letter-spacing: 1px\"><textPath xlink:href=\"#arrow-fcdbc07c1c4145aeb3da7cb8d161ee91-0-6\" class=\"displacy-label\" startOffset=\"50%\" side=\"left\" fill=\"currentColor\" text-anchor=\"middle\">appos</textPath></text><path class=\"displacy-arrowhead\" d=\"M570.0,274.0 L578.0,262.0 562.0,262.0\" fill=\"currentColor\"/></g><g class=\"displacy-arrow\"><path class=\"displacy-arc\" id=\"arrow-fcdbc07c1c4145aeb3da7cb8d161ee91-0-7\" stroke-width=\"2px\" d=\"M700,272.0 C700,227.0 745.0,227.0 745.0,272.0\" fill=\"none\" stroke=\"currentColor\"/><text dy=\"1.25em\" style=\"font-size: 0.8em; letter-spacing: 1px\"><textPath xlink:href=\"#arrow-fcdbc07c1c4145aeb3da7cb8d161ee91-0-7\" class=\"displacy-label\" startOffset=\"50%\" side=\"left\" fill=\"currentColor\" text-anchor=\"middle\">case</textPath></text><path class=\"displacy-arrowhead\" d=\"M700,274.0 L692,262.0 708,262.0\" fill=\"currentColor\"/></g><g class=\"displacy-arrow\"><path class=\"displacy-arc\" id=\"arrow-fcdbc07c1c4145aeb3da7cb8d161ee91-0-8\" stroke-width=\"2px\" d=\"M430,272.0 C430,137.0 755.0,137.0 755.0,272.0\" fill=\"none\" stroke=\"currentColor\"/><text dy=\"1.25em\" style=\"font-size: 0.8em; letter-spacing: 1px\"><textPath xlink:href=\"#arrow-fcdbc07c1c4145aeb3da7cb8d161ee91-0-8\" class=\"displacy-label\" startOffset=\"50%\" side=\"left\" fill=\"currentColor\" text-anchor=\"middle\">nmod</textPath></text><path class=\"displacy-arrowhead\" d=\"M755.0,274.0 L763.0,262.0 747.0,262.0\" fill=\"currentColor\"/></g><g class=\"displacy-arrow\"><path class=\"displacy-arc\" id=\"arrow-fcdbc07c1c4145aeb3da7cb8d161ee91-0-9\" stroke-width=\"2px\" d=\"M970,272.0 C970,227.0 1015.0,227.0 1015.0,272.0\" fill=\"none\" stroke=\"currentColor\"/><text dy=\"1.25em\" style=\"font-size: 0.8em; letter-spacing: 1px\"><textPath xlink:href=\"#arrow-fcdbc07c1c4145aeb3da7cb8d161ee91-0-9\" class=\"displacy-label\" startOffset=\"50%\" side=\"left\" fill=\"currentColor\" text-anchor=\"middle\">nummod:gov</textPath></text><path class=\"displacy-arrowhead\" d=\"M970,274.0 L962,262.0 978,262.0\" fill=\"currentColor\"/></g><g class=\"displacy-arrow\"><path class=\"displacy-arc\" id=\"arrow-fcdbc07c1c4145aeb3da7cb8d161ee91-0-10\" stroke-width=\"2px\" d=\"M880,272.0 C880,182.0 1020.0,182.0 1020.0,272.0\" fill=\"none\" stroke=\"currentColor\"/><text dy=\"1.25em\" style=\"font-size: 0.8em; letter-spacing: 1px\"><textPath xlink:href=\"#arrow-fcdbc07c1c4145aeb3da7cb8d161ee91-0-10\" class=\"displacy-label\" startOffset=\"50%\" side=\"left\" fill=\"currentColor\" text-anchor=\"middle\">obj</textPath></text><path class=\"displacy-arrowhead\" d=\"M1020.0,274.0 L1028.0,262.0 1012.0,262.0\" fill=\"currentColor\"/></g><g class=\"displacy-arrow\"><path class=\"displacy-arc\" id=\"arrow-fcdbc07c1c4145aeb3da7cb8d161ee91-0-11\" stroke-width=\"2px\" d=\"M1150,272.0 C1150,227.0 1195.0,227.0 1195.0,272.0\" fill=\"none\" stroke=\"currentColor\"/><text dy=\"1.25em\" style=\"font-size: 0.8em; letter-spacing: 1px\"><textPath xlink:href=\"#arrow-fcdbc07c1c4145aeb3da7cb8d161ee91-0-11\" class=\"displacy-label\" startOffset=\"50%\" side=\"left\" fill=\"currentColor\" text-anchor=\"middle\">amod</textPath></text><path class=\"displacy-arrowhead\" d=\"M1150,274.0 L1142,262.0 1158,262.0\" fill=\"currentColor\"/></g><g class=\"displacy-arrow\"><path class=\"displacy-arc\" id=\"arrow-fcdbc07c1c4145aeb3da7cb8d161ee91-0-12\" stroke-width=\"2px\" d=\"M1060,272.0 C1060,182.0 1200.0,182.0 1200.0,272.0\" fill=\"none\" stroke=\"currentColor\"/><text dy=\"1.25em\" style=\"font-size: 0.8em; letter-spacing: 1px\"><textPath xlink:href=\"#arrow-fcdbc07c1c4145aeb3da7cb8d161ee91-0-12\" class=\"displacy-label\" startOffset=\"50%\" side=\"left\" fill=\"currentColor\" text-anchor=\"middle\">nmod</textPath></text><path class=\"displacy-arrowhead\" d=\"M1200.0,274.0 L1208.0,262.0 1192.0,262.0\" fill=\"currentColor\"/></g><g class=\"displacy-arrow\"><path class=\"displacy-arc\" id=\"arrow-fcdbc07c1c4145aeb3da7cb8d161ee91-0-13\" stroke-width=\"2px\" d=\"M1240,272.0 C1240,227.0 1285.0,227.0 1285.0,272.0\" fill=\"none\" stroke=\"currentColor\"/><text dy=\"1.25em\" style=\"font-size: 0.8em; letter-spacing: 1px\"><textPath xlink:href=\"#arrow-fcdbc07c1c4145aeb3da7cb8d161ee91-0-13\" class=\"displacy-label\" startOffset=\"50%\" side=\"left\" fill=\"currentColor\" text-anchor=\"middle\">nmod</textPath></text><path class=\"displacy-arrowhead\" d=\"M1285.0,274.0 L1293.0,262.0 1277.0,262.0\" fill=\"currentColor\"/></g><g class=\"displacy-arrow\"><path class=\"displacy-arc\" id=\"arrow-fcdbc07c1c4145aeb3da7cb8d161ee91-0-14\" stroke-width=\"2px\" d=\"M1330,272.0 C1330,227.0 1375.0,227.0 1375.0,272.0\" fill=\"none\" stroke=\"currentColor\"/><text dy=\"1.25em\" style=\"font-size: 0.8em; letter-spacing: 1px\"><textPath xlink:href=\"#arrow-fcdbc07c1c4145aeb3da7cb8d161ee91-0-14\" class=\"displacy-label\" startOffset=\"50%\" side=\"left\" fill=\"currentColor\" text-anchor=\"middle\">appos</textPath></text><path class=\"displacy-arrowhead\" d=\"M1375.0,274.0 L1383.0,262.0 1367.0,262.0\" fill=\"currentColor\"/></g><g class=\"displacy-arrow\"><path class=\"displacy-arc\" id=\"arrow-fcdbc07c1c4145aeb3da7cb8d161ee91-0-15\" stroke-width=\"2px\" d=\"M1510,272.0 C1510,137.0 1925.0,137.0 1925.0,272.0\" fill=\"none\" stroke=\"currentColor\"/><text dy=\"1.25em\" style=\"font-size: 0.8em; letter-spacing: 1px\"><textPath xlink:href=\"#arrow-fcdbc07c1c4145aeb3da7cb8d161ee91-0-15\" class=\"displacy-label\" startOffset=\"50%\" side=\"left\" fill=\"currentColor\" text-anchor=\"middle\">cc</textPath></text><path class=\"displacy-arrowhead\" d=\"M1510,274.0 L1502,262.0 1518,262.0\" fill=\"currentColor\"/></g><g class=\"displacy-arrow\"><path class=\"displacy-arc\" id=\"arrow-fcdbc07c1c4145aeb3da7cb8d161ee91-0-16\" stroke-width=\"2px\" d=\"M1510,272.0 C1510,227.0 1555.0,227.0 1555.0,272.0\" fill=\"none\" stroke=\"currentColor\"/><text dy=\"1.25em\" style=\"font-size: 0.8em; letter-spacing: 1px\"><textPath xlink:href=\"#arrow-fcdbc07c1c4145aeb3da7cb8d161ee91-0-16\" class=\"displacy-label\" startOffset=\"50%\" side=\"left\" fill=\"currentColor\" text-anchor=\"middle\">fixed</textPath></text><path class=\"displacy-arrowhead\" d=\"M1555.0,274.0 L1563.0,262.0 1547.0,262.0\" fill=\"currentColor\"/></g><g class=\"displacy-arrow\"><path class=\"displacy-arc\" id=\"arrow-fcdbc07c1c4145aeb3da7cb8d161ee91-0-17\" stroke-width=\"2px\" d=\"M1690,272.0 C1690,182.0 1920.0,182.0 1920.0,272.0\" fill=\"none\" stroke=\"currentColor\"/><text dy=\"1.25em\" style=\"font-size: 0.8em; letter-spacing: 1px\"><textPath xlink:href=\"#arrow-fcdbc07c1c4145aeb3da7cb8d161ee91-0-17\" class=\"displacy-label\" startOffset=\"50%\" side=\"left\" fill=\"currentColor\" text-anchor=\"middle\">advmod</textPath></text><path class=\"displacy-arrowhead\" d=\"M1690,274.0 L1682,262.0 1698,262.0\" fill=\"currentColor\"/></g><g class=\"displacy-arrow\"><path class=\"displacy-arc\" id=\"arrow-fcdbc07c1c4145aeb3da7cb8d161ee91-0-18\" stroke-width=\"2px\" d=\"M1690,272.0 C1690,227.0 1735.0,227.0 1735.0,272.0\" fill=\"none\" stroke=\"currentColor\"/><text dy=\"1.25em\" style=\"font-size: 0.8em; letter-spacing: 1px\"><textPath xlink:href=\"#arrow-fcdbc07c1c4145aeb3da7cb8d161ee91-0-18\" class=\"displacy-label\" startOffset=\"50%\" side=\"left\" fill=\"currentColor\" text-anchor=\"middle\">advmod</textPath></text><path class=\"displacy-arrowhead\" d=\"M1735.0,274.0 L1743.0,262.0 1727.0,262.0\" fill=\"currentColor\"/></g><g class=\"displacy-arrow\"><path class=\"displacy-arc\" id=\"arrow-fcdbc07c1c4145aeb3da7cb8d161ee91-0-19\" stroke-width=\"2px\" d=\"M1780,272.0 C1780,227.0 1825.0,227.0 1825.0,272.0\" fill=\"none\" stroke=\"currentColor\"/><text dy=\"1.25em\" style=\"font-size: 0.8em; letter-spacing: 1px\"><textPath xlink:href=\"#arrow-fcdbc07c1c4145aeb3da7cb8d161ee91-0-19\" class=\"displacy-label\" startOffset=\"50%\" side=\"left\" fill=\"currentColor\" text-anchor=\"middle\">fixed</textPath></text><path class=\"displacy-arrowhead\" d=\"M1825.0,274.0 L1833.0,262.0 1817.0,262.0\" fill=\"currentColor\"/></g><g class=\"displacy-arrow\"><path class=\"displacy-arc\" id=\"arrow-fcdbc07c1c4145aeb3da7cb8d161ee91-0-20\" stroke-width=\"2px\" d=\"M880,272.0 C880,92.0 1930.0,92.0 1930.0,272.0\" fill=\"none\" stroke=\"currentColor\"/><text dy=\"1.25em\" style=\"font-size: 0.8em; letter-spacing: 1px\"><textPath xlink:href=\"#arrow-fcdbc07c1c4145aeb3da7cb8d161ee91-0-20\" class=\"displacy-label\" startOffset=\"50%\" side=\"left\" fill=\"currentColor\" text-anchor=\"middle\">conj</textPath></text><path class=\"displacy-arrowhead\" d=\"M1930.0,274.0 L1938.0,262.0 1922.0,262.0\" fill=\"currentColor\"/></g><g class=\"displacy-arrow\"><path class=\"displacy-arc\" id=\"arrow-fcdbc07c1c4145aeb3da7cb8d161ee91-0-21\" stroke-width=\"2px\" d=\"M2050,272.0 C2050,227.0 2095.0,227.0 2095.0,272.0\" fill=\"none\" stroke=\"currentColor\"/><text dy=\"1.25em\" style=\"font-size: 0.8em; letter-spacing: 1px\"><textPath xlink:href=\"#arrow-fcdbc07c1c4145aeb3da7cb8d161ee91-0-21\" class=\"displacy-label\" startOffset=\"50%\" side=\"left\" fill=\"currentColor\" text-anchor=\"middle\">amod</textPath></text><path class=\"displacy-arrowhead\" d=\"M2050,274.0 L2042,262.0 2058,262.0\" fill=\"currentColor\"/></g><g class=\"displacy-arrow\"><path class=\"displacy-arc\" id=\"arrow-fcdbc07c1c4145aeb3da7cb8d161ee91-0-22\" stroke-width=\"2px\" d=\"M1960,272.0 C1960,182.0 2100.0,182.0 2100.0,272.0\" fill=\"none\" stroke=\"currentColor\"/><text dy=\"1.25em\" style=\"font-size: 0.8em; letter-spacing: 1px\"><textPath xlink:href=\"#arrow-fcdbc07c1c4145aeb3da7cb8d161ee91-0-22\" class=\"displacy-label\" startOffset=\"50%\" side=\"left\" fill=\"currentColor\" text-anchor=\"middle\">obj</textPath></text><path class=\"displacy-arrowhead\" d=\"M2100.0,274.0 L2108.0,262.0 2092.0,262.0\" fill=\"currentColor\"/></g><g class=\"displacy-arrow\"><path class=\"displacy-arc\" id=\"arrow-fcdbc07c1c4145aeb3da7cb8d161ee91-0-23\" stroke-width=\"2px\" d=\"M2140,272.0 C2140,227.0 2185.0,227.0 2185.0,272.0\" fill=\"none\" stroke=\"currentColor\"/><text dy=\"1.25em\" style=\"font-size: 0.8em; letter-spacing: 1px\"><textPath xlink:href=\"#arrow-fcdbc07c1c4145aeb3da7cb8d161ee91-0-23\" class=\"displacy-label\" startOffset=\"50%\" side=\"left\" fill=\"currentColor\" text-anchor=\"middle\">appos</textPath></text><path class=\"displacy-arrowhead\" d=\"M2185.0,274.0 L2193.0,262.0 2177.0,262.0\" fill=\"currentColor\"/></g><g class=\"displacy-arrow\"><path class=\"displacy-arc\" id=\"arrow-fcdbc07c1c4145aeb3da7cb8d161ee91-0-24\" stroke-width=\"2px\" d=\"M880,272.0 C880,47.0 2295.0,47.0 2295.0,272.0\" fill=\"none\" stroke=\"currentColor\"/><text dy=\"1.25em\" style=\"font-size: 0.8em; letter-spacing: 1px\"><textPath xlink:href=\"#arrow-fcdbc07c1c4145aeb3da7cb8d161ee91-0-24\" class=\"displacy-label\" startOffset=\"50%\" side=\"left\" fill=\"currentColor\" text-anchor=\"middle\">parataxis</textPath></text><path class=\"displacy-arrowhead\" d=\"M2295.0,274.0 L2303.0,262.0 2287.0,262.0\" fill=\"currentColor\"/></g><g class=\"displacy-arrow\"><path class=\"displacy-arc\" id=\"arrow-fcdbc07c1c4145aeb3da7cb8d161ee91-0-25\" stroke-width=\"2px\" d=\"M2410,272.0 C2410,227.0 2455.0,227.0 2455.0,272.0\" fill=\"none\" stroke=\"currentColor\"/><text dy=\"1.25em\" style=\"font-size: 0.8em; letter-spacing: 1px\"><textPath xlink:href=\"#arrow-fcdbc07c1c4145aeb3da7cb8d161ee91-0-25\" class=\"displacy-label\" startOffset=\"50%\" side=\"left\" fill=\"currentColor\" text-anchor=\"middle\">case</textPath></text><path class=\"displacy-arrowhead\" d=\"M2410,274.0 L2402,262.0 2418,262.0\" fill=\"currentColor\"/></g><g class=\"displacy-arrow\"><path class=\"displacy-arc\" id=\"arrow-fcdbc07c1c4145aeb3da7cb8d161ee91-0-26\" stroke-width=\"2px\" d=\"M2320,272.0 C2320,182.0 2460.0,182.0 2460.0,272.0\" fill=\"none\" stroke=\"currentColor\"/><text dy=\"1.25em\" style=\"font-size: 0.8em; letter-spacing: 1px\"><textPath xlink:href=\"#arrow-fcdbc07c1c4145aeb3da7cb8d161ee91-0-26\" class=\"displacy-label\" startOffset=\"50%\" side=\"left\" fill=\"currentColor\" text-anchor=\"middle\">obl</textPath></text><path class=\"displacy-arrowhead\" d=\"M2460.0,274.0 L2468.0,262.0 2452.0,262.0\" fill=\"currentColor\"/></g><g class=\"displacy-arrow\"><path class=\"displacy-arc\" id=\"arrow-fcdbc07c1c4145aeb3da7cb8d161ee91-0-27\" stroke-width=\"2px\" d=\"M2320,272.0 C2320,137.0 2555.0,137.0 2555.0,272.0\" fill=\"none\" stroke=\"currentColor\"/><text dy=\"1.25em\" style=\"font-size: 0.8em; letter-spacing: 1px\"><textPath xlink:href=\"#arrow-fcdbc07c1c4145aeb3da7cb8d161ee91-0-27\" class=\"displacy-label\" startOffset=\"50%\" side=\"left\" fill=\"currentColor\" text-anchor=\"middle\">obl</textPath></text><path class=\"displacy-arrowhead\" d=\"M2555.0,274.0 L2563.0,262.0 2547.0,262.0\" fill=\"currentColor\"/></g><g class=\"displacy-arrow\"><path class=\"displacy-arc\" id=\"arrow-fcdbc07c1c4145aeb3da7cb8d161ee91-0-28\" stroke-width=\"2px\" d=\"M880,272.0 C880,2.0 2660.0,2.0 2660.0,272.0\" fill=\"none\" stroke=\"currentColor\"/><text dy=\"1.25em\" style=\"font-size: 0.8em; letter-spacing: 1px\"><textPath xlink:href=\"#arrow-fcdbc07c1c4145aeb3da7cb8d161ee91-0-28\" class=\"displacy-label\" startOffset=\"50%\" side=\"left\" fill=\"currentColor\" text-anchor=\"middle\">punct</textPath></text><path class=\"displacy-arrowhead\" d=\"M2660.0,274.0 L2668.0,262.0 2652.0,262.0\" fill=\"currentColor\"/></g><g class=\"displacy-arrow\"><path class=\"displacy-arc\" id=\"arrow-fcdbc07c1c4145aeb3da7cb8d161ee91-0-29\" stroke-width=\"2px\" d=\"M2680,272.0 C2680,227.0 2725.0,227.0 2725.0,272.0\" fill=\"none\" stroke=\"currentColor\"/><text dy=\"1.25em\" style=\"font-size: 0.8em; letter-spacing: 1px\"><textPath xlink:href=\"#arrow-fcdbc07c1c4145aeb3da7cb8d161ee91-0-29\" class=\"displacy-label\" startOffset=\"50%\" side=\"left\" fill=\"currentColor\" text-anchor=\"middle\">dep</textPath></text><path class=\"displacy-arrowhead\" d=\"M2725.0,274.0 L2733.0,262.0 2717.0,262.0\" fill=\"currentColor\"/></g></svg></span>"
      ],
      "text/plain": [
       "<IPython.core.display.HTML object>"
      ]
     },
     "metadata": {},
     "output_type": "display_data"
    }
   ],
   "source": [
    "for s in list(doc.sents)[:2]:\n",
    "  displacy.render(s, style=\"dep\", minify=True, jupyter=True, options={\"distance\":90})"
   ]
  },
  {
   "cell_type": "code",
   "execution_count": 7,
   "metadata": {},
   "outputs": [
    {
     "name": "stdout",
     "output_type": "stream",
     "text": [
      "одобрил [Госдепартамент, продажу, сообщило, .]\n",
      "госдепартамент Госдепартамент nsubj PROPN -> одобрил\n"
     ]
    }
   ],
   "source": [
    "sent0 = list(doc.sents)[0]\n",
    "childs0 = list(sent0.root.children)\n",
    "print(sent0.root, childs0)\n",
    "# Загнать этот вывод в цикл и проанализировать все текста?\n",
    "print(childs0[0].lemma_, childs0[0].text, childs0[0].dep_, childs0[0].tag_, '->', list(childs0[0].ancestors)[0])"
   ]
  },
  {
   "cell_type": "code",
   "execution_count": 6,
   "metadata": {},
   "outputs": [
    {
     "name": "stderr",
     "output_type": "stream",
     "text": [
      "  2%|▏         | 41/1775 [00:09<04:17,  6.74it/s]"
     ]
    },
    {
     "name": "stdout",
     "output_type": "stream",
     "text": [
      "Не удалось провести анализ статьи под номером 38\n",
      "Не удалось провести анализ статьи под номером 41\n"
     ]
    },
    {
     "name": "stderr",
     "output_type": "stream",
     "text": [
      " 11%|█         | 190/1775 [00:26<02:22, 11.13it/s]"
     ]
    },
    {
     "name": "stdout",
     "output_type": "stream",
     "text": [
      "Не удалось провести анализ статьи под номером 187\n"
     ]
    },
    {
     "name": "stderr",
     "output_type": "stream",
     "text": [
      " 14%|█▍        | 246/1775 [00:31<02:21, 10.79it/s]"
     ]
    },
    {
     "name": "stdout",
     "output_type": "stream",
     "text": [
      "Не удалось провести анализ статьи под номером 244\n"
     ]
    },
    {
     "name": "stderr",
     "output_type": "stream",
     "text": [
      " 17%|█▋        | 309/1775 [00:43<03:35,  6.80it/s]"
     ]
    },
    {
     "name": "stdout",
     "output_type": "stream",
     "text": [
      "Не удалось провести анализ статьи под номером 306\n"
     ]
    },
    {
     "name": "stderr",
     "output_type": "stream",
     "text": [
      " 18%|█▊        | 327/1775 [00:45<02:30,  9.63it/s]"
     ]
    },
    {
     "name": "stdout",
     "output_type": "stream",
     "text": [
      "Не удалось провести анализ статьи под номером 325\n"
     ]
    },
    {
     "name": "stderr",
     "output_type": "stream",
     "text": [
      " 22%|██▏       | 395/1775 [00:56<02:46,  8.29it/s]"
     ]
    },
    {
     "name": "stdout",
     "output_type": "stream",
     "text": [
      "Не удалось провести анализ статьи под номером 393\n"
     ]
    },
    {
     "name": "stderr",
     "output_type": "stream",
     "text": [
      " 28%|██▊       | 496/1775 [01:09<02:09,  9.85it/s]"
     ]
    },
    {
     "name": "stdout",
     "output_type": "stream",
     "text": [
      "Не удалось провести анализ статьи под номером 495\n"
     ]
    },
    {
     "name": "stderr",
     "output_type": "stream",
     "text": [
      " 34%|███▍      | 607/1775 [01:17<01:25, 13.72it/s]"
     ]
    },
    {
     "name": "stdout",
     "output_type": "stream",
     "text": [
      "Не удалось провести анализ статьи под номером 602\n"
     ]
    },
    {
     "name": "stderr",
     "output_type": "stream",
     "text": [
      " 39%|███▉      | 689/1775 [01:21<00:52, 20.82it/s]"
     ]
    },
    {
     "name": "stdout",
     "output_type": "stream",
     "text": [
      "Не удалось провести анализ статьи под номером 686\n"
     ]
    },
    {
     "name": "stderr",
     "output_type": "stream",
     "text": [
      " 42%|████▏     | 740/1775 [01:23<00:54, 19.04it/s]"
     ]
    },
    {
     "name": "stdout",
     "output_type": "stream",
     "text": [
      "Не удалось провести анализ статьи под номером 737\n"
     ]
    },
    {
     "name": "stderr",
     "output_type": "stream",
     "text": [
      " 43%|████▎     | 766/1775 [01:25<00:58, 17.17it/s]"
     ]
    },
    {
     "name": "stdout",
     "output_type": "stream",
     "text": [
      "Не удалось провести анализ статьи под номером 763\n"
     ]
    },
    {
     "name": "stderr",
     "output_type": "stream",
     "text": [
      " 47%|████▋     | 842/1775 [01:29<01:12, 12.91it/s]"
     ]
    },
    {
     "name": "stdout",
     "output_type": "stream",
     "text": [
      "Не удалось провести анализ статьи под номером 839\n"
     ]
    },
    {
     "name": "stderr",
     "output_type": "stream",
     "text": [
      " 48%|████▊     | 853/1775 [01:30<00:50, 18.16it/s]"
     ]
    },
    {
     "name": "stdout",
     "output_type": "stream",
     "text": [
      "Не удалось провести анализ статьи под номером 851\n"
     ]
    },
    {
     "name": "stderr",
     "output_type": "stream",
     "text": [
      " 51%|█████▏    | 913/1775 [01:33<01:00, 14.18it/s]"
     ]
    },
    {
     "name": "stdout",
     "output_type": "stream",
     "text": [
      "Не удалось провести анализ статьи под номером 909\n"
     ]
    },
    {
     "name": "stderr",
     "output_type": "stream",
     "text": [
      " 54%|█████▍    | 964/1775 [01:36<00:37, 21.53it/s]"
     ]
    },
    {
     "name": "stdout",
     "output_type": "stream",
     "text": [
      "Не удалось провести анализ статьи под номером 962\n"
     ]
    },
    {
     "name": "stderr",
     "output_type": "stream",
     "text": [
      " 58%|█████▊    | 1026/1775 [01:42<01:51,  6.73it/s]"
     ]
    },
    {
     "name": "stdout",
     "output_type": "stream",
     "text": [
      "Не удалось провести анализ статьи под номером 1024\n"
     ]
    },
    {
     "name": "stderr",
     "output_type": "stream",
     "text": [
      " 59%|█████▊    | 1039/1775 [01:44<02:19,  5.28it/s]"
     ]
    },
    {
     "name": "stdout",
     "output_type": "stream",
     "text": [
      "Не удалось провести анализ статьи под номером 1037\n"
     ]
    },
    {
     "name": "stderr",
     "output_type": "stream",
     "text": [
      " 59%|█████▉    | 1050/1775 [01:46<02:03,  5.89it/s]"
     ]
    },
    {
     "name": "stdout",
     "output_type": "stream",
     "text": [
      "Не удалось провести анализ статьи под номером 1049\n"
     ]
    },
    {
     "name": "stderr",
     "output_type": "stream",
     "text": [
      " 64%|██████▎   | 1131/1775 [02:02<02:12,  4.86it/s]"
     ]
    },
    {
     "name": "stdout",
     "output_type": "stream",
     "text": [
      "Не удалось провести анализ статьи под номером 1129\n"
     ]
    },
    {
     "name": "stderr",
     "output_type": "stream",
     "text": [
      " 64%|██████▍   | 1143/1775 [02:04<02:00,  5.23it/s]"
     ]
    },
    {
     "name": "stdout",
     "output_type": "stream",
     "text": [
      "Не удалось провести анализ статьи под номером 1141\n"
     ]
    },
    {
     "name": "stderr",
     "output_type": "stream",
     "text": [
      " 66%|██████▋   | 1180/1775 [02:11<01:45,  5.65it/s]"
     ]
    },
    {
     "name": "stdout",
     "output_type": "stream",
     "text": [
      "Не удалось провести анализ статьи под номером 1178\n"
     ]
    },
    {
     "name": "stderr",
     "output_type": "stream",
     "text": [
      " 70%|██████▉   | 1242/1775 [02:23<01:20,  6.64it/s]"
     ]
    },
    {
     "name": "stdout",
     "output_type": "stream",
     "text": [
      "Не удалось провести анализ статьи под номером 1240\n"
     ]
    },
    {
     "name": "stderr",
     "output_type": "stream",
     "text": [
      " 71%|███████   | 1259/1775 [02:25<01:16,  6.75it/s]"
     ]
    },
    {
     "name": "stdout",
     "output_type": "stream",
     "text": [
      "Не удалось провести анализ статьи под номером 1256\n"
     ]
    },
    {
     "name": "stderr",
     "output_type": "stream",
     "text": [
      " 72%|███████▏  | 1275/1775 [02:28<01:07,  7.37it/s]"
     ]
    },
    {
     "name": "stdout",
     "output_type": "stream",
     "text": [
      "Не удалось провести анализ статьи под номером 1273\n"
     ]
    },
    {
     "name": "stderr",
     "output_type": "stream",
     "text": [
      " 76%|███████▌  | 1348/1775 [02:37<00:46,  9.10it/s]"
     ]
    },
    {
     "name": "stdout",
     "output_type": "stream",
     "text": [
      "Не удалось провести анализ статьи под номером 1347\n"
     ]
    },
    {
     "name": "stderr",
     "output_type": "stream",
     "text": [
      " 78%|███████▊  | 1384/1775 [02:41<00:42,  9.23it/s]"
     ]
    },
    {
     "name": "stdout",
     "output_type": "stream",
     "text": [
      "Не удалось провести анализ статьи под номером 1382\n"
     ]
    },
    {
     "name": "stderr",
     "output_type": "stream",
     "text": [
      " 79%|███████▉  | 1408/1775 [02:44<00:45,  8.00it/s]"
     ]
    },
    {
     "name": "stdout",
     "output_type": "stream",
     "text": [
      "Не удалось провести анализ статьи под номером 1407\n"
     ]
    },
    {
     "name": "stderr",
     "output_type": "stream",
     "text": [
      " 80%|███████▉  | 1412/1775 [02:45<00:45,  8.03it/s]"
     ]
    },
    {
     "name": "stdout",
     "output_type": "stream",
     "text": [
      "Не удалось провести анализ статьи под номером 1409\n"
     ]
    },
    {
     "name": "stderr",
     "output_type": "stream",
     "text": [
      " 81%|████████  | 1433/1775 [02:47<00:29, 11.46it/s]"
     ]
    },
    {
     "name": "stdout",
     "output_type": "stream",
     "text": [
      "Не удалось провести анализ статьи под номером 1430\n"
     ]
    },
    {
     "name": "stderr",
     "output_type": "stream",
     "text": [
      " 82%|████████▏ | 1461/1775 [02:50<00:38,  8.06it/s]"
     ]
    },
    {
     "name": "stdout",
     "output_type": "stream",
     "text": [
      "Не удалось провести анализ статьи под номером 1459\n"
     ]
    },
    {
     "name": "stderr",
     "output_type": "stream",
     "text": [
      " 85%|████████▍ | 1502/1775 [02:54<00:24, 11.35it/s]"
     ]
    },
    {
     "name": "stdout",
     "output_type": "stream",
     "text": [
      "Не удалось провести анализ статьи под номером 1500\n"
     ]
    },
    {
     "name": "stderr",
     "output_type": "stream",
     "text": [
      " 85%|████████▍ | 1506/1775 [02:55<00:22, 11.81it/s]"
     ]
    },
    {
     "name": "stdout",
     "output_type": "stream",
     "text": [
      "Не удалось провести анализ статьи под номером 1505\n"
     ]
    },
    {
     "name": "stderr",
     "output_type": "stream",
     "text": [
      " 85%|████████▌ | 1516/1775 [02:56<00:23, 11.18it/s]"
     ]
    },
    {
     "name": "stdout",
     "output_type": "stream",
     "text": [
      "Не удалось провести анализ статьи под номером 1513\n"
     ]
    },
    {
     "name": "stderr",
     "output_type": "stream",
     "text": [
      " 86%|████████▌ | 1520/1775 [02:56<00:26,  9.58it/s]"
     ]
    },
    {
     "name": "stdout",
     "output_type": "stream",
     "text": [
      "Не удалось провести анализ статьи под номером 1518\n"
     ]
    },
    {
     "name": "stderr",
     "output_type": "stream",
     "text": [
      " 86%|████████▌ | 1522/1775 [02:56<00:23, 10.66it/s]"
     ]
    },
    {
     "name": "stdout",
     "output_type": "stream",
     "text": [
      "Не удалось провести анализ статьи под номером 1521\n"
     ]
    },
    {
     "name": "stderr",
     "output_type": "stream",
     "text": [
      " 87%|████████▋ | 1542/1775 [02:58<00:22, 10.55it/s]"
     ]
    },
    {
     "name": "stdout",
     "output_type": "stream",
     "text": [
      "Не удалось провести анализ статьи под номером 1541\n"
     ]
    },
    {
     "name": "stderr",
     "output_type": "stream",
     "text": [
      " 87%|████████▋ | 1552/1775 [02:59<00:22,  9.83it/s]"
     ]
    },
    {
     "name": "stdout",
     "output_type": "stream",
     "text": [
      "Не удалось провести анализ статьи под номером 1550\n"
     ]
    },
    {
     "name": "stderr",
     "output_type": "stream",
     "text": [
      " 94%|█████████▎| 1663/1775 [03:11<00:10, 10.84it/s]"
     ]
    },
    {
     "name": "stdout",
     "output_type": "stream",
     "text": [
      "Не удалось провести анализ статьи под номером 1662\n"
     ]
    },
    {
     "name": "stderr",
     "output_type": "stream",
     "text": [
      " 96%|█████████▌| 1708/1775 [03:16<00:06,  9.84it/s]"
     ]
    },
    {
     "name": "stdout",
     "output_type": "stream",
     "text": [
      "Не удалось провести анализ статьи под номером 1707\n"
     ]
    },
    {
     "name": "stderr",
     "output_type": "stream",
     "text": [
      "100%|██████████| 1775/1775 [03:24<00:00,  8.69it/s]\n"
     ]
    }
   ],
   "source": [
    "count = 0\n",
    "for line in tqdm(text_news):\n",
    "  try:\n",
    "    doc = nlp(line)\n",
    "    sent0 = list(doc.sents)[0]\n",
    "    childs0 = list(sent0.root.children)\n",
    "    analisys.append((childs0[0].lemma_, childs0[0].text, childs0[0].dep_, childs0[0].tag_, '->', list(childs0[0].ancestors)[0]))\n",
    "    count+=1\n",
    "  except KeyboardInterrupt:\n",
    "    break\n",
    "  except:\n",
    "    print(f'Не удалось провести анализ статьи под номером {count}')\n",
    "    analisys.append(None)\n",
    "    count+=1\n",
    "  "
   ]
  },
  {
   "cell_type": "code",
   "execution_count": 7,
   "metadata": {},
   "outputs": [
    {
     "data": {
      "text/plain": [
       "[('полугодие', 'полугодии', 'obl', 'NOUN', '->', рассчитывает),\n",
       " ('поставка', 'Поставки', 'nsubj', 'NOUN', '->', начались),\n",
       " ('24', '24', 'obl', 'ADJ', '->', исполняется),\n",
       " ('россия', 'России', 'obl', 'PROPN', '->', продолжаются),\n",
       " ('22', '22', 'obl', 'ADJ', '->', исполняется),\n",
       " ('вооружение', 'вооружение', 'obl', 'NOUN', '->', поступил),\n",
       " ('россия', 'России', 'obl', 'PROPN', '->', начали),\n",
       " ('цифровизация', 'Цифровизация', 'nsubj', 'NOUN', '->', происходит),\n",
       " ('война', 'война', 'nsubj', 'NOUN', '->', складывалась),\n",
       " ('конец', 'конце', 'obl', 'NOUN', '->', принят),\n",
       " ('командование', 'Командование', 'nsubj', 'NOUN', '->', приказало),\n",
       " ('госдепартамент', 'Госдепартамент', 'nsubj', 'PROPN', '->', одобрил),\n",
       " ('24', '24', 'obl', 'ADJ', '->', покончил),\n",
       " ('лето', 'Летом', 'obl', 'NOUN', '->', заявили),\n",
       " ('власть', 'Власти', 'nsubj', 'NOUN', '->', планируют),\n",
       " ('18', '18', 'obl', 'ADJ', '->', исполняется),\n",
       " ('рубеж', 'рубеже', 'obl', 'NOUN', '->', третьим),\n",
       " ('инженер', 'инженеры', 'nsubj', 'NOUN', '->', завершили),\n",
       " ('критик', 'Критики', 'nsubj', 'NOUN', '->', упрекают),\n",
       " ('28', '28', 'obl', 'ADJ', '->', провела),\n",
       " ('рамка', 'рамках', 'obl', 'NOUN', '->', провели),\n",
       " ('глава', 'Глава', 'nsubj', 'NOUN', '->', заявил),\n",
       " ('музей', 'музее', 'obl', 'NOUN', '->', есть),\n",
       " ('концерн', 'Концерн', 'nsubj', 'NOUN', '->', приступил),\n",
       " ('11', '11', 'obl', 'ADJ', '->', исполняется),\n",
       " ('россия', 'Россия', 'nsubj', 'PROPN', '->', представила),\n",
       " ('история', 'история', 'nsubj', 'NOUN', '->', ведет),\n",
       " ('власть', 'власти', 'nsubj', 'NOUN', '->', привыкли),\n",
       " ('украина', 'Украину', 'obj', 'PROPN', '->', называют),\n",
       " ('россия', 'Россия', 'nsubj', 'PROPN', '->', продолжит),\n",
       " ('крейсер', 'крейсер', 'nsubj', 'NOUN', '->', вернется),\n",
       " ('история', 'История', 'nsubj', 'NOUN', '->', началась),\n",
       " ('начало', 'начала', 'obl', 'NOUN', '->', прошел),\n",
       " ('центр', 'центр', 'nsubj', 'NOUN', '->', представил),\n",
       " ('ростех', 'Ростех', 'nsubj', 'PROPN', '->', увеличил),\n",
       " ('инженер', 'Инженеры', 'nsubj', 'NOUN', '->', изменят),\n",
       " ('время', 'время', 'obl', 'NOUN', '->', пополнится),\n",
       " ('\"', '«', 'punct', 'PUNCT', '->', превратилась),\n",
       " None,\n",
       " ('ростех', 'Ростех', 'nsubj', 'PROPN', '->', представит),\n",
       " ('сша', 'США', 'nsubj', 'PROPN', '->', представили),\n",
       " None,\n",
       " ('история', 'история', 'nsubj', 'NOUN', '->', знает),\n",
       " ('производство', 'Производство', 'nsubj', 'NOUN', '->', может),\n",
       " ('2', '2', 'obl', 'ADJ', '->', затонула),\n",
       " ('партия', 'партия', 'nsubj:pass', 'NOUN', '->', отправлена),\n",
       " ('россия', 'России', 'obl', 'PROPN', '->', завершены),\n",
       " ('военный', 'военных', 'obl', 'NOUN', '->', может),\n",
       " ('конфликт', 'конфликтах', 'obl', 'NOUN', '->', используют),\n",
       " ('война', 'войны', 'obl', 'NOUN', '->', уделяли),\n",
       " ('россия', 'России', 'obl', 'PROPN', '->', планируют),\n",
       " ('источник', 'источник', 'nsubj', 'NOUN', '->', сообщил),\n",
       " ('мировой', 'мировая', 'nsubj', 'ADJ', '->', могла),\n",
       " ('начало', 'началу', 'obl', 'NOUN', '->', подошел),\n",
       " ('война', 'войну', 'nsubj', 'NOUN', '->', невозможно),\n",
       " ('ракета', 'ракета', 'nsubj:pass', 'NOUN', '->', принята),\n",
       " ('автомат', 'автомат', 'nsubj:pass', 'NOUN', '->', доработан),\n",
       " ('колебание', 'колебаний', 'obl', 'NOUN', '->', объявил),\n",
       " ('зона', 'зону', 'obl', 'NOUN', '->', доставят),\n",
       " ('производство', 'Производство', 'nsubj:pass', 'NOUN', '->', локализовано),\n",
       " ('вс', 'ВС', 'obl', 'PROPN', '->', нет),\n",
       " ('конфликт', 'Конфликт', 'nsubj', 'NOUN', '->', дал),\n",
       " ('боекомплект', 'боекомплект', 'nsubj:pass', 'NOUN', '->', изготовлен),\n",
       " ('власть', 'Власти', 'nsubj', 'NOUN', '->', решили),\n",
       " ('проход', 'проходом', 'obl', 'NOUN', '->', проследил),\n",
       " ('концерн', 'концерн', 'nsubj', 'NOUN', '->', выпустил),\n",
       " ('foreign', 'Foreign', 'nsubj', 'X', '->', утверждает),\n",
       " ('завод', 'завод', 'nsubj', 'NOUN', '->', рассчитывает),\n",
       " ('год', 'года', 'obl', 'NOUN', '->', может),\n",
       " ('мужество', 'мужество', 'nsubj', 'NOUN', '->', может),\n",
       " ('необходимость', 'необходимости', 'obl', 'NOUN', '->', сможет),\n",
       " ('сша', 'США', 'nsubj', 'PROPN', '->', отправят),\n",
       " ('\\n                            ',\n",
       "  '\\n                            ',\n",
       "  'dep',\n",
       "  'SPACE',\n",
       "  '->',\n",
       "  Оснащенный),\n",
       " ('фрегат', 'фрегат', 'obj', 'NOUN', '->', оснастили),\n",
       " ('президент', 'президент', 'nsubj', 'NOUN', '->', отдал),\n",
       " ('месяц', 'месяцев', 'obl', 'NOUN', '->', начнет),\n",
       " ('армия', 'армию', 'obl', 'NOUN', '->', поставлены),\n",
       " ('сша', 'США', 'obl', 'PROPN', '->', сообщила),\n",
       " ('ведомство', 'ведомство', 'nsubj', 'NOUN', '->', заключило),\n",
       " ('31', '31', 'obl', 'ADJ', '->', одержал),\n",
       " ('ракетоносец', 'ракетоносец', 'nsubj', 'NOUN', '->', завершил),\n",
       " ('штат', 'Штаты', 'nsubj', 'PROPN', '->', рассматривают),\n",
       " ('фрегат', 'Фрегат', 'nsubj', 'NOUN', '->', завершил),\n",
       " ('концерн', 'Концерн', 'nsubj', 'NOUN', '->', сделает),\n",
       " ('конфликт', 'конфликт', 'nsubj', 'NOUN', '->', выглядит),\n",
       " ('корабль', 'корабль', 'nsubj', 'NOUN', '->', выполнил),\n",
       " ('разработчик', 'разработчики', 'nsubj', 'NOUN', '->', создали),\n",
       " ('ракетоносец', 'ракетоносец', 'nsubj', 'NOUN', '->', планируют),\n",
       " ('начало', 'начале', 'obl', 'NOUN', '->', должен),\n",
       " ('насколько', 'Насколько', 'advmod', 'SCONJ', '->', неожиданным),\n",
       " ('министерство', 'Министерство', 'nsubj', 'PROPN', '->', утвердило),\n",
       " ('концерн', 'Концерн', 'nsubj', 'NOUN', '->', завершил),\n",
       " ('держава', 'держав', 'obl', 'NOUN', '->', служат),\n",
       " ('корабль', 'корабль', 'nsubj', 'NOUN', '->', начал),\n",
       " ('область', 'области', 'obl', 'NOUN', '->', заступил),\n",
       " ('сила', 'силы', 'obl', 'NOUN', '->', поступила),\n",
       " ('начало', 'началу', 'obl', 'NOUN', '->', построят),\n",
       " ('россия', 'России', 'obl', 'PROPN', '->', планируют),\n",
       " ('войско', 'войска', 'nsubj', 'NOUN', '->', готовятся),\n",
       " ('ввс', 'ВВС', 'nsubj', 'PROPN', '->', провели),\n",
       " ('власть', 'Власти', 'nsubj', 'NOUN', '->', планируют),\n",
       " ('россия', 'России', 'obl', 'PROPN', '->', ведутся),\n",
       " ('завод', 'завод', 'nsubj', 'NOUN', '->', провел),\n",
       " ('госконцерн', 'госконцерн', 'nsubj', 'NOUN', '->', объявил),\n",
       " ('штат', 'Штаты', 'nsubj', 'PROPN', '->', представили),\n",
       " ('сша', 'США', 'nsubj', 'PROPN', '->', представят),\n",
       " ('орбита', 'орбиту', 'obl', 'NOUN', '->', выведен),\n",
       " ('фрегат', 'фрегат', 'nsubj', 'NOUN', '->', приступил),\n",
       " ('производство', 'производство', 'obl', 'NOUN', '->', запущена),\n",
       " ('ракета', 'ракеты', 'nsubj', 'NOUN', '->', стоять),\n",
       " ('военнослужащий', 'военнослужащие', 'nsubj', 'NOUN', '->', применяют),\n",
       " ('президент', 'Президент', 'nsubj', 'NOUN', '->', участвовал),\n",
       " ('завод', 'завод', 'nsubj', 'NOUN', '->', произвел),\n",
       " ('испытание', 'испытания', 'nsubj', 'NOUN', '->', прошли),\n",
       " ('15', '15', 'obl', 'ADJ', '->', исполнилось),\n",
       " ('рамка', 'рамках', 'obl', 'NOUN', '->', создан),\n",
       " ('13', '13', 'obl', 'ADJ', '->', ушел),\n",
       " ('машина', 'машины', 'nsubj:pass', 'NOUN', '->', оснащены),\n",
       " ('министерство', 'Министерство', 'nsubj', 'PROPN', '->', дали),\n",
       " ('комплекс', 'комплексы', 'nsubj:pass', 'NOUN', '->', используются),\n",
       " ('Ежедневно', 'Ежедневно', 'advmod', 'ADV', '->', ведут),\n",
       " ('военнослужащий', 'военнослужащие', 'nsubj', 'NOUN', '->', поразили),\n",
       " ('прорыв', 'прорыв', 'nsubj', 'NOUN', '->', произошел),\n",
       " ('война', 'война', 'nsubj', 'NOUN', '->', ознаменовалась),\n",
       " ('рамка', 'рамках', 'obl', 'NOUN', '->', рассматривается),\n",
       " ('конфликт', 'конфликты', 'nsubj', 'NOUN', '->', невозможно),\n",
       " ('министерство', 'Министерство', 'nsubj', 'PROPN', '->', подписало),\n",
       " ('турция', 'Турции', 'iobj', 'PROPN', '->', удалось),\n",
       " ('снайпер', 'снайперам', 'iobj', 'NOUN', '->', передали),\n",
       " ('вариант', 'вариант', 'nsubj', 'NOUN', '->', прошел),\n",
       " ('рф', 'РФ', 'obl', 'PROPN', '->', проходят),\n",
       " ('год', 'лет', 'obl', 'NOUN', '->', произошло),\n",
       " ('вашингтон', 'Вашингтон', 'nsubj', 'PROPN', '->', решил),\n",
       " ('россия', 'России', 'obl', 'PROPN', '->', начались),\n",
       " ('полёт', 'полет', 'nsubj', 'NOUN', '->', прошел),\n",
       " ('министерство', 'Министерство', 'nsubj', 'PROPN', '->', продемонстрировало),\n",
       " ('корпорация', 'корпорация', 'nsubj', 'NOUN', '->', представит),\n",
       " ('завод', 'Завод', 'nsubj', 'NOUN', '->', заявил),\n",
       " ('министерство', 'Министерство', 'nsubj', 'PROPN', '->', опубликовало),\n",
       " ('учение', 'Учения', 'nsubj:pass', 'NOUN', '->', запланированы),\n",
       " ('в', 'В', 'advmod', 'ADV', '->', планирует),\n",
       " ('компания', 'компания', 'nsubj', 'NOUN', '->', создала),\n",
       " ('применение', 'Применение', 'nsubj', 'NOUN', '->', вызвало),\n",
       " ('система', 'системы', 'nsubj', 'NOUN', '->', прибыли),\n",
       " ('глава', 'Глава', 'nsubj', 'NOUN', '->', утверждает),\n",
       " ('бюро', 'бюро', 'nsubj', 'NOUN', '->', разрабатывает),\n",
       " ('лодка', 'лодка', 'nsubj:pass', 'NOUN', '->', уменьшена),\n",
       " ('апрель', 'апреле', 'obl', 'NOUN', '->', потерял),\n",
       " ('сила', 'силы', 'obl', 'NOUN', '->', поступят),\n",
       " ('7', '7', 'obl', 'ADJ', '->', исполняется),\n",
       " ('создание', 'Создание', 'nsubj', 'NOUN', '->', займет),\n",
       " ('посол', 'Посол', 'nsubj', 'NOUN', '->', сообщила),\n",
       " ('корея', 'Корея', 'nsubj', 'PROPN', '->', запустила),\n",
       " ('турция', 'Турции', 'obl', 'PROPN', '->', спущен),\n",
       " ('нато', 'НАТО', 'nsubj', 'PROPN', '->', опасается),\n",
       " ('завод', 'завод', 'nsubj', 'NOUN', '->', завершил),\n",
       " ('лето', 'Летом', 'obl', 'NOUN', '->', замелькали),\n",
       " ('группа', 'Группа', 'nsubj', 'NOUN', '->', увеличила),\n",
       " ('страна', 'стран', 'obl', 'NOUN', '->', закончились),\n",
       " ('траектория', 'траекторию', 'nsubj', 'NOUN', '->', невозможно),\n",
       " ('год', 'году', 'obl', 'NOUN', '->', получат),\n",
       " ('глава', 'Глава', 'nsubj', 'NOUN', '->', заявил),\n",
       " ('издание', 'издание', 'nsubj', 'NOUN', '->', пишет),\n",
       " ('17', '17', 'obl', 'ADJ', '->', погиб),\n",
       " ('корабль', 'корабль', 'nsubj:pass', 'NOUN', '->', сдан),\n",
       " ('истребитель', 'истребители', 'nsubj', 'NOUN', '->', провели),\n",
       " ('власть', 'Власти', 'nsubj', 'NOUN', '->', намерены),\n",
       " ('12', '12', 'obl', 'ADJ', '->', исполняется),\n",
       " ('эффективно', 'эффективно', 'advmod', 'ADV', '->', действовали),\n",
       " ('пополнение', 'пополнения', 'obl', 'NOUN', '->', заключили),\n",
       " ('военный', 'военные', 'nsubj', 'NOUN', '->', переправляют),\n",
       " ('один', 'Один', 'nsubj', 'NUM', '->', ликвидировал),\n",
       " ('рамка', 'рамках', 'obl', 'NOUN', '->', разрабатывается),\n",
       " ('пресса', 'прессе', 'obl', 'NOUN', '->', мелькают),\n",
       " ('авиация', 'авиация', 'nsubj', 'NOUN', '->', вышли),\n",
       " ('машина', 'машина', 'nsubj', 'NOUN', '->', способна),\n",
       " ('30', '30', 'obl', 'ADJ', '->', можно),\n",
       " ('история', 'истории', 'obl', 'NOUN', '->', есть),\n",
       " ('министерство', 'Министерство', 'nsubj', 'PROPN', '->', приняло),\n",
       " ('компания', 'компания', 'nsubj', 'NOUN', '->', начала),\n",
       " ('министерство', 'Министерство', 'nsubj', 'PROPN', '->', начинает),\n",
       " ('производитель', 'производители', 'nsubj', 'NOUN', '->', работают),\n",
       " ('в', 'В', 'advmod', 'ADV', '->', специфичен),\n",
       " ('бюро', 'бюро', 'nsubj', 'NOUN', '->', представило),\n",
       " ('бюро', 'бюро', 'nsubj', 'NOUN', '->', показало),\n",
       " ('министерство', 'Министерство', 'nsubj', 'PROPN', '->', подписало),\n",
       " ('цкб', 'ЦКБ', 'nsubj', 'PROPN', '->', разработало),\n",
       " None,\n",
       " ('завод', 'Завод', 'nsubj', 'NOUN', '->', показал),\n",
       " ('форум', 'форуме', 'obl', 'NOUN', '->', покажут),\n",
       " ('форум', 'форуме', 'obl', 'NOUN', '->', показали),\n",
       " ('завод', 'завод', 'nsubj', 'NOUN', '->', продемонстрировал),\n",
       " ('россия', 'России', 'obl', 'PROPN', '->', создается),\n",
       " ('год', 'годы', 'obl', 'NOUN', '->', вытеснили),\n",
       " ('институт', 'институт', 'nsubj', 'NOUN', '->', представит),\n",
       " ('орудие', 'орудие', 'nsubj', 'NOUN', '->', прошло),\n",
       " ('лето', 'Летом', 'obl', 'NOUN', '->', развернулась),\n",
       " ('робот', 'робот', 'nsubj:pass', 'NOUN', '->', сконструирован),\n",
       " ('Рядом', 'Рядом', 'advmod', 'ADV', '->', уничтожили),\n",
       " ('спецоперация', 'спецоперация', 'nsubj', 'NOUN', '->', стала),\n",
       " ('9', '9', 'obl', 'ADJ', '->', исполняется),\n",
       " ('показ', 'показе', 'obl', 'NOUN', '->', примет),\n",
       " ('министерство', 'Министерство', 'nsubj', 'PROPN', '->', продемонстрировало),\n",
       " ('британец', 'Британцы', 'nsubj', 'NOUN', '->', отнеслись),\n",
       " ('первый', 'Первым', 'obl', 'ADJ', '->', заступит),\n",
       " ('сила', 'силы', 'nsubj', 'NOUN', '->', научились),\n",
       " ('человечество', 'Человечество', 'nsubj', 'NOUN', '->', использует),\n",
       " ('великобритания', 'Великобритания', 'nsubj', 'PROPN', '->', занялись),\n",
       " ('лодка', 'лодка', 'nsubj', 'NOUN', '->', может),\n",
       " ('суббота', 'субботу', 'obl', 'NOUN', '->', продемонстрировали),\n",
       " ('спецподразделение', 'спецподразделения', 'nsubj', 'NOUN', '->', стали),\n",
       " ('военнослужащий', 'военнослужащие', 'nsubj', 'NOUN', '->', начали),\n",
       " ('сша', 'США', 'obl', 'PROPN', '->', испытали),\n",
       " ('глава', 'Глава', 'nsubj', 'NOUN', '->', сообщил),\n",
       " ('время', 'время', 'obl', 'NOUN', '->', получит),\n",
       " ('17', '17', 'obl', 'ADJ', '->', началась),\n",
       " ('подразделение', 'подразделения', 'nsubj', 'NOUN', '->', применяют),\n",
       " ('снаряд', 'Снаряды', 'nsubj', 'NOUN', '->', являются),\n",
       " ('сила', 'силы', 'nsubj', 'NOUN', '->', использовали),\n",
       " ('предприятие', 'предприятии', 'obl', 'NOUN', '->', состоялась),\n",
       " ('область', 'области', 'obl', 'NOUN', '->', проходят),\n",
       " ('год', 'году', 'obl', 'NOUN', '->', завершатся),\n",
       " ('5', '5', 'obl', 'ADJ', '->', начали),\n",
       " ('войско', 'войска', 'nsubj', 'NOUN', '->', используют),\n",
       " ('испытание', 'испытание', 'nsubj', 'NOUN', '->', завершилось),\n",
       " ('россия', 'России', 'obl', 'PROPN', '->', планируют),\n",
       " ('лодка', 'лодка', 'nsubj', 'NOUN', '->', готовится),\n",
       " ('артиллерия', 'артиллерия', 'nsubj', 'NOUN', '->', начала),\n",
       " ('многие', 'Многие', 'nsubj', 'NOUN', '->', прошли),\n",
       " ('Успешно', 'Успешно', 'advmod', 'ADV', '->', проведено),\n",
       " ('военнослужащий', 'военнослужащие', 'nsubj', 'NOUN', '->', задействовали),\n",
       " ('завод', 'завод', 'nsubj', 'NOUN', '->', продемонстрировал),\n",
       " ('сила', 'силами', 'obl', 'NOUN', '->', потеряно),\n",
       " ('комплекс', 'комплексы', 'nsubj:pass', 'NOUN', '->', применяются),\n",
       " ('россия', 'России', 'obl', 'PROPN', '->', есть),\n",
       " ('оружие', 'оружие', 'nsubj', 'NOUN', '->', способно),\n",
       " ('автор', 'Авторами', 'xcomp', 'NOUN', '->', стали),\n",
       " ('верфь', 'верфях', 'obl', 'NOUN', '->', заложили),\n",
       " ('12', '12', 'obl', 'ADJ', '->', нарушили),\n",
       " ('день', 'День', 'obl', 'PROPN', '->', произведут),\n",
       " ('ракета', 'ракеты', 'obl', 'NOUN', '->', меньше),\n",
       " ('источник', 'источник', 'nsubj', 'NOUN', '->', пояснил),\n",
       " ('год', 'лет', 'obl', 'NOUN', '->', начался),\n",
       " ('место', 'Местом', 'xcomp', 'NOUN', '->', выбрана),\n",
       " None,\n",
       " ('командующий', 'Командующий', 'nsubj', 'NOUN', '->', сообщил),\n",
       " ('продолжение', 'продолжение', 'nsubj:pass', 'NOUN', '->', объясняется),\n",
       " ('4', '4', 'obl', 'ADJ', '->', произошло),\n",
       " ('швеция', 'Швеции', 'obl', 'PROPN', '->', рассказали),\n",
       " ('фрегат', 'Фрегат', 'nsubj', 'NOUN', '->', выполнил),\n",
       " ('год', 'году', 'obl', 'NOUN', '->', сделал),\n",
       " ('закон', 'закон', 'nsubj', 'NOUN', '->', позволяет),\n",
       " ('ракета', 'ракета', 'nsubj', 'NOUN', '->', обладает),\n",
       " ('Похоже', 'Похоже', 'parataxis', 'ADV', '->', нашло),\n",
       " ('причина', 'причины', 'obj', 'NOUN', '->', сочла),\n",
       " ('сила', 'силы', 'nsubj', 'NOUN', '->', задействовали),\n",
       " ('сила', 'силы', 'nsubj', 'NOUN', '->', заинтересованы),\n",
       " ('разгром', 'разгрома', 'obl', 'NOUN', '->', осуществляли),\n",
       " ('7', '7', 'obl', 'ADJ', '->', исполняется),\n",
       " ('заместитель', 'Заместитель', 'nsubj', 'NOUN', '->', выступили),\n",
       " ('год', 'году', 'obl', 'NOUN', '->', достигли),\n",
       " ('вертолёт', 'вертолетов', 'nsubj', 'NOUN', '->', намерено),\n",
       " ('год', 'годы', 'obl', 'NOUN', '->', уделяла),\n",
       " ('полк', 'полк', 'nsubj:pass', 'NOUN', '->', должен),\n",
       " ('история', 'История', 'nsubj', 'NOUN', '->', ассоциируется),\n",
       " ('военнослужащий', 'военнослужащих', 'nsubj', 'NOUN', '->', проходят),\n",
       " ('авианосец', 'авианосцев', 'nsubj', 'NOUN', '->', могут),\n",
       " ('матрос', 'матроса', 'nsubj', 'NOUN', '->', погибли),\n",
       " ('катастрофа', 'катастрофы', 'obl', 'NOUN', '->', потерпели),\n",
       " ('год', 'году', 'obl', 'NOUN', '->', принята),\n",
       " ('дрон', 'дрона', 'nsubj:pass', 'NOUN', '->', размещены),\n",
       " ('китай', 'Китай', 'nsubj', 'PROPN', '->', доставил),\n",
       " ('сила', 'силы', 'nsubj', 'NOUN', '->', намерены),\n",
       " ('часть', 'части', 'obl', 'NOUN', '->', завершились),\n",
       " ('предприятие', 'Предприятия', 'nsubj', 'NOUN', '->', столкнулись),\n",
       " ('октябрь', 'октябре', 'obl', 'NOUN', '->', заблокировали),\n",
       " ('военный', 'военные', 'nsubj', 'NOUN', '->', провели),\n",
       " ('год', 'году', 'obl', 'NOUN', '->', принята),\n",
       " ('испытание', 'Испытание', 'nsubj', 'NOUN', '->', демонстрирует),\n",
       " ('комплекс', 'комплекс', 'nsubj', 'NOUN', '->', прошел),\n",
       " ('лодка', 'лодки', 'nsubj:pass', 'NOUN', '->', применялись),\n",
       " ('лодка', 'лодка', 'nsubj:pass', 'NOUN', '->', введены),\n",
       " ('власть', 'Власти', 'nsubj', 'NOUN', '->', намерены),\n",
       " ('22', '22', 'obl', 'ADJ', '->', исполняется),\n",
       " ('обещание', 'Обещание', 'nsubj', 'NOUN', '->', оказалось),\n",
       " ('крейсер', 'крейсер', 'nsubj:pass', 'NOUN', '->', передан),\n",
       " ('корабль', 'корабли', 'nsubj', 'NOUN', '->', прошли),\n",
       " ('нпо', 'НПО', 'nsubj', 'PROPN', '->', имеет),\n",
       " ('применение', 'применение', 'nsubj:pass', 'NOUN', '->', датировано),\n",
       " ('значение', 'значение', 'obj', 'NOUN', '->', придавали),\n",
       " ('система', 'система', 'nsubj', 'NOUN', '->', прошла),\n",
       " ('служба', 'служба', 'nsubj', 'NOUN', '->', выпустила),\n",
       " ('система', 'система', 'nsubj:pass', 'NOUN', '->', переброшена),\n",
       " ('происходить', 'Происходящее', 'nsubj', 'VERB', '->', должно),\n",
       " ('россия', 'Россия', 'nsubj', 'PROPN', '->', наращивают),\n",
       " ('авиация', 'Авиация', 'nsubj', 'NOUN', '->', изучает),\n",
       " ('линкор', 'линкор', 'nsubj', 'NOUN', '->', угрозой),\n",
       " ('\"', '«', 'punct', 'PUNCT', '->', Уланы),\n",
       " ('сила', 'силы', 'nsubj', 'NOUN', '->', взяли),\n",
       " ('война', 'войны', 'obl', 'NOUN', '->', предлагали),\n",
       " ('история', 'история', 'nsubj', 'NOUN', '->', знает),\n",
       " ('сила', 'силы', 'nsubj', 'NOUN', '->', наносят),\n",
       " ('задача', 'задачей', 'xcomp', 'NOUN', '->', остается),\n",
       " ('военнослужащий', 'Военнослужащие', 'nsubj', 'NOUN', '->', приняли),\n",
       " ('26', '26', 'obl', 'ADJ', '->', принял),\n",
       " ('гражданин', 'Гражданам', 'iobj', 'NOUN', '->', надлежит),\n",
       " None,\n",
       " ('военный', 'военные', 'nsubj', 'NOUN', '->', продолжают),\n",
       " ('мнение', 'мнению', 'parataxis', 'NOUN', '->', выполнил),\n",
       " ('армия', 'Армия', 'nsubj', 'NOUN', '->', испытывает),\n",
       " ('министр', 'Министр', 'nsubj', 'NOUN', '->', представили),\n",
       " ('истребитель', 'Истребители', 'nsubj', 'NOUN', '->', прибыли),\n",
       " ('флот', 'флот', 'nsubj', 'NOUN', '->', начал),\n",
       " ('расчёт', 'Расчеты', 'nsubj', 'NOUN', '->', провели),\n",
       " ('верфь', 'верфи', 'nsubj', 'NOUN', '->', начали),\n",
       " ('заместитель', 'Заместитель', 'nsubj', 'NOUN', '->', сообщил),\n",
       " ('подразделение', 'Подразделения', 'nsubj', 'NOUN', '->', приступили),\n",
       " ('госдепартамент', 'Госдепартамент', 'nsubj', 'PROPN', '->', выдал),\n",
       " ('год', 'лет', 'obl', 'NOUN', '->', провели),\n",
       " ('истребитель', 'Истребители', 'nsubj', 'NOUN', '->', уничтожили),\n",
       " ('министр', 'Министр', 'nsubj', 'NOUN', '->', сообщила),\n",
       " ('самолёт', 'самолет', 'nsubj', 'NOUN', '->', совершил),\n",
       " ('впервые', 'Впервые', 'advmod', 'ADV', '->', соберутся),\n",
       " ('экипаж', 'Экипажи', 'nsubj', 'NOUN', '->', отработали),\n",
       " ('индонезия', 'Индонезия', 'nsubj', 'PROPN', '->', приобрела),\n",
       " None,\n",
       " ('поставка', 'Поставки', 'nsubj', 'NOUN', '->', являются),\n",
       " ('вооружение', 'вооружение', 'obl', 'NOUN', '->', поступят),\n",
       " ('капитуляция', 'капитуляции', 'obl', 'NOUN', '->', оставалось),\n",
       " ('учение', 'Учения', 'nsubj:pass', 'NOUN', '->', проводятся),\n",
       " ('штурмовик', 'Штурмовики', 'nsubj:pass', 'NOUN', '->', перебазированы),\n",
       " ('\"', '«', 'punct', 'PUNCT', '->', стыдно),\n",
       " ('состав', 'составе', 'obl', 'NOUN', '->', есть),\n",
       " ('служба', 'служба', 'nsubj', 'NOUN', '->', типичной),\n",
       " ('минобороны', 'Минобороны', 'nsubj', 'PROPN', '->', получит),\n",
       " ('министерство', 'Министерство', 'nsubj', 'PROPN', '->', сообщило),\n",
       " ('месяц', 'месяцы', 'obl', 'NOUN', '->', возросла),\n",
       " ('корпорация', 'Корпорация', 'nsubj', 'NOUN', '->', передала),\n",
       " ('авианосец', 'авианосец', 'nsubj', 'NOUN', '->', вышел),\n",
       " ('сила', 'силы', 'nsubj', 'NOUN', '->', получат),\n",
       " ('вмф', 'ВМФ', 'nsubj', 'PROPN', '->', проводит),\n",
       " ('случай', 'случае', 'obl', 'NOUN', '->', доминировать),\n",
       " ('передача', 'Передача', 'nsubj', 'NOUN', '->', должна),\n",
       " ('корабль', 'корабль', 'nsubj', 'NOUN', '->', сломался),\n",
       " ('эшелон', 'эшелон', 'nsubj', 'NOUN', '->', доставил),\n",
       " ('корвет', 'корвет', 'nsubj', 'NOUN', '->', потерял),\n",
       " ('египет', 'Египет', 'nsubj', 'PROPN', '->', получит),\n",
       " ('достигнуть', 'достигнет', 'advcl', 'VERB', '->', вынуждены),\n",
       " ('облёт', 'облет', 'obj', 'NOUN', '->', совершили),\n",
       " ('вмс', 'ВМС', 'nsubj', 'PROPN', '->', собрали),\n",
       " ('ракета', 'ракеты', 'nsubj', 'NOUN', '->', позволят),\n",
       " ('эволюция', 'Эволюция', 'nsubj', 'NOUN', '->', может),\n",
       " ('система', 'Система', 'nsubj', 'NOUN', '->', сбила),\n",
       " ('служба', 'Служба', 'nsubj:pass', 'PROPN', '->', сопряжена),\n",
       " ('год', 'лет', 'obl', 'NOUN', '->', иллюзорной),\n",
       " ('оценка', 'оценке', 'parataxis', 'NOUN', '->', потеряла),\n",
       " ('система', 'система', 'nsubj', 'NOUN', '->', продемонстрировала),\n",
       " ('компания', 'компания', 'nsubj', 'NOUN', '->', заключила),\n",
       " ('корея', 'Корея', 'nsubj', 'PROPN', '->', подписали),\n",
       " ('начинать', 'Начиная', 'advcl', 'VERB', '->', определяется),\n",
       " ('эсминец', 'Эсминец', 'nsubj:pass', 'NOUN', '->', оснащен),\n",
       " ('учение', 'учениях', 'obl', 'NOUN', '->', примут),\n",
       " ('12', '12', 'obl', 'ADJ', '->', исполняется),\n",
       " ('оружие', 'оружие', 'nsubj', 'NOUN', '->', удалось),\n",
       " ('особенность', 'особенность', 'nsubj', 'NOUN', '->', скрытность),\n",
       " ('эру', 'Эру', 'nsubj:pass', 'PROPN', '->', принято),\n",
       " ('кабинет', 'Кабинет', 'nsubj', 'PROPN', '->', утвердил),\n",
       " ('год', 'год', 'nsubj', 'NOUN', '->', оказался),\n",
       " ('швеция', 'Швеция', 'nsubj', 'PROPN', '->', нарастит),\n",
       " ('корвет', 'Корвет', 'nsubj:pass', 'NOUN', '->', восстановлен),\n",
       " ('корабль', 'корабль', 'nsubj', 'NOUN', '->', получит),\n",
       " ('подъёмник', 'подъемник', 'nsubj:pass', 'NOUN', '->', смонтирован),\n",
       " ('испытание', 'испытания', 'nsubj', 'NOUN', '->', завершатся),\n",
       " ('крейсер', 'крейсер', 'nsubj:pass', 'NOUN', '->', выведен),\n",
       " ('появление', 'появления', 'obl', 'NOUN', '->', сообщили),\n",
       " ('очки', 'очки', 'nsubj', 'NOUN', '->', должны),\n",
       " ('крейсер', 'крейсера', 'nsubj:pass', 'NOUN', '->', заложены),\n",
       " ('специалист', 'специалисты', 'nsubj', 'NOUN', '->', разработали),\n",
       " ('год', 'году', 'obl', 'NOUN', '->', продемонстрируют),\n",
       " ('армия', 'Армия', 'nsubj', 'NOUN', '->', заключила),\n",
       " ('соединение', 'Соединение', 'nsubj', 'NOUN', '->', проводит),\n",
       " ('вмф', 'ВМФ', 'nsubj', 'PROPN', '->', провел),\n",
       " ('меньше', 'Меньше', 'nsubj', 'NUM', '->', остается),\n",
       " ('госдеп', 'Госдеп', 'nsubj', 'PROPN', '->', одобрил),\n",
       " ('город', 'городе', 'obl', 'NOUN', '->', завершено),\n",
       " ('часть', 'части', 'obl', 'NOUN', '->', начнут),\n",
       " ('войско', 'войска', 'nsubj', 'NOUN', '->', получили),\n",
       " ('крейсер', 'крейсер', 'nsubj', 'NOUN', '->', вошли),\n",
       " ('компания', 'Компания', 'nsubj', 'NOUN', '->', вывела),\n",
       " ('начало', 'начале', 'obl', 'NOUN', '->', доставили),\n",
       " ('ввс', 'ВВС', 'nsubj', 'PROPN', '->', провели),\n",
       " ('пуск', 'пуск', 'nsubj', 'NOUN', '->', должен),\n",
       " ('россия', 'Россия', 'nsubj', 'PROPN', '->', планирует),\n",
       " None,\n",
       " ('промысел', 'промысел', 'nsubj', 'NOUN', '->', развивается),\n",
       " ('ввс', 'ВВС', 'nsubj', 'PROPN', '->', смогли),\n",
       " ('ведомство', 'ведомство', 'nsubj', 'NOUN', '->', продемонстрировало),\n",
       " ('год', 'лет', 'obl', 'NOUN', '->', останется),\n",
       " ('фрегат', 'Фрегат', 'nsubj', 'NOUN', '->', провел),\n",
       " ('аппарат', 'аппарат', 'nsubj:pass', 'NOUN', '->', рассматривается),\n",
       " ('вмс', 'ВМС', 'nsubj', 'PROPN', '->', испытали),\n",
       " ('истребитель', 'истребители', 'nsubj', 'NOUN', '->', приземлились),\n",
       " ('пожар', 'Пожар', 'nsubj:pass', 'NOUN', '->', устроен),\n",
       " ('фрегат', 'фрегат', 'nsubj', 'NOUN', '->', произвел),\n",
       " ('завод', 'Завод', 'nsubj', 'NOUN', '->', завершил),\n",
       " ('контракт', 'Контракт', 'nsubj:pass', 'NOUN', '->', заключен),\n",
       " ('министерство', 'Министерство', 'nsubj', 'PROPN', '->', попросило),\n",
       " ('крейсер', 'крейсер', 'nsubj', 'NOUN', '->', станет),\n",
       " ('россия', 'Россия', 'nsubj', 'PROPN', '->', готова),\n",
       " ('министр', 'Министр', 'nsubj', 'NOUN', '->', объявил),\n",
       " ('офицер', 'офицер', 'nsubj:pass', 'NOUN', '->', освобожден),\n",
       " ('госдепартамент', 'Госдепартамент', 'nsubj', 'PROPN', '->', одобрил),\n",
       " ('аппарат', 'аппарат', 'nsubj', 'NOUN', '->', провел),\n",
       " ('финляндия', 'Финляндия', 'nsubj', 'PROPN', '->', станет),\n",
       " ('авианосец', 'Авианосец', 'nsubj', 'NOUN', '->', вернулись),\n",
       " ('время', 'время', 'nmod', 'NOUN', '->', силой),\n",
       " ('разработка', 'разработке', 'obl', 'NOUN', '->', сообщил),\n",
       " ('технология', 'Технологии', 'nsubj', 'NOUN', '->', позволят),\n",
       " ('проект', 'проект', 'nsubj', 'NOUN', '->', предусматривает),\n",
       " ('истребитель', 'истребители', 'nsubj', 'NOUN', '->', подошли),\n",
       " ('вооружение', 'вооружение', 'obl', 'NOUN', '->', поступила),\n",
       " ('поддержание', 'Поддержание', 'nsubj', 'NOUN', '->', подрывает),\n",
       " ('фрегат', 'Фрегат', 'nsubj', 'NOUN', '->', вышли),\n",
       " ('индия', 'Индия', 'nsubj', 'PROPN', '->', намерена),\n",
       " ('истребитель', 'истребителей', 'nsubj:pass', 'NOUN', '->', переданы),\n",
       " ('база', 'базу', 'obl', 'NOUN', '->', зашла),\n",
       " ('рамка', 'рамках', 'obl', 'NOUN', '->', обсуждались),\n",
       " ('истребитель', 'истребителей', 'nsubj:pass', 'NOUN', '->', приобретены),\n",
       " ('случай', 'случай', 'obl', 'NOUN', '->', нуждаются),\n",
       " ('прототип', 'Прототип', 'nsubj:pass', 'NOUN', '->', погружен),\n",
       " ('развитие', 'Развитие', 'nsubj', 'NOUN', '->', продолжается),\n",
       " ('россия', 'Россия', 'nsubj', 'PROPN', '->', допустит),\n",
       " ('ледокол', 'ледокол', 'nsubj', 'NOUN', '->', завершил),\n",
       " ('иркутск', 'Иркутске', 'obl', 'PROPN', '->', завершена),\n",
       " ('год', 'году', 'obl', 'NOUN', '->', получат),\n",
       " ('год', 'годы', 'obl', 'NOUN', '->', начали),\n",
       " ('недавно', 'Недавно', 'advmod', 'ADV', '->', объявило),\n",
       " ('москва', 'Москва', 'nsubj', 'PROPN', '->', готовят),\n",
       " ('директор', 'Директор', 'nsubj', 'NOUN', '->', рассказал),\n",
       " ('воскресение', 'воскресенье', 'obl', 'NOUN', '->', введут),\n",
       " ('вмс', 'ВМС', 'nsubj', 'PROPN', '->', проведут),\n",
       " ('группа', 'Группа', 'nsubj', 'NOUN', '->', передала),\n",
       " ('истребитель', 'Истребитель', 'nsubj', 'NOUN', '->', потерпел),\n",
       " ('авианосец', 'авианосец', 'nsubj', 'NOUN', '->', получает),\n",
       " ('госдума', 'Госдума', 'nsubj', 'PROPN', '->', приняла),\n",
       " ('ледокол', 'ледокол', 'nsubj', 'NOUN', '->', начал),\n",
       " ('состав', 'состав', 'obl', 'NOUN', '->', вошел),\n",
       " ('компания', 'Компания', 'nsubj', 'NOUN', '->', планирует),\n",
       " ('директор', 'Директор', 'nsubj', 'NOUN', '->', сообщил),\n",
       " ('выставка', 'выставке', 'obl', 'NOUN', '->', продемонстрирован),\n",
       " ('москва', 'Москва', 'nsubj', 'PROPN', '->', ведут),\n",
       " ('россия', 'Россия', 'nsubj', 'PROPN', '->', заключила),\n",
       " ('компания', 'Компания', 'nsubj', 'NOUN', '->', оснастила),\n",
       " ('госкомпания', 'Госкомпания', 'nsubj', 'NOUN', '->', представила),\n",
       " ('бомбардировщик', 'бомбардировщики', 'nsubj', 'NOUN', '->', выполняли),\n",
       " ('аппарат', 'аппарат', 'obj', 'NOUN', '->', покажут),\n",
       " ('полёт', 'полетов', 'nsubj', 'NOUN', '->', зафиксировали),\n",
       " ('год', 'годы', 'obl', 'NOUN', '->', поступит),\n",
       " ('россия', 'Россия', 'nsubj', 'PROPN', '->', проводят),\n",
       " ('минобороны', 'Минобороны', 'nsubj', 'PROPN', '->', заявило),\n",
       " ('акцент', 'Акценты', 'nsubj:pass', 'NOUN', '->', сосредоточены),\n",
       " ('контракт', 'Контракт', 'nsubj', 'NOUN', '->', носит),\n",
       " ('снимок', 'снимки', 'nsubj', 'NOUN', '->', позволили),\n",
       " ('война', 'войну', 'obl', 'NOUN', '->', вступили),\n",
       " ('\\n                            ',\n",
       "  '\\n                            ',\n",
       "  'dep',\n",
       "  'SPACE',\n",
       "  '->',\n",
       "  Опубликованы),\n",
       " ('лодка', 'лодка', 'nsubj', 'NOUN', '->', врезалась),\n",
       " ('флот', 'флот', 'nsubj', 'NOUN', '->', находятся),\n",
       " ('авианосец', 'авианосец', 'nsubj', 'NOUN', '->', выйдет),\n",
       " ('остров', 'острова', 'nsubj', 'NOUN', '->', отошли),\n",
       " ('ракетоносец', 'ракетоносца', 'nsubj', 'NOUN', '->', пролетели),\n",
       " ('\\n                            ',\n",
       "  '\\n                            ',\n",
       "  'dep',\n",
       "  'SPACE',\n",
       "  '->',\n",
       "  Свершилось),\n",
       " ('сша', 'США', 'nsubj', 'PROPN', '->', провели),\n",
       " ('ракетоносец', 'ракетоносец', 'nsubj', 'NOUN', '->', провел),\n",
       " ('великобритания', 'Великобритания', 'nsubj', 'PROPN', '->', обсуждает),\n",
       " ('холдинг', 'Холдинг', 'nsubj', 'PROPN', '->', разработал),\n",
       " ('николас', 'Николас', 'nsubj', 'PROPN', '->', заявил),\n",
       " ('италия', 'Италия', 'nsubj', 'PROPN', '->', ведут),\n",
       " ('специалист', 'Специалисты', 'nsubj', 'NOUN', '->', провели),\n",
       " ('ракета', 'ракета', 'nsubj', 'NOUN', '->', стала),\n",
       " ('испытание', 'испытания', 'obl', 'NOUN', '->', перекрыла),\n",
       " ('корабль', 'корабль', 'nsubj:pass', 'NOUN', '->', может),\n",
       " ('15', '15', 'obl', 'ADJ', '->', исполняется),\n",
       " ('истребитель', 'истребителей', 'nsubj:pass', 'NOUN', '->', переданы),\n",
       " ('сша', 'США', 'obl', 'PROPN', '->', проходит),\n",
       " ('программа', 'Программой', 'obl', 'NOUN', '->', предусмотрено),\n",
       " ('компания', 'Компания', 'nsubj', 'NOUN', '->', ведет),\n",
       " ('москва', 'Москву', 'obj', 'PROPN', '->', прикрывает),\n",
       " ('состав', 'состав', 'obl', 'NOUN', '->', вошла),\n",
       " ('активность', 'Активность', 'nsubj', 'NOUN', '->', увеличилась),\n",
       " ('фрегат', 'фрегат', 'nsubj', 'NOUN', '->', вышел),\n",
       " ('завод', 'Завод', 'nsubj', 'NOUN', '->', строить),\n",
       " ('россия', 'России', 'obl', 'PROPN', '->', осваивают),\n",
       " ('служба', 'служба', 'nsubj', 'NOUN', '->', подготовила),\n",
       " ('корабль', 'кораблей', 'obl', 'NOUN', '->', выполняют),\n",
       " ('число', 'Число', 'nsubj', 'NOUN', '->', возросло),\n",
       " None,\n",
       " ('учение', 'учения', 'nsubj', 'NOUN', '->', показали),\n",
       " ('пуск', 'пуски', 'nsubj', 'NOUN', '->', позволяют),\n",
       " ('расчёт', 'Расчеты', 'nsubj', 'NOUN', '->', получили),\n",
       " ('флот', 'флот', 'nsubj', 'NOUN', '->', завершил),\n",
       " ('истребитель', 'Истребитель', 'nsubj', 'NOUN', '->', совершил),\n",
       " ('лодка', 'лодка', 'nsubj', 'NOUN', '->', выполнила),\n",
       " ('дрон', 'дрон', 'nsubj', 'NOUN', '->', сможет),\n",
       " ('территория', 'территории', 'obl', 'NOUN', '->', проходят),\n",
       " ('год', 'лет', 'obl', 'NOUN', '->', открылась),\n",
       " ('вмс', 'ВМС', 'nsubj', 'PROPN', '->', сформировали),\n",
       " ('бомбардировщик', 'бомбардировщиков', 'nsubj', 'NOUN', '->', завершили),\n",
       " ('рано', 'Рано', 'advmod', 'ADV', '->', сотряс),\n",
       " ('посол', 'Посол', 'nsubj', 'NOUN', '->', заявил),\n",
       " ('область', 'область', 'nsubj', 'NOUN', '->', готова),\n",
       " ('федерация', 'Федерация', 'nsubj', 'PROPN', '->', увеличивает),\n",
       " ('один', 'Один', 'nsubj', 'NUM', '->', вывел),\n",
       " ('россия', 'России', 'obl', 'PROPN', '->', выросла),\n",
       " ('министерство', 'Министерство', 'nsubj', 'PROPN', '->', поддержало),\n",
       " ('субъект', 'субъекты', 'nsubj', 'NOUN', '->', начали),\n",
       " ('лидер', 'лидер', 'nsubj', 'NOUN', '->', выступил),\n",
       " ('период', 'период', 'obl', 'NOUN', '->', совершили),\n",
       " ('нацпрограмма', 'Нацпрограмма', 'nsubj:pass', 'PROPN', '->', разработана),\n",
       " ('президент', 'Президент', 'nsubj', 'NOUN', '->', сообщил),\n",
       " ('страна', 'Страны', 'nsubj', 'NOUN', '->', собираются),\n",
       " ('россия', 'России', 'obl', 'PROPN', '->', сформирована),\n",
       " ('развитие', 'Развитием', 'obl', 'NOUN', '->', нужно),\n",
       " ('совет', 'Совет', 'nsubj', 'PROPN', '->', продлил),\n",
       " ('цена', 'Цена', 'nsubj', 'NOUN', '->', упала),\n",
       " ('система', 'Система', 'nsubj', 'NOUN', '->', поможет),\n",
       " ('цена', 'Цена', 'nsubj', 'NOUN', '->', может),\n",
       " ('агентство', 'агентство', 'nsubj', 'NOUN', '->', понизило),\n",
       " ('правительство', 'Правительство', 'nsubj', 'NOUN', '->', продолжают),\n",
       " ('перестать', 'перестанут', 'advcl', 'VERB', '->', может),\n",
       " ('центробанк', 'Центробанк', 'nsubj', 'PROPN', '->', решил),\n",
       " ('россия', 'Россия', 'nsubj', 'PROPN', '->', продолжают),\n",
       " ('министр', 'Министр', 'nsubj', 'NOUN', '->', заявил),\n",
       " ('государство', 'Государства', 'nsubj', 'NOUN', '->', перешли),\n",
       " ('власть', 'Власти', 'nsubj', 'NOUN', '->', должны),\n",
       " ('компания', 'компания', 'nsubj', 'NOUN', '->', входит),\n",
       " ('дефицит', 'Дефицит', 'nsubj', 'NOUN', '->', проблема),\n",
       " ('бизнесмен', 'бизнесмен', 'nsubj', 'NOUN', '->', потерял),\n",
       " ('холдинг', 'холдинг', 'nsubj', 'NOUN', '->', продал),\n",
       " ('стоимость', 'Стоимость', 'nsubj', 'NOUN', '->', демонстрирует),\n",
       " ('банк', 'банк', 'nsubj', 'NOUN', '->', установил),\n",
       " ('поставка', 'Поставки', 'nsubj', 'NOUN', '->', могли),\n",
       " ('власть', 'Власти', 'nsubj', 'NOUN', '->', готовы),\n",
       " ('министерство', 'Министерство', 'nsubj', 'PROPN', '->', прорабатывают),\n",
       " ('глава', 'Глава', 'nsubj', 'NOUN', '->', заявил),\n",
       " ('энергетика', 'Энергетика', 'nsubj', 'NOUN', '->', является),\n",
       " ('сша', 'США', 'nsubj', 'PROPN', '->', используют),\n",
       " ('компания', 'компания', 'nsubj', 'NOUN', '->', запустила),\n",
       " ('стоимость', 'Стоимость', 'nsubj', 'NOUN', '->', демонстрирует),\n",
       " ('аграрий', 'аграрии', 'nsubj', 'NOUN', '->', готовы),\n",
       " ('компания', 'компания', 'nsubj', 'NOUN', '->', запустит),\n",
       " ('рф', 'РФ', 'obl', 'PROPN', '->', остается),\n",
       " ('год', 'года', 'obl', 'NOUN', '->', выросло),\n",
       " ('доллар', 'долларом', 'obl', 'NOUN', '->', сгущаются),\n",
       " ('правительство', 'Правительству', 'iobj', 'NOUN', '->', необходимо),\n",
       " ('информация', 'Информация', 'nsubj', 'NOUN', '->', соответствует),\n",
       " ('президент', 'Президент', 'nsubj', 'NOUN', '->', выразил),\n",
       " ('холдинг', 'холдинг', 'nsubj', 'NOUN', '->', завершил),\n",
       " ('россия', 'Россия', 'nsubj', 'PROPN', '->', сохраняет),\n",
       " ('центробанк', 'Центробанке', 'obl', 'PROPN', '->', считают),\n",
       " ('правительство', 'Правительство', 'nsubj', 'NOUN', '->', утвердило),\n",
       " ('котировка', 'Котировки', 'nsubj', 'NOUN', '->', снижаются),\n",
       " ('глава', 'Глава', 'nsubj', 'NOUN', '->', заявил),\n",
       " ('президент', 'Президент', 'nsubj', 'NOUN', '->', может),\n",
       " ('глава', 'Глава', 'nsubj', 'NOUN', '->', разработал),\n",
       " ('\\n                            ',\n",
       "  '\\n                            ',\n",
       "  'dep',\n",
       "  'SPACE',\n",
       "  '->',\n",
       "  Шансы),\n",
       " ('париж', 'Париж', 'nsubj', 'PROPN', '->', договорился),\n",
       " ('власть', 'власти', 'nsubj', 'NOUN', '->', собираются),\n",
       " ('президент', 'Президент', 'nsubj', 'NOUN', '->', признал),\n",
       " ('министерство', 'Министерство', 'nsubj', 'PROPN', '->', планирует),\n",
       " ('экономика', 'экономике', 'obl', 'NOUN', '->', началась),\n",
       " ('правительство', 'Правительство', 'nsubj', 'NOUN', '->', расширило),\n",
       " ('премьер', 'Премьер', 'nsubj', 'NOUN', '->', дал),\n",
       " ('объём', 'Объем', 'nsubj', 'NOUN', '->', превысит),\n",
       " ('поставка', 'Поставки', 'nsubj', 'NOUN', '->', увеличились),\n",
       " ('заместитель', 'Заместитель', 'nsubj', 'NOUN', '->', ответил),\n",
       " ('рост', 'Рост', 'nsubj', 'NOUN', '->', может),\n",
       " ('россия', 'Россия', 'nsubj', 'PROPN', '->', планирует),\n",
       " ('минэкономразвития', 'Минэкономразвития', 'nsubj', 'PROPN', '->', достигли),\n",
       " ('импорт', 'Импорт', 'nsubj', 'NOUN', '->', стали),\n",
       " ('россия', 'Россия', 'nsubj', 'PROPN', '->', могут),\n",
       " ('глава', 'Глава', 'nsubj', 'NOUN', '->', провели),\n",
       " ('россия', 'России', 'obl', 'PROPN', '->', может),\n",
       " ('ставка', 'Ставка', 'nsubj', 'NOUN', '->', единой),\n",
       " ('центробанк', 'Центробанк', 'nsubj', 'PROPN', '->', пугает),\n",
       " ('12', '12', 'obl', 'ADJ', '->', составляли),\n",
       " ('китай', 'Китае', 'obl', 'PROPN', '->', относятся),\n",
       " ('молдавия', 'Молдавия', 'nsubj', 'PROPN', '->', зависит),\n",
       " ('барьер', 'Барьеры', 'nsubj', 'NOUN', '->', помешали),\n",
       " ('цена', 'Цена', 'nsubj', 'NOUN', '->', опустилась),\n",
       " ('минфин', 'Минфин', 'nsubj', 'PROPN', '->', открыл),\n",
       " ('объём', 'Объем', 'nsubj', 'NOUN', '->', вырос),\n",
       " ('шоколад', 'Шоколад', 'nsubj', 'NOUN', '->', оказались),\n",
       " ('месяц', 'месяца', 'obl', 'NOUN', '->', получил),\n",
       " ('росстат', 'Росстат', 'nsubj', 'PROPN', '->', оценил),\n",
       " ('рф', 'РФ', 'nsubj', 'PROPN', '->', заинтересована),\n",
       " ('месяц', 'месяца', 'obl', 'NOUN', '->', вышла),\n",
       " ('электростанция', 'электростанция', 'nsubj:pass', 'NOUN', '->', может),\n",
       " ('власть', 'Власти', 'nsubj', 'NOUN', '->', подписали),\n",
       " ('рост', 'Рост', 'nsubj', 'NOUN', '->', может),\n",
       " ('делегация', 'Делегация', 'nsubj', 'NOUN', '->', приедет),\n",
       " ('размер', 'Размер', 'nsubj', 'NOUN', '->', может),\n",
       " ('механизм', 'Механизм', 'nsubj', 'NOUN', '->', нужно),\n",
       " None,\n",
       " ('правительство', 'Правительство', 'nsubj', 'NOUN', '->', установило),\n",
       " ('корпорация', 'корпорация', 'nsubj', 'NOUN', '->', планирует),\n",
       " ('власть', 'Власти', 'nsubj', 'NOUN', '->', столкнулись),\n",
       " ('евросоюз', 'Евросоюз', 'nsubj', 'PROPN', '->', наблюдает),\n",
       " ('минсельхоз', 'Минсельхоз', 'nsubj', 'PROPN', '->', собирается),\n",
       " ('время', 'время', 'obl', 'NOUN', '->', должны),\n",
       " ('совет', 'Совет', 'nsubj', 'PROPN', '->', согласовал),\n",
       " ('финансирование', 'Финансирование', 'nsubj', 'NOUN', '->', составит),\n",
       " ('центробанк', 'Центробанке', 'obl', 'PROPN', '->', полагают),\n",
       " ('центробанк', 'Центробанк', 'nsubj', 'PROPN', '->', обсуждает),\n",
       " ('экспорт', 'Экспорт', 'nsubj', 'NOUN', '->', вырос),\n",
       " ('глава', 'Глава', 'nsubj', 'NOUN', '->', заявил),\n",
       " ('март', 'марте', 'obl', 'NOUN', '->', вырос),\n",
       " ('власть', 'власти', 'nsubj', 'NOUN', '->', планируют),\n",
       " ('казахстан', 'Казахстан', 'nsubj', 'PROPN', '->', обсуждает),\n",
       " ('квартал', 'квартале', 'obl', 'NOUN', '->', импортировала),\n",
       " ('организация', 'организации', 'nsubj', 'NOUN', '->', улучшают),\n",
       " ('резерв', 'резервы', 'nsubj', 'NOUN', '->', составляли),\n",
       " ('сфера', 'Сфера', 'nsubj', 'NOUN', '->', получит),\n",
       " ('еврокомиссия', 'Еврокомиссия', 'nsubj', 'PROPN', '->', улучшила),\n",
       " ('торг', 'торгах', 'obl', 'NOUN', '->', превысил),\n",
       " ('спрос', 'спрос', 'nsubj', 'NOUN', '->', спровоцировали),\n",
       " ('ответственность', 'Ответственность', 'nsubj', 'NOUN', '->', логично),\n",
       " ('переговоры', 'Переговоры', 'nsubj', 'NOUN', '->', носят),\n",
       " ('директор', 'директор', 'nsubj', 'NOUN', '->', сообщил),\n",
       " ('банк', 'Банк', 'nsubj', 'PROPN', '->', опубликовал),\n",
       " ('грузопоток', 'Грузопоток', 'nsubj', 'PROPN', '->', вырос),\n",
       " ('министерство', 'Министерство', 'nsubj', 'PROPN', '->', предлагает),\n",
       " ('авиаперевозчик', 'авиаперевозчики', 'nsubj', 'NOUN', '->', попросили),\n",
       " ('госсекретарь', 'Госсекретарь', 'nsubj', 'NOUN', '->', сообщил),\n",
       " ('один', 'Один', 'nsubj', 'NUM', '->', закрыл),\n",
       " ('министр', 'Министр', 'nsubj', 'NOUN', '->', заявил),\n",
       " ('правительство', 'Правительство', 'nsubj', 'NOUN', '->', одобрило),\n",
       " ('кабинет', 'Кабинет', 'nsubj', 'PROPN', '->', принял),\n",
       " ('кабинет', 'Кабинет', 'nsubj', 'PROPN', '->', внес),\n",
       " ('экономика', 'экономика', 'nsubj', 'NOUN', '->', продемонстрировала),\n",
       " ('правительство', 'правительство', 'nsubj', 'NOUN', '->', вывело),\n",
       " ('случай', 'случае', 'obl', 'NOUN', '->', останется),\n",
       " ('концерн', 'концерн', 'nsubj', 'NOUN', '->', изучает),\n",
       " ('уровень', 'Уровень', 'nsubj', 'NOUN', '->', снизился),\n",
       " ('профицит', 'Профицит', 'nsubj', 'NOUN', '->', снизился),\n",
       " ('группа', 'группа', 'nsubj', 'NOUN', '->', запустила),\n",
       " ('президент', 'Президент', 'nsubj', 'NOUN', '->', представил),\n",
       " ('товарооборот', 'Товарооборот', 'nsubj', 'NOUN', '->', вырос),\n",
       " ('правительство', 'правительство', 'nsubj', 'NOUN', '->', приняло),\n",
       " ('сша', 'США', 'nsubj', 'PROPN', '->', могут),\n",
       " ('компания', 'Компания', 'nsubj', 'NOUN', '->', смогла),\n",
       " ('замминистра', 'Замминистра', 'nsubj', 'NOUN', '->', высказался),\n",
       " ('банк', 'банк', 'nsubj', 'NOUN', '->', действовать),\n",
       " ('приватизация', 'приватизация', 'nsubj', 'NOUN', '->', должна),\n",
       " ('банк', 'Банк', 'nsubj', 'NOUN', '->', занимается),\n",
       " ('экономика', 'Экономика', 'nsubj', 'NOUN', '->', обладает),\n",
       " ('четверг', 'четверг', 'obl', 'NOUN', '->', опустился),\n",
       " ('компания', 'компания', 'nsubj', 'NOUN', '->', решила),\n",
       " ('дефолт', 'дефолт', 'nsubj', 'NOUN', '->', грозит),\n",
       " ('дефицит', 'Дефицит', 'nsubj', 'NOUN', '->', составил),\n",
       " ('резерв', 'резерв', 'nsubj', 'NOUN', '->', опустился),\n",
       " ('цена', 'цены', 'nsubj', 'NOUN', '->', опустились),\n",
       " ('резерв', 'резервы', 'nsubj', 'NOUN', '->', составляли),\n",
       " ('компания', 'компании', 'nsubj', 'NOUN', '->', планируют),\n",
       " ('борьба', 'Борьба', 'nsubj:pass', 'NOUN', '->', завершена),\n",
       " ('швейцария', 'Швейцарии', 'obl', 'PROPN', '->', хранится),\n",
       " ('анкара', 'Анкара', 'nsubj', 'PROPN', '->', договорилась),\n",
       " ('компания', 'компания', 'nsubj', 'NOUN', '->', увеличила),\n",
       " ('среда', 'среду', 'obl', 'NOUN', '->', опустился),\n",
       " ('компания', 'компания', 'nsubj', 'NOUN', '->', ввела),\n",
       " ('чистый', 'Чистая', 'amod', 'ADJ', '->', прибыль),\n",
       " ('депутат', 'Депутаты', 'nsubj', 'NOUN', '->', поддержали),\n",
       " ('премьер', 'Премьер', 'nsubj', 'NOUN', '->', заявил),\n",
       " ('оборот', 'оборот', 'nsubj', 'NOUN', '->', увеличился),\n",
       " ('федерация', 'Федерация', 'nsubj', 'PROPN', '->', намерены),\n",
       " ('президент', 'Президент', 'nsubj', 'NOUN', '->', провел),\n",
       " ('конгресс', 'Конгресс', 'nsubj', 'PROPN', '->', должен),\n",
       " ('глава', 'Глава', 'nsubj', 'NOUN', '->', сообщил),\n",
       " ('министерство', 'Министерство', 'nsubj', 'PROPN', '->', использует),\n",
       " ('корпорация', 'корпорация', 'nsubj', 'NOUN', '->', вышла),\n",
       " ('россия', 'Россия', 'nsubj', 'PROPN', '->', вернулась),\n",
       " ('автозавод', 'автозавод', 'nsubj', 'NOUN', '->', подал),\n",
       " ('половина', 'половина', 'nsubj', 'NOUN', '->', являются),\n",
       " ('министерство', 'Министерство', 'nsubj', 'PROPN', '->', определило),\n",
       " ('чек', 'чек', 'nsubj', 'NOUN', '->', вырос),\n",
       " ('россиянин', 'Россияне', 'nsubj', 'NOUN', '->', тратили),\n",
       " ('итог', 'итогам', 'obl', 'NOUN', '->', упал),\n",
       " None,\n",
       " ('министерство', 'Министерство', 'nsubj', 'PROPN', '->', направило),\n",
       " ('резерв', 'резервы', 'nsubj', 'NOUN', '->', составили),\n",
       " ('пятница', 'пятницу', 'obl', 'NOUN', '->', опустился),\n",
       " ('убыток', 'убыток', 'nsubj', 'NOUN', '->', составил),\n",
       " ('россия', 'Россия', 'nsubj', 'PROPN', '->', продолжают),\n",
       " ('прибыль', 'прибыль', 'nsubj', 'NOUN', '->', снизилась),\n",
       " ('условие', 'условиях', 'obl', 'NOUN', '->', может),\n",
       " ('год', 'году', 'obl', 'NOUN', '->', могут),\n",
       " ('четверг', 'четверг', 'obl', 'NOUN', '->', усиливает),\n",
       " ('лидер', 'лидер', 'nsubj', 'NOUN', '->', обсудил),\n",
       " ('банк', 'банк', 'nsubj', 'NOUN', '->', принял),\n",
       " ('кабмин', 'Кабмин', 'nsubj', 'PROPN', '->', одобрил),\n",
       " ('москва', 'Москва', 'nsubj', 'PROPN', '->', поставили),\n",
       " ('компания', 'компания', 'nsubj', 'NOUN', '->', получила),\n",
       " ('средство', 'средства', 'nsubj', 'NOUN', '->', завершила),\n",
       " ('россия', 'Россия', 'nsubj', 'PROPN', '->', подтверждает),\n",
       " ('минэнерго', 'Минэнерго', 'obl', 'PROPN', '->', рассчитывают),\n",
       " ('увеличение', 'Увеличение', 'nsubj', 'NOUN', '->', является),\n",
       " ('министерство', 'Министерстве', 'obl', 'PROPN', '->', утвердили),\n",
       " ('система', 'система', 'nsubj', 'NOUN', '->', повысила),\n",
       " ('квартал', 'квартале', 'obl', 'NOUN', '->', выросла),\n",
       " ('россия', 'России', 'obl', 'PROPN', '->', выросла),\n",
       " ('глава', 'Глава', 'nsubj', 'NOUN', '->', рассказал),\n",
       " ('банк', 'банке', 'obl', 'NOUN', '->', указали),\n",
       " ('глава', 'Глава', 'nsubj', 'NOUN', '->', оценил),\n",
       " ('цена', 'Цена', 'nsubj', 'NOUN', '->', опустилась),\n",
       " ('турция', 'Турция', 'nsubj', 'PROPN', '->', договорилась),\n",
       " ('союз', 'союз', 'nsubj', 'NOUN', '->', выделит),\n",
       " ('министерство', 'Министерство', 'nsubj', 'PROPN', '->', выступило),\n",
       " ('будущее', 'будущем', 'obl', 'NOUN', '->', собираются),\n",
       " ('бизнес', 'бизнес', 'nsubj', 'NOUN', '->', получит),\n",
       " ('товарооборот', 'Товарооборот', 'nsubj', 'PROPN', '->', вырос),\n",
       " ('зависимость', 'Зависимость', 'nsubj', 'NOUN', '->', затормозила),\n",
       " ('режим', 'режим', 'nsubj', 'NOUN', '->', перекрыл),\n",
       " ('апрель', 'апреле', 'obl', 'NOUN', '->', превысил),\n",
       " ('министерство', 'Министерство', 'nsubj', 'PROPN', '->', опровергло),\n",
       " ('возобновление', 'Возобновление', 'nsubj', 'NOUN', '->', стало),\n",
       " ('рф', 'РФ', 'obl', 'PROPN', '->', возник),\n",
       " ('президент', 'Президент', 'nsubj', 'NOUN', '->', пригласил),\n",
       " ('администрация', 'Администрация', 'nsubj', 'NOUN', '->', делает),\n",
       " ('президент', 'Президент', 'nsubj', 'NOUN', '->', заверил),\n",
       " ('банк', 'банк', 'nsubj', 'NOUN', '->', оказался),\n",
       " ('подача', 'Подача', 'nsubj:pass', 'NOUN', '->', приостановлена),\n",
       " ('пошлина', 'Пошлина', 'nsubj', 'NOUN', '->', повышается),\n",
       " ('страна', 'стран', 'nsubj', 'NOUN', '->', начали),\n",
       " ('власть', 'Власти', 'nsubj', 'NOUN', '->', восстановили),\n",
       " ('вопрос', 'Вопрос', 'nsubj:pass', 'NOUN', '->', обсуждался),\n",
       " ('пятница', 'пятницу', 'obl', 'NOUN', '->', принял),\n",
       " ('гендиректор', 'Гендиректор', 'nsubj', 'NOUN', '->', раскритиковал),\n",
       " ('представитель', 'Представители', 'nsubj', 'NOUN', '->', направили),\n",
       " None,\n",
       " ('работа', 'Работа', 'nsubj:pass', 'NOUN', '->', ведется),\n",
       " ('правительство', 'Правительство', 'nsubj', 'NOUN', '->', приняло),\n",
       " ('месяц', 'месяца', 'obl', 'NOUN', '->', снизилась),\n",
       " ('президент', 'Президент', 'nsubj', 'NOUN', '->', выступил),\n",
       " ('ставка', 'ставка', 'nsubj', 'NOUN', '->', достигла),\n",
       " ('министерство', 'Министерство', 'nsubj', 'PROPN', '->', рассчитывает),\n",
       " ('председатель', 'Председатель', 'nsubj', 'NOUN', '->', высказалась),\n",
       " ('банк', 'Банк', 'nsubj', 'NOUN', '->', принял),\n",
       " ('сделка', 'сделку', 'obj', 'NOUN', '->', совершила),\n",
       " ('экономика', 'Экономика', 'nsubj', 'NOUN', '->', оказалась),\n",
       " ('февраль', 'феврале', 'obl', 'NOUN', '->', импортировала),\n",
       " ('microsoft', 'Microsoft', 'nsubj', 'PROPN', '->', пытается),\n",
       " ('зона', 'зоны', 'nsubj:pass', 'NOUN', '->', планируется),\n",
       " ('кабмин', 'Кабмин', 'nsubj', 'NOUN', '->', предлагает),\n",
       " ('отрасль', 'Отрасль', 'nsubj', 'NOUN', '->', является),\n",
       " ('сша', 'США', 'nsubj', 'PROPN', '->', стремятся),\n",
       " ('компания', 'компания', 'nsubj', 'NOUN', '->', сократила),\n",
       " ('президент', 'Президент', 'nsubj', 'NOUN', '->', заявил),\n",
       " ('правительство', 'Правительство', 'nsubj', 'NOUN', '->', подготовило),\n",
       " ('фон', 'фоне', 'obl', 'NOUN', '->', объявила),\n",
       " ('компания', 'компания', 'nsubj', 'NOUN', '->', намерена),\n",
       " ('россия', 'Россия', 'nsubj', 'PROPN', '->', прогнозирует),\n",
       " ('корпорация', 'корпорация', 'nsubj', 'NOUN', '->', строит),\n",
       " ('итог', 'итогам', 'obl', 'NOUN', '->', понесли),\n",
       " ('производитель', 'Производитель', 'nsubj', 'NOUN', '->', намерен),\n",
       " None,\n",
       " ('аргентина', 'Аргентина', 'nsubj', 'PROPN', '->', перейдет),\n",
       " ('представитель', 'Представители', 'nsubj', 'NOUN', '->', предложили),\n",
       " ('власть', 'Власти', 'nsubj', 'NOUN', '->', рассчитывают),\n",
       " ('комплекс', 'комплекс', 'nsubj', 'NOUN', '->', просит),\n",
       " ('перечень', 'Перечень', 'nsubj:pass', 'NOUN', '->', может),\n",
       " ('оао', 'ОАО', 'nsubj', 'NOUN', '->', подало),\n",
       " ('проект', 'Проект', 'nsubj:pass', 'NOUN', '->', претворен),\n",
       " ('помощник', 'Помощник', 'nsubj', 'NOUN', '->', заявил),\n",
       " ('начало', 'начала', 'obl', 'NOUN', '->', стала),\n",
       " ('рынок', 'рынка', 'obl', 'NOUN', '->', ушли),\n",
       " ('москва', 'Москва', 'nsubj', 'PROPN', '->', ставит),\n",
       " ('поправка', 'поправки', 'nsubj', 'NOUN', '->', коснутся),\n",
       " ('центробанк', 'Центробанк', 'nsubj', 'PROPN', '->', запустит),\n",
       " ('правительство', 'Правительство', 'nsubj', 'NOUN', '->', направит),\n",
       " ('продукт', 'продукты', 'obj', 'NOUN', '->', хочет),\n",
       " ('оператор', 'операторы', 'nsubj', 'NOUN', '->', высказались),\n",
       " ('май', 'мае', 'obl', 'NOUN', '->', состоится),\n",
       " ('расход', 'расходы', 'nsubj', 'NOUN', '->', достигли),\n",
       " ('ряд', 'Ряд', 'nsubj', 'NOUN', '->', могут),\n",
       " ('цена', 'цен', 'obl', 'NOUN', '->', стала),\n",
       " ('год', 'году', 'obl', 'NOUN', '->', нарастит),\n",
       " ('министр', 'Министры', 'nsubj', 'NOUN', '->', заявили),\n",
       " ('задолженность', 'Задолженность', 'nsubj', 'NOUN', '->', превышает),\n",
       " ('администрация', 'Администрация', 'nsubj', 'NOUN', '->', собирается),\n",
       " ('правительство', 'Правительство', 'nsubj', 'NOUN', '->', направит),\n",
       " ('россия', 'Россия', 'nsubj', 'PROPN', '->', переходит),\n",
       " ('правительство', 'Правительство', 'nsubj', 'NOUN', '->', завершает),\n",
       " ('месяц', 'месяцев', 'obl', 'NOUN', '->', увеличил),\n",
       " ('компания', 'Компании', 'nsubj', 'NOUN', '->', изучают),\n",
       " ('центробанк', 'Центробанк', 'nsubj', 'PROPN', '->', решил),\n",
       " ('россия', 'Россия', 'nsubj', 'PROPN', '->', готовит),\n",
       " ('поставка', 'Поставки', 'nsubj', 'NOUN', '->', выросли),\n",
       " ('компания', 'компания', 'nsubj', 'NOUN', '->', подписала),\n",
       " ('резерв', 'резервы', 'nsubj', 'NOUN', '->', составляли),\n",
       " ('ввоз', 'ввоз', 'nsubj', 'NOUN', '->', позволил),\n",
       " ('заместитель', 'Заместитель', 'nsubj', 'NOUN', '->', предложил),\n",
       " ('пакистан', 'Пакистан', 'nsubj', 'PROPN', '->', разместил),\n",
       " ('польша', 'Польша', 'nsubj', 'PROPN', '->', предлагает),\n",
       " ('итог', 'итогам', 'obl', 'NOUN', '->', увеличила),\n",
       " ('правительство', 'Правительство', 'nsubj', 'NOUN', '->', одобрило),\n",
       " ('производитель', 'производитель', 'nsubj', 'NOUN', '->', планирует),\n",
       " ('резерв', 'резерв', 'nsubj', 'NOUN', '->', опустился),\n",
       " ('владелец', 'Владелец', 'nsubj', 'NOUN', '->', уверен),\n",
       " ('руководитель', 'Руководитель', 'nsubj', 'NOUN', '->', заявил),\n",
       " ('министерство', 'Министерство', 'nsubj', 'PROPN', '->', ожидает),\n",
       " ('концерн', 'концерн', 'nsubj', 'NOUN', '->', заявил),\n",
       " ('завод', 'Завод', 'nsubj', 'NOUN', '->', приостановил),\n",
       " ('фасадный', 'Фасадный', 'amod', 'ADJ', '->', крепеж),\n",
       " ('санкция', 'санкции', 'nsubj', 'NOUN', '->', оказались),\n",
       " ('сделка', 'Сделка', 'nsubj:pass', 'NOUN', '->', закрыта),\n",
       " ('резинка', 'резинка', 'nsubj', 'NOUN', '->', заняла),\n",
       " ('президент', 'Президент', 'nsubj', 'NOUN', '->', участвовать),\n",
       " ('администрация', 'Администрация', 'nsubj', 'NOUN', '->', объявит),\n",
       " ('производитель', 'производитель', 'nsubj', 'NOUN', '->', принял),\n",
       " ('пока', 'Пока', 'mark', 'SCONJ', '->', работает),\n",
       " ('правительство', 'Правительство', 'nsubj', 'NOUN', '->', утвердило),\n",
       " ('итог', 'итогам', 'obl', 'NOUN', '->', вырос),\n",
       " ('киргизия', 'Киргизия', 'nsubj', 'PROPN', '->', выступает),\n",
       " ('россиянин', 'Россияне', 'nsubj:pass', 'NOUN', '->', должны),\n",
       " ('банк', 'Банк', 'nsubj', 'NOUN', '->', продолжает),\n",
       " ('год', 'году', 'obl', 'NOUN', '->', обеспечат),\n",
       " ('экономика', 'экономика', 'nsubj', 'NOUN', '->', может),\n",
       " ('инфляция', 'инфляция', 'nsubj', 'NOUN', '->', снизится),\n",
       " ('председатель', 'Председатель', 'nsubj', 'NOUN', '->', высказалась),\n",
       " ('инвестиция', 'инвестиции', 'obj', 'NOUN', '->', позволят),\n",
       " ('рынок', 'рынке', 'obl', 'NOUN', '->', выросла),\n",
       " ('министерство', 'Министерство', 'nsubj', 'PROPN', '->', сформировало),\n",
       " ('ставка', 'Ставка', 'nsubj', 'NOUN', '->', составит),\n",
       " ('банк', 'банк', 'nsubj', 'NOUN', '->', рассматривают),\n",
       " ('экономист', 'экономисты', 'nsubj', 'NOUN', '->', призывают),\n",
       " ('открытие', 'Открытие', 'nsubj', 'PROPN', '->', станет),\n",
       " ('россия', 'Россия', 'nsubj', 'PROPN', '->', считает),\n",
       " ('год', 'году', 'obl', 'NOUN', '->', оказались),\n",
       " ('резерв', 'резервы', 'nsubj', 'NOUN', '->', стали),\n",
       " ('турбулентность', 'турбулентности', 'obl', 'NOUN', '->', начинает),\n",
       " None,\n",
       " ('запрет', 'запрет', 'nsubj', 'NOUN', '->', действует),\n",
       " ('еврокомиссия', 'Еврокомиссия', 'nsubj', 'PROPN', '->', назвала),\n",
       " ('правительство', 'правительство', 'nsubj', 'NOUN', '->', предложило),\n",
       " ('energocom', 'Energocom', 'nsubj', 'PROPN', '->', закупила),\n",
       " ('правительство', 'правительство', 'nsubj', 'NOUN', '->', расширило),\n",
       " ('италия', 'Италия', 'nsubj', 'PROPN', '->', снизила),\n",
       " ('министр', 'Министры', 'nsubj', 'NOUN', '->', могут),\n",
       " ('власть', 'Власти', 'nsubj', 'NOUN', '->', решили),\n",
       " ('власть', 'власти', 'nsubj', 'NOUN', '->', ввели),\n",
       " ('правительство', 'Правительство', 'nsubj', 'NOUN', '->', уполномочило),\n",
       " ('россия', 'России', 'obl', 'PROPN', '->', начался),\n",
       " None,\n",
       " ('магазин', 'магазин', 'nsubj', 'NOUN', '->', открылся),\n",
       " ('количество', 'Количество', 'nsubj', 'NOUN', '->', выросло),\n",
       " ('германия', 'Германии', 'obl', 'PROPN', '->', отключат),\n",
       " ('интеллект', 'интеллект', 'nsubj', 'NOUN', '->', подспорьем),\n",
       " ('план', 'планы', 'nsubj:pass', 'NOUN', '->', исполнены),\n",
       " ('министр', 'Министр', 'nsubj', 'NOUN', '->', сообщил),\n",
       " ('экономика', 'экономика', 'nsubj', 'NOUN', '->', столкнулась),\n",
       " ('президент', 'Президент', 'nsubj', 'NOUN', '->', поручил),\n",
       " ('глава', 'Глава', 'nsubj', 'NOUN', '->', заявил),\n",
       " ('палата', 'палата', 'nsubj', 'NOUN', '->', планирует),\n",
       " ('объём', 'Объем', 'nsubj', 'NOUN', '->', составил),\n",
       " ('министерство', 'Министерство', 'nsubj', 'PROPN', '->', прогнозирует),\n",
       " ('министр', 'Министр', 'nsubj', 'NOUN', '->', заявил),\n",
       " ('председатель', 'Председатель', 'nsubj', 'NOUN', '->', заявил),\n",
       " ('экономика', 'экономика', 'nsubj', 'NOUN', '->', справилась),\n",
       " ('республика', 'Республика', 'nsubj', 'PROPN', '->', обсуждает),\n",
       " ('москва', 'Москва', 'nsubj', 'PROPN', '->', планирует),\n",
       " ('больше', 'Больше', 'nsubj', 'NUM', '->', производят),\n",
       " ('федерация', 'Федерация', 'nsubj', 'PROPN', '->', участвует),\n",
       " ('начало', 'начала', 'obl', 'NOUN', '->', произведено),\n",
       " ('анкара', 'Анкара', 'nsubj', 'PROPN', '->', хочет),\n",
       " ('1', '1', 'obl', 'ADJ', '->', составил),\n",
       " ('оплата', 'Оплата', 'nsubj', 'NOUN', '->', может),\n",
       " ('корпорация', 'Корпорация', 'nsubj', 'NOUN', '->', объявила),\n",
       " ('товарооборот', 'Товарооборот', 'nsubj', 'NOUN', '->', вырос),\n",
       " ('запас', 'запасы', 'nsubj', 'NOUN', '->', сократились),\n",
       " ('город', 'городах', 'obl', 'NOUN', '->', строится),\n",
       " ('ослабление', 'Ослабление', 'nsubj:pass', 'NOUN', '->', связано),\n",
       " ('апрель', 'апреле', 'obl', 'NOUN', '->', продолжит),\n",
       " ('риск', 'рисками', 'xcomp', 'NOUN', '->', являются),\n",
       " ('украина', 'Украина', 'nsubj', 'PROPN', '->', планирует),\n",
       " ('вторник', 'вторник', 'obl', 'NOUN', '->', провел),\n",
       " ('производитель', 'производитель', 'nsubj', 'NOUN', '->', возобновляет),\n",
       " ('продвижение', 'Продвижение', 'nsubj', 'NOUN', '->', является),\n",
       " ('центробанк', 'Центробанк', 'nsubj', 'PROPN', '->', намерен),\n",
       " ('сальдо', 'сальдо', 'nsubj', 'NOUN', '->', снизилось),\n",
       " ('венгрия', 'Венгрия', 'nsubj', 'PROPN', '->', сохранила),\n",
       " ('банк', 'Банк', 'nsubj', 'PROPN', '->', опубликовал),\n",
       " ('показать', 'показала', 'advcl', 'VERB', '->', далек),\n",
       " ('председатель', 'Председатель', 'nsubj', 'NOUN', '->', предложил),\n",
       " ('власть', 'Власти', 'nsubj', 'NOUN', '->', ввели),\n",
       " ('стоимость', 'Стоимость', 'nsubj', 'NOUN', '->', поднялась),\n",
       " ('стоимость', 'Стоимость', 'nsubj', 'NOUN', '->', выросла),\n",
       " ('бельгия', 'Бельгии', 'obl', 'PROPN', '->', получили),\n",
       " ('экономика', 'экономика', 'nsubj', 'NOUN', '->', характеризуется),\n",
       " ('президент', 'Президент', 'nsubj', 'NOUN', '->', поручил),\n",
       " ('власть', 'Власти', 'nsubj', 'NOUN', '->', сменили),\n",
       " ('президент', 'Президент', 'nsubj', 'NOUN', '->', заявил),\n",
       " ('компания', 'компания', 'nsubj', 'NOUN', '->', построит),\n",
       " ('слух', 'Слухи', 'nsubj', 'NOUN', '->', соответствуют),\n",
       " ('порт', 'портах', 'obl', 'NOUN', '->', возник),\n",
       " ('центробанк', 'Центробанке', 'obl', 'PROPN', '->', заявили),\n",
       " ('правительство', 'Правительство', 'nsubj', 'NOUN', '->', приняло),\n",
       " ('россельхознадзор', 'Россельхознадзор', 'nsubj', 'PROPN', '->', наблюдает),\n",
       " ('министерство', 'Министерство', 'nsubj', 'PROPN', '->', может),\n",
       " ('разработчик', 'Разработчики', 'nsubj', 'NOUN', '->', отобрали),\n",
       " ('закон', 'Закон', 'nsubj', 'NOUN', '->', вступил),\n",
       " None,\n",
       " ('год', 'году', 'obl', 'NOUN', '->', стал),\n",
       " ('период', 'период', 'nsubj', 'NOUN', '->', являются),\n",
       " ('резерв', 'резервы', 'nsubj', 'NOUN', '->', преодолели),\n",
       " ('найти', 'нашли', 'advcl', 'VERB', '->', должна),\n",
       " ('белоруссия', 'Белоруссия', 'nsubj', 'PROPN', '->', хочет),\n",
       " ('министр', 'Министр', 'nsubj', 'NOUN', '->', сообщил),\n",
       " ('правительство', 'правительство', 'nsubj', 'NOUN', '->', изучает),\n",
       " ('доля', 'Доля', 'nsubj', 'NOUN', '->', снизилась),\n",
       " ('оценка', 'оценке', 'parataxis', 'NOUN', '->', обнаружено),\n",
       " ('система', 'система', 'nsubj', 'NOUN', '->', уязвима),\n",
       " ('точка', 'точки', 'obl', 'NOUN', '->', просты),\n",
       " ('власть', 'Власти', 'nsubj', 'NOUN', '->', обсуждают),\n",
       " ('сша', 'США', 'nsubj', 'PROPN', '->', решили),\n",
       " ('здравоохранение', 'Здравоохранение', 'nsubj', 'NOUN', '->', являются),\n",
       " ('доход', 'доходы', 'nsubj', 'NOUN', '->', уменьшились),\n",
       " ('торг', 'торгов', 'obl', 'NOUN', '->', усиливает),\n",
       " ('глава', 'Глава', 'nsubj', 'NOUN', '->', считает),\n",
       " ('год', 'году', 'obl', 'NOUN', '->', ожидает),\n",
       " ('курс', 'Курс', 'nsubj', 'NOUN', '->', превысил),\n",
       " ('федерация', 'Федерация', 'nsubj', 'PROPN', '->', готова),\n",
       " ('запуск', 'запуска', 'obl', 'NOUN', '->', проработаны),\n",
       " ('июнь', 'июне', 'obl', 'NOUN', '->', могут),\n",
       " ('торг', 'торгах', 'obl', 'NOUN', '->', достиг),\n",
       " ('показатель', 'Показатель', 'nsubj:pass', 'NOUN', '->', оценивается),\n",
       " ('юань', 'юань', 'nsubj', 'NOUN', '->', врывается),\n",
       " ('корпорация', 'корпорация', 'nsubj', 'NOUN', '->', выплатит),\n",
       " ('центробанк', 'Центробанк', 'nsubj', 'PROPN', '->', сообщил),\n",
       " ('банк', 'банк', 'nsubj', 'NOUN', '->', прогнозирует),\n",
       " ('вырасти', 'выросли', 'advcl', 'VERB', '->', увеличится),\n",
       " ('парламент', 'парламент', 'nsubj', 'NOUN', '->', утвердил),\n",
       " ('минсельхоз', 'Минсельхоз', 'nsubj', 'PROPN', '->', скорректирует),\n",
       " ('торг', 'торгов', 'obl', 'NOUN', '->', поднялся),\n",
       " ('совет', 'Совет', 'nsubj', 'PROPN', '->', одобрил),\n",
       " ('отношение', 'отношений', 'obl', 'NOUN', '->', переносятся),\n",
       " ('инфляция', 'инфляция', 'nsubj', 'NOUN', '->', ускорилась),\n",
       " ('февраль', 'феврале', 'obl', 'NOUN', '->', увеличился),\n",
       " ('год', 'году', 'obl', 'NOUN', '->', выросли),\n",
       " ('глава', 'Глава', 'nsubj', 'NOUN', '->', высказался),\n",
       " ('месяц', 'месяца', 'obl', 'NOUN', '->', вырос),\n",
       " ('директор', 'Директор', 'nsubj', 'NOUN', '->', рассказал),\n",
       " ('пойти', 'пошли', 'advcl', 'VERB', '->', сумела),\n",
       " ('молдавия', 'Молдавии', 'obl', 'PROPN', '->', оплатили),\n",
       " ('курс', 'Курс', 'nsubj', 'NOUN', '->', продолжает),\n",
       " ('товарооборот', 'Товарооборот', 'nsubj', 'NOUN', '->', может),\n",
       " ('вторник', 'вторник', 'obl', 'NOUN', '->', продолжают),\n",
       " ('китай', 'Китай', 'nsubj', 'PROPN', '->', использует),\n",
       " ('глава', 'Глава', 'nsubj', 'NOUN', '->', выразила),\n",
       " ('правительство', 'Правительство', 'nsubj', 'NOUN', '->', решило),\n",
       " ('решение', 'Решение', 'nsubj:pass', 'NOUN', '->', должно),\n",
       " ('работа', 'Работа', 'nsubj', 'NOUN', '->', продолжается),\n",
       " ('россия', 'Россия', 'nsubj', 'PROPN', '->', контактирует),\n",
       " ('минцифры', 'Минцифры', 'nsubj', 'PROPN', '->', ведет),\n",
       " None,\n",
       " ('россия', 'Россия', 'nsubj', 'PROPN', '->', продлила),\n",
       " ('глава', 'Глава', 'nsubj', 'NOUN', '->', заявил),\n",
       " ('шри', 'Шри', 'nsubj', 'PROPN', '->', отменила),\n",
       " ('год', 'году', 'obl', 'NOUN', '->', превысила),\n",
       " ('комитет', 'Комитет', 'nsubj', 'NOUN', '->', выступил),\n",
       " ('год', 'году', 'obl', 'NOUN', '->', вырос),\n",
       " ('совет', 'совет', 'nsubj', 'NOUN', '->', одобрил),\n",
       " ('министерство', 'Министерство', 'nsubj', 'PROPN', '->', намерено),\n",
       " ('банк', 'банк', 'nsubj', 'NOUN', '->', принял),\n",
       " ('президент', 'Президент', 'nsubj', 'NOUN', '->', заявил),\n",
       " ('рамка', 'рамках', 'obl', 'NOUN', '->', получили),\n",
       " ('сша', 'США', 'nsubj', 'PROPN', '->', планируют),\n",
       " ('начало', 'начале', 'obl', 'NOUN', '->', увеличила),\n",
       " ('европа', 'Европа', 'nsubj', 'PROPN', '->', оказалась),\n",
       " ('вложение', 'Вложения', 'nsubj', 'NOUN', '->', составили),\n",
       " ('россия', 'России', 'obl', 'PROPN', '->', стоят),\n",
       " ('экспорт', 'Экспорт', 'nsubj', 'NOUN', '->', составил),\n",
       " ('вопрос', 'Вопрос', 'nsubj:pass', 'NOUN', '->', обсуждается),\n",
       " ('россия', 'России', 'obl', 'PROPN', '->', запущен),\n",
       " ('программа', 'программу', 'obl', 'NOUN', '->', выделено),\n",
       " ('компания', 'компания', 'nsubj', 'NOUN', '->', уведомила),\n",
       " ('россия', 'Россия', 'nsubj', 'PROPN', '->', закупать),\n",
       " ('торг', 'торгах', 'obl', 'NOUN', '->', превысил),\n",
       " ('евросоюз', 'Евросоюзе', 'obl', 'PROPN', '->', нет),\n",
       " ('год', 'году', 'obl', 'NOUN', '->', выросла),\n",
       " ('глобализация', 'Глобализация', 'nsubj', 'NOUN', '->', приводит),\n",
       " ('будущее', 'будущем', 'obl', 'NOUN', '->', ждет),\n",
       " ('директор', 'Директор', 'nsubj', 'NOUN', '->', заявила),\n",
       " ('уровень', 'Уровень', 'nsubj', 'NOUN', '->', снижается),\n",
       " ('февраль', 'феврале', 'obl', 'NOUN', '->', замедлилось),\n",
       " ('отрасль', 'отрасль', 'nsubj', 'NOUN', '->', может),\n",
       " ('компания', 'компании', 'nsubj', 'NOUN', '->', должны),\n",
       " ('президент', 'Президент', 'nsubj', 'NOUN', '->', провел),\n",
       " ('президент', 'Президент', 'nsubj', 'NOUN', '->', заявил),\n",
       " ('муром', 'Муроме', 'obl', 'PROPN', '->', продает),\n",
       " ('минпромторг', 'Минпромторг', 'nsubj', 'PROPN', '->', предложил),\n",
       " ('прекращение', 'Прекращение', 'nsubj', 'NOUN', '->', отразится),\n",
       " ...]"
      ]
     },
     "execution_count": 7,
     "metadata": {},
     "output_type": "execute_result"
    }
   ],
   "source": [
    "analisys"
   ]
  },
  {
   "cell_type": "code",
   "execution_count": 8,
   "metadata": {},
   "outputs": [
    {
     "data": {
      "text/html": [
       "<div>\n",
       "<style scoped>\n",
       "    .dataframe tbody tr th:only-of-type {\n",
       "        vertical-align: middle;\n",
       "    }\n",
       "\n",
       "    .dataframe tbody tr th {\n",
       "        vertical-align: top;\n",
       "    }\n",
       "\n",
       "    .dataframe thead th {\n",
       "        text-align: right;\n",
       "    }\n",
       "</style>\n",
       "<table border=\"1\" class=\"dataframe\">\n",
       "  <thead>\n",
       "    <tr style=\"text-align: right;\">\n",
       "      <th></th>\n",
       "      <th>href</th>\n",
       "      <th>title</th>\n",
       "      <th>text</th>\n",
       "      <th>theme</th>\n",
       "      <th>syntaxAnalisys</th>\n",
       "    </tr>\n",
       "  </thead>\n",
       "  <tbody>\n",
       "    <tr>\n",
       "      <th>0</th>\n",
       "      <td>https://profile.ru/news/military/kalashnikov-v...</td>\n",
       "      <td>\"Калашников\" выпустит партию обновленных АК-12...</td>\n",
       "      <td>\\n                            Во втором полуго...</td>\n",
       "      <td>0.0</td>\n",
       "      <td>(полугодие, полугодии, obl, NOUN, -&gt;, рассчиты...</td>\n",
       "    </tr>\n",
       "    <tr>\n",
       "      <th>1</th>\n",
       "      <td>https://profile.ru/news/military/kalashnikov-n...</td>\n",
       "      <td>\"Калашников\" начал поставлять снайперскую винт...</td>\n",
       "      <td>\\n                            Поставки новейше...</td>\n",
       "      <td>0.0</td>\n",
       "      <td>(поставка, Поставки, nsubj, NOUN, -&gt;, начались)</td>\n",
       "    </tr>\n",
       "    <tr>\n",
       "      <th>2</th>\n",
       "      <td>https://profile.ru/military/chernyj-maj-kak-ne...</td>\n",
       "      <td>\"Черный май\": как немецкие подводники потерпел...</td>\n",
       "      <td>\\n                            24 мая исполняет...</td>\n",
       "      <td>0.0</td>\n",
       "      <td>(24, 24, obl, ADJ, -&gt;, исполняется)</td>\n",
       "    </tr>\n",
       "    <tr>\n",
       "      <th>3</th>\n",
       "      <td>https://profile.ru/news/military/v-rf-prodolzh...</td>\n",
       "      <td>В РФ продолжают испытывать новый ракетный комп...</td>\n",
       "      <td>\\n                            В России продолж...</td>\n",
       "      <td>0.0</td>\n",
       "      <td>(россия, России, obl, PROPN, -&gt;, продолжаются)</td>\n",
       "    </tr>\n",
       "    <tr>\n",
       "      <th>4</th>\n",
       "      <td>https://profile.ru/military/za-chto-komandir-s...</td>\n",
       "      <td>За что командир советской подлодки \"Щ-408\" пол...</td>\n",
       "      <td>\\n                            22 мая исполняет...</td>\n",
       "      <td>0.0</td>\n",
       "      <td>(22, 22, obl, ADJ, -&gt;, исполняется)</td>\n",
       "    </tr>\n",
       "    <tr>\n",
       "      <th>...</th>\n",
       "      <td>...</td>\n",
       "      <td>...</td>\n",
       "      <td>...</td>\n",
       "      <td>...</td>\n",
       "      <td>...</td>\n",
       "    </tr>\n",
       "    <tr>\n",
       "      <th>1770</th>\n",
       "      <td>https://profile.ru/news/dk/ugmk/shaaz-vypustil...</td>\n",
       "      <td>ШААЗ выпустил первый отечественный 14-тонный п...</td>\n",
       "      <td>\\n                            «Шадринский авто...</td>\n",
       "      <td>3.0</td>\n",
       "      <td>(завод, завод, nsubj, NOUN, -&gt;, выпустил)</td>\n",
       "    </tr>\n",
       "    <tr>\n",
       "      <th>1771</th>\n",
       "      <td>https://profile.ru/news/dk/rosterminalugol/dey...</td>\n",
       "      <td>Деятельность «Ростерминалугля» признана эколог...</td>\n",
       "      <td>\\n                            «Ростерминалугол...</td>\n",
       "      <td>3.0</td>\n",
       "      <td>(ростерминалуголь, Ростерминалуголь, nsubj, NO...</td>\n",
       "    </tr>\n",
       "    <tr>\n",
       "      <th>1772</th>\n",
       "      <td>https://profile.ru/dk/ugmk/perspektiva-dlya-za...</td>\n",
       "      <td>«Перспектива» для заслуженного отдыха</td>\n",
       "      <td>\\n                            Почему у нашего ...</td>\n",
       "      <td>3.0</td>\n",
       "      <td>(почему, Почему, advmod, ADV, -&gt;, развита)</td>\n",
       "    </tr>\n",
       "    <tr>\n",
       "      <th>1773</th>\n",
       "      <td>https://profile.ru/news/dk/kru/kuzbassrazrezug...</td>\n",
       "      <td>«Кузбассразрезуголь» создал первый профстандар...</td>\n",
       "      <td>\\n                            «Кузбассразрезуг...</td>\n",
       "      <td>3.0</td>\n",
       "      <td>(кузбассразрезуголь, Кузбассразрезуголь, nsubj...</td>\n",
       "    </tr>\n",
       "    <tr>\n",
       "      <th>1774</th>\n",
       "      <td>https://profile.ru/news/dk/kru/lokomotivnyj-pa...</td>\n",
       "      <td>Локомотивный парк «Кузбассразрезугля» пополнил...</td>\n",
       "      <td>\\n                            «Кузбассразрезуг...</td>\n",
       "      <td>3.0</td>\n",
       "      <td>(кузбассразрезуголь, Кузбассразрезуголь, nsubj...</td>\n",
       "    </tr>\n",
       "  </tbody>\n",
       "</table>\n",
       "<p>1775 rows × 5 columns</p>\n",
       "</div>"
      ],
      "text/plain": [
       "                                                   href   \n",
       "0     https://profile.ru/news/military/kalashnikov-v...  \\\n",
       "1     https://profile.ru/news/military/kalashnikov-n...   \n",
       "2     https://profile.ru/military/chernyj-maj-kak-ne...   \n",
       "3     https://profile.ru/news/military/v-rf-prodolzh...   \n",
       "4     https://profile.ru/military/za-chto-komandir-s...   \n",
       "...                                                 ...   \n",
       "1770  https://profile.ru/news/dk/ugmk/shaaz-vypustil...   \n",
       "1771  https://profile.ru/news/dk/rosterminalugol/dey...   \n",
       "1772  https://profile.ru/dk/ugmk/perspektiva-dlya-za...   \n",
       "1773  https://profile.ru/news/dk/kru/kuzbassrazrezug...   \n",
       "1774  https://profile.ru/news/dk/kru/lokomotivnyj-pa...   \n",
       "\n",
       "                                                  title   \n",
       "0     \"Калашников\" выпустит партию обновленных АК-12...  \\\n",
       "1     \"Калашников\" начал поставлять снайперскую винт...   \n",
       "2     \"Черный май\": как немецкие подводники потерпел...   \n",
       "3     В РФ продолжают испытывать новый ракетный комп...   \n",
       "4     За что командир советской подлодки \"Щ-408\" пол...   \n",
       "...                                                 ...   \n",
       "1770  ШААЗ выпустил первый отечественный 14-тонный п...   \n",
       "1771  Деятельность «Ростерминалугля» признана эколог...   \n",
       "1772              «Перспектива» для заслуженного отдыха   \n",
       "1773  «Кузбассразрезуголь» создал первый профстандар...   \n",
       "1774  Локомотивный парк «Кузбассразрезугля» пополнил...   \n",
       "\n",
       "                                                   text  theme   \n",
       "0     \\n                            Во втором полуго...    0.0  \\\n",
       "1     \\n                            Поставки новейше...    0.0   \n",
       "2     \\n                            24 мая исполняет...    0.0   \n",
       "3     \\n                            В России продолж...    0.0   \n",
       "4     \\n                            22 мая исполняет...    0.0   \n",
       "...                                                 ...    ...   \n",
       "1770  \\n                            «Шадринский авто...    3.0   \n",
       "1771  \\n                            «Ростерминалугол...    3.0   \n",
       "1772  \\n                            Почему у нашего ...    3.0   \n",
       "1773  \\n                            «Кузбассразрезуг...    3.0   \n",
       "1774  \\n                            «Кузбассразрезуг...    3.0   \n",
       "\n",
       "                                         syntaxAnalisys  \n",
       "0     (полугодие, полугодии, obl, NOUN, ->, рассчиты...  \n",
       "1       (поставка, Поставки, nsubj, NOUN, ->, начались)  \n",
       "2                   (24, 24, obl, ADJ, ->, исполняется)  \n",
       "3        (россия, России, obl, PROPN, ->, продолжаются)  \n",
       "4                   (22, 22, obl, ADJ, ->, исполняется)  \n",
       "...                                                 ...  \n",
       "1770          (завод, завод, nsubj, NOUN, ->, выпустил)  \n",
       "1771  (ростерминалуголь, Ростерминалуголь, nsubj, NO...  \n",
       "1772         (почему, Почему, advmod, ADV, ->, развита)  \n",
       "1773  (кузбассразрезуголь, Кузбассразрезуголь, nsubj...  \n",
       "1774  (кузбассразрезуголь, Кузбассразрезуголь, nsubj...  \n",
       "\n",
       "[1775 rows x 5 columns]"
      ]
     },
     "execution_count": 8,
     "metadata": {},
     "output_type": "execute_result"
    }
   ],
   "source": [
    "analisys_result = newsDF\n",
    "analisys_result['syntaxAnalisys'] = analisys\n",
    "analisys_result"
   ]
  },
  {
   "cell_type": "code",
   "execution_count": 9,
   "metadata": {},
   "outputs": [],
   "source": [
    "analisys_result.to_csv('analisys_result.csv', index=False)"
   ]
  },
  {
   "cell_type": "code",
   "execution_count": 7,
   "metadata": {},
   "outputs": [],
   "source": [
    "with open(\"rusentilex_2017.txt\", encoding=\"utf-8\") as senti_file: \n",
    "    for i in range(18): # Пропускаем заголовок файла.\n",
    "        _ = senti_file.readline()\n",
    "        \n",
    "    senti_words = {line.split(\", \")[0]: line.split(\", \")[3] for line in senti_file.readlines()}"
   ]
  },
  {
   "cell_type": "code",
   "execution_count": 8,
   "metadata": {},
   "outputs": [],
   "source": [
    "def find_sentiments_spacy(node, senti_words, sentiments):\n",
    "    for child in node.children:\n",
    "        if child.lemma_ in senti_words.keys():\n",
    "            if node.lemma_ not in sentiments.keys():\n",
    "                sentiments[node.lemma_] = defaultdict(int)\n",
    "            sentiments[node.lemma_][senti_words[child.lemma_]] += 1"
   ]
  },
  {
   "cell_type": "code",
   "execution_count": 9,
   "metadata": {},
   "outputs": [
    {
     "data": {
      "text/plain": [
       "{}"
      ]
     },
     "execution_count": 9,
     "metadata": {},
     "output_type": "execute_result"
    }
   ],
   "source": [
    "sentiments = {}\n",
    "for sent in doc.sents:\n",
    "    find_sentiments_spacy(sent.root, senti_words, sentiments)\n",
    "sentiments"
   ]
  },
  {
   "cell_type": "code",
   "execution_count": 10,
   "metadata": {},
   "outputs": [
    {
     "name": "stderr",
     "output_type": "stream",
     "text": [
      "100%|██████████| 1775/1775 [03:51<00:00,  7.66it/s]\n"
     ]
    }
   ],
   "source": [
    "sentiments = {}\n",
    "for sent_text in tqdm(text_news):\n",
    "    doc = nlp(sent_text)\n",
    "    for sentence in doc.sents:\n",
    "        find_sentiments_spacy(sentence.root, senti_words, sentiments)"
   ]
  },
  {
   "cell_type": "code",
   "execution_count": 12,
   "metadata": {},
   "outputs": [
    {
     "data": {
      "text/plain": [
       "([('стать',\n",
       "   defaultdict(int,\n",
       "               {'positive': 153,\n",
       "                'пострадать': 1,\n",
       "                'negative': 100,\n",
       "                'neutral': 54,\n",
       "                'positive/negative': 6})),\n",
       "  ('нанести',\n",
       "   defaultdict(int,\n",
       "               {'negative': 32,\n",
       "                'positive': 3,\n",
       "                'positive/negative': 3,\n",
       "                'neutral': 1})),\n",
       "  ('мочь',\n",
       "   defaultdict(int,\n",
       "               {'positive/negative': 17,\n",
       "                'negative': 57,\n",
       "                'neutral': 33,\n",
       "                'positive': 83,\n",
       "                'пострадать': 1})),\n",
       "  ('оказаться',\n",
       "   defaultdict(int,\n",
       "               {'negative': 54,\n",
       "                'positive': 51,\n",
       "                'neutral': 18,\n",
       "                'positive/negative': 3})),\n",
       "  ('получить',\n",
       "   defaultdict(int,\n",
       "               {'positive': 36,\n",
       "                'negative': 33,\n",
       "                'positive/negative': 1,\n",
       "                'neutral': 8}))],\n",
       " '\\n----\\n',\n",
       " [('стать',\n",
       "   defaultdict(int,\n",
       "               {'positive': 153,\n",
       "                'пострадать': 1,\n",
       "                'negative': 100,\n",
       "                'neutral': 54,\n",
       "                'positive/negative': 6})),\n",
       "  ('удаться',\n",
       "   defaultdict(int,\n",
       "               {'neutral': 3,\n",
       "                'positive': 42,\n",
       "                'positive/negative': 6,\n",
       "                'negative': 7})),\n",
       "  ('принять',\n",
       "   defaultdict(int, {'neutral': 5, 'negative': 11, 'positive': 126})),\n",
       "  ('проводить',\n",
       "   defaultdict(int, {'neutral': 9, 'positive': 42, 'negative': 0})),\n",
       "  ('мочь',\n",
       "   defaultdict(int,\n",
       "               {'positive/negative': 17,\n",
       "                'negative': 57,\n",
       "                'neutral': 33,\n",
       "                'positive': 83,\n",
       "                'пострадать': 1})),\n",
       "  ('можно',\n",
       "   defaultdict(int,\n",
       "               {'negative': 18,\n",
       "                'positive': 44,\n",
       "                'positive/negative': 5,\n",
       "                'neutral': 12})),\n",
       "  ('оказаться',\n",
       "   defaultdict(int,\n",
       "               {'negative': 54,\n",
       "                'positive': 51,\n",
       "                'neutral': 18,\n",
       "                'positive/negative': 3})),\n",
       "  ('должный',\n",
       "   defaultdict(int,\n",
       "               {'neutral': 16,\n",
       "                'positive/negative': 5,\n",
       "                'positive': 46,\n",
       "                'negative': 9})),\n",
       "  ('получить',\n",
       "   defaultdict(int,\n",
       "               {'positive': 36,\n",
       "                'negative': 33,\n",
       "                'positive/negative': 1,\n",
       "                'neutral': 8})),\n",
       "  ('являться',\n",
       "   defaultdict(int,\n",
       "               {'neutral': 31,\n",
       "                'positive': 52,\n",
       "                'negative': 22,\n",
       "                'positive/negative': 4})),\n",
       "  ('позволять',\n",
       "   defaultdict(int,\n",
       "               {'positive/negative': 4,\n",
       "                'positive': 31,\n",
       "                'neutral': 5,\n",
       "                'negative': 4})),\n",
       "  ('отметить',\n",
       "   defaultdict(int,\n",
       "               {'neutral': 9,\n",
       "                'positive': 42,\n",
       "                'positive/negative': 4,\n",
       "                'negative': 6,\n",
       "                'пострадать': 1})),\n",
       "  ('уделять', defaultdict(int, {'negative': 2, 'positive': 47})),\n",
       "  ('позволить',\n",
       "   defaultdict(int,\n",
       "               {'negative': 7,\n",
       "                'positive': 31,\n",
       "                'positive/negative': 2,\n",
       "                'neutral': 1})),\n",
       "  ('принимать',\n",
       "   defaultdict(int,\n",
       "               {'positive': 33,\n",
       "                'negative': 2,\n",
       "                'neutral': 1,\n",
       "                'positive/negative': 1}))])"
      ]
     },
     "execution_count": 12,
     "metadata": {},
     "output_type": "execute_result"
    }
   ],
   "source": [
    "[(senti, vals) for senti,vals in sentiments.items() if vals['negative']>30], '\\n----\\n',\\\n",
    "[(senti, vals) for senti,vals in sentiments.items() if vals['positive']>30]"
   ]
  }
 ],
 "metadata": {
  "kernelspec": {
   "display_name": "Python 3",
   "language": "python",
   "name": "python3"
  },
  "language_info": {
   "codemirror_mode": {
    "name": "ipython",
    "version": 3
   },
   "file_extension": ".py",
   "mimetype": "text/x-python",
   "name": "python",
   "nbconvert_exporter": "python",
   "pygments_lexer": "ipython3",
   "version": "3.11.1"
  },
  "orig_nbformat": 4
 },
 "nbformat": 4,
 "nbformat_minor": 2
}
