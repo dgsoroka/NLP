{
 "cells": [
  {
   "cell_type": "code",
   "execution_count": 34,
   "metadata": {},
   "outputs": [],
   "source": [
    "import requests # Загрузка новостей с сайта.\n",
    "from bs4 import BeautifulSoup # Превращалка html в текст.\n",
    "import re # Регулярные выражения.\n",
    "import html5lib\n",
    "\n",
    "import numpy as np\n",
    "import pandas as pd\n",
    "from tqdm import tqdm\n",
    "\n",
    "import time\n",
    "\n",
    "from selenium import webdriver\n",
    "from selenium.webdriver.common.keys import Keys\n",
    "from selenium.webdriver.common.by import By\n",
    "from selenium.webdriver.common.actions.wheel_input import ScrollOrigin\n",
    "from selenium.webdriver import ActionChains"
   ]
  },
  {
   "cell_type": "code",
   "execution_count": 8,
   "metadata": {},
   "outputs": [],
   "source": [
    "regularForHref = r'(href=\\\"([^\"]*)\\\")'\n",
    "regularExpForHref = re.compile(regularForHref)\n",
    "hrefArray = []\n",
    "titleArray = []"
   ]
  },
  {
   "cell_type": "code",
   "execution_count": 36,
   "metadata": {},
   "outputs": [],
   "source": [
    "result = pd.DataFrame(columns=['href','title','text', 'theme'])"
   ]
  },
  {
   "cell_type": "code",
   "execution_count": 25,
   "metadata": {},
   "outputs": [],
   "source": [
    "texts = []\n",
    "hrefs = []\n",
    "titles = []"
   ]
  },
  {
   "cell_type": "code",
   "execution_count": 15,
   "metadata": {},
   "outputs": [
    {
     "data": {
      "text/plain": [
       "{0: 'military', 1: 'economy', 2: 'columnist', 3: 'dk'}"
      ]
     },
     "execution_count": 15,
     "metadata": {},
     "output_type": "execute_result"
    }
   ],
   "source": [
    "themes = ['military', 'economy', 'columnist', 'dk']\n",
    "indexes = [0, 1, 2, 3]\n",
    "themeIndexes = dict(zip(indexes, themes))\n",
    "themeIndexes"
   ]
  },
  {
   "cell_type": "code",
   "execution_count": 12,
   "metadata": {},
   "outputs": [],
   "source": [
    "driver = webdriver.Chrome()"
   ]
  },
  {
   "cell_type": "code",
   "execution_count": 26,
   "metadata": {},
   "outputs": [
    {
     "name": "stdout",
     "output_type": "stream",
     "text": [
      "508\n",
      "1016\n",
      "1257\n",
      "1775\n"
     ]
    }
   ],
   "source": [
    "for theme in themes:\n",
    "  driver.get(f\"https://profile.ru/{theme}/\")\n",
    "  count = 0\n",
    "  while count < 50:\n",
    "    ActionChains(driver).scroll_by_amount(delta_x=0, delta_y=9999).perform()\n",
    "    time.sleep(5)\n",
    "    count+=1\n",
    "    \n",
    "  articles = driver.find_elements(By.CLASS_NAME, 'article__title')\n",
    "  \n",
    "  for article in tqdm(articles):\n",
    "    titles.append(article.text)\n",
    "    hrefs.append(article.get_attribute('href'))\n",
    "    \n",
    "  print(len(hrefs))\n",
    "    "
   ]
  },
  {
   "attachments": {},
   "cell_type": "markdown",
   "metadata": {},
   "source": [
    "508 m\n",
    "508 e\n",
    "241 c\n",
    "518 dk"
   ]
  },
  {
   "cell_type": "code",
   "execution_count": 27,
   "metadata": {},
   "outputs": [
    {
     "data": {
      "text/plain": [
       "1775"
      ]
     },
     "execution_count": 27,
     "metadata": {},
     "output_type": "execute_result"
    }
   ],
   "source": [
    "len(titles)"
   ]
  },
  {
   "cell_type": "code",
   "execution_count": 30,
   "metadata": {},
   "outputs": [
    {
     "data": {
      "text/plain": [
       "'https://profile.ru/news/military/kalashnikov-vypustit-partiju-obnovlennyh-ak-12-vo-vtoroj-polovine-goda-1330609/'"
      ]
     },
     "execution_count": 30,
     "metadata": {},
     "output_type": "execute_result"
    }
   ],
   "source": [
    "hrefs[0]"
   ]
  },
  {
   "cell_type": "code",
   "execution_count": 31,
   "metadata": {},
   "outputs": [],
   "source": [
    "for line in tqdm(hrefs):\n",
    "  request = requests.get(line)\n",
    "  bsArticle = BeautifulSoup(request.content, 'html5lib')\n",
    "  article = bsArticle.find(name='div', attrs={'class':'micromarking'})\n",
    "  texts.append(article.text)"
   ]
  },
  {
   "cell_type": "code",
   "execution_count": 33,
   "metadata": {},
   "outputs": [
    {
     "data": {
      "text/plain": [
       "1775"
      ]
     },
     "execution_count": 33,
     "metadata": {},
     "output_type": "execute_result"
    }
   ],
   "source": [
    "len(texts)"
   ]
  },
  {
   "cell_type": "code",
   "execution_count": 46,
   "metadata": {},
   "outputs": [],
   "source": [
    "result['href'] = hrefs\n",
    "result['title'] = titles\n",
    "result['text'] = texts\n",
    "\n",
    "result.to_csv('news.CSV', index=False)\n",
    "\n"
   ]
  },
  {
   "cell_type": "code",
   "execution_count": 48,
   "metadata": {},
   "outputs": [
    {
     "data": {
      "text/plain": [
       "RangeIndex(start=0, stop=1775, step=1)"
      ]
     },
     "execution_count": 48,
     "metadata": {},
     "output_type": "execute_result"
    }
   ],
   "source": [
    "result.index"
   ]
  },
  {
   "cell_type": "code",
   "execution_count": 58,
   "metadata": {},
   "outputs": [],
   "source": [
    "zeros = np.zeros(508)\n",
    "ones = np.ones(508)\n",
    "twos = np.array([2 for i in range(241)])\n",
    "threes = np.array([3 for i in range(518)])\n",
    "    "
   ]
  },
  {
   "cell_type": "code",
   "execution_count": 61,
   "metadata": {},
   "outputs": [
    {
     "data": {
      "text/plain": [
       "(1775,)"
      ]
     },
     "execution_count": 61,
     "metadata": {},
     "output_type": "execute_result"
    }
   ],
   "source": [
    "general  = np.concatenate([zeros, ones, twos, threes])\n",
    "general.shape"
   ]
  },
  {
   "cell_type": "code",
   "execution_count": 63,
   "metadata": {},
   "outputs": [
    {
     "data": {
      "text/html": [
       "<div>\n",
       "<style scoped>\n",
       "    .dataframe tbody tr th:only-of-type {\n",
       "        vertical-align: middle;\n",
       "    }\n",
       "\n",
       "    .dataframe tbody tr th {\n",
       "        vertical-align: top;\n",
       "    }\n",
       "\n",
       "    .dataframe thead th {\n",
       "        text-align: right;\n",
       "    }\n",
       "</style>\n",
       "<table border=\"1\" class=\"dataframe\">\n",
       "  <thead>\n",
       "    <tr style=\"text-align: right;\">\n",
       "      <th></th>\n",
       "      <th>href</th>\n",
       "      <th>title</th>\n",
       "      <th>text</th>\n",
       "      <th>theme</th>\n",
       "    </tr>\n",
       "  </thead>\n",
       "  <tbody>\n",
       "    <tr>\n",
       "      <th>0</th>\n",
       "      <td>https://profile.ru/news/military/kalashnikov-v...</td>\n",
       "      <td>\"Калашников\" выпустит партию обновленных АК-12...</td>\n",
       "      <td>\\n                            Во втором полуго...</td>\n",
       "      <td>0.0</td>\n",
       "    </tr>\n",
       "    <tr>\n",
       "      <th>1</th>\n",
       "      <td>https://profile.ru/news/military/kalashnikov-n...</td>\n",
       "      <td>\"Калашников\" начал поставлять снайперскую винт...</td>\n",
       "      <td>\\n                            Поставки новейше...</td>\n",
       "      <td>0.0</td>\n",
       "    </tr>\n",
       "    <tr>\n",
       "      <th>2</th>\n",
       "      <td>https://profile.ru/military/chernyj-maj-kak-ne...</td>\n",
       "      <td>\"Черный май\": как немецкие подводники потерпел...</td>\n",
       "      <td>\\n                            24 мая исполняет...</td>\n",
       "      <td>0.0</td>\n",
       "    </tr>\n",
       "    <tr>\n",
       "      <th>3</th>\n",
       "      <td>https://profile.ru/news/military/v-rf-prodolzh...</td>\n",
       "      <td>В РФ продолжают испытывать новый ракетный комп...</td>\n",
       "      <td>\\n                            В России продолж...</td>\n",
       "      <td>0.0</td>\n",
       "    </tr>\n",
       "    <tr>\n",
       "      <th>4</th>\n",
       "      <td>https://profile.ru/military/za-chto-komandir-s...</td>\n",
       "      <td>За что командир советской подлодки \"Щ-408\" пол...</td>\n",
       "      <td>\\n                            22 мая исполняет...</td>\n",
       "      <td>0.0</td>\n",
       "    </tr>\n",
       "    <tr>\n",
       "      <th>...</th>\n",
       "      <td>...</td>\n",
       "      <td>...</td>\n",
       "      <td>...</td>\n",
       "      <td>...</td>\n",
       "    </tr>\n",
       "    <tr>\n",
       "      <th>1770</th>\n",
       "      <td>https://profile.ru/news/dk/ugmk/shaaz-vypustil...</td>\n",
       "      <td>ШААЗ выпустил первый отечественный 14-тонный п...</td>\n",
       "      <td>\\n                            «Шадринский авто...</td>\n",
       "      <td>3.0</td>\n",
       "    </tr>\n",
       "    <tr>\n",
       "      <th>1771</th>\n",
       "      <td>https://profile.ru/news/dk/rosterminalugol/dey...</td>\n",
       "      <td>Деятельность «Ростерминалугля» признана эколог...</td>\n",
       "      <td>\\n                            «Ростерминалугол...</td>\n",
       "      <td>3.0</td>\n",
       "    </tr>\n",
       "    <tr>\n",
       "      <th>1772</th>\n",
       "      <td>https://profile.ru/dk/ugmk/perspektiva-dlya-za...</td>\n",
       "      <td>«Перспектива» для заслуженного отдыха</td>\n",
       "      <td>\\n                            Почему у нашего ...</td>\n",
       "      <td>3.0</td>\n",
       "    </tr>\n",
       "    <tr>\n",
       "      <th>1773</th>\n",
       "      <td>https://profile.ru/news/dk/kru/kuzbassrazrezug...</td>\n",
       "      <td>«Кузбассразрезуголь» создал первый профстандар...</td>\n",
       "      <td>\\n                            «Кузбассразрезуг...</td>\n",
       "      <td>3.0</td>\n",
       "    </tr>\n",
       "    <tr>\n",
       "      <th>1774</th>\n",
       "      <td>https://profile.ru/news/dk/kru/lokomotivnyj-pa...</td>\n",
       "      <td>Локомотивный парк «Кузбассразрезугля» пополнил...</td>\n",
       "      <td>\\n                            «Кузбассразрезуг...</td>\n",
       "      <td>3.0</td>\n",
       "    </tr>\n",
       "  </tbody>\n",
       "</table>\n",
       "<p>1775 rows × 4 columns</p>\n",
       "</div>"
      ],
      "text/plain": [
       "                                                   href   \n",
       "0     https://profile.ru/news/military/kalashnikov-v...  \\\n",
       "1     https://profile.ru/news/military/kalashnikov-n...   \n",
       "2     https://profile.ru/military/chernyj-maj-kak-ne...   \n",
       "3     https://profile.ru/news/military/v-rf-prodolzh...   \n",
       "4     https://profile.ru/military/za-chto-komandir-s...   \n",
       "...                                                 ...   \n",
       "1770  https://profile.ru/news/dk/ugmk/shaaz-vypustil...   \n",
       "1771  https://profile.ru/news/dk/rosterminalugol/dey...   \n",
       "1772  https://profile.ru/dk/ugmk/perspektiva-dlya-za...   \n",
       "1773  https://profile.ru/news/dk/kru/kuzbassrazrezug...   \n",
       "1774  https://profile.ru/news/dk/kru/lokomotivnyj-pa...   \n",
       "\n",
       "                                                  title   \n",
       "0     \"Калашников\" выпустит партию обновленных АК-12...  \\\n",
       "1     \"Калашников\" начал поставлять снайперскую винт...   \n",
       "2     \"Черный май\": как немецкие подводники потерпел...   \n",
       "3     В РФ продолжают испытывать новый ракетный комп...   \n",
       "4     За что командир советской подлодки \"Щ-408\" пол...   \n",
       "...                                                 ...   \n",
       "1770  ШААЗ выпустил первый отечественный 14-тонный п...   \n",
       "1771  Деятельность «Ростерминалугля» признана эколог...   \n",
       "1772              «Перспектива» для заслуженного отдыха   \n",
       "1773  «Кузбассразрезуголь» создал первый профстандар...   \n",
       "1774  Локомотивный парк «Кузбассразрезугля» пополнил...   \n",
       "\n",
       "                                                   text  theme  \n",
       "0     \\n                            Во втором полуго...    0.0  \n",
       "1     \\n                            Поставки новейше...    0.0  \n",
       "2     \\n                            24 мая исполняет...    0.0  \n",
       "3     \\n                            В России продолж...    0.0  \n",
       "4     \\n                            22 мая исполняет...    0.0  \n",
       "...                                                 ...    ...  \n",
       "1770  \\n                            «Шадринский авто...    3.0  \n",
       "1771  \\n                            «Ростерминалугол...    3.0  \n",
       "1772  \\n                            Почему у нашего ...    3.0  \n",
       "1773  \\n                            «Кузбассразрезуг...    3.0  \n",
       "1774  \\n                            «Кузбассразрезуг...    3.0  \n",
       "\n",
       "[1775 rows x 4 columns]"
      ]
     },
     "execution_count": 63,
     "metadata": {},
     "output_type": "execute_result"
    }
   ],
   "source": [
    "result['theme'] = general\n",
    "result"
   ]
  },
  {
   "cell_type": "code",
   "execution_count": 64,
   "metadata": {},
   "outputs": [],
   "source": [
    "result.to_csv('news.CSV', index=False)"
   ]
  }
 ],
 "metadata": {
  "kernelspec": {
   "display_name": "Python 3",
   "language": "python",
   "name": "python3"
  },
  "language_info": {
   "codemirror_mode": {
    "name": "ipython",
    "version": 3
   },
   "file_extension": ".py",
   "mimetype": "text/x-python",
   "name": "python",
   "nbconvert_exporter": "python",
   "pygments_lexer": "ipython3",
   "version": "3.11.1"
  },
  "orig_nbformat": 4
 },
 "nbformat": 4,
 "nbformat_minor": 2
}
