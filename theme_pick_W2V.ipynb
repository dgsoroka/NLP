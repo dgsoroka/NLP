{
 "cells": [
  {
   "cell_type": "code",
   "execution_count": 51,
   "metadata": {},
   "outputs": [
    {
     "name": "stderr",
     "output_type": "stream",
     "text": [
      "[nltk_data] Downloading package punkt to\n",
      "[nltk_data]     C:\\Users\\genas\\AppData\\Roaming\\nltk_data...\n",
      "[nltk_data]   Package punkt is already up-to-date!\n"
     ]
    },
    {
     "data": {
      "text/plain": [
       "True"
      ]
     },
     "execution_count": 51,
     "metadata": {},
     "output_type": "execute_result"
    }
   ],
   "source": [
    "import numpy as np\n",
    "import pandas as pd\n",
    "import re\n",
    "import nltk\n",
    "import nltk.data\n",
    "from tqdm import tqdm\n",
    "import pymorphy3\n",
    "\n",
    "from sklearn.feature_extraction.text import TfidfVectorizer\n",
    "from sklearn.feature_extraction.text import CountVectorizer\n",
    "from sklearn.model_selection import train_test_split\n",
    "\n",
    "nltk.download('punkt')"
   ]
  },
  {
   "cell_type": "code",
   "execution_count": 8,
   "metadata": {},
   "outputs": [
    {
     "data": {
      "text/html": [
       "<div>\n",
       "<style scoped>\n",
       "    .dataframe tbody tr th:only-of-type {\n",
       "        vertical-align: middle;\n",
       "    }\n",
       "\n",
       "    .dataframe tbody tr th {\n",
       "        vertical-align: top;\n",
       "    }\n",
       "\n",
       "    .dataframe thead th {\n",
       "        text-align: right;\n",
       "    }\n",
       "</style>\n",
       "<table border=\"1\" class=\"dataframe\">\n",
       "  <thead>\n",
       "    <tr style=\"text-align: right;\">\n",
       "      <th></th>\n",
       "      <th>title</th>\n",
       "      <th>text</th>\n",
       "    </tr>\n",
       "  </thead>\n",
       "  <tbody>\n",
       "    <tr>\n",
       "      <th>0</th>\n",
       "      <td>В МИД Японии заявили, что страна предоставила ...</td>\n",
       "      <td>\\nВласти Японии к настоящему времени предостав...</td>\n",
       "    </tr>\n",
       "    <tr>\n",
       "      <th>1</th>\n",
       "      <td>Белгородская область подверглась новой атаке б...</td>\n",
       "      <td>\\nНочью в среду, 24 мая, в Белгородской област...</td>\n",
       "    </tr>\n",
       "    <tr>\n",
       "      <th>2</th>\n",
       "      <td>Климатолог рассказал о сезоне ураганов в Москве</td>\n",
       "      <td>\\nВ столичном регионе в конце мая – начале июн...</td>\n",
       "    </tr>\n",
       "    <tr>\n",
       "      <th>3</th>\n",
       "      <td>Российский холдинг Segezha Group продал европе...</td>\n",
       "      <td>\\nРоссийский лесопромышленный холдинг Segezha ...</td>\n",
       "    </tr>\n",
       "    <tr>\n",
       "      <th>4</th>\n",
       "      <td>Жители Москвы могут выбрать цвета, которыми об...</td>\n",
       "      <td>\\nЖители Москвы могут проголосовать за одну из...</td>\n",
       "    </tr>\n",
       "    <tr>\n",
       "      <th>...</th>\n",
       "      <td>...</td>\n",
       "      <td>...</td>\n",
       "    </tr>\n",
       "    <tr>\n",
       "      <th>403</th>\n",
       "      <td>Лидеры G7 договорились продолжить поддержку Ук...</td>\n",
       "      <td>\\nПравительство России расширило доступ произв...</td>\n",
       "    </tr>\n",
       "    <tr>\n",
       "      <th>404</th>\n",
       "      <td>В кабмине ожидают, что рынок БПЛА в России по ...</td>\n",
       "      <td>\\nЛидеры государств, входящих в \"Большую семер...</td>\n",
       "    </tr>\n",
       "    <tr>\n",
       "      <th>405</th>\n",
       "      <td>РИА Новости: в России средний размер автокреди...</td>\n",
       "      <td>\\nNikkei: Япония запретит предоставлять России...</td>\n",
       "    </tr>\n",
       "    <tr>\n",
       "      <th>406</th>\n",
       "      <td>ВСУ обстреляли село Муром Белгородской области</td>\n",
       "      <td>\\nИтальянский ракетный эскадренный миноносец п...</td>\n",
       "    </tr>\n",
       "    <tr>\n",
       "      <th>407</th>\n",
       "      <td>Схема движения автотранспорта временно изменит...</td>\n",
       "      <td>\\nНа юго-востоке Москвы мужчина зашел в поликл...</td>\n",
       "    </tr>\n",
       "  </tbody>\n",
       "</table>\n",
       "<p>408 rows × 2 columns</p>\n",
       "</div>"
      ],
      "text/plain": [
       "                                                 title   \n",
       "0    В МИД Японии заявили, что страна предоставила ...  \\\n",
       "1    Белгородская область подверглась новой атаке б...   \n",
       "2      Климатолог рассказал о сезоне ураганов в Москве   \n",
       "3    Российский холдинг Segezha Group продал европе...   \n",
       "4    Жители Москвы могут выбрать цвета, которыми об...   \n",
       "..                                                 ...   \n",
       "403  Лидеры G7 договорились продолжить поддержку Ук...   \n",
       "404  В кабмине ожидают, что рынок БПЛА в России по ...   \n",
       "405  РИА Новости: в России средний размер автокреди...   \n",
       "406     ВСУ обстреляли село Муром Белгородской области   \n",
       "407  Схема движения автотранспорта временно изменит...   \n",
       "\n",
       "                                                  text  \n",
       "0    \\nВласти Японии к настоящему времени предостав...  \n",
       "1    \\nНочью в среду, 24 мая, в Белгородской област...  \n",
       "2    \\nВ столичном регионе в конце мая – начале июн...  \n",
       "3    \\nРоссийский лесопромышленный холдинг Segezha ...  \n",
       "4    \\nЖители Москвы могут проголосовать за одну из...  \n",
       "..                                                 ...  \n",
       "403  \\nПравительство России расширило доступ произв...  \n",
       "404  \\nЛидеры государств, входящих в \"Большую семер...  \n",
       "405  \\nNikkei: Япония запретит предоставлять России...  \n",
       "406  \\nИтальянский ракетный эскадренный миноносец п...  \n",
       "407  \\nНа юго-востоке Москвы мужчина зашел в поликл...  \n",
       "\n",
       "[408 rows x 2 columns]"
      ]
     },
     "execution_count": 8,
     "metadata": {},
     "output_type": "execute_result"
    }
   ],
   "source": [
    "news = pd.DataFrame(pd.read_csv('hrefs.CSV'), columns=['title', 'text'])\n",
    "news"
   ]
  },
  {
   "cell_type": "code",
   "execution_count": 9,
   "metadata": {},
   "outputs": [],
   "source": [
    "def text_to_sentences(text):\n",
    "    \"\"\" Функция делит текст на предложения, а предложения на слова.\n",
    "    \"\"\"\n",
    "    \n",
    "    # Поделим текст на предложения при помощи NLTK.\n",
    "    raw_sentences = nltk.sent_tokenize(text, language=\"russian\")\n",
    "    # Поделим предложения на слова при помощи регулярных выражений, заодно выкинем знаки препинания и цифры.\n",
    "    sentences = []\n",
    "    for raw_sentence in raw_sentences:\n",
    "        if len(raw_sentence) > 0:\n",
    "            sentences.append(re.findall('[a-zA-Zа-яА-яёЁ]+', raw_sentence.lower()))\n",
    "    return sentences"
   ]
  },
  {
   "cell_type": "code",
   "execution_count": 11,
   "metadata": {},
   "outputs": [
    {
     "data": {
      "text/plain": [
       "[['в',\n",
       "  'столичном',\n",
       "  'регионе',\n",
       "  'в',\n",
       "  'конце',\n",
       "  'мая',\n",
       "  'начале',\n",
       "  'июня',\n",
       "  'чаще',\n",
       "  'всего',\n",
       "  'фиксируются',\n",
       "  'шквалистые',\n",
       "  'ветры',\n",
       "  'и',\n",
       "  'ураганы',\n",
       "  'однако',\n",
       "  'на',\n",
       "  'данный',\n",
       "  'момент',\n",
       "  'погода',\n",
       "  'спокойная'],\n",
       " ['об',\n",
       "  'этом',\n",
       "  'в',\n",
       "  'среду',\n",
       "  'мая',\n",
       "  'рассказал',\n",
       "  'замдиректора',\n",
       "  'института',\n",
       "  'физики',\n",
       "  'атмосферы',\n",
       "  'имени',\n",
       "  'обухова',\n",
       "  'российской',\n",
       "  'академии',\n",
       "  'наук',\n",
       "  'владимир',\n",
       "  'семенов'],\n",
       " ['вторая',\n",
       "  'половина',\n",
       "  'мая',\n",
       "  'и',\n",
       "  'первая',\n",
       "  'половина',\n",
       "  'июня',\n",
       "  'это',\n",
       "  'время',\n",
       "  'когда',\n",
       "  'наиболее',\n",
       "  'сильный',\n",
       "  'температурный',\n",
       "  'контраст',\n",
       "  'между',\n",
       "  'северными',\n",
       "  'морями',\n",
       "  'и',\n",
       "  'европейской',\n",
       "  'частью',\n",
       "  'россии'],\n",
       " ['поэтому',\n",
       "  'если',\n",
       "  'случаются',\n",
       "  'холодные',\n",
       "  'вторжения',\n",
       "  'то',\n",
       "  'именно',\n",
       "  'в',\n",
       "  'это',\n",
       "  'время',\n",
       "  'чаще',\n",
       "  'всего',\n",
       "  'бывают',\n",
       "  'шквалы',\n",
       "  'сильный',\n",
       "  'порывистый',\n",
       "  'ветер',\n",
       "  'как',\n",
       "  'в',\n",
       "  'году',\n",
       "  'было',\n",
       "  'в',\n",
       "  'москве',\n",
       "  'пояснил',\n",
       "  'специалист',\n",
       "  'в',\n",
       "  'беседе',\n",
       "  'с',\n",
       "  'агентством',\n",
       "  'городских',\n",
       "  'новостей',\n",
       "  'москва'],\n",
       " ['при',\n",
       "  'этом',\n",
       "  'пока',\n",
       "  'что',\n",
       "  'погода',\n",
       "  'в',\n",
       "  'столице',\n",
       "  'дождливая',\n",
       "  'а',\n",
       "  'сильной',\n",
       "  'жары',\n",
       "  'не',\n",
       "  'было'],\n",
       " ['в',\n",
       "  'связи',\n",
       "  'с',\n",
       "  'этим',\n",
       "  'в',\n",
       "  'ближайшие',\n",
       "  'несколько',\n",
       "  'дней',\n",
       "  'ураганов',\n",
       "  'не',\n",
       "  'будет'],\n",
       " ['обычно',\n",
       "  'их',\n",
       "  'следует',\n",
       "  'ждать',\n",
       "  'после',\n",
       "  'периода',\n",
       "  'жаркой',\n",
       "  'погоды',\n",
       "  'когда',\n",
       "  'воздух',\n",
       "  'наполняется',\n",
       "  'влагой',\n",
       "  'заключил',\n",
       "  'семенов'],\n",
       " ['согласно',\n",
       "  'прогнозам',\n",
       "  'метеорологов',\n",
       "  'в',\n",
       "  'ближайшие',\n",
       "  'выходные',\n",
       "  'в',\n",
       "  'москву',\n",
       "  'придет',\n",
       "  'похолодание'],\n",
       " ['а',\n",
       "  'метеорологическое',\n",
       "  'лето',\n",
       "  'в',\n",
       "  'столице',\n",
       "  'стартует',\n",
       "  'с',\n",
       "  'опозданием']]"
      ]
     },
     "execution_count": 11,
     "metadata": {},
     "output_type": "execute_result"
    }
   ],
   "source": [
    "text_to_sentences(news['text'][11])"
   ]
  },
  {
   "cell_type": "code",
   "execution_count": 12,
   "metadata": {},
   "outputs": [
    {
     "data": {
      "text/plain": [
       "'\\nВ столичном регионе в конце мая – начале июня чаще всего фиксируются шквалистые ветры и ураганы, однако на данный момент погода спокойная. Об этом в среду, 24 мая, рассказал замдиректора Института физики атмосферы имени Обухова Российской академии наук Владимир Семенов.\\n\"Вторая половина мая и первая половина июня – это время, когда наиболее сильный температурный контраст между северными морями и европейской частью России. Поэтому если случаются холодные вторжения, то именно в это время чаще всего бывают шквалы, сильный порывистый ветер, как в 2017 году было в Москве\", – пояснил специалист в беседе с агентством городских новостей \"Москва\".\\nПри этом пока что погода в столице дождливая, а сильной жары не было. В связи с этим в ближайшие несколько дней ураганов не будет. Обычно их следует ждать после периода жаркой погоды, когда воздух наполняется влагой, заключил Семенов.\\nСогласно прогнозам метеорологов, в ближайшие выходные в Москву придет похолодание. А метеорологическое лето в столице стартует с опозданием. '"
      ]
     },
     "execution_count": 12,
     "metadata": {},
     "output_type": "execute_result"
    }
   ],
   "source": [
    "news['text'][11]"
   ]
  },
  {
   "cell_type": "code",
   "execution_count": 13,
   "metadata": {},
   "outputs": [],
   "source": [
    "\n",
    "all_sentences = sum([text_to_sentences(x) for x in news['text']], [])"
   ]
  },
  {
   "cell_type": "code",
   "execution_count": 14,
   "metadata": {},
   "outputs": [
    {
     "data": {
      "text/plain": [
       "['власти',\n",
       " 'японии',\n",
       " 'к',\n",
       " 'настоящему',\n",
       " 'времени',\n",
       " 'предоставили',\n",
       " 'украине',\n",
       " 'гуманитарной',\n",
       " 'и',\n",
       " 'финансовой',\n",
       " 'помощи',\n",
       " 'на',\n",
       " 'общую',\n",
       " 'сумму',\n",
       " 'млрд',\n",
       " 'сообщил',\n",
       " 'мая',\n",
       " 'глава',\n",
       " 'мид',\n",
       " 'японии',\n",
       " 'ёсимаса',\n",
       " 'хаяси',\n",
       " 'в',\n",
       " 'ходе',\n",
       " 'обсуждения',\n",
       " 'бюджета',\n",
       " 'в',\n",
       " 'палате',\n",
       " 'представителей',\n",
       " 'нижняя',\n",
       " 'палата',\n",
       " 'парламента']"
      ]
     },
     "execution_count": 14,
     "metadata": {},
     "output_type": "execute_result"
    }
   ],
   "source": [
    "all_sentences[0]"
   ]
  },
  {
   "cell_type": "code",
   "execution_count": 16,
   "metadata": {},
   "outputs": [],
   "source": [
    "from gensim.models.word2vec import Word2Vec # Собственно модель.\n",
    "from gensim.models import KeyedVectors # Семантические вектора."
   ]
  },
  {
   "cell_type": "code",
   "execution_count": 44,
   "metadata": {},
   "outputs": [],
   "source": [
    "model_w2v = KeyedVectors.load_word2vec_format('araneum_upos_skipgram_300_2_2018.vec.gz')"
   ]
  },
  {
   "cell_type": "code",
   "execution_count": 19,
   "metadata": {},
   "outputs": [
    {
     "data": {
      "text/plain": [
       "array([-2.69010e-02,  1.08851e-01,  1.13100e-03, -2.76620e-02,\n",
       "       -2.50680e-02, -4.58600e-03, -1.26100e-03, -3.79600e-03,\n",
       "       -7.53080e-02, -2.39490e-02,  2.00400e-02,  6.10330e-02,\n",
       "        7.40810e-02,  9.56330e-02, -1.11446e-01,  4.60380e-02,\n",
       "       -2.24540e-02, -2.46080e-02, -8.82250e-02, -1.53180e-02,\n",
       "       -3.66000e-04, -9.46770e-02,  1.33686e-01,  5.88400e-03,\n",
       "       -5.05470e-02,  8.13820e-02, -2.88090e-02, -7.00070e-02,\n",
       "        8.74950e-02, -8.31860e-02, -2.48210e-02, -3.82660e-02,\n",
       "        6.13210e-02, -6.45530e-02,  2.66400e-03,  8.36140e-02,\n",
       "       -3.73850e-02,  3.63260e-02, -1.20000e-04, -6.90000e-02,\n",
       "        1.49810e-02,  3.03880e-02, -2.17280e-02,  2.79400e-02,\n",
       "       -5.22550e-02,  1.96660e-02,  1.52499e-01,  7.27100e-02,\n",
       "       -2.11140e-02,  5.69930e-02, -3.07870e-02,  4.09070e-02,\n",
       "        6.49290e-02,  1.91730e-02,  2.50080e-02, -2.94090e-02,\n",
       "        6.33780e-02,  1.09028e-01,  5.66630e-02, -3.62330e-02,\n",
       "        4.96900e-02, -7.09280e-02,  2.74420e-02, -1.98650e-02,\n",
       "       -4.51340e-02, -1.50980e-02, -3.99110e-02, -7.48090e-02,\n",
       "        2.94630e-02, -4.18650e-02,  9.38820e-02, -6.96000e-03,\n",
       "        4.16040e-02, -5.73700e-03,  3.39000e-02, -6.67390e-02,\n",
       "       -2.04790e-02, -4.25040e-02,  5.67500e-03, -2.83490e-02,\n",
       "       -2.34950e-02, -1.02213e-01,  4.98750e-02,  3.86900e-02,\n",
       "       -4.36590e-02,  1.31880e-02,  1.11148e-01, -9.44720e-02,\n",
       "       -5.93430e-02, -7.77140e-02,  3.85430e-02,  9.09070e-02,\n",
       "        5.09000e-04, -3.78620e-02,  8.04500e-03,  7.43830e-02,\n",
       "       -7.35100e-03,  1.70230e-02, -5.24390e-02,  7.93950e-02,\n",
       "       -1.05930e-02,  2.68270e-02, -2.39120e-02,  3.64000e-03,\n",
       "       -1.16770e-01, -4.78740e-02, -1.94120e-02, -2.09940e-02,\n",
       "       -4.56630e-02,  9.08380e-02,  1.80280e-02, -1.00870e-02,\n",
       "       -8.83500e-03, -7.56900e-02,  4.17490e-02,  4.27480e-02,\n",
       "        5.95060e-02, -5.91950e-02,  6.34880e-02,  6.82500e-03,\n",
       "        1.09871e-01, -2.10860e-02, -1.21474e-01, -6.05000e-03,\n",
       "        1.42470e-02, -3.60890e-02, -3.13030e-02,  4.21140e-02,\n",
       "        1.07471e-01,  2.07040e-02, -7.25410e-02, -1.93690e-01,\n",
       "        5.95580e-02, -3.45950e-02,  9.50300e-03,  2.53610e-02,\n",
       "       -2.54120e-02, -2.17180e-02, -2.21100e-02, -7.57500e-03,\n",
       "        3.60960e-02, -1.06891e-01,  4.65520e-02,  8.61400e-02,\n",
       "        1.70600e-02, -2.51140e-02,  2.39590e-02, -8.88980e-02,\n",
       "       -7.08180e-02,  4.93690e-02, -7.07880e-02,  7.44000e-04,\n",
       "        8.43790e-02,  3.18580e-02,  1.54160e-02,  3.75200e-03,\n",
       "        4.08160e-02, -1.07720e-02,  3.80000e-05, -2.36560e-02,\n",
       "        6.82770e-02, -5.49300e-03, -4.53580e-02, -3.88940e-02,\n",
       "       -4.54900e-02,  1.57553e-01, -5.80460e-02,  6.83370e-02,\n",
       "       -8.21530e-02,  6.11360e-02,  4.91810e-02,  5.84270e-02,\n",
       "       -7.00170e-02, -2.40380e-02, -2.87350e-02,  5.24180e-02,\n",
       "        1.14887e-01, -5.87410e-02, -4.20570e-02,  1.19858e-01,\n",
       "        2.60310e-02,  5.82470e-02,  3.14760e-02,  1.18300e-02,\n",
       "       -1.37664e-01, -2.10020e-02,  4.01790e-02,  5.56920e-02,\n",
       "        6.25000e-04,  1.60360e-02, -7.11240e-02, -1.13366e-01,\n",
       "       -7.36260e-02, -2.14090e-02,  5.83280e-02, -7.83660e-02,\n",
       "       -1.06356e-01,  2.92150e-02,  1.44810e-02,  1.23620e-02,\n",
       "        8.98920e-02, -6.26090e-02,  1.31730e-02,  6.17000e-03,\n",
       "       -4.62430e-02, -5.07060e-02, -1.61660e-02,  2.44100e-02,\n",
       "       -3.08970e-02,  1.58160e-02, -7.52400e-03, -1.04370e-02,\n",
       "       -1.40530e-02,  7.48180e-02,  1.10510e-02, -4.58580e-02,\n",
       "        9.35010e-02, -9.41710e-02,  4.14960e-02, -3.22700e-02,\n",
       "        4.61280e-02,  1.67610e-02, -5.80500e-03, -1.41060e-02,\n",
       "       -7.47100e-03, -8.74700e-03,  1.18096e-01,  3.00600e-03,\n",
       "       -2.59760e-02,  4.57440e-02, -2.63350e-02,  8.31200e-03,\n",
       "       -3.71280e-02,  1.34530e-02,  1.25900e-03,  2.10700e-02,\n",
       "        3.31090e-02, -9.70660e-02, -3.07540e-02,  7.46400e-03,\n",
       "        2.45250e-02, -5.24890e-02, -7.32100e-02, -2.20560e-02,\n",
       "       -8.45000e-04, -3.56770e-02, -2.88380e-02, -1.10739e-01,\n",
       "        5.24800e-02,  4.86410e-02, -4.13790e-02, -8.64090e-02,\n",
       "        1.14032e-01, -5.14860e-02, -4.17900e-02, -1.08950e-02,\n",
       "       -2.41470e-02,  8.05840e-02, -1.05780e-01, -1.00646e-01,\n",
       "        8.94340e-02,  1.58700e-02, -1.04970e-02, -7.05070e-02,\n",
       "        1.78710e-02, -1.24600e-02,  3.17500e-02, -2.81730e-02,\n",
       "        3.50200e-03, -3.23100e-03,  1.60475e-01,  3.33950e-02,\n",
       "       -2.26930e-02, -4.89170e-02,  7.14610e-02,  2.63810e-02,\n",
       "        8.20400e-03, -2.83280e-02, -2.98600e-03,  1.03827e-01,\n",
       "        1.20600e-03,  8.00400e-02,  2.86600e-03, -4.63270e-02,\n",
       "        1.06284e-01,  2.58980e-02, -1.51700e-03,  6.35640e-02,\n",
       "       -1.21680e-02, -1.10570e-01, -7.52900e-02,  3.05160e-02,\n",
       "       -4.66550e-02,  1.21010e-02, -1.18719e-01,  1.66450e-02,\n",
       "       -9.19320e-02, -4.12540e-02, -3.70690e-02, -3.44930e-02],\n",
       "      dtype=float32)"
      ]
     },
     "execution_count": 19,
     "metadata": {},
     "output_type": "execute_result"
    }
   ],
   "source": [
    "model_w2v['огонь_NOUN']"
   ]
  },
  {
   "cell_type": "code",
   "execution_count": 23,
   "metadata": {},
   "outputs": [
    {
     "data": {
      "text/plain": [
       "[('столица_NOUN', 0.6747552156448364),\n",
       " ('грод_NOUN', 0.6577627658843994),\n",
       " ('городок_NOUN', 0.6478427052497864),\n",
       " ('пригород_NOUN', 0.6212136149406433),\n",
       " ('мегаполис_NOUN', 0.6159499883651733),\n",
       " ('городый_ADJ', 0.6062526106834412),\n",
       " ('город-герой_NOUN', 0.604307234287262),\n",
       " ('город-спутник_NOUN', 0.6018998622894287),\n",
       " ('населенный_ADJ', 0.5992230772972107),\n",
       " ('городишко_NOUN', 0.5902962684631348)]"
      ]
     },
     "execution_count": 23,
     "metadata": {},
     "output_type": "execute_result"
    }
   ],
   "source": [
    "model_w2v.most_similar('город_NOUN')"
   ]
  },
  {
   "cell_type": "code",
   "execution_count": 24,
   "metadata": {},
   "outputs": [
    {
     "data": {
      "text/plain": [
       "['год_NOUN',\n",
       " 'мочь_VERB',\n",
       " 'человек_NOUN',\n",
       " 'время_NOUN',\n",
       " 'работа_NOUN',\n",
       " 'новый_ADJ',\n",
       " 'становиться_VERB',\n",
       " 'также_ADV',\n",
       " 'очень_ADV',\n",
       " 'день_NOUN',\n",
       " 'первый_ADJ',\n",
       " 'компания_NOUN',\n",
       " 'являться_VERB',\n",
       " 'ребенок_NOUN',\n",
       " 'иметь_VERB',\n",
       " 'система_NOUN',\n",
       " 'место_NOUN',\n",
       " 'получать_VERB',\n",
       " 'большой_ADJ',\n",
       " 'жизнь_NOUN']"
      ]
     },
     "execution_count": 24,
     "metadata": {},
     "output_type": "execute_result"
    }
   ],
   "source": [
    "list(model_w2v.key_to_index.keys())[:20]"
   ]
  },
  {
   "cell_type": "code",
   "execution_count": 25,
   "metadata": {},
   "outputs": [
    {
     "data": {
      "text/plain": [
       "(array([], dtype=float32), array([], dtype=float32), 0.9999996)"
      ]
     },
     "execution_count": 25,
     "metadata": {},
     "output_type": "execute_result"
    }
   ],
   "source": [
    "lens = np.array([np.linalg.norm(model_w2v[word]) for word in model_w2v.key_to_index.keys()])\n",
    "lens[lens > 1.01], lens[lens < 0.99], lens[0]"
   ]
  },
  {
   "cell_type": "code",
   "execution_count": 26,
   "metadata": {},
   "outputs": [
    {
     "data": {
      "text/plain": [
       "[('россия::москва_PROPN', 0.7317757606506348),\n",
       " ('россия_PROPN', 0.7260456681251526),\n",
       " ('москва::москва_PROPN', 0.7081453204154968),\n",
       " ('москва::россия_PROPN', 0.6551341414451599),\n",
       " ('россия::санкт-петербург_PROPN', 0.6160128712654114),\n",
       " ('рф::москва_PROPN', 0.6140520572662354),\n",
       " ('рязань_PROPN', 0.6115250587463379),\n",
       " ('россия::украина_PROPN', 0.6086370944976807),\n",
       " ('белоруссия_PROPN', 0.6031982898712158),\n",
       " ('москва::санкт-петербург_PROPN', 0.6031042337417603)]"
      ]
     },
     "execution_count": 26,
     "metadata": {},
     "output_type": "execute_result"
    }
   ],
   "source": [
    "model_w2v.most_similar(positive=[u'сербия_PROPN', u'москва_PROPN' ], negative=[u'белград_PROPN'])"
   ]
  },
  {
   "cell_type": "code",
   "execution_count": 29,
   "metadata": {},
   "outputs": [],
   "source": [
    "import umap\n",
    "from copy import copy\n",
    "\n",
    "%matplotlib inline\n",
    "import matplotlib.pyplot as plt\n",
    "\n",
    "plt.rcParams['figure.figsize'] = (16, 12)"
   ]
  },
  {
   "cell_type": "code",
   "execution_count": 37,
   "metadata": {},
   "outputs": [],
   "source": [
    "def get_most_frequent_words_from_model(model, texts, threshold=10):\n",
    "    \"\"\" Функция выделяет слова, которые встречаются в текстах texts не реже, чем threshold раз,\n",
    "        и при этом имеются в предобученной модели model. Также возвращает вектора этих слов.\n",
    "    \"\"\"\n",
    "    vctr = CountVectorizer(lowercase=False)\n",
    "    cntr = vctr.fit_transform(texts)\n",
    "    \n",
    "    res_words = []\n",
    "    res_vects = []\n",
    "    summed = cntr.sum(axis=0)\n",
    "    klist = list(vctr.vocabulary_.keys())\n",
    "    for i in range(summed.shape[1]):\n",
    "        if summed[0, i] > threshold:\n",
    "            try:\n",
    "                res_vects.append(model[klist[i]])\n",
    "                res_words.append(klist[i])\n",
    "            except:\n",
    "#                 print(klist[i])\n",
    "                pass\n",
    "    \n",
    "    return res_words, res_vects"
   ]
  },
  {
   "cell_type": "code",
   "execution_count": 49,
   "metadata": {},
   "outputs": [],
   "source": [
    "conv_pos = {'ADJF':'ADJ', 'ADJS':'ADJ', 'ADV':'ADV', 'NOUN':'NOUN', \n",
    "            'VERB':'VERB', 'PRTF':'ADJ', 'PRTS':'ADJ', 'GRND':'VERB'}\n",
    "\n",
    "tmp_dict = {} # Кеш значимых слов.\n",
    "nones = {} # Кеш незначимых слов.\n",
    "\n",
    "morph = pymorphy3.MorphAnalyzer()\n",
    "\n",
    "# Фильтруем по части речи и возвращаем только начальную форму.\n",
    "def normalizePymorphy(text, need_pos=True):\n",
    "    tokens = re.findall('[A-Za-zА-Яа-яЁё]+\\-[A-Za-zА-Яа-яЁё]+|[A-Za-zА-Яа-яЁё]+', text)\n",
    "    words = []\n",
    "    for t in tokens:\n",
    "        # Если токен уже был закеширован, быстро возьмем результат из него.\n",
    "        if t in tmp_dict.keys():\n",
    "            words.append(tmp_dict[t])\n",
    "        # Аналогично, если он в кеше незначимых слов.\n",
    "        elif t in nones.keys():\n",
    "            pass\n",
    "        # Слово еще не встретилось, будем проводить медленный морфологический анализ.\n",
    "        else:\n",
    "            pv = morph.parse(t)\n",
    "            if pv[0].tag.POS != None:\n",
    "                if pv[0].tag.POS in conv_pos.keys():\n",
    "                    if need_pos:\n",
    "                        word = pv[0].normal_form+\"_\"+conv_pos[pv[0].tag.POS]\n",
    "                    else:\n",
    "                        word = pv[0].normal_form\n",
    "                    # Отправляем слово в результат, ...\n",
    "                    words.append(word)\n",
    "                    # ... и кешируем результат его разбора.\n",
    "                    tmp_dict[t] = word\n",
    "                else:\n",
    "                    # Для незначимых слов можно даже ничего не хранить. Лишь бы потом не обращаться к морфологии.\n",
    "                    nones[t] = \"\"\n",
    "                    \n",
    "    return words"
   ]
  },
  {
   "cell_type": "code",
   "execution_count": 52,
   "metadata": {},
   "outputs": [
    {
     "name": "stderr",
     "output_type": "stream",
     "text": [
      "100%|██████████| 408/408 [00:01<00:00, 285.41it/s]\n"
     ]
    }
   ],
   "source": [
    "sci_sentences = []\n",
    "n_texts = []\n",
    "for text in tqdm(news['text']):\n",
    "    norm = normalizePymorphy(text)\n",
    "    sci_sentences.append(norm)\n",
    "    n_texts.append(' '.join(norm))"
   ]
  },
  {
   "cell_type": "code",
   "execution_count": 54,
   "metadata": {},
   "outputs": [
    {
     "data": {
      "text/plain": [
       "0      власть_NOUN япония_NOUN настоящий_ADJ время_NO...\n",
       "1      среда_NOUN май_NOUN белгородский_ADJ область_N...\n",
       "2      столичный_ADJ регион_NOUN конец_NOUN май_NOUN ...\n",
       "3      российский_ADJ лесопромышленный_ADJ холдинг_NO...\n",
       "4      житель_NOUN москва_NOUN мочь_VERB один_ADJ пре...\n",
       "                             ...                        \n",
       "403    правительство_NOUN россия_NOUN расширить_VERB ...\n",
       "404    лидер_NOUN государство_NOUN входящий_ADJ больш...\n",
       "405    япония_NOUN запретить_VERB россия_NOUN строите...\n",
       "406    итальянский_ADJ ракетный_ADJ эскадренный_ADJ м...\n",
       "407    юго-восток_NOUN москва_NOUN мужчина_NOUN зайти...\n",
       "Name: text, Length: 408, dtype: object"
      ]
     },
     "execution_count": 54,
     "metadata": {},
     "output_type": "execute_result"
    }
   ],
   "source": [
    "news['text'] = n_texts\n",
    "news['text']"
   ]
  },
  {
   "cell_type": "code",
   "execution_count": 84,
   "metadata": {},
   "outputs": [],
   "source": [
    "from sklearn.cluster import DBSCAN\n",
    "from sklearn.cluster import KMeans\n",
    "import seaborn as sns\n",
    "from matplotlib.colors import ListedColormap\n",
    "from numpy.random import choice\n",
    "from umap.umap_ import UMAP\n"
   ]
  },
  {
   "cell_type": "code",
   "execution_count": 71,
   "metadata": {},
   "outputs": [],
   "source": [
    "def cluster_texts_and_draw(vectors, umaped_vct, eps):\n",
    "    \"\"\" Функция кластеризует вектора vectors при помощи DBSCAN, используя eps в качестве параметра,\n",
    "        и отображает их на плоскость, используя umaped_vct.\n",
    "    \"\"\"\n",
    "    # Кластеризуем данные при помощи DBSCAN. \n",
    "    # Это не значит, что он лучше k-Means, он просто здесь быстрее.\n",
    "    db = DBSCAN(eps=eps, min_samples=3)\n",
    "    db_clusters = db.fit_predict(vectors)\n",
    "     # Генерируем контрастную карту цветов.\n",
    "    myclr = ListedColormap(choice(list(sns.xkcd_rgb.values()), max(db_clusters)+1))\n",
    "    print(max(db_clusters))\n",
    "    fig, ax = plt.subplots()\n",
    "    ax.scatter(umaped_vct[:, 0], umaped_vct[:, 1], s=3, c=db_clusters, cmap=myclr)\n",
    "    plt.show()\n",
    "    return db_clusters\n",
    "\n",
    "def show_texts_in_clusters(texts, target, clust_no, text_no):\n",
    "    \"\"\" Функция отображает группировку текстов texts по кластсерам target.\n",
    "        Выводит не более text_no текстов из первых clust_no кластеров.\n",
    "    \"\"\"\n",
    "\n",
    "    clusters = list(set(target))\n",
    "\n",
    "    for c in clusters[:clust_no]:\n",
    "        print('          __ ', c, ' __')\n",
    "        cntr = 0\n",
    "        for i, a in enumerate(texts):\n",
    "            if target[i] == c:\n",
    "                print(a[:200])\n",
    "                cntr += 1\n",
    "                if cntr == text_no:\n",
    "                    break\n",
    "        print()\n",
    "        \n",
    "    "
   ]
  },
  {
   "cell_type": "code",
   "execution_count": 55,
   "metadata": {},
   "outputs": [],
   "source": [
    "\n",
    "news_words, news_vects = get_most_frequent_words_from_model(model_w2v, news['text'], 10)"
   ]
  },
  {
   "cell_type": "code",
   "execution_count": 56,
   "metadata": {},
   "outputs": [
    {
     "data": {
      "text/plain": [
       "730"
      ]
     },
     "execution_count": 56,
     "metadata": {},
     "output_type": "execute_result"
    }
   ],
   "source": [
    "len(news_words)"
   ]
  },
  {
   "cell_type": "code",
   "execution_count": 57,
   "metadata": {},
   "outputs": [
    {
     "data": {
      "text/plain": [
       "730"
      ]
     },
     "execution_count": 57,
     "metadata": {},
     "output_type": "execute_result"
    }
   ],
   "source": [
    "len(news_vects)"
   ]
  },
  {
   "cell_type": "code",
   "execution_count": 60,
   "metadata": {},
   "outputs": [
    {
     "name": "stderr",
     "output_type": "stream",
     "text": [
      "C:\\Users\\genas\\AppData\\Roaming\\Python\\Python311\\site-packages\\sklearn\\cluster\\_kmeans.py:870: FutureWarning: The default value of `n_init` will change from 10 to 'auto' in 1.4. Set the value of `n_init` explicitly to suppress the warning\n",
      "  warnings.warn(\n"
     ]
    }
   ],
   "source": [
    "sci_clust_no = int(len(news_vects)/2)\n",
    "km_clustering = KMeans(n_clusters=sci_clust_no)\n",
    "sci_clusters = km_clustering.fit_predict(news_vects)"
   ]
  },
  {
   "cell_type": "code",
   "execution_count": 63,
   "metadata": {},
   "outputs": [
    {
     "data": {
      "text/plain": [
       "['взрывчатка_NOUN', 'самодельный_ADJ', 'смертоносный_ADJ']"
      ]
     },
     "execution_count": 63,
     "metadata": {},
     "output_type": "execute_result"
    }
   ],
   "source": [
    "coi = 1\n",
    "[word for word, clust in zip(news_words, sci_clusters) if clust == coi]"
   ]
  },
  {
   "cell_type": "code",
   "execution_count": 64,
   "metadata": {},
   "outputs": [],
   "source": [
    "news_words_sorted = sorted(zip(sci_clusters, news_words), key= lambda x:x[0])\n",
    "# sci_set = set(sci_words)\n",
    "news_words_d = {w[1]:w[0] for w in news_words_sorted}"
   ]
  },
  {
   "cell_type": "code",
   "execution_count": 65,
   "metadata": {},
   "outputs": [
    {
     "name": "stdout",
     "output_type": "stream",
     "text": [
      "['разработчик_NOUN', 'программист_NOUN', 'функционал_NOUN']\n"
     ]
    }
   ],
   "source": [
    "clust_no = 22\n",
    "print([word[1] for word in news_words_sorted if word[0]==clust_no])"
   ]
  },
  {
   "cell_type": "code",
   "execution_count": 66,
   "metadata": {},
   "outputs": [],
   "source": [
    "# Посчитаем координаты центроидов.\n",
    "cur_clust = news_words_sorted[0][0]\n",
    "cur_coord = np.array(model_w2v[news_words_sorted[0][1]])\n",
    "cur_count = 1\n",
    "clust_coord = []\n",
    "\n",
    "for i, word in enumerate(news_words_sorted[1:]):\n",
    "    if cur_clust == news_words_sorted[i+1][0]:\n",
    "        cur_coord += model_w2v[news_words_sorted[i+1][1]]\n",
    "        cur_count += 1\n",
    "    else:\n",
    "        clust_coord.append(cur_coord/cur_count)\n",
    "        cur_clust = news_words_sorted[i+1][0]\n",
    "        cur_coord = np.array(model_w2v[news_words_sorted[i+1][1]])\n",
    "        cur_count = 1\n",
    "        \n",
    "clust_coord.append(cur_coord/cur_count)"
   ]
  },
  {
   "cell_type": "code",
   "execution_count": 67,
   "metadata": {},
   "outputs": [],
   "source": [
    "def text_to_vec_centr(text, model_w2v, clust_coord, sci_words_d):\n",
    "    text_vec = np.zeros((model_w2v.vector_size,), dtype=\"float32\")\n",
    "    n_words = 0\n",
    "\n",
    "    for word in normalizePymorphy(text):\n",
    "        if word in sci_words_d.keys():\n",
    "            n_words = n_words + 1\n",
    "            text_vec = np.add(text_vec, clust_coord[sci_words_d[word]]) \n",
    "        else:\n",
    "            try:\n",
    "                text_vec = np.add(text_vec, model_w2v[word]) \n",
    "                n_words = n_words + 1\n",
    "            except Exception:\n",
    "                pass\n",
    "    \n",
    "    if n_words != 0:\n",
    "        text_vec /= n_words\n",
    "    return text_vec"
   ]
  },
  {
   "cell_type": "code",
   "execution_count": 82,
   "metadata": {},
   "outputs": [
    {
     "name": "stderr",
     "output_type": "stream",
     "text": [
      "100%|██████████| 408/408 [00:00<00:00, 578.85it/s]\n"
     ]
    }
   ],
   "source": [
    "# Строим вектора для слов.\n",
    "news_vect2 = []\n",
    "for text in tqdm(news.text):\n",
    "    news_vect2.append(text_to_vec_centr(text, model_w2v, clust_coord, news_words_d))"
   ]
  },
  {
   "cell_type": "code",
   "execution_count": null,
   "metadata": {},
   "outputs": [],
   "source": []
  },
  {
   "cell_type": "code",
   "execution_count": 85,
   "metadata": {},
   "outputs": [
    {
     "name": "stdout",
     "output_type": "stream",
     "text": [
      "0\n"
     ]
    },
    {
     "data": {
      "image/png": "[encoded data removed]",
      "text/plain": [
       "<Figure size 1600x1200 with 1 Axes>"
      ]
     },
     "metadata": {},
     "output_type": "display_data"
    }
   ],
   "source": [
    "umaped_vct2 = UMAP().fit_transform(news_vect2)\n",
    "clusters = cluster_texts_and_draw(news_vect2, umaped_vct2, 0.09)"
   ]
  },
  {
   "cell_type": "code",
   "execution_count": 89,
   "metadata": {},
   "outputs": [
    {
     "name": "stdout",
     "output_type": "stream",
     "text": [
      "          __  0  __\n",
      "среда_NOUN май_NOUN столичный_ADJ регион_NOUN ожидаться_VERB облачный_ADJ погода_NOUN пройти_VERB дождь_NOUN отдельный_ADJ район_NOUN вероятный_ADJ гроза_NOUN температура_NOUN воздух_NOUN день_NOUN мо\n",
      "вторник_NOUN май_NOUN житель_NOUN столичный_ADJ регион_NOUN ожидать_VERB облачный_ADJ прояснение_NOUN погода_NOUN пройти_VERB кратковременный_ADJ дождь_NOUN место_NOUN вероятный_ADJ гроза_NOUN темпера\n",
      "понедельник_NOUN май_NOUN москва_NOUN подмосковье_NOUN прогнозироваться_VERB облачный_ADJ погода_NOUN прояснение_NOUN возможный_ADJ небольшой_ADJ дождь_NOUN место_NOUN умеренный_ADJ некоторый_ADJ райо\n",
      "\n",
      "          __  -1  __\n",
      "власть_NOUN япония_NOUN настоящий_ADJ время_NOUN предоставить_VERB украина_NOUN гуманитарный_ADJ финансовый_ADJ помощь_NOUN общий_ADJ сумма_NOUN млрд_NOUN сообщить_VERB май_NOUN глава_NOUN мид_NOUN яп\n",
      "среда_NOUN май_NOUN белгородский_ADJ область_NOUN быть_VERB зафиксировать_ADJ большой_ADJ количество_NOUN атака_NOUN беспилотник_NOUN большинство_NOUN справиться_VERB средство_NOUN пво_NOUN повреждени\n",
      "столичный_ADJ регион_NOUN конец_NOUN май_NOUN начало_NOUN июнь_NOUN весь_ADJ фиксироваться_VERB шквалистый_ADJ ветер_NOUN ураган_NOUN данный_ADJ момент_NOUN погода_NOUN спокойный_ADJ среда_NOUN май_NO\n",
      "\n"
     ]
    }
   ],
   "source": [
    "show_texts_in_clusters(news.text, clusters, 10, 3)"
   ]
  },
  {
   "cell_type": "code",
   "execution_count": 90,
   "metadata": {},
   "outputs": [],
   "source": [
    "from sklearn.model_selection import train_test_split\n",
    "from sklearn.metrics import confusion_matrix, accuracy_score\n",
    "\n",
    "from sklearn.ensemble import RandomForestClassifier"
   ]
  },
  {
   "cell_type": "code",
   "execution_count": 91,
   "metadata": {},
   "outputs": [],
   "source": [
    "def classify_texts(data, target):\n",
    "    # Делим данные на обучающую и проверочную выборки.\n",
    "    X_train, X_test, y_train, y_test = train_test_split(data, target, test_size=0.2, random_state=333)\n",
    "    #Обучаем классификатор и оцениваем точность результатов.\n",
    "    tree = RandomForestClassifier(criterion='entropy', random_state=333)\n",
    "    tree.fit(X_train, y_train)\n",
    "    y_hat = tree.predict(X_test)\n",
    "    print(f\"accuracy = {accuracy_score(y_hat, y_test)}\")\n",
    "    print(confusion_matrix(y_test, y_hat))"
   ]
  },
  {
   "cell_type": "code",
   "execution_count": 104,
   "metadata": {},
   "outputs": [],
   "source": [
    "classes = np.ones(408)\n",
    "for i in range(2, 6):\n",
    "    classes[(i-1)*82: i*82] = i  "
   ]
  },
  {
   "cell_type": "code",
   "execution_count": 105,
   "metadata": {},
   "outputs": [
    {
     "data": {
      "text/plain": [
       "array([1., 1., 1., 1., 1., 1., 1., 1., 1., 1., 1., 1., 1., 1., 1., 1., 1.,\n",
       "       1., 1., 1., 1., 1., 1., 1., 1., 1., 1., 1., 1., 1., 1., 1., 1., 1.,\n",
       "       1., 1., 1., 1., 1., 1., 1., 1., 1., 1., 1., 1., 1., 1., 1., 1., 1.,\n",
       "       1., 1., 1., 1., 1., 1., 1., 1., 1., 1., 1., 1., 1., 1., 1., 1., 1.,\n",
       "       1., 1., 1., 1., 1., 1., 1., 1., 1., 1., 1., 1., 1., 1., 2., 2., 2.,\n",
       "       2., 2., 2., 2., 2., 2., 2., 2., 2., 2., 2., 2., 2., 2., 2., 2., 2.,\n",
       "       2., 2., 2., 2., 2., 2., 2., 2., 2., 2., 2., 2., 2., 2., 2., 2., 2.,\n",
       "       2., 2., 2., 2., 2., 2., 2., 2., 2., 2., 2., 2., 2., 2., 2., 2., 2.,\n",
       "       2., 2., 2., 2., 2., 2., 2., 2., 2., 2., 2., 2., 2., 2., 2., 2., 2.,\n",
       "       2., 2., 2., 2., 2., 2., 2., 2., 2., 2., 2., 3., 3., 3., 3., 3., 3.,\n",
       "       3., 3., 3., 3., 3., 3., 3., 3., 3., 3., 3., 3., 3., 3., 3., 3., 3.,\n",
       "       3., 3., 3., 3., 3., 3., 3., 3., 3., 3., 3., 3., 3., 3., 3., 3., 3.,\n",
       "       3., 3., 3., 3., 3., 3., 3., 3., 3., 3., 3., 3., 3., 3., 3., 3., 3.,\n",
       "       3., 3., 3., 3., 3., 3., 3., 3., 3., 3., 3., 3., 3., 3., 3., 3., 3.,\n",
       "       3., 3., 3., 3., 3., 3., 3., 3., 4., 4., 4., 4., 4., 4., 4., 4., 4.,\n",
       "       4., 4., 4., 4., 4., 4., 4., 4., 4., 4., 4., 4., 4., 4., 4., 4., 4.,\n",
       "       4., 4., 4., 4., 4., 4., 4., 4., 4., 4., 4., 4., 4., 4., 4., 4., 4.,\n",
       "       4., 4., 4., 4., 4., 4., 4., 4., 4., 4., 4., 4., 4., 4., 4., 4., 4.,\n",
       "       4., 4., 4., 4., 4., 4., 4., 4., 4., 4., 4., 4., 4., 4., 4., 4., 4.,\n",
       "       4., 4., 4., 4., 4., 5., 5., 5., 5., 5., 5., 5., 5., 5., 5., 5., 5.,\n",
       "       5., 5., 5., 5., 5., 5., 5., 5., 5., 5., 5., 5., 5., 5., 5., 5., 5.,\n",
       "       5., 5., 5., 5., 5., 5., 5., 5., 5., 5., 5., 5., 5., 5., 5., 5., 5.,\n",
       "       5., 5., 5., 5., 5., 5., 5., 5., 5., 5., 5., 5., 5., 5., 5., 5., 5.,\n",
       "       5., 5., 5., 5., 5., 5., 5., 5., 5., 5., 5., 5., 5., 5., 5., 5., 5.])"
      ]
     },
     "execution_count": 105,
     "metadata": {},
     "output_type": "execute_result"
    }
   ],
   "source": [
    "classes"
   ]
  },
  {
   "cell_type": "code",
   "execution_count": 106,
   "metadata": {},
   "outputs": [
    {
     "name": "stdout",
     "output_type": "stream",
     "text": [
      "accuracy = 0.35365853658536583\n",
      "[[5 1 4 3 3]\n",
      " [5 5 1 0 2]\n",
      " [2 4 6 1 3]\n",
      " [1 5 2 6 7]\n",
      " [2 3 2 2 7]]\n"
     ]
    }
   ],
   "source": [
    "\n",
    "classify_texts(news_vect2, classes)"
   ]
  }
 ],
 "metadata": {
  "kernelspec": {
   "display_name": "Python 3",
   "language": "python",
   "name": "python3"
  },
  "language_info": {
   "codemirror_mode": {
    "name": "ipython",
    "version": 3
   },
   "file_extension": ".py",
   "mimetype": "text/x-python",
   "name": "python",
   "nbconvert_exporter": "python",
   "pygments_lexer": "ipython3",
   "version": "3.11.1"
  },
  "orig_nbformat": 4
 },
 "nbformat": 4,
 "nbformat_minor": 2
}
