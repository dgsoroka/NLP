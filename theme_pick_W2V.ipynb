{
 "cells": [
  {
   "cell_type": "code",
   "execution_count": 1,
   "metadata": {},
   "outputs": [
    {
     "name": "stderr",
     "output_type": "stream",
     "text": [
      "[nltk_data] Downloading package punkt to\n",
      "[nltk_data]     C:\\Users\\genas\\AppData\\Roaming\\nltk_data...\n",
      "[nltk_data]   Package punkt is already up-to-date!\n"
     ]
    },
    {
     "data": {
      "text/plain": [
       "True"
      ]
     },
     "execution_count": 1,
     "metadata": {},
     "output_type": "execute_result"
    }
   ],
   "source": [
    "import numpy as np\n",
    "import pandas as pd\n",
    "import re\n",
    "import nltk\n",
    "import nltk.data\n",
    "from tqdm import tqdm\n",
    "import pymorphy3\n",
    "\n",
    "from sklearn.feature_extraction.text import TfidfVectorizer\n",
    "from sklearn.feature_extraction.text import CountVectorizer\n",
    "from sklearn.model_selection import train_test_split\n",
    "\n",
    "nltk.download('punkt')"
   ]
  },
  {
   "cell_type": "code",
   "execution_count": 5,
   "metadata": {},
   "outputs": [
    {
     "data": {
      "text/html": [
       "<div>\n",
       "<style scoped>\n",
       "    .dataframe tbody tr th:only-of-type {\n",
       "        vertical-align: middle;\n",
       "    }\n",
       "\n",
       "    .dataframe tbody tr th {\n",
       "        vertical-align: top;\n",
       "    }\n",
       "\n",
       "    .dataframe thead th {\n",
       "        text-align: right;\n",
       "    }\n",
       "</style>\n",
       "<table border=\"1\" class=\"dataframe\">\n",
       "  <thead>\n",
       "    <tr style=\"text-align: right;\">\n",
       "      <th></th>\n",
       "      <th>title</th>\n",
       "      <th>text</th>\n",
       "    </tr>\n",
       "  </thead>\n",
       "  <tbody>\n",
       "    <tr>\n",
       "      <th>0</th>\n",
       "      <td>\"Калашников\" выпустит партию обновленных АК-12...</td>\n",
       "      <td>\\n                            Во втором полуго...</td>\n",
       "    </tr>\n",
       "    <tr>\n",
       "      <th>1</th>\n",
       "      <td>\"Калашников\" начал поставлять снайперскую винт...</td>\n",
       "      <td>\\n                            Поставки новейше...</td>\n",
       "    </tr>\n",
       "    <tr>\n",
       "      <th>2</th>\n",
       "      <td>\"Черный май\": как немецкие подводники потерпел...</td>\n",
       "      <td>\\n                            24 мая исполняет...</td>\n",
       "    </tr>\n",
       "    <tr>\n",
       "      <th>3</th>\n",
       "      <td>В РФ продолжают испытывать новый ракетный комп...</td>\n",
       "      <td>\\n                            В России продолж...</td>\n",
       "    </tr>\n",
       "    <tr>\n",
       "      <th>4</th>\n",
       "      <td>За что командир советской подлодки \"Щ-408\" пол...</td>\n",
       "      <td>\\n                            22 мая исполняет...</td>\n",
       "    </tr>\n",
       "    <tr>\n",
       "      <th>...</th>\n",
       "      <td>...</td>\n",
       "      <td>...</td>\n",
       "    </tr>\n",
       "    <tr>\n",
       "      <th>1770</th>\n",
       "      <td>ШААЗ выпустил первый отечественный 14-тонный п...</td>\n",
       "      <td>\\n                            «Шадринский авто...</td>\n",
       "    </tr>\n",
       "    <tr>\n",
       "      <th>1771</th>\n",
       "      <td>Деятельность «Ростерминалугля» признана эколог...</td>\n",
       "      <td>\\n                            «Ростерминалугол...</td>\n",
       "    </tr>\n",
       "    <tr>\n",
       "      <th>1772</th>\n",
       "      <td>«Перспектива» для заслуженного отдыха</td>\n",
       "      <td>\\n                            Почему у нашего ...</td>\n",
       "    </tr>\n",
       "    <tr>\n",
       "      <th>1773</th>\n",
       "      <td>«Кузбассразрезуголь» создал первый профстандар...</td>\n",
       "      <td>\\n                            «Кузбассразрезуг...</td>\n",
       "    </tr>\n",
       "    <tr>\n",
       "      <th>1774</th>\n",
       "      <td>Локомотивный парк «Кузбассразрезугля» пополнил...</td>\n",
       "      <td>\\n                            «Кузбассразрезуг...</td>\n",
       "    </tr>\n",
       "  </tbody>\n",
       "</table>\n",
       "<p>1775 rows × 2 columns</p>\n",
       "</div>"
      ],
      "text/plain": [
       "                                                  title   \n",
       "0     \"Калашников\" выпустит партию обновленных АК-12...  \\\n",
       "1     \"Калашников\" начал поставлять снайперскую винт...   \n",
       "2     \"Черный май\": как немецкие подводники потерпел...   \n",
       "3     В РФ продолжают испытывать новый ракетный комп...   \n",
       "4     За что командир советской подлодки \"Щ-408\" пол...   \n",
       "...                                                 ...   \n",
       "1770  ШААЗ выпустил первый отечественный 14-тонный п...   \n",
       "1771  Деятельность «Ростерминалугля» признана эколог...   \n",
       "1772              «Перспектива» для заслуженного отдыха   \n",
       "1773  «Кузбассразрезуголь» создал первый профстандар...   \n",
       "1774  Локомотивный парк «Кузбассразрезугля» пополнил...   \n",
       "\n",
       "                                                   text  \n",
       "0     \\n                            Во втором полуго...  \n",
       "1     \\n                            Поставки новейше...  \n",
       "2     \\n                            24 мая исполняет...  \n",
       "3     \\n                            В России продолж...  \n",
       "4     \\n                            22 мая исполняет...  \n",
       "...                                                 ...  \n",
       "1770  \\n                            «Шадринский авто...  \n",
       "1771  \\n                            «Ростерминалугол...  \n",
       "1772  \\n                            Почему у нашего ...  \n",
       "1773  \\n                            «Кузбассразрезуг...  \n",
       "1774  \\n                            «Кузбассразрезуг...  \n",
       "\n",
       "[1775 rows x 2 columns]"
      ]
     },
     "execution_count": 5,
     "metadata": {},
     "output_type": "execute_result"
    }
   ],
   "source": [
    "news = pd.DataFrame(pd.read_csv('news.CSV'), columns=['title', 'text'])\n",
    "news\n",
    "\n"
   ]
  },
  {
   "cell_type": "code",
   "execution_count": 2,
   "metadata": {},
   "outputs": [
    {
     "data": {
      "text/plain": [
       "0       0.0\n",
       "1       0.0\n",
       "2       0.0\n",
       "3       0.0\n",
       "4       0.0\n",
       "       ... \n",
       "1770    3.0\n",
       "1771    3.0\n",
       "1772    3.0\n",
       "1773    3.0\n",
       "1774    3.0\n",
       "Name: theme, Length: 1775, dtype: float64"
      ]
     },
     "execution_count": 2,
     "metadata": {},
     "output_type": "execute_result"
    }
   ],
   "source": [
    "targets = pd.Series(pd.read_csv('news.CSV')['theme'])\n",
    "targets"
   ]
  },
  {
   "cell_type": "code",
   "execution_count": 3,
   "metadata": {},
   "outputs": [],
   "source": [
    "def text_to_sentences(text):\n",
    "    \"\"\" Функция делит текст на предложения, а предложения на слова.\n",
    "    \"\"\"\n",
    "    \n",
    "    # Поделим текст на предложения при помощи NLTK.\n",
    "    raw_sentences = nltk.sent_tokenize(text, language=\"russian\")\n",
    "    # Поделим предложения на слова при помощи регулярных выражений, заодно выкинем знаки препинания и цифры.\n",
    "    sentences = []\n",
    "    for raw_sentence in raw_sentences:\n",
    "        if len(raw_sentence) > 0:\n",
    "            sentences.append(re.findall('[a-zA-Zа-яА-яёЁ]+', raw_sentence.lower()))\n",
    "    return sentences"
   ]
  },
  {
   "cell_type": "code",
   "execution_count": 6,
   "metadata": {},
   "outputs": [
    {
     "data": {
      "text/plain": [
       "[['госдепартамент',\n",
       "  'сша',\n",
       "  'одобрил',\n",
       "  'потенциальную',\n",
       "  'продажу',\n",
       "  'норвегии',\n",
       "  'шести',\n",
       "  'многоцелевых',\n",
       "  'вертолетов',\n",
       "  'mh',\n",
       "  'r',\n",
       "  'об',\n",
       "  'этом',\n",
       "  'апреля',\n",
       "  'сообщило',\n",
       "  'агентство',\n",
       "  'по',\n",
       "  'оборонному',\n",
       "  'сотрудничеству',\n",
       "  'сша'],\n",
       " ['стоимость',\n",
       "  'сделки',\n",
       "  'вместе',\n",
       "  'с',\n",
       "  'сопутствующим',\n",
       "  'вооружением',\n",
       "  'оценивается',\n",
       "  'в',\n",
       "  'млрд',\n",
       "  'агентство',\n",
       "  'входящее',\n",
       "  'в',\n",
       "  'структуру',\n",
       "  'минобороны',\n",
       "  'сша',\n",
       "  'направило',\n",
       "  'соответствующее',\n",
       "  'уведомление',\n",
       "  'в',\n",
       "  'конгресс',\n",
       "  'сша'],\n",
       " ['пентагон',\n",
       "  'заверил',\n",
       "  'конгрессменов',\n",
       "  'что',\n",
       "  'эта',\n",
       "  'продажа',\n",
       "  'будет',\n",
       "  'способствовать',\n",
       "  'реализации',\n",
       "  'целей',\n",
       "  'внешней',\n",
       "  'политики',\n",
       "  'сша',\n",
       "  'путем',\n",
       "  'повышения',\n",
       "  'безопасности',\n",
       "  'одного',\n",
       "  'из',\n",
       "  'союзников',\n",
       "  'по',\n",
       "  'блоку',\n",
       "  'нато',\n",
       "  'пишет',\n",
       "  'риа',\n",
       "  'новости'],\n",
       " ['вертолет',\n",
       "  'sikorsky',\n",
       "  'mh',\n",
       "  'r',\n",
       "  'seahawk',\n",
       "  'производит',\n",
       "  'компания',\n",
       "  'lockheed',\n",
       "  'martin',\n",
       "  'которой',\n",
       "  'принадлежит',\n",
       "  'фирма',\n",
       "  'sikorsky'],\n",
       " ['sikorsky',\n",
       "  'aircraft',\n",
       "  'американская',\n",
       "  'самолетостроительная',\n",
       "  'компания',\n",
       "  'основанная',\n",
       "  'в',\n",
       "  'году',\n",
       "  'инженером',\n",
       "  'игорем',\n",
       "  'сикорским'],\n",
       " ['предприятие',\n",
       "  'первым',\n",
       "  'в',\n",
       "  'мире',\n",
       "  'наладило',\n",
       "  'серийный',\n",
       "  'выпуск',\n",
       "  'вертолетов',\n",
       "  'sikorsky',\n",
       "  's',\n",
       "  'г']]"
      ]
     },
     "execution_count": 6,
     "metadata": {},
     "output_type": "execute_result"
    }
   ],
   "source": [
    "text_to_sentences(news['text'][11])"
   ]
  },
  {
   "cell_type": "code",
   "execution_count": 7,
   "metadata": {},
   "outputs": [
    {
     "data": {
      "text/plain": [
       "'\\n                            Госдепартамент США одобрил потенциальную продажу Норвегии шести многоцелевых вертолетов MH-60R, об этом 26 апреля сообщило Агентство по оборонному сотрудничеству США. Стоимость сделки вместе с сопутствующим вооружением оценивается в $1 млрд.\\nАгентство, входящее в структуру Минобороны США, направило соответствующее уведомление в Конгресс США. Пентагон заверил конгрессменов, что эта продажа будет способствовать реализации целей внешней политики США путем повышения безопасности одного из союзников по блоку НАТО, пишет РИА Новости.\\nВертолет Sikorsky MH-60R Seahawk производит компания Lockheed Martin, которой принадлежит фирма Sikorsky.\\nSikorsky Aircraft – американская самолетостроительная компания, основанная в 1923 году инженером Игорем Сикорским. Предприятие первым в мире наладило серийный выпуск вертолетов (Sikorsky S-47, 1940 г.)                        '"
      ]
     },
     "execution_count": 7,
     "metadata": {},
     "output_type": "execute_result"
    }
   ],
   "source": [
    "news['text'][11]"
   ]
  },
  {
   "cell_type": "code",
   "execution_count": 8,
   "metadata": {},
   "outputs": [],
   "source": [
    "\n",
    "all_sentences = sum([text_to_sentences(x) for x in news['text']], [])"
   ]
  },
  {
   "cell_type": "code",
   "execution_count": 9,
   "metadata": {},
   "outputs": [
    {
     "data": {
      "text/plain": [
       "['во',\n",
       " 'втором',\n",
       " 'полугодии',\n",
       " 'года',\n",
       " 'концерн',\n",
       " 'калашников',\n",
       " 'рассчитывает',\n",
       " 'представить',\n",
       " 'первую',\n",
       " 'серийную',\n",
       " 'партию',\n",
       " 'обновленных',\n",
       " 'ак']"
      ]
     },
     "execution_count": 9,
     "metadata": {},
     "output_type": "execute_result"
    }
   ],
   "source": [
    "all_sentences[0]"
   ]
  },
  {
   "cell_type": "code",
   "execution_count": 10,
   "metadata": {},
   "outputs": [],
   "source": [
    "from gensim.models.word2vec import Word2Vec # Собственно модель.\n",
    "from gensim.models import KeyedVectors # Семантические вектора."
   ]
  },
  {
   "cell_type": "code",
   "execution_count": 11,
   "metadata": {},
   "outputs": [],
   "source": [
    "model_w2v = KeyedVectors.load_word2vec_format('araneum_upos_skipgram_300_2_2018.vec.gz')"
   ]
  },
  {
   "cell_type": "code",
   "execution_count": 12,
   "metadata": {},
   "outputs": [
    {
     "data": {
      "text/plain": [
       "array([-2.69010e-02,  1.08851e-01,  1.13100e-03, -2.76620e-02,\n",
       "       -2.50680e-02, -4.58600e-03, -1.26100e-03, -3.79600e-03,\n",
       "       -7.53080e-02, -2.39490e-02,  2.00400e-02,  6.10330e-02,\n",
       "        7.40810e-02,  9.56330e-02, -1.11446e-01,  4.60380e-02,\n",
       "       -2.24540e-02, -2.46080e-02, -8.82250e-02, -1.53180e-02,\n",
       "       -3.66000e-04, -9.46770e-02,  1.33686e-01,  5.88400e-03,\n",
       "       -5.05470e-02,  8.13820e-02, -2.88090e-02, -7.00070e-02,\n",
       "        8.74950e-02, -8.31860e-02, -2.48210e-02, -3.82660e-02,\n",
       "        6.13210e-02, -6.45530e-02,  2.66400e-03,  8.36140e-02,\n",
       "       -3.73850e-02,  3.63260e-02, -1.20000e-04, -6.90000e-02,\n",
       "        1.49810e-02,  3.03880e-02, -2.17280e-02,  2.79400e-02,\n",
       "       -5.22550e-02,  1.96660e-02,  1.52499e-01,  7.27100e-02,\n",
       "       -2.11140e-02,  5.69930e-02, -3.07870e-02,  4.09070e-02,\n",
       "        6.49290e-02,  1.91730e-02,  2.50080e-02, -2.94090e-02,\n",
       "        6.33780e-02,  1.09028e-01,  5.66630e-02, -3.62330e-02,\n",
       "        4.96900e-02, -7.09280e-02,  2.74420e-02, -1.98650e-02,\n",
       "       -4.51340e-02, -1.50980e-02, -3.99110e-02, -7.48090e-02,\n",
       "        2.94630e-02, -4.18650e-02,  9.38820e-02, -6.96000e-03,\n",
       "        4.16040e-02, -5.73700e-03,  3.39000e-02, -6.67390e-02,\n",
       "       -2.04790e-02, -4.25040e-02,  5.67500e-03, -2.83490e-02,\n",
       "       -2.34950e-02, -1.02213e-01,  4.98750e-02,  3.86900e-02,\n",
       "       -4.36590e-02,  1.31880e-02,  1.11148e-01, -9.44720e-02,\n",
       "       -5.93430e-02, -7.77140e-02,  3.85430e-02,  9.09070e-02,\n",
       "        5.09000e-04, -3.78620e-02,  8.04500e-03,  7.43830e-02,\n",
       "       -7.35100e-03,  1.70230e-02, -5.24390e-02,  7.93950e-02,\n",
       "       -1.05930e-02,  2.68270e-02, -2.39120e-02,  3.64000e-03,\n",
       "       -1.16770e-01, -4.78740e-02, -1.94120e-02, -2.09940e-02,\n",
       "       -4.56630e-02,  9.08380e-02,  1.80280e-02, -1.00870e-02,\n",
       "       -8.83500e-03, -7.56900e-02,  4.17490e-02,  4.27480e-02,\n",
       "        5.95060e-02, -5.91950e-02,  6.34880e-02,  6.82500e-03,\n",
       "        1.09871e-01, -2.10860e-02, -1.21474e-01, -6.05000e-03,\n",
       "        1.42470e-02, -3.60890e-02, -3.13030e-02,  4.21140e-02,\n",
       "        1.07471e-01,  2.07040e-02, -7.25410e-02, -1.93690e-01,\n",
       "        5.95580e-02, -3.45950e-02,  9.50300e-03,  2.53610e-02,\n",
       "       -2.54120e-02, -2.17180e-02, -2.21100e-02, -7.57500e-03,\n",
       "        3.60960e-02, -1.06891e-01,  4.65520e-02,  8.61400e-02,\n",
       "        1.70600e-02, -2.51140e-02,  2.39590e-02, -8.88980e-02,\n",
       "       -7.08180e-02,  4.93690e-02, -7.07880e-02,  7.44000e-04,\n",
       "        8.43790e-02,  3.18580e-02,  1.54160e-02,  3.75200e-03,\n",
       "        4.08160e-02, -1.07720e-02,  3.80000e-05, -2.36560e-02,\n",
       "        6.82770e-02, -5.49300e-03, -4.53580e-02, -3.88940e-02,\n",
       "       -4.54900e-02,  1.57553e-01, -5.80460e-02,  6.83370e-02,\n",
       "       -8.21530e-02,  6.11360e-02,  4.91810e-02,  5.84270e-02,\n",
       "       -7.00170e-02, -2.40380e-02, -2.87350e-02,  5.24180e-02,\n",
       "        1.14887e-01, -5.87410e-02, -4.20570e-02,  1.19858e-01,\n",
       "        2.60310e-02,  5.82470e-02,  3.14760e-02,  1.18300e-02,\n",
       "       -1.37664e-01, -2.10020e-02,  4.01790e-02,  5.56920e-02,\n",
       "        6.25000e-04,  1.60360e-02, -7.11240e-02, -1.13366e-01,\n",
       "       -7.36260e-02, -2.14090e-02,  5.83280e-02, -7.83660e-02,\n",
       "       -1.06356e-01,  2.92150e-02,  1.44810e-02,  1.23620e-02,\n",
       "        8.98920e-02, -6.26090e-02,  1.31730e-02,  6.17000e-03,\n",
       "       -4.62430e-02, -5.07060e-02, -1.61660e-02,  2.44100e-02,\n",
       "       -3.08970e-02,  1.58160e-02, -7.52400e-03, -1.04370e-02,\n",
       "       -1.40530e-02,  7.48180e-02,  1.10510e-02, -4.58580e-02,\n",
       "        9.35010e-02, -9.41710e-02,  4.14960e-02, -3.22700e-02,\n",
       "        4.61280e-02,  1.67610e-02, -5.80500e-03, -1.41060e-02,\n",
       "       -7.47100e-03, -8.74700e-03,  1.18096e-01,  3.00600e-03,\n",
       "       -2.59760e-02,  4.57440e-02, -2.63350e-02,  8.31200e-03,\n",
       "       -3.71280e-02,  1.34530e-02,  1.25900e-03,  2.10700e-02,\n",
       "        3.31090e-02, -9.70660e-02, -3.07540e-02,  7.46400e-03,\n",
       "        2.45250e-02, -5.24890e-02, -7.32100e-02, -2.20560e-02,\n",
       "       -8.45000e-04, -3.56770e-02, -2.88380e-02, -1.10739e-01,\n",
       "        5.24800e-02,  4.86410e-02, -4.13790e-02, -8.64090e-02,\n",
       "        1.14032e-01, -5.14860e-02, -4.17900e-02, -1.08950e-02,\n",
       "       -2.41470e-02,  8.05840e-02, -1.05780e-01, -1.00646e-01,\n",
       "        8.94340e-02,  1.58700e-02, -1.04970e-02, -7.05070e-02,\n",
       "        1.78710e-02, -1.24600e-02,  3.17500e-02, -2.81730e-02,\n",
       "        3.50200e-03, -3.23100e-03,  1.60475e-01,  3.33950e-02,\n",
       "       -2.26930e-02, -4.89170e-02,  7.14610e-02,  2.63810e-02,\n",
       "        8.20400e-03, -2.83280e-02, -2.98600e-03,  1.03827e-01,\n",
       "        1.20600e-03,  8.00400e-02,  2.86600e-03, -4.63270e-02,\n",
       "        1.06284e-01,  2.58980e-02, -1.51700e-03,  6.35640e-02,\n",
       "       -1.21680e-02, -1.10570e-01, -7.52900e-02,  3.05160e-02,\n",
       "       -4.66550e-02,  1.21010e-02, -1.18719e-01,  1.66450e-02,\n",
       "       -9.19320e-02, -4.12540e-02, -3.70690e-02, -3.44930e-02],\n",
       "      dtype=float32)"
      ]
     },
     "execution_count": 12,
     "metadata": {},
     "output_type": "execute_result"
    }
   ],
   "source": [
    "model_w2v['огонь_NOUN']"
   ]
  },
  {
   "cell_type": "code",
   "execution_count": 13,
   "metadata": {},
   "outputs": [
    {
     "data": {
      "text/plain": [
       "[('столица_NOUN', 0.6747552156448364),\n",
       " ('грод_NOUN', 0.6577627658843994),\n",
       " ('городок_NOUN', 0.6478427052497864),\n",
       " ('пригород_NOUN', 0.6212136149406433),\n",
       " ('мегаполис_NOUN', 0.6159499883651733),\n",
       " ('городый_ADJ', 0.6062526106834412),\n",
       " ('город-герой_NOUN', 0.604307234287262),\n",
       " ('город-спутник_NOUN', 0.6018998622894287),\n",
       " ('населенный_ADJ', 0.5992230772972107),\n",
       " ('городишко_NOUN', 0.5902962684631348)]"
      ]
     },
     "execution_count": 13,
     "metadata": {},
     "output_type": "execute_result"
    }
   ],
   "source": [
    "model_w2v.most_similar('город_NOUN')"
   ]
  },
  {
   "cell_type": "code",
   "execution_count": 14,
   "metadata": {},
   "outputs": [
    {
     "data": {
      "text/plain": [
       "['год_NOUN',\n",
       " 'мочь_VERB',\n",
       " 'человек_NOUN',\n",
       " 'время_NOUN',\n",
       " 'работа_NOUN',\n",
       " 'новый_ADJ',\n",
       " 'становиться_VERB',\n",
       " 'также_ADV',\n",
       " 'очень_ADV',\n",
       " 'день_NOUN',\n",
       " 'первый_ADJ',\n",
       " 'компания_NOUN',\n",
       " 'являться_VERB',\n",
       " 'ребенок_NOUN',\n",
       " 'иметь_VERB',\n",
       " 'система_NOUN',\n",
       " 'место_NOUN',\n",
       " 'получать_VERB',\n",
       " 'большой_ADJ',\n",
       " 'жизнь_NOUN']"
      ]
     },
     "execution_count": 14,
     "metadata": {},
     "output_type": "execute_result"
    }
   ],
   "source": [
    "list(model_w2v.key_to_index.keys())[:20]"
   ]
  },
  {
   "cell_type": "code",
   "execution_count": 15,
   "metadata": {},
   "outputs": [
    {
     "data": {
      "text/plain": [
       "(array([], dtype=float32), array([], dtype=float32), 0.9999996)"
      ]
     },
     "execution_count": 15,
     "metadata": {},
     "output_type": "execute_result"
    }
   ],
   "source": [
    "lens = np.array([np.linalg.norm(model_w2v[word]) for word in model_w2v.key_to_index.keys()])\n",
    "lens[lens > 1.01], lens[lens < 0.99], lens[0]"
   ]
  },
  {
   "cell_type": "code",
   "execution_count": 16,
   "metadata": {},
   "outputs": [
    {
     "data": {
      "text/plain": [
       "[('россия::москва_PROPN', 0.7317757606506348),\n",
       " ('россия_PROPN', 0.7260456681251526),\n",
       " ('москва::москва_PROPN', 0.7081453204154968),\n",
       " ('москва::россия_PROPN', 0.6551341414451599),\n",
       " ('россия::санкт-петербург_PROPN', 0.6160128712654114),\n",
       " ('рф::москва_PROPN', 0.6140520572662354),\n",
       " ('рязань_PROPN', 0.6115250587463379),\n",
       " ('россия::украина_PROPN', 0.6086370944976807),\n",
       " ('белоруссия_PROPN', 0.6031982898712158),\n",
       " ('москва::санкт-петербург_PROPN', 0.6031042337417603)]"
      ]
     },
     "execution_count": 16,
     "metadata": {},
     "output_type": "execute_result"
    }
   ],
   "source": [
    "model_w2v.most_similar(positive=[u'сербия_PROPN', u'москва_PROPN' ], negative=[u'белград_PROPN'])"
   ]
  },
  {
   "cell_type": "code",
   "execution_count": 17,
   "metadata": {},
   "outputs": [],
   "source": [
    "import umap\n",
    "from copy import copy\n",
    "\n",
    "%matplotlib inline\n",
    "import matplotlib.pyplot as plt\n",
    "\n",
    "plt.rcParams['figure.figsize'] = (16, 12)"
   ]
  },
  {
   "cell_type": "code",
   "execution_count": 18,
   "metadata": {},
   "outputs": [],
   "source": [
    "def get_most_frequent_words_from_model(model, texts, threshold=20):\n",
    "    \"\"\" Функция выделяет слова, которые встречаются в текстах texts не реже, чем threshold раз,\n",
    "        и при этом имеются в предобученной модели model. Также возвращает вектора этих слов.\n",
    "    \"\"\"\n",
    "    vctr = CountVectorizer(lowercase=False)\n",
    "    cntr = vctr.fit_transform(texts)\n",
    "    \n",
    "    res_words = []\n",
    "    res_vects = []\n",
    "    summed = cntr.sum(axis=0)\n",
    "    klist = list(vctr.vocabulary_.keys())\n",
    "    for i in range(summed.shape[1]):\n",
    "        if summed[0, i] > threshold:\n",
    "            try:\n",
    "                res_vects.append(model[klist[i]])\n",
    "                res_words.append(klist[i])\n",
    "            except:\n",
    "#                 print(klist[i])\n",
    "                pass\n",
    "    \n",
    "    return res_words, res_vects"
   ]
  },
  {
   "cell_type": "code",
   "execution_count": 19,
   "metadata": {},
   "outputs": [],
   "source": [
    "conv_pos = {'ADJF':'ADJ', 'ADJS':'ADJ', 'ADV':'ADV', 'NOUN':'NOUN', \n",
    "            'VERB':'VERB', 'PRTF':'ADJ', 'PRTS':'ADJ', 'GRND':'VERB'}\n",
    "\n",
    "tmp_dict = {} # Кеш значимых слов.\n",
    "nones = {} # Кеш незначимых слов.\n",
    "\n",
    "morph = pymorphy3.MorphAnalyzer()\n",
    "\n",
    "# Фильтруем по части речи и возвращаем только начальную форму.\n",
    "def normalizePymorphy(text, need_pos=True):\n",
    "    tokens = re.findall('[A-Za-zА-Яа-яЁё]+\\-[A-Za-zА-Яа-яЁё]+|[A-Za-zА-Яа-яЁё]+', text)\n",
    "    words = []\n",
    "    for t in tokens:\n",
    "        # Если токен уже был закеширован, быстро возьмем результат из него.\n",
    "        if t in tmp_dict.keys():\n",
    "            words.append(tmp_dict[t])\n",
    "        # Аналогично, если он в кеше незначимых слов.\n",
    "        elif t in nones.keys():\n",
    "            pass\n",
    "        # Слово еще не встретилось, будем проводить медленный морфологический анализ.\n",
    "        else:\n",
    "            pv = morph.parse(t)\n",
    "            if pv[0].tag.POS != None:\n",
    "                if pv[0].tag.POS in conv_pos.keys():\n",
    "                    if need_pos:\n",
    "                        word = pv[0].normal_form+\"_\"+conv_pos[pv[0].tag.POS]\n",
    "                    else:\n",
    "                        word = pv[0].normal_form\n",
    "                    # Отправляем слово в результат, ...\n",
    "                    words.append(word)\n",
    "                    # ... и кешируем результат его разбора.\n",
    "                    tmp_dict[t] = word\n",
    "                else:\n",
    "                    # Для незначимых слов можно даже ничего не хранить. Лишь бы потом не обращаться к морфологии.\n",
    "                    nones[t] = \"\"\n",
    "                    \n",
    "    return words"
   ]
  },
  {
   "cell_type": "code",
   "execution_count": 20,
   "metadata": {},
   "outputs": [
    {
     "name": "stderr",
     "output_type": "stream",
     "text": [
      "100%|██████████| 1775/1775 [00:07<00:00, 235.38it/s]\n"
     ]
    }
   ],
   "source": [
    "sci_sentences = []\n",
    "n_texts = []\n",
    "for text in tqdm(news['text']):\n",
    "    norm = normalizePymorphy(text)\n",
    "    sci_sentences.append(norm)\n",
    "    n_texts.append(' '.join(norm))"
   ]
  },
  {
   "cell_type": "code",
   "execution_count": 21,
   "metadata": {},
   "outputs": [
    {
     "data": {
      "text/plain": [
       "0       второй_ADJ полугодие_NOUN год_NOUN концерн_NOU...\n",
       "1       поставка_NOUN новый_ADJ снайперский_ADJ винтов...\n",
       "2       май_NOUN исполняться_VERB год_NOUN поражение_N...\n",
       "3       россия_NOUN продолжаться_VERB испытание_NOUN н...\n",
       "4       май_NOUN исполняться_VERB год_NOUN день_NOUN г...\n",
       "                              ...                        \n",
       "1770    шадринский_ADJ автоагрегатный_ADJ завод_NOUN в...\n",
       "1771    ростерминалуголь_NOUN очередной_ADJ раз_NOUN п...\n",
       "1772    наш_ADJ народ_NOUN развить_ADJ культура_NOUN л...\n",
       "1773    кузбассразрезуголь_NOUN сформировать_VERB перв...\n",
       "1774    кузбассразрезуголь_NOUN приобрести_VERB новый_...\n",
       "Name: text, Length: 1775, dtype: object"
      ]
     },
     "execution_count": 21,
     "metadata": {},
     "output_type": "execute_result"
    }
   ],
   "source": [
    "news['text'] = n_texts\n",
    "news['text']"
   ]
  },
  {
   "cell_type": "code",
   "execution_count": 22,
   "metadata": {},
   "outputs": [
    {
     "name": "stderr",
     "output_type": "stream",
     "text": [
      "C:\\Users\\genas\\AppData\\Roaming\\Python\\Python311\\site-packages\\umap\\distances.py:1063: NumbaDeprecationWarning: \u001b[1mThe 'nopython' keyword argument was not supplied to the 'numba.jit' decorator. The implicit default value for this argument is currently False, but it will be changed to True in Numba 0.59.0. See https://numba.readthedocs.io/en/stable/reference/deprecation.html#deprecation-of-object-mode-fall-back-behaviour-when-using-jit for details.\u001b[0m\n",
      "  @numba.jit()\n",
      "C:\\Users\\genas\\AppData\\Roaming\\Python\\Python311\\site-packages\\umap\\distances.py:1071: NumbaDeprecationWarning: \u001b[1mThe 'nopython' keyword argument was not supplied to the 'numba.jit' decorator. The implicit default value for this argument is currently False, but it will be changed to True in Numba 0.59.0. See https://numba.readthedocs.io/en/stable/reference/deprecation.html#deprecation-of-object-mode-fall-back-behaviour-when-using-jit for details.\u001b[0m\n",
      "  @numba.jit()\n",
      "C:\\Users\\genas\\AppData\\Roaming\\Python\\Python311\\site-packages\\umap\\distances.py:1086: NumbaDeprecationWarning: \u001b[1mThe 'nopython' keyword argument was not supplied to the 'numba.jit' decorator. The implicit default value for this argument is currently False, but it will be changed to True in Numba 0.59.0. See https://numba.readthedocs.io/en/stable/reference/deprecation.html#deprecation-of-object-mode-fall-back-behaviour-when-using-jit for details.\u001b[0m\n",
      "  @numba.jit()\n",
      "a:\\Program files\\Python 3.11\\Lib\\site-packages\\tqdm\\auto.py:22: TqdmWarning: IProgress not found. Please update jupyter and ipywidgets. See https://ipywidgets.readthedocs.io/en/stable/user_install.html\n",
      "  from .autonotebook import tqdm as notebook_tqdm\n",
      "C:\\Users\\genas\\AppData\\Roaming\\Python\\Python311\\site-packages\\umap\\umap_.py:660: NumbaDeprecationWarning: \u001b[1mThe 'nopython' keyword argument was not supplied to the 'numba.jit' decorator. The implicit default value for this argument is currently False, but it will be changed to True in Numba 0.59.0. See https://numba.readthedocs.io/en/stable/reference/deprecation.html#deprecation-of-object-mode-fall-back-behaviour-when-using-jit for details.\u001b[0m\n",
      "  @numba.jit()\n"
     ]
    }
   ],
   "source": [
    "from sklearn.cluster import DBSCAN\n",
    "from sklearn.cluster import KMeans\n",
    "import seaborn as sns\n",
    "from matplotlib.colors import ListedColormap\n",
    "from numpy.random import choice\n",
    "from umap.umap_ import UMAP\n"
   ]
  },
  {
   "cell_type": "code",
   "execution_count": 23,
   "metadata": {},
   "outputs": [],
   "source": [
    "def cluster_texts_and_draw(vectors, umaped_vct, eps):\n",
    "    \"\"\" Функция кластеризует вектора vectors при помощи DBSCAN, используя eps в качестве параметра,\n",
    "        и отображает их на плоскость, используя umaped_vct.\n",
    "    \"\"\"\n",
    "    # Кластеризуем данные при помощи DBSCAN. \n",
    "    # Это не значит, что он лучше k-Means, он просто здесь быстрее.\n",
    "    db = DBSCAN(eps=eps, min_samples=3)\n",
    "    db_clusters = db.fit_predict(vectors)\n",
    "     # Генерируем контрастную карту цветов.\n",
    "    myclr = ListedColormap(choice(list(sns.xkcd_rgb.values()), max(db_clusters)+1))\n",
    "    print(max(db_clusters))\n",
    "    fig, ax = plt.subplots()\n",
    "    ax.scatter(umaped_vct[:, 0], umaped_vct[:, 1], s=3, c=db_clusters, cmap=myclr)\n",
    "    plt.show()\n",
    "    return db_clusters\n",
    "\n",
    "def show_texts_in_clusters(texts, target, clust_no, text_no):\n",
    "    \"\"\" Функция отображает группировку текстов texts по кластсерам target.\n",
    "        Выводит не более text_no текстов из первых clust_no кластеров.\n",
    "    \"\"\"\n",
    "\n",
    "    clusters = list(set(target))\n",
    "\n",
    "    for c in clusters[:clust_no]:\n",
    "        print('          __ ', c, ' __')\n",
    "        cntr = 0\n",
    "        for i, a in enumerate(texts):\n",
    "            if target[i] == c:\n",
    "                print(a[:200])\n",
    "                cntr += 1\n",
    "                if cntr == text_no:\n",
    "                    break\n",
    "        print()\n",
    "        \n",
    "    "
   ]
  },
  {
   "cell_type": "code",
   "execution_count": 24,
   "metadata": {},
   "outputs": [],
   "source": [
    "\n",
    "news_words, news_vects = get_most_frequent_words_from_model(model_w2v, news['text'], 10)"
   ]
  },
  {
   "cell_type": "code",
   "execution_count": 25,
   "metadata": {},
   "outputs": [
    {
     "data": {
      "text/plain": [
       "3500"
      ]
     },
     "execution_count": 25,
     "metadata": {},
     "output_type": "execute_result"
    }
   ],
   "source": [
    "len(news_words)"
   ]
  },
  {
   "cell_type": "code",
   "execution_count": 26,
   "metadata": {},
   "outputs": [
    {
     "data": {
      "text/plain": [
       "3500"
      ]
     },
     "execution_count": 26,
     "metadata": {},
     "output_type": "execute_result"
    }
   ],
   "source": [
    "len(news_vects)"
   ]
  },
  {
   "cell_type": "code",
   "execution_count": 29,
   "metadata": {},
   "outputs": [
    {
     "name": "stderr",
     "output_type": "stream",
     "text": [
      "C:\\Users\\genas\\AppData\\Roaming\\Python\\Python311\\site-packages\\sklearn\\cluster\\_kmeans.py:870: FutureWarning: The default value of `n_init` will change from 10 to 'auto' in 1.4. Set the value of `n_init` explicitly to suppress the warning\n",
      "  warnings.warn(\n"
     ]
    }
   ],
   "source": [
    "news_clust_no = int(len(news_vects)/2)\n",
    "km_clustering = KMeans(n_clusters=sci_clust_no)\n",
    "news_clusters = km_clustering.fit_predict(news_vects)"
   ]
  },
  {
   "cell_type": "code",
   "execution_count": 30,
   "metadata": {},
   "outputs": [
    {
     "data": {
      "text/plain": [
       "['экономический_ADJ',\n",
       " 'геополитический_ADJ',\n",
       " 'внутриполитический_ADJ',\n",
       " 'конъюнктурный_ADJ']"
      ]
     },
     "execution_count": 30,
     "metadata": {},
     "output_type": "execute_result"
    }
   ],
   "source": [
    "coi = 1\n",
    "[word for word, clust in zip(news_words, news_clusters) if clust == coi]"
   ]
  },
  {
   "cell_type": "code",
   "execution_count": 31,
   "metadata": {},
   "outputs": [],
   "source": [
    "news_words_sorted = sorted(zip(news_clusters, news_words), key= lambda x:x[0])\n",
    "# sci_set = set(sci_words)\n",
    "news_words_d = {w[1]:w[0] for w in news_words_sorted}"
   ]
  },
  {
   "cell_type": "code",
   "execution_count": 32,
   "metadata": {},
   "outputs": [
    {
     "name": "stdout",
     "output_type": "stream",
     "text": [
      "['лошадь_NOUN', 'конь_NOUN']\n"
     ]
    }
   ],
   "source": [
    "clust_no = 22\n",
    "print([word[1] for word in news_words_sorted if word[0]==clust_no])"
   ]
  },
  {
   "cell_type": "code",
   "execution_count": 33,
   "metadata": {},
   "outputs": [],
   "source": [
    "# Посчитаем координаты центроидов.\n",
    "cur_clust = news_words_sorted[0][0]\n",
    "cur_coord = np.array(model_w2v[news_words_sorted[0][1]])\n",
    "cur_count = 1\n",
    "clust_coord = []\n",
    "\n",
    "for i, word in enumerate(news_words_sorted[1:]):\n",
    "    if cur_clust == news_words_sorted[i+1][0]:\n",
    "        cur_coord += model_w2v[news_words_sorted[i+1][1]]\n",
    "        cur_count += 1\n",
    "    else:\n",
    "        clust_coord.append(cur_coord/cur_count)\n",
    "        cur_clust = news_words_sorted[i+1][0]\n",
    "        cur_coord = np.array(model_w2v[news_words_sorted[i+1][1]])\n",
    "        cur_count = 1\n",
    "        \n",
    "clust_coord.append(cur_coord/cur_count)"
   ]
  },
  {
   "cell_type": "code",
   "execution_count": 34,
   "metadata": {},
   "outputs": [],
   "source": [
    "def text_to_vec_centr(text, model_w2v, clust_coord, news_words_d):\n",
    "    text_vec = np.zeros((model_w2v.vector_size,), dtype=\"float32\")\n",
    "    n_words = 0\n",
    "\n",
    "    for word in normalizePymorphy(text):\n",
    "        if word in news_words_d.keys():\n",
    "            n_words = n_words + 1\n",
    "            text_vec = np.add(text_vec, clust_coord[news_words_d[word]]) \n",
    "        else:\n",
    "            try:\n",
    "                text_vec = np.add(text_vec, model_w2v[word]) \n",
    "                n_words = n_words + 1\n",
    "            except Exception:\n",
    "                pass\n",
    "    \n",
    "    if n_words != 0:\n",
    "        text_vec /= n_words\n",
    "    return text_vec"
   ]
  },
  {
   "cell_type": "code",
   "execution_count": 35,
   "metadata": {},
   "outputs": [
    {
     "name": "stderr",
     "output_type": "stream",
     "text": [
      "100%|██████████| 1775/1775 [00:09<00:00, 195.12it/s]\n"
     ]
    }
   ],
   "source": [
    "# Строим вектора для слов.\n",
    "news_vect2 = []\n",
    "for text in tqdm(news.text):\n",
    "    news_vect2.append(text_to_vec_centr(text, model_w2v, clust_coord, news_words_d))"
   ]
  },
  {
   "cell_type": "code",
   "execution_count": null,
   "metadata": {},
   "outputs": [],
   "source": []
  },
  {
   "cell_type": "code",
   "execution_count": 36,
   "metadata": {},
   "outputs": [
    {
     "name": "stdout",
     "output_type": "stream",
     "text": [
      "21\n"
     ]
    },
    {
     "data": {
      "image/png": "[encoded data removed]",
      "text/plain": [
       "<Figure size 1600x1200 with 1 Axes>"
      ]
     },
     "metadata": {},
     "output_type": "display_data"
    }
   ],
   "source": [
    "umaped_vct2 = UMAP().fit_transform(news_vect2)\n",
    "clusters = cluster_texts_and_draw(news_vect2, umaped_vct2, 0.09)"
   ]
  },
  {
   "cell_type": "code",
   "execution_count": 37,
   "metadata": {},
   "outputs": [
    {
     "name": "stdout",
     "output_type": "stream",
     "text": [
      "          __  0  __\n",
      "май_NOUN исполняться_VERB год_NOUN день_NOUN гибель_NOUN советский_ADJ подлодка_NOUN щ_NOUN подвиг_NOUN экипаж_NOUN сравнимый_ADJ подвиг_NOUN крейсер_NOUN варяг_NOUN подводник_NOUN пасть_VERB неравный\n",
      "британский_ADJ военно-морской_ADJ история_NOUN знать_VERB множество_NOUN пример_NOUN подлинный_ADJ героизм_NOUN некоторый_ADJ известный_ADJ упоминать_ADJ другой_ADJ оказываться_VERB слух_NOUN второй_A\n",
      "ноябрь_NOUN исполниться_VERB год_NOUN день_NOUN рождение_NOUN михаил_NOUN грешилов_NOUN выдающийся_ADJ подводник_NOUN время_NOUN великий_ADJ отечественный_ADJ счёт_NOUN множество_NOUN поход_NOUN торпе\n",
      "\n",
      "          __  1  __\n",
      "конец_NOUN лето_NOUN год_NOUN российский_ADJ казна_NOUN быть_VERB принять_ADJ эскадренный_ADJ миноносец_NOUN новик_NOUN корабль_NOUN обладать_VERB высокий_ADJ скорость_NOUN мощный_ADJ артиллерийский_A\n",
      "лето_NOUN год_NOUN заявить_VERB боевой_ADJ корабль_NOUN новый_ADJ класс_NOUN подводный_ADJ минный_ADJ заградитель_NOUN приоритет_NOUN строительство_NOUN боевой_ADJ применение_NOUN принадлежать_VERB ро\n",
      "рубеж_NOUN век_NOUN русский_ADJ флот_NOUN быть_VERB третий_ADJ мир_NOUN флот_NOUN великобритания_NOUN франция_NOUN основа_NOUN составлять_VERB эскадренный_ADJ броненосец_NOUN способный_ADJ задача_NOUN\n",
      "\n",
      "          __  2  __\n",
      "май_NOUN исполняться_VERB год_NOUN поражение_NOUN германия_NOUN битва_NOUN атлантика_NOUN этот_ADJ день_NOUN гросс-адмирал_NOUN прекратить_VERB борьба_NOUN конвой_NOUN приказать_VERB свой_ADJ подводни\n",
      "март_NOUN го_NOUN великобритания_NOUN провести_VERB один_ADJ самый_ADJ известный_ADJ диверсионный_ADJ операция_NOUN время_NOUN второй_ADJ мировой_ADJ война_NOUN цель_NOUN быть_VERB уничтожение_NOUN до\n",
      "март_NOUN исполняться_VERB год_NOUN один_ADJ самый_ADJ трагичный_ADJ эпизод_NOUN битва_NOUN атлантика_NOUN этот_ADJ день_NOUN м_NOUN один_ADJ бой_NOUN погибнуть_VERB корабль_NOUN моряк_NOUN британский\n",
      "\n",
      "          __  3  __\n",
      "начаться_ADJ февраль_NOUN уходить_ADJ год_NOUN полномасштабный_ADJ вооружённый_ADJ конфликт_NOUN украина_NOUN выглядеть_VERB беспрецедентный_ADJ точка_NOUN зрение_NOUN опыт_NOUN последний_ADJ год_NOUN\n",
      "сам_ADJ дело_NOUN неожиданный_ADJ быть_VERB начало_NOUN специальный_ADJ военный_ADJ операция_NOUN какой_ADJ условие_NOUN быть_VERB главный_ADJ бенефициар_NOUN событие_NOUN украина_NOUN этот_ADJ конфли\n",
      "сказать_ADJ самый_ADJ высокопоставленный_ADJ представитель_NOUN запад_NOUN слово_NOUN иметь_VERB стратегический_ADJ значение_NOUN являться_VERB один_ADJ элемент_NOUN тактический_ADJ маневрирование_NOU\n",
      "\n",
      "          __  4  __\n",
      "настоящий_ADJ прорыв_NOUN развитие_NOUN беспилотный_ADJ летательный_ADJ аппарат_NOUN бпнуть_VERB произойти_VERB год_NOUN стать_VERB результат_NOUN создание_NOUN современный_ADJ система_NOUN связь_NOUN\n",
      "холодный_ADJ война_NOUN ознаменоваться_VERB прогресс_NOUN сфера_NOUN военный_ADJ технология_NOUN противник_NOUN обзаводиться_VERB ракетно-ядерный_ADJ оружие_NOUN спутник_NOUN атомный_ADJ флот_NOUN гон\n",
      "современный_ADJ вооружённый_ADJ конфликт_NOUN применение_NOUN воевать_ADJ сторона_NOUN беспилотный_ADJ летательный_ADJ аппарат_NOUN бпнуть_VERB история_NOUN ограничиваться_VERB рамка_NOUN десятилетие_\n",
      "\n",
      "          __  5  __\n",
      "применение_NOUN ход_NOUN спецоперация_NOUN украина_NOUN беспилотник_NOUN герань_NOUN вызвать_VERB настоящий_ADJ шумиха_NOUN сми_NOUN день_NOUN этот_ADJ дрон_NOUN поразить_VERB ряд_NOUN военный_ADJ объ\n",
      "западный_ADJ пресса_NOUN последний_ADJ время_NOUN мелькать_VERB сообщение_NOUN покупка_NOUN россия_NOUN иранский_ADJ беспилотник_NOUN утверждаться_VERB российский_ADJ военнослужащий_NOUN отправиться_V\n",
      "последний_ADJ месяц_NOUN возрасти_VERB активность_NOUN воздушный_ADJ разведка_NOUN страна_NOUN нато_NOUN российский_ADJ граница_NOUN значительный_ADJ доля_NOUN задача_NOUN решаться_VERB счёт_NOUN прим\n",
      "\n",
      "          __  6  __\n",
      "сверхмалый_ADJ подводный_ADJ лодка_NOUN управляемый_ADJ человек_NOUN торпеда_NOUN год_NOUN второй_ADJ мировой_ADJ война_NOUN применяться_VERB флот_NOUN великобритания_NOUN германия_NOUN англичанин_NOU\n",
      "первый_ADJ боевой_ADJ применение_NOUN подводный_ADJ лодка_NOUN датировать_ADJ год_NOUN время_NOUN война_NOUN независимость_NOUN сша_NOUN черепаха_NOUN сконструировать_ADJ построить_ADJ американец_NOUN\n",
      "большой_ADJ значение_NOUN сверхмалый_ADJ подводный_ADJ лодка_NOUN человекоторпед_NOUN придавать_VERB императорский_ADJ флот_NOUN япония_NOUN поражение_NOUN атолл_NOUN мидуэй_NOUN июнь_NOUN го_NOUN быт\n",
      "\n",
      "          __  7  __\n",
      "нпо_NOUN машиностроение_NOUN разработчик_NOUN гиперзвуковой_ADJ крылатый_ADJ ракета_NOUN циркон_NOUN иметь_VERB большой_ADJ задеть_VERB авиационный_ADJ версия_NOUN сообщить_VERB гендиректор_NOUN предп\n",
      "вмф_NOUN россия_NOUN провести_VERB очередной_ADJ испытание_NOUN ракета_NOUN циркон_NOUN ход_NOUN который_ADJ быть_VERB провести_ADJ залповый_ADJ пуск_NOUN этот_ADJ система_NOUN испытание_NOUN декабрь_\n",
      "фрегат_NOUN проект_NOUN северный_ADJ флот_NOUN вмф_NOUN россия_NOUN адмирал_NOUN горшков_NOUN провести_VERB очередной_ADJ успешный_ADJ испытательный_ADJ пуск_NOUN гиперзвуковой_ADJ ракета_NOUN циркон_\n",
      "\n",
      "          __  8  __\n",
      "истребитель_NOUN миг_NOUN гиперзвуковой_ADJ ракета_NOUN кинжал_NOUN дальний_ADJ бомбардировщик_NOUN тот_ADJ м_NOUN прибыль_NOUN российский_ADJ авиабаза_NOUN хмеймим_NOUN сирия_NOUN рамка_NOUN учение_N\n",
      "экипаж_NOUN отряд_NOUN корабль_NOUN северный_ADJ флот_NOUN вмф_NOUN россия_NOUN находиться_ADJ атлантика_NOUN отработать_VERB тактика_NOUN борьба_NOUN пират_NOUN ход_NOUN учение_NOUN отряд_NOUN боевой\n",
      "единственный_ADJ авианосец_NOUN вмс_NOUN франция_NOUN шарль_NOUN голля_NOUN выйти_VERB боевой_ADJ служба_NOUN который_ADJ продлиться_VERB апрель_NOUN пройти_VERB средиземный_ADJ море_NOUN состав_NOUN \n",
      "\n",
      "          __  9  __\n",
      "интегрировать_ADJ система_NOUN боевой_ADJ управление_NOUN армия_NOUN сша_NOUN пройти_VERB последний_ADJ этап_NOUN испытание_NOUN боевой_ADJ стрельба_NOUN обеспечить_VERB успешный_ADJ перехват_NOUN цел\n",
      "перспективный_ADJ интегрировать_ADJ система_NOUN боевой_ADJ управление_NOUN предназначить_ADJ задача_NOUN противовоздушный_ADJ противоракетный_ADJ оборона_NOUN продемонстрировать_VERB новый_ADJ возмож\n",
      "армия_NOUN сша_NOUN заключить_VERB контракт_NOUN млрд_NOUN развёртывание_NOUN серийный_ADJ производство_NOUN перспективный_ADJ система_NOUN боевой_ADJ управление_NOUN корпорация_NOUN перспективный_ADJ\n",
      "\n"
     ]
    }
   ],
   "source": [
    "show_texts_in_clusters(news.text, clusters, 10, 3)"
   ]
  },
  {
   "cell_type": "code",
   "execution_count": 38,
   "metadata": {},
   "outputs": [],
   "source": [
    "from sklearn.model_selection import train_test_split\n",
    "from sklearn.metrics import confusion_matrix, accuracy_score\n",
    "\n",
    "from sklearn.ensemble import RandomForestClassifier"
   ]
  },
  {
   "cell_type": "code",
   "execution_count": 39,
   "metadata": {},
   "outputs": [],
   "source": [
    "def classify_texts(data, target):\n",
    "    # Делим данные на обучающую и проверочную выборки.\n",
    "    X_train, X_test, y_train, y_test = train_test_split(data, target, test_size=0.2, random_state=333)\n",
    "    #Обучаем классификатор и оцениваем точность результатов.\n",
    "    tree = RandomForestClassifier(criterion='entropy', random_state=333)\n",
    "    tree.fit(X_train, y_train)\n",
    "    y_hat = tree.predict(X_test)\n",
    "    print(f\"accuracy = {accuracy_score(y_hat, y_test)}\")\n",
    "    print(confusion_matrix(y_test, y_hat))"
   ]
  },
  {
   "cell_type": "code",
   "execution_count": 41,
   "metadata": {},
   "outputs": [
    {
     "data": {
      "text/plain": [
       "array([0., 0., 0., ..., 3., 3., 3.])"
      ]
     },
     "execution_count": 41,
     "metadata": {},
     "output_type": "execute_result"
    }
   ],
   "source": [
    "targets = np.array(targets)\n",
    "targets"
   ]
  },
  {
   "cell_type": "code",
   "execution_count": 42,
   "metadata": {},
   "outputs": [
    {
     "name": "stdout",
     "output_type": "stream",
     "text": [
      "accuracy = 0.9352112676056338\n",
      "[[104   0   0   0]\n",
      " [  0  98   0   4]\n",
      " [  6   8  37   3]\n",
      " [  0   2   0  93]]\n"
     ]
    }
   ],
   "source": [
    "\n",
    "classify_texts(news_vect2, targets)"
   ]
  }
 ],
 "metadata": {
  "kernelspec": {
   "display_name": "Python 3",
   "language": "python",
   "name": "python3"
  },
  "language_info": {
   "codemirror_mode": {
    "name": "ipython",
    "version": 3
   },
   "file_extension": ".py",
   "mimetype": "text/x-python",
   "name": "python",
   "nbconvert_exporter": "python",
   "pygments_lexer": "ipython3",
   "version": "3.11.1"
  },
  "orig_nbformat": 4
 },
 "nbformat": 4,
 "nbformat_minor": 2
}
